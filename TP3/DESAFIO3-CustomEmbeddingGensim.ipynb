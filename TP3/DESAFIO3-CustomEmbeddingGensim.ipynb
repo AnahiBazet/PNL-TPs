{
  "nbformat": 4,
  "nbformat_minor": 0,
  "metadata": {
    "colab": {
      "provenance": [],
      "collapsed_sections": [],
      "toc_visible": true
    },
    "kernelspec": {
      "name": "python3",
      "display_name": "Python 3"
    }
  },
  "cells": [
    {
      "cell_type": "markdown",
      "source": [
        "#DESAFÍO Nro. 3 NLP: custom embeddings con Gensim.\n",
        "\n",
        "Las modificaciones realizadas en relación con el ejercicio original fueron:\n",
        "\n",
        "* Utilizar como corpus el primer libro de Harry Potter.\n",
        "* Utilizar, además de Skip-Gram, CBOW de ventana 2 y 4.\n",
        "* Encontrar las relaciones entre términos en cada caso tiendo en cuenta el contexto del libro.\n",
        "* Comparar los 3 casos y sacar conclusiones.\n",
        "\n",
        "By Anahi Bazet"
      ],
      "metadata": {
        "id": "n48Jn80yjjJB"
      }
    },
    {
      "cell_type": "markdown",
      "metadata": {
        "id": "vA7nqkumo9z9"
      },
      "source": [
        "# Objetivo\n"
      ]
    },
    {
      "cell_type": "markdown",
      "source": [
        "El objetivo es utilizar un corpus para crear embeddings de palabras basado en ese contexto. \n",
        "\n",
        "Se elige el libro \"Harry Potter y La piedra filosofal\", primero de la saga, de la autora J.K. Rowling para generar los embeddings, es decir, que los vectores tendrán la forma en función de como la autora haya utilizado las palabras en el libro."
      ],
      "metadata": {
        "id": "xLGCiy-Qj4o3"
      }
    },
    {
      "cell_type": "markdown",
      "source": [
        "## 1 - Librerías"
      ],
      "metadata": {
        "id": "QcvV0SpwjXsU"
      }
    },
    {
      "cell_type": "code",
      "source": [
        "!pip install --upgrade --no-cache-dir gdown --quiet"
      ],
      "metadata": {
        "id": "KsXg5143lo0r"
      },
      "execution_count": 1,
      "outputs": []
    },
    {
      "cell_type": "code",
      "metadata": {
        "id": "lFToQs5FK5uZ"
      },
      "source": [
        "import gdown\n",
        "import os\n",
        "import pandas as pd\n",
        "from keras.preprocessing.text import text_to_word_sequence\n",
        "# import matplotlib.pyplot as plt\n",
        "# import seaborn as sns\n",
        "# import multiprocessing\n",
        "from gensim.models import Word2Vec\n",
        "from gensim.models.callbacks import CallbackAny2Vec\n",
        "import numpy as np"
      ],
      "execution_count": 2,
      "outputs": []
    },
    {
      "cell_type": "markdown",
      "metadata": {
        "id": "g07zJxG7H9vG"
      },
      "source": [
        "## 2 - Obtención de datos\n",
        "Se utiliza como dataset los libros de Harry Potter de la autora J.K. Rowling."
      ]
    },
    {
      "cell_type": "code",
      "metadata": {
        "id": "l7z4CSBfpR3X",
        "colab": {
          "base_uri": "https://localhost:8080/"
        },
        "outputId": "b2c3e5dc-f939-4af6-c891-5838824cf0cf"
      },
      "source": [
        "#Descargar el archivo del GD y descomprimirlo.\n",
        "if os.access('HarryPotter.zip', os.F_OK) is False:\n",
        "  url = 'https://drive.google.com/uc?id=1AbB-v6xB_XeOGVziawDNLY_IQYeeJR3n'\n",
        "  output = 'HarryPotter.zip'\n",
        "  gdown.download(url, output, quiet=False)\n",
        "  !unzip /content/HarryPotter.zip -d /content/HarryPotter\n",
        "else:\n",
        "    print(\"El dataset ya se encuentra descargado.\")"
      ],
      "execution_count": 3,
      "outputs": [
        {
          "output_type": "stream",
          "name": "stdout",
          "text": [
            "El dataset ya se encuentra descargado.\n"
          ]
        }
      ]
    },
    {
      "cell_type": "code",
      "metadata": {
        "id": "mysGrIw9ljC2",
        "colab": {
          "base_uri": "https://localhost:8080/"
        },
        "outputId": "5f2247f6-1853-49aa-bfe0-861edab8bc30"
      },
      "source": [
        "# Lista de libros + CSV de personajes.\n",
        "os.listdir(\"./HarryPotter\")"
      ],
      "execution_count": 4,
      "outputs": [
        {
          "output_type": "execute_result",
          "data": {
            "text/plain": [
              "['Book3.txt',\n",
              " 'Book1.txt',\n",
              " 'Book7.txt',\n",
              " 'Book6.txt',\n",
              " 'characters_list.csv',\n",
              " 'Book2.txt',\n",
              " 'Book5.txt',\n",
              " 'Book4.txt']"
            ]
          },
          "metadata": {},
          "execution_count": 4
        }
      ]
    },
    {
      "cell_type": "code",
      "metadata": {
        "id": "ticoqYD1Z3I7",
        "colab": {
          "base_uri": "https://localhost:8080/",
          "height": 520
        },
        "outputId": "1f40e07a-d2f4-4b20-e9c5-929f4c00489a"
      },
      "source": [
        "# Armar el dataset utilizando el salto de línea para separar los documentos.\n",
        "# Se elige el primer libro.\n",
        "df = pd.read_csv('HarryPotter/Book1.txt', sep='/n', engine='python', header=None)\n",
        "df.head(15)"
      ],
      "execution_count": 5,
      "outputs": [
        {
          "output_type": "execute_result",
          "data": {
            "text/plain": [
              "                                                    0\n",
              "0                                                   /\n",
              "1                                   THE BOY WHO LIVED\n",
              "2   Mr. and Mrs. Dursley, of number four, Privet D...\n",
              "3   were proud to say that they were perfectly nor...\n",
              "4   thank you very much. They were the last people...\n",
              "5        expect to be involved in anything strange or\n",
              "6   mysterious, because they just didn’t hold with...\n",
              "7                                           nonsense.\n",
              "8       Mr. Dursley was the director of a firm called\n",
              "9   Grunnings, which made drills. He was a big, beefy\n",
              "10   man with hardly any neck, although he did have a\n",
              "11     very large mustache. Mrs. Dursley was thin and\n",
              "12    blonde and had nearly twice the usual amount of\n",
              "13    neck, which came in very useful as she spent so\n",
              "14  much of her time craning over garden fences, s..."
            ],
            "text/html": [
              "\n",
              "  <div id=\"df-ac1af27a-5110-4950-aed4-371a9d281fbd\">\n",
              "    <div class=\"colab-df-container\">\n",
              "      <div>\n",
              "<style scoped>\n",
              "    .dataframe tbody tr th:only-of-type {\n",
              "        vertical-align: middle;\n",
              "    }\n",
              "\n",
              "    .dataframe tbody tr th {\n",
              "        vertical-align: top;\n",
              "    }\n",
              "\n",
              "    .dataframe thead th {\n",
              "        text-align: right;\n",
              "    }\n",
              "</style>\n",
              "<table border=\"1\" class=\"dataframe\">\n",
              "  <thead>\n",
              "    <tr style=\"text-align: right;\">\n",
              "      <th></th>\n",
              "      <th>0</th>\n",
              "    </tr>\n",
              "  </thead>\n",
              "  <tbody>\n",
              "    <tr>\n",
              "      <th>0</th>\n",
              "      <td>/</td>\n",
              "    </tr>\n",
              "    <tr>\n",
              "      <th>1</th>\n",
              "      <td>THE BOY WHO LIVED</td>\n",
              "    </tr>\n",
              "    <tr>\n",
              "      <th>2</th>\n",
              "      <td>Mr. and Mrs. Dursley, of number four, Privet D...</td>\n",
              "    </tr>\n",
              "    <tr>\n",
              "      <th>3</th>\n",
              "      <td>were proud to say that they were perfectly nor...</td>\n",
              "    </tr>\n",
              "    <tr>\n",
              "      <th>4</th>\n",
              "      <td>thank you very much. They were the last people...</td>\n",
              "    </tr>\n",
              "    <tr>\n",
              "      <th>5</th>\n",
              "      <td>expect to be involved in anything strange or</td>\n",
              "    </tr>\n",
              "    <tr>\n",
              "      <th>6</th>\n",
              "      <td>mysterious, because they just didn’t hold with...</td>\n",
              "    </tr>\n",
              "    <tr>\n",
              "      <th>7</th>\n",
              "      <td>nonsense.</td>\n",
              "    </tr>\n",
              "    <tr>\n",
              "      <th>8</th>\n",
              "      <td>Mr. Dursley was the director of a firm called</td>\n",
              "    </tr>\n",
              "    <tr>\n",
              "      <th>9</th>\n",
              "      <td>Grunnings, which made drills. He was a big, beefy</td>\n",
              "    </tr>\n",
              "    <tr>\n",
              "      <th>10</th>\n",
              "      <td>man with hardly any neck, although he did have a</td>\n",
              "    </tr>\n",
              "    <tr>\n",
              "      <th>11</th>\n",
              "      <td>very large mustache. Mrs. Dursley was thin and</td>\n",
              "    </tr>\n",
              "    <tr>\n",
              "      <th>12</th>\n",
              "      <td>blonde and had nearly twice the usual amount of</td>\n",
              "    </tr>\n",
              "    <tr>\n",
              "      <th>13</th>\n",
              "      <td>neck, which came in very useful as she spent so</td>\n",
              "    </tr>\n",
              "    <tr>\n",
              "      <th>14</th>\n",
              "      <td>much of her time craning over garden fences, s...</td>\n",
              "    </tr>\n",
              "  </tbody>\n",
              "</table>\n",
              "</div>\n",
              "      <button class=\"colab-df-convert\" onclick=\"convertToInteractive('df-ac1af27a-5110-4950-aed4-371a9d281fbd')\"\n",
              "              title=\"Convert this dataframe to an interactive table.\"\n",
              "              style=\"display:none;\">\n",
              "        \n",
              "  <svg xmlns=\"http://www.w3.org/2000/svg\" height=\"24px\"viewBox=\"0 0 24 24\"\n",
              "       width=\"24px\">\n",
              "    <path d=\"M0 0h24v24H0V0z\" fill=\"none\"/>\n",
              "    <path d=\"M18.56 5.44l.94 2.06.94-2.06 2.06-.94-2.06-.94-.94-2.06-.94 2.06-2.06.94zm-11 1L8.5 8.5l.94-2.06 2.06-.94-2.06-.94L8.5 2.5l-.94 2.06-2.06.94zm10 10l.94 2.06.94-2.06 2.06-.94-2.06-.94-.94-2.06-.94 2.06-2.06.94z\"/><path d=\"M17.41 7.96l-1.37-1.37c-.4-.4-.92-.59-1.43-.59-.52 0-1.04.2-1.43.59L10.3 9.45l-7.72 7.72c-.78.78-.78 2.05 0 2.83L4 21.41c.39.39.9.59 1.41.59.51 0 1.02-.2 1.41-.59l7.78-7.78 2.81-2.81c.8-.78.8-2.07 0-2.86zM5.41 20L4 18.59l7.72-7.72 1.47 1.35L5.41 20z\"/>\n",
              "  </svg>\n",
              "      </button>\n",
              "      \n",
              "  <style>\n",
              "    .colab-df-container {\n",
              "      display:flex;\n",
              "      flex-wrap:wrap;\n",
              "      gap: 12px;\n",
              "    }\n",
              "\n",
              "    .colab-df-convert {\n",
              "      background-color: #E8F0FE;\n",
              "      border: none;\n",
              "      border-radius: 50%;\n",
              "      cursor: pointer;\n",
              "      display: none;\n",
              "      fill: #1967D2;\n",
              "      height: 32px;\n",
              "      padding: 0 0 0 0;\n",
              "      width: 32px;\n",
              "    }\n",
              "\n",
              "    .colab-df-convert:hover {\n",
              "      background-color: #E2EBFA;\n",
              "      box-shadow: 0px 1px 2px rgba(60, 64, 67, 0.3), 0px 1px 3px 1px rgba(60, 64, 67, 0.15);\n",
              "      fill: #174EA6;\n",
              "    }\n",
              "\n",
              "    [theme=dark] .colab-df-convert {\n",
              "      background-color: #3B4455;\n",
              "      fill: #D2E3FC;\n",
              "    }\n",
              "\n",
              "    [theme=dark] .colab-df-convert:hover {\n",
              "      background-color: #434B5C;\n",
              "      box-shadow: 0px 1px 3px 1px rgba(0, 0, 0, 0.15);\n",
              "      filter: drop-shadow(0px 1px 2px rgba(0, 0, 0, 0.3));\n",
              "      fill: #FFFFFF;\n",
              "    }\n",
              "  </style>\n",
              "\n",
              "      <script>\n",
              "        const buttonEl =\n",
              "          document.querySelector('#df-ac1af27a-5110-4950-aed4-371a9d281fbd button.colab-df-convert');\n",
              "        buttonEl.style.display =\n",
              "          google.colab.kernel.accessAllowed ? 'block' : 'none';\n",
              "\n",
              "        async function convertToInteractive(key) {\n",
              "          const element = document.querySelector('#df-ac1af27a-5110-4950-aed4-371a9d281fbd');\n",
              "          const dataTable =\n",
              "            await google.colab.kernel.invokeFunction('convertToInteractive',\n",
              "                                                     [key], {});\n",
              "          if (!dataTable) return;\n",
              "\n",
              "          const docLinkHtml = 'Like what you see? Visit the ' +\n",
              "            '<a target=\"_blank\" href=https://colab.research.google.com/notebooks/data_table.ipynb>data table notebook</a>'\n",
              "            + ' to learn more about interactive tables.';\n",
              "          element.innerHTML = '';\n",
              "          dataTable['output_type'] = 'display_data';\n",
              "          await google.colab.output.renderOutput(dataTable, element);\n",
              "          const docLink = document.createElement('div');\n",
              "          docLink.innerHTML = docLinkHtml;\n",
              "          element.appendChild(docLink);\n",
              "        }\n",
              "      </script>\n",
              "    </div>\n",
              "  </div>\n",
              "  "
            ]
          },
          "metadata": {},
          "execution_count": 5
        }
      ]
    },
    {
      "cell_type": "code",
      "metadata": {
        "id": "LEpKubK9XzXN",
        "colab": {
          "base_uri": "https://localhost:8080/"
        },
        "outputId": "7455079f-d819-4555-9789-30b196ad0570"
      },
      "source": [
        "print(\"Cantidad de documentos:\", df.shape[0])"
      ],
      "execution_count": 6,
      "outputs": [
        {
          "output_type": "stream",
          "name": "stdout",
          "text": [
            "Cantidad de documentos: 10144\n"
          ]
        }
      ]
    },
    {
      "cell_type": "markdown",
      "metadata": {
        "id": "ab94qaFlrA1G"
      },
      "source": [
        "## 3 - Preprocesamiento"
      ]
    },
    {
      "cell_type": "code",
      "metadata": {
        "id": "rIsmMWmjrDHd"
      },
      "source": [
        "sentence_tokens = []\n",
        "# Recorrer todas las filas y transformar los documentos\n",
        "# en una secuencia de palabras (esto podría realizarse con NLTK o spaCy también).\n",
        "for _, row in df[:None].iterrows():\n",
        "    sentence_tokens.append(text_to_word_sequence(row[0]))"
      ],
      "execution_count": 7,
      "outputs": []
    },
    {
      "cell_type": "code",
      "metadata": {
        "id": "CHepi_DGrbhq",
        "colab": {
          "base_uri": "https://localhost:8080/"
        },
        "outputId": "e6d74b3f-adb0-4b80-97cf-99b3745a8a41"
      },
      "source": [
        "# Ejemplo.\n",
        "sentence_tokens[:3]"
      ],
      "execution_count": 8,
      "outputs": [
        {
          "output_type": "execute_result",
          "data": {
            "text/plain": [
              "[[],\n",
              " ['the', 'boy', 'who', 'lived'],\n",
              " ['mr', 'and', 'mrs', 'dursley', 'of', 'number', 'four', 'privet', 'drive']]"
            ]
          },
          "metadata": {},
          "execution_count": 8
        }
      ]
    },
    {
      "cell_type": "markdown",
      "metadata": {
        "id": "BaXV6nlHr5Aa"
      },
      "source": [
        "## 4 - Crear los vectores (word2vec)"
      ]
    },
    {
      "cell_type": "code",
      "metadata": {
        "id": "OSb0v7h8r7hK"
      },
      "source": [
        "# Durante el entrenamiento gensim por defecto no informa el \"loss\" en cada época.\n",
        "# Se sobreescribe on_epoch_end en callback para poder tener esta información.\n",
        "class callback(CallbackAny2Vec):\n",
        "    \"\"\"\n",
        "    Callback to print loss after each epoch\n",
        "    \"\"\"\n",
        "    def __init__(self):\n",
        "        self.epoch = 0\n",
        "\n",
        "    #On_epoch_end es para poder ver la función de pérdida, porque la librería no lo hace.\n",
        "    def on_epoch_end(self, model):\n",
        "        loss = model.get_latest_training_loss()\n",
        "        if self.epoch == 0:\n",
        "            print('Loss after epoch {}: {}'.format(self.epoch, loss))\n",
        "        else:\n",
        "            print('Loss after epoch {}: {}'.format(self.epoch, loss- self.loss_previous_step))\n",
        "        self.epoch += 1\n",
        "        self.loss_previous_step = loss"
      ],
      "execution_count": 9,
      "outputs": []
    },
    {
      "cell_type": "markdown",
      "source": [
        "### Skip-Gram"
      ],
      "metadata": {
        "id": "7ec-XnlX5o0n"
      }
    },
    {
      "cell_type": "code",
      "metadata": {
        "id": "i0wnDdv9sJ47"
      },
      "source": [
        "# Crear el modelo generador de vectores.\n",
        "# En este caso se utiliza la estructura modelo Skip-Gram.\n",
        "w2v_model = Word2Vec(min_count=5,    # Frecuencia mínima dela palabra para incluirla en el vocabulario.\n",
        "                     window=2,       # Cantidad de palabras antes y después de la predicha.\n",
        "                                     # Son dos para la derecha y dos para la izquierda. 4 en total.\n",
        "                     size=300,       # Dimensionalidad de los vectores.\n",
        "                     negative=20,    # Cantidad de negative samples. 0 significa que no se usa.\n",
        "                                     # Cuantos términos al azar utilizar para modificar los pesos en los pasos de entrenamiento.\n",
        "                     workers=1,      # Si tienen más cores pueden cambiar este valor.\n",
        "                     sg=1)           # modelo 0:CBOW, 1:Skip-Gram."
      ],
      "execution_count": 10,
      "outputs": []
    },
    {
      "cell_type": "code",
      "metadata": {
        "id": "5lTt8wErsf17"
      },
      "source": [
        "# Construir el vocabulario con los tokens.\n",
        "w2v_model.build_vocab(sentence_tokens)"
      ],
      "execution_count": 11,
      "outputs": []
    },
    {
      "cell_type": "code",
      "metadata": {
        "id": "TNc9qt4os5AT",
        "colab": {
          "base_uri": "https://localhost:8080/"
        },
        "outputId": "17ec911b-5ccf-4b05-a012-a935fbe7124a"
      },
      "source": [
        "# Cantidad de filas/documentos encontradas en el corpus.\n",
        "print(\"Cantidad de docs en el corpus:\", w2v_model.corpus_count)"
      ],
      "execution_count": 12,
      "outputs": [
        {
          "output_type": "stream",
          "name": "stdout",
          "text": [
            "Cantidad de docs en el corpus: 10144\n"
          ]
        }
      ]
    },
    {
      "cell_type": "code",
      "metadata": {
        "id": "idw9cHF3tSMl",
        "colab": {
          "base_uri": "https://localhost:8080/"
        },
        "outputId": "b72e8fc5-94dc-4cb6-85a8-3138a4264925"
      },
      "source": [
        "# Cantidad de words encontradas en el corpus (vocabulario).\n",
        "print(\"Cantidad de words distintas en el corpus (vocabulario):\", len(w2v_model.wv.vocab))"
      ],
      "execution_count": 13,
      "outputs": [
        {
          "output_type": "stream",
          "name": "stdout",
          "text": [
            "Cantidad de words distintas en el corpus (vocabulario): 1794\n"
          ]
        }
      ]
    },
    {
      "cell_type": "markdown",
      "source": [
        "### CBOW ventana 2"
      ],
      "metadata": {
        "id": "ihyX5aRvI46R"
      }
    },
    {
      "cell_type": "code",
      "metadata": {
        "id": "80TA6a6jJCWy"
      },
      "source": [
        "# Crear el modelo generador de vectores.\n",
        "# En este caso se utiliza la estructura modelo CBOW.\n",
        "w2v_model_CBOW = Word2Vec(min_count=5,    # Frecuencia mínima dela palabra para incluirla en el vocabulario.\n",
        "                     window=2,       # Cantidad de palabras antes y después de la predicha.\n",
        "                                     # Son dos para la derecha y dos para la izquierda. 4 en total.\n",
        "                     size=300,       # Dimensionalidad de los vectores.\n",
        "                     negative=20,    # Cantidad de negative samples. 0 significa que no se usa.\n",
        "                                     # Cuantos términos al azar utilizar para modificar los pesos en los pasos de entrenamiento.\n",
        "                     workers=1,      # Si tienen más cores pueden cambiar este valor.\n",
        "                     sg=0)           # modelo 0:CBOW, 1:Skip-Gram."
      ],
      "execution_count": 14,
      "outputs": []
    },
    {
      "cell_type": "code",
      "metadata": {
        "id": "lLic7B5FJCWy"
      },
      "source": [
        "# Construir el vocabulario con los tokens.\n",
        "w2v_model_CBOW.build_vocab(sentence_tokens)"
      ],
      "execution_count": 15,
      "outputs": []
    },
    {
      "cell_type": "code",
      "metadata": {
        "colab": {
          "base_uri": "https://localhost:8080/"
        },
        "outputId": "049d0ae9-dc17-4271-f0aa-513b7f42ef17",
        "id": "8pbBB7lPJCWy"
      },
      "source": [
        "# Cantidad de filas/documentos encontradas en el corpus.\n",
        "print(\"Cantidad de docs en el corpus:\", w2v_model_CBOW.corpus_count)"
      ],
      "execution_count": 16,
      "outputs": [
        {
          "output_type": "stream",
          "name": "stdout",
          "text": [
            "Cantidad de docs en el corpus: 10144\n"
          ]
        }
      ]
    },
    {
      "cell_type": "code",
      "metadata": {
        "colab": {
          "base_uri": "https://localhost:8080/"
        },
        "outputId": "b528f375-2e6d-4c76-aae8-5bf1d59150ce",
        "id": "6H8IvmC5JCWz"
      },
      "source": [
        "# Cantidad de words encontradas en el corpus (vocabulario).\n",
        "print(\"Cantidad de words distintas en el corpus (vocabulario):\", len(w2v_model_CBOW.wv.vocab))"
      ],
      "execution_count": 17,
      "outputs": [
        {
          "output_type": "stream",
          "name": "stdout",
          "text": [
            "Cantidad de words distintas en el corpus (vocabulario): 1794\n"
          ]
        }
      ]
    },
    {
      "cell_type": "markdown",
      "source": [
        "### CBOW ventana 4"
      ],
      "metadata": {
        "id": "scPmRVdCSguG"
      }
    },
    {
      "cell_type": "code",
      "metadata": {
        "id": "-u6R1X3WSmS1"
      },
      "source": [
        "# Crear el modelo generador de vectores.\n",
        "# En este caso se utiliza la estructura modelo CBOW.\n",
        "w2v_model_CBOW_4 = Word2Vec(min_count=5,    # Frecuencia mínima dela palabra para incluirla en el vocabulario.\n",
        "                     window=4,       # Cantidad de palabras antes y después de la predicha.\n",
        "                                     # Son dos para la derecha y dos para la izquierda. 4 en total.\n",
        "                     size=300,       # Dimensionalidad de los vectores.\n",
        "                     negative=20,    # Cantidad de negative samples. 0 significa que no se usa.\n",
        "                                     # Cuantos términos al azar utilizar para modificar los pesos en los pasos de entrenamiento.\n",
        "                     workers=1,      # Si tienen más cores pueden cambiar este valor.\n",
        "                     sg=0)           # modelo 0:CBOW, 1:Skip-Gram."
      ],
      "execution_count": 18,
      "outputs": []
    },
    {
      "cell_type": "code",
      "metadata": {
        "id": "7thMshR9SmS2"
      },
      "source": [
        "# Construir el vocabulario con los tokens.\n",
        "w2v_model_CBOW_4.build_vocab(sentence_tokens)"
      ],
      "execution_count": 19,
      "outputs": []
    },
    {
      "cell_type": "code",
      "metadata": {
        "colab": {
          "base_uri": "https://localhost:8080/"
        },
        "outputId": "000ad93d-3409-43e6-9bd7-284a4b246eea",
        "id": "bPGbJSDiSmS2"
      },
      "source": [
        "# Cantidad de filas/documentos encontradas en el corpus.\n",
        "print(\"Cantidad de docs en el corpus:\", w2v_model_CBOW_4.corpus_count)"
      ],
      "execution_count": 20,
      "outputs": [
        {
          "output_type": "stream",
          "name": "stdout",
          "text": [
            "Cantidad de docs en el corpus: 10144\n"
          ]
        }
      ]
    },
    {
      "cell_type": "code",
      "metadata": {
        "colab": {
          "base_uri": "https://localhost:8080/"
        },
        "outputId": "da91fb8e-55be-4231-f495-87ba8fa191eb",
        "id": "oKy6tjWySmS3"
      },
      "source": [
        "# Cantidad de words encontradas en el corpus (vocabulario).\n",
        "print(\"Cantidad de words distintas en el corpus (vocabulario):\", len(w2v_model_CBOW_4.wv.vocab))"
      ],
      "execution_count": 21,
      "outputs": [
        {
          "output_type": "stream",
          "name": "stdout",
          "text": [
            "Cantidad de words distintas en el corpus (vocabulario): 1794\n"
          ]
        }
      ]
    },
    {
      "cell_type": "markdown",
      "metadata": {
        "id": "fC9mZ8DPk-UC"
      },
      "source": [
        "## 5 - Entrenar el modelo generador"
      ]
    },
    {
      "cell_type": "markdown",
      "source": [
        "### Skip-Gram"
      ],
      "metadata": {
        "id": "pB5slrGI5wn4"
      }
    },
    {
      "cell_type": "code",
      "metadata": {
        "id": "QSp-x0PAsq56",
        "colab": {
          "base_uri": "https://localhost:8080/"
        },
        "outputId": "ac38060e-3580-4b01-8859-ba21bd6baa16"
      },
      "source": [
        "# Se entrena el modelo generador de vectores.\n",
        "# Se utiliza el callback recién modificado.\n",
        "w2v_model.train(sentence_tokens,\n",
        "                total_examples=w2v_model.corpus_count,\n",
        "                epochs=20,\n",
        "                compute_loss = True,\n",
        "                callbacks=[callback()]\n",
        "                )"
      ],
      "execution_count": 22,
      "outputs": [
        {
          "output_type": "stream",
          "name": "stdout",
          "text": [
            "Loss after epoch 0: 696684.1875\n",
            "Loss after epoch 1: 483389.9375\n",
            "Loss after epoch 2: 437389.875\n",
            "Loss after epoch 3: 430415.875\n",
            "Loss after epoch 4: 378276.875\n",
            "Loss after epoch 5: 368761.25\n",
            "Loss after epoch 6: 366617.5\n",
            "Loss after epoch 7: 364073.25\n",
            "Loss after epoch 8: 361771.5\n",
            "Loss after epoch 9: 356921.25\n",
            "Loss after epoch 10: 336303.5\n",
            "Loss after epoch 11: 335673.5\n",
            "Loss after epoch 12: 333212.5\n",
            "Loss after epoch 13: 331027.5\n",
            "Loss after epoch 14: 330394.5\n",
            "Loss after epoch 15: 328114.5\n",
            "Loss after epoch 16: 325319.0\n",
            "Loss after epoch 17: 325028.5\n",
            "Loss after epoch 18: 324883.0\n",
            "Loss after epoch 19: 323508.5\n"
          ]
        },
        {
          "output_type": "execute_result",
          "data": {
            "text/plain": [
              "(1102601, 1701320)"
            ]
          },
          "metadata": {},
          "execution_count": 22
        }
      ]
    },
    {
      "cell_type": "markdown",
      "source": [
        "### CBOW ventana 2"
      ],
      "metadata": {
        "id": "4FoplTMTJb6Y"
      }
    },
    {
      "cell_type": "code",
      "source": [
        "# Se entrena el modelo generador de vectores.\n",
        "# Se utiliza el callback recién modificado.\n",
        "w2v_model_CBOW.train(sentence_tokens,\n",
        "                total_examples=w2v_model_CBOW.corpus_count,\n",
        "                epochs=20,\n",
        "                compute_loss = True,\n",
        "                callbacks=[callback()]\n",
        "                )"
      ],
      "metadata": {
        "colab": {
          "base_uri": "https://localhost:8080/"
        },
        "id": "h8lzJiuZJ3Bd",
        "outputId": "4b5c9262-d234-47e3-d5e3-23bc2b6829ae"
      },
      "execution_count": 23,
      "outputs": [
        {
          "output_type": "stream",
          "name": "stdout",
          "text": [
            "Loss after epoch 0: 361859.84375\n",
            "Loss after epoch 1: 232017.34375\n",
            "Loss after epoch 2: 227960.625\n",
            "Loss after epoch 3: 224582.5\n",
            "Loss after epoch 4: 197854.4375\n",
            "Loss after epoch 5: 194814.75\n",
            "Loss after epoch 6: 192976.5\n",
            "Loss after epoch 7: 190805.875\n",
            "Loss after epoch 8: 188300.75\n",
            "Loss after epoch 9: 173383.625\n",
            "Loss after epoch 10: 160959.75\n",
            "Loss after epoch 11: 160013.25\n",
            "Loss after epoch 12: 159328.0\n",
            "Loss after epoch 13: 158568.75\n",
            "Loss after epoch 14: 158128.0\n",
            "Loss after epoch 15: 156481.5\n",
            "Loss after epoch 16: 155540.75\n",
            "Loss after epoch 17: 155383.0\n",
            "Loss after epoch 18: 155037.25\n",
            "Loss after epoch 19: 154653.0\n"
          ]
        },
        {
          "output_type": "execute_result",
          "data": {
            "text/plain": [
              "(1102601, 1701320)"
            ]
          },
          "metadata": {},
          "execution_count": 23
        }
      ]
    },
    {
      "cell_type": "markdown",
      "source": [
        "### CBOW ventana 4"
      ],
      "metadata": {
        "id": "d9iPw6mJSwUf"
      }
    },
    {
      "cell_type": "code",
      "source": [
        "# Se entrena el modelo generador de vectores.\n",
        "# Se utiliza el callback recién modificado.\n",
        "w2v_model_CBOW_4.train(sentence_tokens,\n",
        "                total_examples=w2v_model_CBOW_4.corpus_count,\n",
        "                epochs=20,\n",
        "                compute_loss = True,\n",
        "                callbacks=[callback()]\n",
        "                )"
      ],
      "metadata": {
        "colab": {
          "base_uri": "https://localhost:8080/"
        },
        "outputId": "7eb6ef8f-c603-4fb7-b284-c877a6ab8ae7",
        "id": "NMTzVT8tSwUf"
      },
      "execution_count": 24,
      "outputs": [
        {
          "output_type": "stream",
          "name": "stdout",
          "text": [
            "Loss after epoch 0: 339224.6875\n",
            "Loss after epoch 1: 231103.4375\n",
            "Loss after epoch 2: 227040.1875\n",
            "Loss after epoch 3: 224272.0625\n",
            "Loss after epoch 4: 202296.375\n",
            "Loss after epoch 5: 197148.875\n",
            "Loss after epoch 6: 195813.5\n",
            "Loss after epoch 7: 194498.125\n",
            "Loss after epoch 8: 192698.75\n",
            "Loss after epoch 9: 177552.25\n",
            "Loss after epoch 10: 163572.25\n",
            "Loss after epoch 11: 162791.0\n",
            "Loss after epoch 12: 162249.0\n",
            "Loss after epoch 13: 161558.0\n",
            "Loss after epoch 14: 161122.5\n",
            "Loss after epoch 15: 159821.0\n",
            "Loss after epoch 16: 158825.5\n",
            "Loss after epoch 17: 158720.25\n",
            "Loss after epoch 18: 158440.25\n",
            "Loss after epoch 19: 158070.25\n"
          ]
        },
        {
          "output_type": "execute_result",
          "data": {
            "text/plain": [
              "(1102601, 1701320)"
            ]
          },
          "metadata": {},
          "execution_count": 24
        }
      ]
    },
    {
      "cell_type": "markdown",
      "metadata": {
        "id": "ddT9NVuNlCAe"
      },
      "source": [
        "## 5 - Ensayar"
      ]
    },
    {
      "cell_type": "markdown",
      "source": [
        "En el ensayo podemos ver algunas relaciones entre palabras interesantes que se dan en el libro."
      ],
      "metadata": {
        "id": "ue4qFgN0IULC"
      }
    },
    {
      "cell_type": "markdown",
      "source": [
        "### Skip-Gran"
      ],
      "metadata": {
        "id": "DcTz-cLc53Kq"
      }
    },
    {
      "cell_type": "markdown",
      "source": [
        "Harry, quien es el personaje principal de la saga, se relaciona con algunos compañeros de Hogwarts como Neville o Hermione, e incluso con ex alumnos como (Marcus) Flint. También con el sombrero seleccionador, ya que en el primer libro se determina a que casa pertenecerá Harry."
      ],
      "metadata": {
        "id": "DdF4RaP7-EvA"
      }
    },
    {
      "cell_type": "code",
      "metadata": {
        "id": "6cHN9xGLuPEm",
        "colab": {
          "base_uri": "https://localhost:8080/"
        },
        "outputId": "d8d17227-fca6-471e-fe0f-c9b960fda21a"
      },
      "source": [
        "# Palabras que MÁS se relacionan con...:\n",
        "w2v_model.wv.most_similar(positive=[\"harry\"], topn=5)"
      ],
      "execution_count": 25,
      "outputs": [
        {
          "output_type": "execute_result",
          "data": {
            "text/plain": [
              "[('scabbers', 0.6739983558654785),\n",
              " ('flint', 0.6733481884002686),\n",
              " ('neville', 0.6535083055496216),\n",
              " ('hermione', 0.642716646194458),\n",
              " ('hat', 0.6413134336471558)]"
            ]
          },
          "metadata": {},
          "execution_count": 25
        }
      ]
    },
    {
      "cell_type": "markdown",
      "source": [
        "Snape es uno de los profesores de Hogwarts y se relaciona con personajes que allí habitan como \"Peeves\" (que no aparece en las películas) o que trabajan con él, como la profesora McGonagall, el profesor Quirrell o el director Dumbledore."
      ],
      "metadata": {
        "id": "NBtN3HP29Y5W"
      }
    },
    {
      "cell_type": "code",
      "source": [
        "# Palabras que MÁS se relacionan con...:\n",
        "w2v_model.wv.most_similar(positive=[\"snape\"], topn=5)"
      ],
      "metadata": {
        "colab": {
          "base_uri": "https://localhost:8080/"
        },
        "id": "LIKDIjIb32wj",
        "outputId": "db216dc7-4ab1-4302-d145-cae5225643f7"
      },
      "execution_count": 26,
      "outputs": [
        {
          "output_type": "execute_result",
          "data": {
            "text/plain": [
              "[('peeves', 0.7395103573799133),\n",
              " ('quirrell', 0.737337589263916),\n",
              " ('mcgonagall', 0.7295433282852173),\n",
              " ('dumbledore', 0.7216585874557495),\n",
              " ('flitwick', 0.7161492705345154)]"
            ]
          },
          "metadata": {},
          "execution_count": 26
        }
      ]
    },
    {
      "cell_type": "markdown",
      "source": [
        "Notar como la palabra \"nine\" se relaciona con \"platform\" y \"quarters\", debida a la conocida plataforma 9 3/4 en donde Harry Potter y sus amigos toman el tren a Hogwarts."
      ],
      "metadata": {
        "id": "denKW0xS8d7E"
      }
    },
    {
      "cell_type": "code",
      "metadata": {
        "id": "DT4Rvno2mD65",
        "colab": {
          "base_uri": "https://localhost:8080/"
        },
        "outputId": "1507a9a1-2eed-42c8-bcb7-624cdf6d0490"
      },
      "source": [
        "# Palabras que MÁS se relacionan con...:\n",
        "w2v_model.wv.most_similar(positive=[\"nine\"], topn=5)"
      ],
      "execution_count": 27,
      "outputs": [
        {
          "output_type": "execute_result",
          "data": {
            "text/plain": [
              "[('platform', 0.9344496726989746),\n",
              " ('quarters', 0.913151204586029),\n",
              " ('number', 0.9017508029937744),\n",
              " ('platforms', 0.9011192321777344),\n",
              " ('thousands', 0.8897377252578735)]"
            ]
          },
          "metadata": {},
          "execution_count": 27
        }
      ]
    },
    {
      "cell_type": "markdown",
      "source": [
        "En este caso la palabra \"stone\", se relaciona con el nombre de la autora J.K.\n",
        "Rowling y la palabra \"philosophers\", ya que el nombre del libro es \"La piedra filosofal\". "
      ],
      "metadata": {
        "id": "OZQZm9SD82by"
      }
    },
    {
      "cell_type": "code",
      "metadata": {
        "id": "XPLDPgzBmQXt",
        "colab": {
          "base_uri": "https://localhost:8080/"
        },
        "outputId": "94bfdb2f-4172-487d-fba1-7ddda718746a"
      },
      "source": [
        "# Palabras que MÁS se relacionan con...:\n",
        "w2v_model.wv.most_similar(positive=[\"stone\"], topn=5)"
      ],
      "execution_count": 28,
      "outputs": [
        {
          "output_type": "execute_result",
          "data": {
            "text/plain": [
              "[('k', 0.8403476476669312),\n",
              " ('rowling', 0.8245992660522461),\n",
              " ('j', 0.8225892186164856),\n",
              " ('page', 0.8209816217422485),\n",
              " ('philosophers', 0.8054163455963135)]"
            ]
          },
          "metadata": {},
          "execution_count": 28
        }
      ]
    },
    {
      "cell_type": "code",
      "metadata": {
        "id": "47HiU5gdkdMq",
        "colab": {
          "base_uri": "https://localhost:8080/"
        },
        "outputId": "7202dddd-f0f2-4222-99bf-be45b1dcdfd8"
      },
      "source": [
        "# Palabras que MENOS se relacionan con...:\n",
        "w2v_model.wv.most_similar(negative=[\"harry\"], topn=5)"
      ],
      "execution_count": 29,
      "outputs": [
        {
          "output_type": "execute_result",
          "data": {
            "text/plain": [
              "[('be', -0.09973686933517456),\n",
              " ('us', -0.1049824059009552),\n",
              " ('for', -0.10647516697645187),\n",
              " ('my', -0.10813193768262863),\n",
              " ('your', -0.12428760528564453)]"
            ]
          },
          "metadata": {},
          "execution_count": 29
        }
      ]
    },
    {
      "cell_type": "markdown",
      "source": [
        "### CBOW ventana 2"
      ],
      "metadata": {
        "id": "DPmdDfs3J9Wo"
      }
    },
    {
      "cell_type": "markdown",
      "source": [
        "Harry, quien es el personaje principal de la saga, se relaciona con algunos compañeros de Hogwarts como Neville, Malfoy, Hermione o Ron."
      ],
      "metadata": {
        "id": "OTxS24k2LM7A"
      }
    },
    {
      "cell_type": "code",
      "metadata": {
        "colab": {
          "base_uri": "https://localhost:8080/"
        },
        "outputId": "88216866-4901-4e5f-ff77-d508b1aa8761",
        "id": "BpmgixizKDVI"
      },
      "source": [
        "# Palabras que MÁS se relacionan con...:\n",
        "w2v_model_CBOW.wv.most_similar(positive=[\"harry\"], topn=5)"
      ],
      "execution_count": 30,
      "outputs": [
        {
          "output_type": "execute_result",
          "data": {
            "text/plain": [
              "[('hermione', 0.7971781492233276),\n",
              " ('malfoy', 0.7879369258880615),\n",
              " ('neville', 0.7562105655670166),\n",
              " ('she', 0.7407049536705017),\n",
              " ('ron', 0.7317798733711243)]"
            ]
          },
          "metadata": {},
          "execution_count": 30
        }
      ]
    },
    {
      "cell_type": "markdown",
      "source": [
        "Snape es uno de los profesores de Hogwarts y se relaciona con personajes que trabajan con él, como el profesor Quirrell o el director Dumbledore. Incluso, con el alumno \"Malfoy\", porque pertenece a la casa Slytherin en donde él ese el director."
      ],
      "metadata": {
        "id": "R7VSgqHiLcUR"
      }
    },
    {
      "cell_type": "code",
      "source": [
        "# Palabras que MÁS se relacionan con...:\n",
        "w2v_model_CBOW.wv.most_similar(positive=[\"snape\"], topn=5)"
      ],
      "metadata": {
        "colab": {
          "base_uri": "https://localhost:8080/"
        },
        "outputId": "941e5d61-b0ad-49f0-e337-aa5bf21cb5f5",
        "id": "p2boWEEtKDVK"
      },
      "execution_count": 31,
      "outputs": [
        {
          "output_type": "execute_result",
          "data": {
            "text/plain": [
              "[('quirrell', 0.8163535594940186),\n",
              " ('dumbledore', 0.7989494204521179),\n",
              " ('malfoy', 0.7512628436088562),\n",
              " ('it', 0.7501103281974792),\n",
              " ('everyone', 0.7402023673057556)]"
            ]
          },
          "metadata": {},
          "execution_count": 31
        }
      ]
    },
    {
      "cell_type": "markdown",
      "source": [
        "Notar como la palabra \"nine\" se relaciona con \"platform\" y \"number\", debida a la conocida plataforma 9 3/4 en donde Harry Potter y sus amigos toman el tren a Hogwarts."
      ],
      "metadata": {
        "id": "1xvthAffMR39"
      }
    },
    {
      "cell_type": "code",
      "metadata": {
        "colab": {
          "base_uri": "https://localhost:8080/"
        },
        "outputId": "1fd6b9e8-4787-4017-b0c4-db7750ef43c8",
        "id": "NQl7jR6-KDVK"
      },
      "source": [
        "# Palabras que MÁS se relacionan con...:\n",
        "w2v_model_CBOW.wv.most_similar(positive=[\"nine\"], topn=5)"
      ],
      "execution_count": 32,
      "outputs": [
        {
          "output_type": "execute_result",
          "data": {
            "text/plain": [
              "[('number', 0.9561431407928467),\n",
              " ('platform', 0.9533262252807617),\n",
              " ('fifty', 0.934533953666687),\n",
              " ('thousands', 0.9230530261993408),\n",
              " ('tower', 0.9206486344337463)]"
            ]
          },
          "metadata": {},
          "execution_count": 32
        }
      ]
    },
    {
      "cell_type": "markdown",
      "source": [
        "En este caso la palabra \"stone\", no se relaciona con palabras en las que se le pueda dar un contexto claro en el libro."
      ],
      "metadata": {
        "id": "OiIeSmymMrYX"
      }
    },
    {
      "cell_type": "code",
      "metadata": {
        "colab": {
          "base_uri": "https://localhost:8080/"
        },
        "outputId": "f30bd6aa-fe8f-43c5-bef7-5c4314567420",
        "id": "hPLWNkRuKDVL"
      },
      "source": [
        "# Palabras que MÁS se relacionan con...:\n",
        "w2v_model_CBOW.wv.most_similar(positive=[\"stone\"], topn=5)"
      ],
      "execution_count": 33,
      "outputs": [
        {
          "output_type": "execute_result",
          "data": {
            "text/plain": [
              "[('page', 0.7182959318161011),\n",
              " ('quaffle', 0.6716421842575073),\n",
              " ('h', 0.6579388380050659),\n",
              " ('twins', 0.6391506195068359),\n",
              " ('bright', 0.6376161575317383)]"
            ]
          },
          "metadata": {},
          "execution_count": 33
        }
      ]
    },
    {
      "cell_type": "code",
      "metadata": {
        "colab": {
          "base_uri": "https://localhost:8080/"
        },
        "outputId": "499ed621-620e-4ff3-d0c2-fa8176fa6c77",
        "id": "Y7gCUMObKDVM"
      },
      "source": [
        "# Palabras que MENOS se relacionan con...:\n",
        "w2v_model_CBOW.wv.most_similar(negative=[\"harry\"], topn=5)"
      ],
      "execution_count": 34,
      "outputs": [
        {
          "output_type": "execute_result",
          "data": {
            "text/plain": [
              "[('will', 0.31430017948150635),\n",
              " ('got', 0.27083778381347656),\n",
              " ('ter', 0.2218734622001648),\n",
              " ('you’ll', 0.20514392852783203),\n",
              " ('some', 0.20072932541370392)]"
            ]
          },
          "metadata": {},
          "execution_count": 34
        }
      ]
    },
    {
      "cell_type": "markdown",
      "source": [
        "### CBOW ventana 4"
      ],
      "metadata": {
        "id": "kVQLmXrYS8ch"
      }
    },
    {
      "cell_type": "markdown",
      "source": [
        "Harry, quien es el personaje principal de la saga, se relaciona con algunos compañeros de Hogwarts como Neville, Malfoy, Hermione o Ron."
      ],
      "metadata": {
        "id": "hZ0iLjIETEX6"
      }
    },
    {
      "cell_type": "code",
      "metadata": {
        "colab": {
          "base_uri": "https://localhost:8080/"
        },
        "outputId": "60c51cc6-ecbb-41da-c2cc-81e396fbb593",
        "id": "RdLHMUhWTEX7"
      },
      "source": [
        "# Palabras que MÁS se relacionan con...:\n",
        "w2v_model_CBOW_4.wv.most_similar(positive=[\"harry\"], topn=5)"
      ],
      "execution_count": 35,
      "outputs": [
        {
          "output_type": "execute_result",
          "data": {
            "text/plain": [
              "[('malfoy', 0.7818526029586792),\n",
              " ('hermione', 0.773787260055542),\n",
              " ('neville', 0.7678594589233398),\n",
              " ('ron', 0.73299640417099),\n",
              " ('mr', 0.7256293892860413)]"
            ]
          },
          "metadata": {},
          "execution_count": 35
        }
      ]
    },
    {
      "cell_type": "markdown",
      "source": [
        "Snape es uno de los profesores de Hogwarts y se relaciona con personajes que trabajan con él, como el profesor Quirrell. Sin embargo, al ampliar tanto la ventana se lo relaciona con términos que no tienen que ver mucho con este personaje."
      ],
      "metadata": {
        "id": "a19sK9y_TEX7"
      }
    },
    {
      "cell_type": "code",
      "source": [
        "# Palabras que MÁS se relacionan con...:\n",
        "w2v_model_CBOW_4.wv.most_similar(positive=[\"snape\"], topn=5)"
      ],
      "metadata": {
        "colab": {
          "base_uri": "https://localhost:8080/"
        },
        "outputId": "4d78d7b4-459b-49d6-a2f7-9bc77d5659f4",
        "id": "2in1pNcMTEX7"
      },
      "execution_count": 36,
      "outputs": [
        {
          "output_type": "execute_result",
          "data": {
            "text/plain": [
              "[('quirrell', 0.7955919504165649),\n",
              " ('it', 0.7731335163116455),\n",
              " ('feel', 0.7625696659088135),\n",
              " ('much', 0.7612408399581909),\n",
              " ('anyone', 0.7576401233673096)]"
            ]
          },
          "metadata": {},
          "execution_count": 36
        }
      ]
    },
    {
      "cell_type": "markdown",
      "source": [
        "Notar como la palabra \"nine\" se relaciona con \"platform\" y \"number\", debida a la conocida plataforma 9 3/4 en donde Harry Potter y sus amigos toman el tren a Hogwarts."
      ],
      "metadata": {
        "id": "hn0c19HjTEX7"
      }
    },
    {
      "cell_type": "code",
      "metadata": {
        "colab": {
          "base_uri": "https://localhost:8080/"
        },
        "outputId": "5ef99805-6c51-4eda-eaa2-f88a95607887",
        "id": "nvy9EnoQTEX7"
      },
      "source": [
        "# Palabras que MÁS se relacionan con...:\n",
        "w2v_model_CBOW_4.wv.most_similar(positive=[\"nine\"], topn=5)"
      ],
      "execution_count": 37,
      "outputs": [
        {
          "output_type": "execute_result",
          "data": {
            "text/plain": [
              "[('platform', 0.9610130786895752),\n",
              " ('number', 0.9525766372680664),\n",
              " ('walls', 0.9512493014335632),\n",
              " ('lit', 0.9419183731079102),\n",
              " ('four', 0.9386656284332275)]"
            ]
          },
          "metadata": {},
          "execution_count": 37
        }
      ]
    },
    {
      "cell_type": "markdown",
      "source": [
        "En este caso la palabra \"stone\", no se relaciona con palabras en las que se le pueda dar un contexto claro en el libro, excepto poa la K. en el último lugar que se refiere al segundo nombre de la autora."
      ],
      "metadata": {
        "id": "-mRjhQF8TEX8"
      }
    },
    {
      "cell_type": "code",
      "metadata": {
        "colab": {
          "base_uri": "https://localhost:8080/"
        },
        "outputId": "e3c3b932-5080-4bb1-cf82-5a59b1ec1ccc",
        "id": "-WJ64CkzTEX8"
      },
      "source": [
        "# Palabras que MÁS se relacionan con...:\n",
        "w2v_model_CBOW_4.wv.most_similar(positive=[\"stone\"], topn=5)"
      ],
      "execution_count": 38,
      "outputs": [
        {
          "output_type": "execute_result",
          "data": {
            "text/plain": [
              "[('page', 0.6375062465667725),\n",
              " ('twins', 0.5917487740516663),\n",
              " ('quaffle', 0.5844440460205078),\n",
              " ('h', 0.5757262110710144),\n",
              " ('k', 0.5671409368515015)]"
            ]
          },
          "metadata": {},
          "execution_count": 38
        }
      ]
    },
    {
      "cell_type": "code",
      "metadata": {
        "colab": {
          "base_uri": "https://localhost:8080/"
        },
        "outputId": "1db2d459-e23e-4bcc-e7e9-6f06331deae4",
        "id": "FoTCphtOTEX8"
      },
      "source": [
        "# Palabras que MENOS se relacionan con...:\n",
        "w2v_model_CBOW_4.wv.most_similar(negative=[\"harry\"], topn=5)"
      ],
      "execution_count": 39,
      "outputs": [
        {
          "output_type": "execute_result",
          "data": {
            "text/plain": [
              "[('will', 0.3786349892616272),\n",
              " ('could', 0.3211628198623657),\n",
              " ('would', 0.31091704964637756),\n",
              " ('might', 0.28253698348999023),\n",
              " ('got', 0.27848920226097107)]"
            ]
          },
          "metadata": {},
          "execution_count": 39
        }
      ]
    },
    {
      "cell_type": "markdown",
      "source": [
        "### Comparación de los 3 casos y conclusiones"
      ],
      "metadata": {
        "id": "qd1swlnCU82y"
      }
    },
    {
      "cell_type": "markdown",
      "source": [
        "Se buscaron cuáles eran las 5 palabras más similares para los términos Harry, Snape, nine y stone, tanto en Skip-Gram, como en CBOW para una ventana de 2 y 4, y se pudo observar lo siguiente:\n",
        "\n",
        "* Harry: esta palabra tiene en Skip-Gram 5 términos muy relacionados con la historia, en cambio en CBOW solo 4. Lo interesante es que CBOW solo detecto compañeros de Harry, mientras que Skip-Gram también encontró relación con otros términos como hat, que es el sombrero seleccionador de la película. \n",
        "* Snape: esta palabra es muy interesante porque para Skip-Gram los 5 términos que se evalúan son personajes que tienen relación con el profesor Snape, en cambio en CBOW de ventana 2, solo 3 términos, mientras que en CBOW de ventana 4 solo uno.\n",
        "* Nine: Skip-Gram es el que hace la mejor relación con los términos restantes. No obstante, en el caso de CBOW se consiguen algunos términos relacionados.\n",
        "* Stone: en el caso de Skip-Gram hace una buena relación con los términos restantes. En cambio, en CBOW no (excepto un caso aislado)."
      ],
      "metadata": {
        "id": "lHFPKGArVBq2"
      }
    },
    {
      "cell_type": "markdown",
      "source": [
        "En términos generales, para este contexto, Skip-Gram hace un mejor trabajo que CBOW buscando palabras semanticamente similares.\n",
        "\n",
        "Por otro lado, comparando CBOW de ventana 2, contra ventana 4, se observan casos en donde el cambio de ventana no hace efecto, pero otros como en el término \"snape\", en donde sí lo hace, tanto que se puede concluir que una ventana más chica (de 2) es mejor. "
      ],
      "metadata": {
        "id": "xj0ATtkqYCEV"
      }
    },
    {
      "cell_type": "markdown",
      "metadata": {
        "id": "_g8UVWe6lFmh"
      },
      "source": [
        "## 6 - Visualizar agrupación de vectores"
      ]
    },
    {
      "cell_type": "markdown",
      "source": [
        "En el gráfico podemos ver algunas relaciones entre palabras interesantes que se dan en el libro."
      ],
      "metadata": {
        "id": "gZZ8T-ajIdIS"
      }
    },
    {
      "cell_type": "code",
      "metadata": {
        "id": "pDxEVXAivjr9"
      },
      "source": [
        "from sklearn.decomposition import IncrementalPCA    \n",
        "from sklearn.manifold import TSNE                   \n",
        "import numpy as np                                  \n",
        "\n",
        "def reduce_dimensions(model):\n",
        "    num_dimensions = 2  \n",
        "\n",
        "    vectors = np.asarray(model.wv.vectors)\n",
        "    labels = np.asarray(model.wv.index2word)  \n",
        "\n",
        "    tsne = TSNE(n_components=num_dimensions, learning_rate=200.0, init='random', random_state=0)\n",
        "    vectors = tsne.fit_transform(vectors)\n",
        "\n",
        "    x_vals = [v[0] for v in vectors]\n",
        "    y_vals = [v[1] for v in vectors]\n",
        "    return x_vals, y_vals, labels"
      ],
      "execution_count": 40,
      "outputs": []
    },
    {
      "cell_type": "markdown",
      "source": [
        "### Skip-Gram"
      ],
      "metadata": {
        "id": "1ZWtCNAr6Ge5"
      }
    },
    {
      "cell_type": "code",
      "metadata": {
        "id": "NCCXtDpcugmd",
        "colab": {
          "base_uri": "https://localhost:8080/",
          "height": 542
        },
        "outputId": "e9702a5b-1af9-4bf7-ec83-bd2c0e6a996a"
      },
      "source": [
        "# Graficar los embedddings en 2D con T-SNE.\n",
        "import plotly.graph_objects as go\n",
        "import plotly.express as px\n",
        "\n",
        "x_vals, y_vals, labels = reduce_dimensions(w2v_model)\n",
        "\n",
        "MAX_WORDS=300\n",
        "fig = px.scatter(x=x_vals[:MAX_WORDS], y=y_vals[:MAX_WORDS], text=labels[:MAX_WORDS])\n",
        "fig.show(renderer=\"colab\") # Esto para plotly en Colab."
      ],
      "execution_count": 48,
      "outputs": [
        {
          "output_type": "display_data",
          "data": {
            "text/html": [
              "<html>\n",
              "<head><meta charset=\"utf-8\" /></head>\n",
              "<body>\n",
              "    <div>            <script src=\"https://cdnjs.cloudflare.com/ajax/libs/mathjax/2.7.5/MathJax.js?config=TeX-AMS-MML_SVG\"></script><script type=\"text/javascript\">if (window.MathJax) {MathJax.Hub.Config({SVG: {font: \"STIX-Web\"}});}</script>                <script type=\"text/javascript\">window.PlotlyConfig = {MathJaxConfig: 'local'};</script>\n",
              "        <script src=\"https://cdn.plot.ly/plotly-2.8.3.min.js\"></script>                <div id=\"dfcc1868-a39d-46c2-9b49-89938c4b67ee\" class=\"plotly-graph-div\" style=\"height:525px; width:100%;\"></div>            <script type=\"text/javascript\">                                    window.PLOTLYENV=window.PLOTLYENV || {};                                    if (document.getElementById(\"dfcc1868-a39d-46c2-9b49-89938c4b67ee\")) {                    Plotly.newPlot(                        \"dfcc1868-a39d-46c2-9b49-89938c4b67ee\",                        [{\"hovertemplate\":\"x=%{x}<br>y=%{y}<br>text=%{text}<extra></extra>\",\"legendgroup\":\"\",\"marker\":{\"color\":\"#636efa\",\"symbol\":\"circle\"},\"mode\":\"markers+text\",\"name\":\"\",\"orientation\":\"v\",\"showlegend\":false,\"text\":[\"the\",\"\\u201d\",\"and\",\"to\",\"a\",\"harry\",\"he\",\"of\",\"was\",\"it\",\"in\",\"his\",\"\\u2014\",\"you\",\"said\",\"had\",\"on\",\"at\",\"they\",\"that\",\"as\",\"him\",\"i\",\"potter\",\"but\",\"stone\",\"with\",\"ron\",\"all\",\"out\",\"up\",\"for\",\"be\",\"k\",\"page\",\"philosophers\",\"j\",\"rowling\",\"hagrid\",\"them\",\"were\",\"have\",\"what\",\"there\",\"back\",\"hermione\",\"one\",\"from\",\"this\",\"not\",\"if\",\"she\",\"about\",\"into\",\"their\",\"me\",\"know\",\"been\",\"so\",\"off\",\"didn\\u2019t\",\"could\",\"like\",\"got\",\"get\",\"down\",\"\\u201ci\",\"her\",\"when\",\"who\",\"over\",\"looked\",\"professor\",\"see\",\"just\",\"very\",\"is\",\"then\",\"no\",\"do\",\"by\",\"your\",\"snape\",\"are\",\"now\",\"around\",\"dumbledore\",\"he\\u2019d\",\"going\",\"something\",\"an\",\"through\",\"think\",\"we\",\"go\",\"uncle\",\"time\",\"right\",\"never\",\"don\\u2019t\",\"dudley\",\"look\",\"first\",\"how\",\"harry\\u2019s\",\"looking\",\"here\",\"more\",\"malfoy\",\"before\",\"it\\u2019s\",\"only\",\"or\",\"would\",\"eyes\",\"door\",\"even\",\"couldn\\u2019t\",\"vernon\",\"two\",\"too\",\"again\",\"head\",\"neville\",\"my\",\"thought\",\"next\",\"way\",\"mcgonagall\",\"yeh\",\"than\",\"face\",\"where\",\"people\",\"told\",\"did\",\"still\",\"room\",\"other\",\"quirrell\",\"though\",\"will\",\"last\",\"because\",\"which\",\"its\",\"boy\",\"left\",\"an\\u2019\",\"come\",\"us\",\"gryffindor\",\"mr\",\"\\u201cyou\",\"behind\",\"some\",\"ter\",\"house\",\"turned\",\"much\",\"wasn\\u2019t\",\"hogwarts\",\"came\",\"heard\",\"can\",\"i\\u2019m\",\"three\",\"once\",\"say\",\"seemed\",\"anything\",\"good\",\"away\",\"toward\",\"went\",\"long\",\"really\",\"want\",\"little\",\"well\",\"great\",\"suddenly\",\"hand\",\"found\",\"tell\",\"bit\",\"made\",\"after\",\"school\",\"himself\",\"trying\",\"aunt\",\"any\",\"tried\",\"saw\",\"\\u201cwhat\",\"wand\",\"knew\",\"dark\",\"\\u201cbut\",\"put\",\"while\",\"day\",\"old\",\"voice\",\"inside\",\"asked\",\"took\",\"that\\u2019s\",\"let\",\"petunia\",\"take\",\"quidditch\",\"cloak\",\"open\",\"ever\",\"black\",\"can\\u2019t\",\"must\",\"i\\u2019ve\",\"he\\u2019s\",\"yer\",\"few\",\"\\u201coh\",\"dursley\",\"hadn\\u2019t\",\"things\",\"find\",\"seen\",\"floor\",\"might\",\"another\",\"pulled\",\"front\",\"keep\",\"wood\",\"large\",\"years\",\"every\",\"feet\",\"gone\",\"\\u201cwell\",\"make\",\"end\",\"started\",\"hall\",\"felt\",\"filch\",\"nothing\",\"mind\",\"lot\",\"thing\",\"wouldn\\u2019t\",\"everyone\",\"\\u201ci\\u2019m\",\"magic\",\"almost\",\"\\u201cand\",\"enough\",\"air\",\"moment\",\"slytherin\",\"weasley\",\"mirror\",\"fell\",\"why\",\"walked\",\"night\",\"\\u201cit\\u2019s\",\"letter\",\"wanted\",\"high\",\"sat\",\"until\",\"bed\",\"course\",\"table\",\"mrs\",\"called\",\"owl\",\"past\",\"saying\",\"done\",\"points\",\"later\",\"name\",\"sure\",\"quickly\",\"you\\u2019re\",\"already\",\"second\",\"read\",\"books\",\"dursleys\",\"our\",\"\\u201cthe\",\"should\",\"without\",\"wizard\",\"\\u201cno\"],\"x\":[-37.75307083129883,17.807737350463867,-11.438825607299805,20.12770652770996,-29.957780838012695,16.362266540527344,19.11998748779297,-34.22193145751953,14.513182640075684,12.806713104248047,-19.43964385986328,-31.94654655456543,18.230558395385742,28.07560920715332,15.337251663208008,26.161602020263672,-27.000492095947266,-21.019866943359375,-16.717885971069336,11.753911972045898,-1.1153080463409424,0.23175324499607086,28.202991485595703,4.263285160064697,21.277446746826172,-32.91762924194336,-26.24262809753418,17.777952194213867,13.227230072021484,-22.0632266998291,-27.0621395111084,-11.276573181152344,29.58016014099121,-33.53630065917969,-33.332176208496094,-33.47945785522461,-33.4641227722168,-33.70355224609375,20.010086059570312,-0.12671205401420593,7.509701728820801,24.62386131286621,29.31743621826172,7.9221625328063965,-26.603561401367188,17.91879653930664,-11.430868148803711,-35.574398040771484,-0.31972387433052063,22.666318893432617,31.002649307250977,19.05983543395996,14.371031761169434,-35.205833435058594,-30.110807418823242,25.21234130859375,32.598934173583984,30.876480102539062,11.558402061462402,-24.893590927124023,37.77894592285156,35.41049575805664,-17.28009033203125,34.91348648071289,38.87105178833008,-32.669715881347656,30.606876373291016,-33.01747512817383,10.442496299743652,11.60680866241455,-32.83113098144531,-2.551151990890503,24.777008056640625,35.4147834777832,11.983912467956543,-23.72297477722168,24.10395050048828,-7.8548407554626465,9.242979049682617,29.63799285888672,-25.58434295654297,29.75489044189453,21.052589416503906,26.58832550048828,9.2906494140625,-36.62004470825195,21.737730026245117,26.128307342529297,21.46338653564453,10.361946105957031,-30.709964752197266,-35.48208999633789,29.871177673339844,28.212690353393555,33.20619201660156,5.928018093109131,1.6142747402191162,19.652084350585938,32.97386932373047,31.227447509765625,-2.218245029449463,19.23084831237793,-2.422011137008667,30.43110466003418,-31.892772674560547,-0.20091980695724487,15.70406436920166,3.104912281036377,10.81554126739502,22.891550064086914,16.616464614868164,9.347622871398926,17.68316650390625,37.44160079956055,-15.957870483398438,-27.549232482910156,14.438803672790527,37.71342849731445,6.767233848571777,-12.043329238891602,11.813004493713379,9.54394817352295,-14.162498474121094,17.57954216003418,29.744586944580078,14.529973030090332,-38.683380126953125,-16.13295555114746,23.36825180053711,29.62499237060547,4.658562183380127,-13.11841106414795,11.264484405517578,-9.107686042785645,39.59069061279297,33.20016860961914,3.896291494369507,-34.49995040893555,-13.543429374694824,22.08251953125,6.1400146484375,35.33289337158203,-14.687729835510254,21.279794692993164,-27.083377838134766,-31.80851173400879,14.889219284057617,0.7875227332115173,26.34270668029785,31.1291561126709,25.83919906616211,-7.121133804321289,6.822614669799805,30.463804244995117,-36.96411895751953,-8.431286811828613,33.98576736450195,-5.838840484619141,-13.263581275939941,10.317004203796387,14.51803207397461,6.7394819259643555,-20.614601135253906,36.38863754272461,34.77433776855469,14.893543243408203,-14.597540855407715,2.0944089889526367,31.971813201904297,19.62095832824707,31.61414337158203,12.932530403137207,-14.104081153869629,-34.937530517578125,-22.4482364654541,-24.03290557861328,21.813392639160156,36.474815368652344,-22.704113006591797,22.496337890625,-20.390180587768555,-3.207256555557251,-17.753202438354492,30.526681900024414,37.9298210144043,0.8824671506881714,4.638274669647217,-20.864686965942383,-2.02908992767334,1.1396464109420776,20.763099670410156,6.046996116638184,21.67616081237793,27.09848403930664,-3.4711647033691406,26.17601776123047,-13.594833374023438,33.715576171875,-37.32931900024414,24.777481079101562,4.643893241882324,2.902153730392456,3.981598138809204,-13.442373275756836,-10.114676475524902,-34.02645492553711,14.592806816101074,-17.66966438293457,17.21541976928711,31.342382431030273,5.645718574523926,35.50456619262695,-2.5501747131347656,-16.852123260498047,-8.594964027404785,33.96128845214844,-26.357027053833008,34.26070022583008,37.08074951171875,27.291086196899414,14.901497840881348,26.401107788085938,-13.203700065612793,22.394916534423828,4.388768672943115,24.915813446044922,-8.492144584655762,38.568782806396484,31.815418243408203,-24.959768295288086,37.03078842163086,-1.8198904991149902,-15.738986015319824,-27.214683532714844,36.06882095336914,16.11844825744629,-26.52166175842285,-6.253992080688477,2.947420358657837,-19.389158248901367,28.901905059814453,21.11282730102539,38.32721710205078,-29.046863555908203,-4.8261308670043945,-30.712682723999023,6.706641674041748,17.42266273498535,10.648270606994629,1.9985061883926392,0.7959210872650146,6.067798137664795,36.9905891418457,10.333574295043945,15.597212791442871,-2.6014530658721924,-8.604375839233398,25.028879165649414,18.935102462768555,-36.01033401489258,2.611337184906006,-3.1982502937316895,9.023014068603516,23.641437530517578,-24.01772689819336,25.97391700744629,-20.514877319335938,21.801790237426758,14.457010269165039,1.1326009035110474,32.983070373535156,-34.33753204345703,-21.943313598632812,2.4588334560394287,-27.01646614074707,20.208242416381836,-28.126976013183594,6.741497993469238,14.212443351745605,-19.85078239440918,-27.529808044433594,9.940690994262695,29.64482879638672,-7.617618560791016,-7.181288719177246,5.441751003265381,14.651015281677246,0.24928228557109833,15.070570945739746,32.597496032714844,-16.642467498779297,33.23283004760742,-13.522074699401855,5.0094475746154785,20.173227310180664,-3.4504451751708984,35.874935150146484,-10.950812339782715,-0.6277127265930176,22.310916900634766],\"xaxis\":\"x\",\"y\":[8.884851455688477,7.079277992248535,15.173489570617676,0.20451420545578003,-0.8335710763931274,14.449109077453613,20.34123420715332,4.570911407470703,27.087322235107422,-8.093696594238281,-10.695826530456543,-5.709077835083008,-29.753437042236328,-23.672080993652344,16.427387237548828,4.4421305656433105,-7.958796501159668,-17.803964614868164,-22.497434616088867,-14.446537971496582,21.683399200439453,10.211135864257812,-21.5008602142334,24.420696258544922,4.203588962554932,29.819650650024414,4.533604621887207,15.327911376953125,-4.803739547729492,6.172921657562256,30.446136474609375,-26.155120849609375,-10.575759887695312,29.72471046447754,29.771785736083984,29.761625289916992,29.75211524963379,29.678482055664062,16.716684341430664,10.341093063354492,-26.23997688293457,-3.531871795654297,-22.343706130981445,-14.989460945129395,29.114761352539062,15.717504501342773,-14.552809715270996,-0.8537428379058838,-15.090253829956055,-24.185087203979492,-22.286712646484375,20.247600555419922,-25.09506607055664,22.03629493713379,-3.4723966121673584,-16.01720428466797,-28.14126205444336,2.0070691108703613,-12.531646728515625,31.20374298095703,-25.6370906829834,-25.173538208007812,-18.225196838378906,-1.066609501838684,-7.707197189331055,23.839046478271484,-32.10600662231445,-4.899596691131592,24.987476348876953,-26.995372772216797,22.7745361328125,27.571279525756836,12.841992378234863,-13.158845901489258,-8.543241500854492,-12.789740562438965,-27.090932846069336,18.804027557373047,-13.687658309936523,-12.524197578430176,-8.92362117767334,10.023018836975098,17.018814086914062,-35.190040588378906,-6.01658296585083,1.4551410675048828,14.468499183654785,2.1541171073913574,-7.792978763580322,-24.01132583618164,34.29722595214844,22.76003646850586,-28.468963623046875,-23.79031753540039,-7.5426154136657715,16.90184783935547,-18.86005973815918,7.410216808319092,-0.09409543871879578,-24.513526916503906,13.179015159606934,3.1009976863861084,-20.294862747192383,-15.784772872924805,-5.7084760665893555,26.2498722076416,-2.5846505165100098,-21.714628219604492,21.17404556274414,1.6673561334609985,-32.957763671875,-13.845921516418457,-15.387487411499023,-23.595182418823242,10.7615385055542,25.583147048950195,-16.891237258911133,-25.625547409057617,19.968393325805664,38.0826530456543,-12.557987213134766,6.9574761390686035,13.464008331298828,15.484107971191406,10.006519317626953,-21.545957565307617,4.486922740936279,1.5216933488845825,16.029312133789062,-19.91133689880371,-19.453580856323242,13.167738914489746,-26.715927124023438,-14.618197441101074,-14.451764106750488,-23.165300369262695,-8.046622276306152,18.13201141357422,37.11368942260742,15.939510345458984,-4.633108615875244,-21.43569564819336,-5.552684307098389,4.15543270111084,-4.264164924621582,-5.180020332336426,11.198521614074707,22.8482666015625,-18.270017623901367,-8.39887523651123,-15.728850364685059,0.9810082316398621,23.767797470092773,-31.919198989868164,2.732227087020874,-18.979026794433594,-19.843538284301758,-21.484270095825195,23.96938705444336,-19.88912010192871,27.082305908203125,0.7324890494346619,20.95810317993164,-3.561995267868042,-24.907241821289062,-33.412445068359375,34.656700134277344,13.214616775512695,-14.767669677734375,-9.541508674621582,-16.69849967956543,-20.205591201782227,15.728933334350586,23.385425567626953,28.493837356567383,0.6847750544548035,-23.245140075683594,-18.594764709472656,-1.665884017944336,-25.475936889648438,-6.30787467956543,17.721464157104492,13.981732368469238,-1.5319187641143799,-12.207789421081543,-26.703237533569336,12.774707794189453,-17.758426666259766,-18.020946502685547,9.111828804016113,1.1914273500442505,19.503931045532227,-14.556890487670898,-4.612175941467285,22.64324951171875,-25.24958610534668,11.088772773742676,-3.7397336959838867,7.282761096954346,-28.47298812866211,2.4138190746307373,17.27806282043457,30.228235244750977,-15.230281829833984,9.610751152038574,1.7035316228866577,16.990764617919922,23.184419631958008,-32.880794525146484,-6.685817718505859,16.99294662475586,-11.119343757629395,-16.59174156188965,21.5300235748291,27.064109802246094,1.5329786539077759,2.9571821689605713,-24.747661590576172,-23.233888626098633,-0.9146814346313477,-31.996423721313477,-17.47850799560547,-17.686668395996094,-29.377941131591797,23.090709686279297,4.489160060882568,-23.09270477294922,-8.155206680297852,1.3146967887878418,27.41056251525879,-22.800025939941406,-14.238892555236816,26.84125328063965,22.351490020751953,-8.734761238098145,9.095362663269043,1.8234467506408691,34.81377410888672,-17.906404495239258,13.293632507324219,2.386331796646118,-31.345788955688477,-8.13524341583252,17.136411666870117,16.441343307495117,18.576793670654297,27.522268295288086,-5.32373571395874,-23.011632919311523,-3.5617153644561768,-26.489410400390625,-22.39496421813965,-24.41408920288086,-23.5595703125,-30.093490600585938,-28.369691848754883,23.474056243896484,-29.833629608154297,-14.98636531829834,15.669926643371582,14.787544250488281,-14.530731201171875,0.1594213992357254,-6.067998886108398,25.105562210083008,-22.727230072021484,28.984760284423828,-2.2458417415618896,-29.590431213378906,-0.6173701882362366,-18.617868423461914,13.784547805786133,29.9310245513916,-9.53696346282959,27.921716690063477,-33.686588287353516,20.25958251953125,23.745248794555664,7.324304580688477,-13.807716369628906,-9.138412475585938,-11.389777183532715,1.367330551147461,36.43255615234375,4.12916374206543,-30.1168270111084,-13.587584495544434,17.05887222290039,-32.94626998901367,3.8068511486053467,-10.030288696289062,-4.9420084953308105,-13.00037956237793,-15.058182716369629,-11.590615272521973,6.242713451385498,-23.590309143066406,-26.142663955688477,-23.16695785522461,-32.27908706665039],\"yaxis\":\"y\",\"type\":\"scatter\"}],                        {\"template\":{\"data\":{\"bar\":[{\"error_x\":{\"color\":\"#2a3f5f\"},\"error_y\":{\"color\":\"#2a3f5f\"},\"marker\":{\"line\":{\"color\":\"#E5ECF6\",\"width\":0.5},\"pattern\":{\"fillmode\":\"overlay\",\"size\":10,\"solidity\":0.2}},\"type\":\"bar\"}],\"barpolar\":[{\"marker\":{\"line\":{\"color\":\"#E5ECF6\",\"width\":0.5},\"pattern\":{\"fillmode\":\"overlay\",\"size\":10,\"solidity\":0.2}},\"type\":\"barpolar\"}],\"carpet\":[{\"aaxis\":{\"endlinecolor\":\"#2a3f5f\",\"gridcolor\":\"white\",\"linecolor\":\"white\",\"minorgridcolor\":\"white\",\"startlinecolor\":\"#2a3f5f\"},\"baxis\":{\"endlinecolor\":\"#2a3f5f\",\"gridcolor\":\"white\",\"linecolor\":\"white\",\"minorgridcolor\":\"white\",\"startlinecolor\":\"#2a3f5f\"},\"type\":\"carpet\"}],\"choropleth\":[{\"colorbar\":{\"outlinewidth\":0,\"ticks\":\"\"},\"type\":\"choropleth\"}],\"contour\":[{\"colorbar\":{\"outlinewidth\":0,\"ticks\":\"\"},\"colorscale\":[[0.0,\"#0d0887\"],[0.1111111111111111,\"#46039f\"],[0.2222222222222222,\"#7201a8\"],[0.3333333333333333,\"#9c179e\"],[0.4444444444444444,\"#bd3786\"],[0.5555555555555556,\"#d8576b\"],[0.6666666666666666,\"#ed7953\"],[0.7777777777777778,\"#fb9f3a\"],[0.8888888888888888,\"#fdca26\"],[1.0,\"#f0f921\"]],\"type\":\"contour\"}],\"contourcarpet\":[{\"colorbar\":{\"outlinewidth\":0,\"ticks\":\"\"},\"type\":\"contourcarpet\"}],\"heatmap\":[{\"colorbar\":{\"outlinewidth\":0,\"ticks\":\"\"},\"colorscale\":[[0.0,\"#0d0887\"],[0.1111111111111111,\"#46039f\"],[0.2222222222222222,\"#7201a8\"],[0.3333333333333333,\"#9c179e\"],[0.4444444444444444,\"#bd3786\"],[0.5555555555555556,\"#d8576b\"],[0.6666666666666666,\"#ed7953\"],[0.7777777777777778,\"#fb9f3a\"],[0.8888888888888888,\"#fdca26\"],[1.0,\"#f0f921\"]],\"type\":\"heatmap\"}],\"heatmapgl\":[{\"colorbar\":{\"outlinewidth\":0,\"ticks\":\"\"},\"colorscale\":[[0.0,\"#0d0887\"],[0.1111111111111111,\"#46039f\"],[0.2222222222222222,\"#7201a8\"],[0.3333333333333333,\"#9c179e\"],[0.4444444444444444,\"#bd3786\"],[0.5555555555555556,\"#d8576b\"],[0.6666666666666666,\"#ed7953\"],[0.7777777777777778,\"#fb9f3a\"],[0.8888888888888888,\"#fdca26\"],[1.0,\"#f0f921\"]],\"type\":\"heatmapgl\"}],\"histogram\":[{\"marker\":{\"pattern\":{\"fillmode\":\"overlay\",\"size\":10,\"solidity\":0.2}},\"type\":\"histogram\"}],\"histogram2d\":[{\"colorbar\":{\"outlinewidth\":0,\"ticks\":\"\"},\"colorscale\":[[0.0,\"#0d0887\"],[0.1111111111111111,\"#46039f\"],[0.2222222222222222,\"#7201a8\"],[0.3333333333333333,\"#9c179e\"],[0.4444444444444444,\"#bd3786\"],[0.5555555555555556,\"#d8576b\"],[0.6666666666666666,\"#ed7953\"],[0.7777777777777778,\"#fb9f3a\"],[0.8888888888888888,\"#fdca26\"],[1.0,\"#f0f921\"]],\"type\":\"histogram2d\"}],\"histogram2dcontour\":[{\"colorbar\":{\"outlinewidth\":0,\"ticks\":\"\"},\"colorscale\":[[0.0,\"#0d0887\"],[0.1111111111111111,\"#46039f\"],[0.2222222222222222,\"#7201a8\"],[0.3333333333333333,\"#9c179e\"],[0.4444444444444444,\"#bd3786\"],[0.5555555555555556,\"#d8576b\"],[0.6666666666666666,\"#ed7953\"],[0.7777777777777778,\"#fb9f3a\"],[0.8888888888888888,\"#fdca26\"],[1.0,\"#f0f921\"]],\"type\":\"histogram2dcontour\"}],\"mesh3d\":[{\"colorbar\":{\"outlinewidth\":0,\"ticks\":\"\"},\"type\":\"mesh3d\"}],\"parcoords\":[{\"line\":{\"colorbar\":{\"outlinewidth\":0,\"ticks\":\"\"}},\"type\":\"parcoords\"}],\"pie\":[{\"automargin\":true,\"type\":\"pie\"}],\"scatter\":[{\"marker\":{\"colorbar\":{\"outlinewidth\":0,\"ticks\":\"\"}},\"type\":\"scatter\"}],\"scatter3d\":[{\"line\":{\"colorbar\":{\"outlinewidth\":0,\"ticks\":\"\"}},\"marker\":{\"colorbar\":{\"outlinewidth\":0,\"ticks\":\"\"}},\"type\":\"scatter3d\"}],\"scattercarpet\":[{\"marker\":{\"colorbar\":{\"outlinewidth\":0,\"ticks\":\"\"}},\"type\":\"scattercarpet\"}],\"scattergeo\":[{\"marker\":{\"colorbar\":{\"outlinewidth\":0,\"ticks\":\"\"}},\"type\":\"scattergeo\"}],\"scattergl\":[{\"marker\":{\"colorbar\":{\"outlinewidth\":0,\"ticks\":\"\"}},\"type\":\"scattergl\"}],\"scattermapbox\":[{\"marker\":{\"colorbar\":{\"outlinewidth\":0,\"ticks\":\"\"}},\"type\":\"scattermapbox\"}],\"scatterpolar\":[{\"marker\":{\"colorbar\":{\"outlinewidth\":0,\"ticks\":\"\"}},\"type\":\"scatterpolar\"}],\"scatterpolargl\":[{\"marker\":{\"colorbar\":{\"outlinewidth\":0,\"ticks\":\"\"}},\"type\":\"scatterpolargl\"}],\"scatterternary\":[{\"marker\":{\"colorbar\":{\"outlinewidth\":0,\"ticks\":\"\"}},\"type\":\"scatterternary\"}],\"surface\":[{\"colorbar\":{\"outlinewidth\":0,\"ticks\":\"\"},\"colorscale\":[[0.0,\"#0d0887\"],[0.1111111111111111,\"#46039f\"],[0.2222222222222222,\"#7201a8\"],[0.3333333333333333,\"#9c179e\"],[0.4444444444444444,\"#bd3786\"],[0.5555555555555556,\"#d8576b\"],[0.6666666666666666,\"#ed7953\"],[0.7777777777777778,\"#fb9f3a\"],[0.8888888888888888,\"#fdca26\"],[1.0,\"#f0f921\"]],\"type\":\"surface\"}],\"table\":[{\"cells\":{\"fill\":{\"color\":\"#EBF0F8\"},\"line\":{\"color\":\"white\"}},\"header\":{\"fill\":{\"color\":\"#C8D4E3\"},\"line\":{\"color\":\"white\"}},\"type\":\"table\"}]},\"layout\":{\"annotationdefaults\":{\"arrowcolor\":\"#2a3f5f\",\"arrowhead\":0,\"arrowwidth\":1},\"autotypenumbers\":\"strict\",\"coloraxis\":{\"colorbar\":{\"outlinewidth\":0,\"ticks\":\"\"}},\"colorscale\":{\"diverging\":[[0,\"#8e0152\"],[0.1,\"#c51b7d\"],[0.2,\"#de77ae\"],[0.3,\"#f1b6da\"],[0.4,\"#fde0ef\"],[0.5,\"#f7f7f7\"],[0.6,\"#e6f5d0\"],[0.7,\"#b8e186\"],[0.8,\"#7fbc41\"],[0.9,\"#4d9221\"],[1,\"#276419\"]],\"sequential\":[[0.0,\"#0d0887\"],[0.1111111111111111,\"#46039f\"],[0.2222222222222222,\"#7201a8\"],[0.3333333333333333,\"#9c179e\"],[0.4444444444444444,\"#bd3786\"],[0.5555555555555556,\"#d8576b\"],[0.6666666666666666,\"#ed7953\"],[0.7777777777777778,\"#fb9f3a\"],[0.8888888888888888,\"#fdca26\"],[1.0,\"#f0f921\"]],\"sequentialminus\":[[0.0,\"#0d0887\"],[0.1111111111111111,\"#46039f\"],[0.2222222222222222,\"#7201a8\"],[0.3333333333333333,\"#9c179e\"],[0.4444444444444444,\"#bd3786\"],[0.5555555555555556,\"#d8576b\"],[0.6666666666666666,\"#ed7953\"],[0.7777777777777778,\"#fb9f3a\"],[0.8888888888888888,\"#fdca26\"],[1.0,\"#f0f921\"]]},\"colorway\":[\"#636efa\",\"#EF553B\",\"#00cc96\",\"#ab63fa\",\"#FFA15A\",\"#19d3f3\",\"#FF6692\",\"#B6E880\",\"#FF97FF\",\"#FECB52\"],\"font\":{\"color\":\"#2a3f5f\"},\"geo\":{\"bgcolor\":\"white\",\"lakecolor\":\"white\",\"landcolor\":\"#E5ECF6\",\"showlakes\":true,\"showland\":true,\"subunitcolor\":\"white\"},\"hoverlabel\":{\"align\":\"left\"},\"hovermode\":\"closest\",\"mapbox\":{\"style\":\"light\"},\"paper_bgcolor\":\"white\",\"plot_bgcolor\":\"#E5ECF6\",\"polar\":{\"angularaxis\":{\"gridcolor\":\"white\",\"linecolor\":\"white\",\"ticks\":\"\"},\"bgcolor\":\"#E5ECF6\",\"radialaxis\":{\"gridcolor\":\"white\",\"linecolor\":\"white\",\"ticks\":\"\"}},\"scene\":{\"xaxis\":{\"backgroundcolor\":\"#E5ECF6\",\"gridcolor\":\"white\",\"gridwidth\":2,\"linecolor\":\"white\",\"showbackground\":true,\"ticks\":\"\",\"zerolinecolor\":\"white\"},\"yaxis\":{\"backgroundcolor\":\"#E5ECF6\",\"gridcolor\":\"white\",\"gridwidth\":2,\"linecolor\":\"white\",\"showbackground\":true,\"ticks\":\"\",\"zerolinecolor\":\"white\"},\"zaxis\":{\"backgroundcolor\":\"#E5ECF6\",\"gridcolor\":\"white\",\"gridwidth\":2,\"linecolor\":\"white\",\"showbackground\":true,\"ticks\":\"\",\"zerolinecolor\":\"white\"}},\"shapedefaults\":{\"line\":{\"color\":\"#2a3f5f\"}},\"ternary\":{\"aaxis\":{\"gridcolor\":\"white\",\"linecolor\":\"white\",\"ticks\":\"\"},\"baxis\":{\"gridcolor\":\"white\",\"linecolor\":\"white\",\"ticks\":\"\"},\"bgcolor\":\"#E5ECF6\",\"caxis\":{\"gridcolor\":\"white\",\"linecolor\":\"white\",\"ticks\":\"\"}},\"title\":{\"x\":0.05},\"xaxis\":{\"automargin\":true,\"gridcolor\":\"white\",\"linecolor\":\"white\",\"ticks\":\"\",\"title\":{\"standoff\":15},\"zerolinecolor\":\"white\",\"zerolinewidth\":2},\"yaxis\":{\"automargin\":true,\"gridcolor\":\"white\",\"linecolor\":\"white\",\"ticks\":\"\",\"title\":{\"standoff\":15},\"zerolinecolor\":\"white\",\"zerolinewidth\":2}}},\"xaxis\":{\"anchor\":\"y\",\"domain\":[0.0,1.0],\"title\":{\"text\":\"x\"}},\"yaxis\":{\"anchor\":\"x\",\"domain\":[0.0,1.0],\"title\":{\"text\":\"y\"}},\"legend\":{\"tracegroupgap\":0},\"margin\":{\"t\":60}},                        {\"responsive\": true}                    ).then(function(){\n",
              "                            \n",
              "var gd = document.getElementById('dfcc1868-a39d-46c2-9b49-89938c4b67ee');\n",
              "var x = new MutationObserver(function (mutations, observer) {{\n",
              "        var display = window.getComputedStyle(gd).display;\n",
              "        if (!display || display === 'none') {{\n",
              "            console.log([gd, 'removed!']);\n",
              "            Plotly.purge(gd);\n",
              "            observer.disconnect();\n",
              "        }}\n",
              "}});\n",
              "\n",
              "// Listen for the removal of the full notebook cells\n",
              "var notebookContainer = gd.closest('#notebook-container');\n",
              "if (notebookContainer) {{\n",
              "    x.observe(notebookContainer, {childList: true});\n",
              "}}\n",
              "\n",
              "// Listen for the clearing of the current output cell\n",
              "var outputEl = gd.closest('.output');\n",
              "if (outputEl) {{\n",
              "    x.observe(outputEl, {childList: true});\n",
              "}}\n",
              "\n",
              "                        })                };                            </script>        </div>\n",
              "</body>\n",
              "</html>"
            ]
          },
          "metadata": {}
        }
      ]
    },
    {
      "cell_type": "code",
      "source": [
        "# Graficar una zona para que se vea de mayor tamaño y los términos más claramente.\n",
        "x_selected=[]\n",
        "y_selected=[]\n",
        "labels_selected=[]\n",
        "\n",
        "for i, value_x in enumerate (x_vals[:MAX_WORDS]):\n",
        "    if value_x>=16 and value_x<=25 and y_vals[i]>=10 and y_vals[i]<=20:\n",
        "      x_selected.append(value_x)\n",
        "      y_selected.append(y_vals[i])\n",
        "      labels_selected.append(labels[i])\n",
        "\n",
        "fig = px.scatter(x=x_selected, y=y_selected, text=labels_selected)\n",
        "fig.show(renderer=\"colab\") # Esto para plotly en Colab."
      ],
      "metadata": {
        "colab": {
          "base_uri": "https://localhost:8080/",
          "height": 542
        },
        "id": "TQuVp_P3_izA",
        "outputId": "5aa4f731-516e-4b29-8b05-0a5e1bd49f54"
      },
      "execution_count": 50,
      "outputs": [
        {
          "output_type": "display_data",
          "data": {
            "text/html": [
              "<html>\n",
              "<head><meta charset=\"utf-8\" /></head>\n",
              "<body>\n",
              "    <div>            <script src=\"https://cdnjs.cloudflare.com/ajax/libs/mathjax/2.7.5/MathJax.js?config=TeX-AMS-MML_SVG\"></script><script type=\"text/javascript\">if (window.MathJax) {MathJax.Hub.Config({SVG: {font: \"STIX-Web\"}});}</script>                <script type=\"text/javascript\">window.PlotlyConfig = {MathJaxConfig: 'local'};</script>\n",
              "        <script src=\"https://cdn.plot.ly/plotly-2.8.3.min.js\"></script>                <div id=\"fc17d145-618a-4e57-b477-062618b5ec59\" class=\"plotly-graph-div\" style=\"height:525px; width:100%;\"></div>            <script type=\"text/javascript\">                                    window.PLOTLYENV=window.PLOTLYENV || {};                                    if (document.getElementById(\"fc17d145-618a-4e57-b477-062618b5ec59\")) {                    Plotly.newPlot(                        \"fc17d145-618a-4e57-b477-062618b5ec59\",                        [{\"hovertemplate\":\"x=%{x}<br>y=%{y}<br>text=%{text}<extra></extra>\",\"legendgroup\":\"\",\"marker\":{\"color\":\"#636efa\",\"symbol\":\"circle\"},\"mode\":\"markers+text\",\"name\":\"\",\"orientation\":\"v\",\"showlegend\":false,\"text\":[\"harry\",\"ron\",\"hagrid\",\"hermione\",\"professor\",\"snape\",\"dumbledore\",\"neville\",\"mcgonagall\",\"quirrell\"],\"x\":[16.362266540527344,17.777952194213867,20.010086059570312,17.91879653930664,24.777008056640625,21.052589416503906,21.737730026245117,17.57954216003418,23.36825180053711,22.08251953125],\"xaxis\":\"x\",\"y\":[14.449109077453613,15.327911376953125,16.716684341430664,15.717504501342773,12.841992378234863,17.018814086914062,14.468499183654785,15.484107971191406,16.029312133789062,15.939510345458984],\"yaxis\":\"y\",\"type\":\"scatter\"}],                        {\"template\":{\"data\":{\"bar\":[{\"error_x\":{\"color\":\"#2a3f5f\"},\"error_y\":{\"color\":\"#2a3f5f\"},\"marker\":{\"line\":{\"color\":\"#E5ECF6\",\"width\":0.5},\"pattern\":{\"fillmode\":\"overlay\",\"size\":10,\"solidity\":0.2}},\"type\":\"bar\"}],\"barpolar\":[{\"marker\":{\"line\":{\"color\":\"#E5ECF6\",\"width\":0.5},\"pattern\":{\"fillmode\":\"overlay\",\"size\":10,\"solidity\":0.2}},\"type\":\"barpolar\"}],\"carpet\":[{\"aaxis\":{\"endlinecolor\":\"#2a3f5f\",\"gridcolor\":\"white\",\"linecolor\":\"white\",\"minorgridcolor\":\"white\",\"startlinecolor\":\"#2a3f5f\"},\"baxis\":{\"endlinecolor\":\"#2a3f5f\",\"gridcolor\":\"white\",\"linecolor\":\"white\",\"minorgridcolor\":\"white\",\"startlinecolor\":\"#2a3f5f\"},\"type\":\"carpet\"}],\"choropleth\":[{\"colorbar\":{\"outlinewidth\":0,\"ticks\":\"\"},\"type\":\"choropleth\"}],\"contour\":[{\"colorbar\":{\"outlinewidth\":0,\"ticks\":\"\"},\"colorscale\":[[0.0,\"#0d0887\"],[0.1111111111111111,\"#46039f\"],[0.2222222222222222,\"#7201a8\"],[0.3333333333333333,\"#9c179e\"],[0.4444444444444444,\"#bd3786\"],[0.5555555555555556,\"#d8576b\"],[0.6666666666666666,\"#ed7953\"],[0.7777777777777778,\"#fb9f3a\"],[0.8888888888888888,\"#fdca26\"],[1.0,\"#f0f921\"]],\"type\":\"contour\"}],\"contourcarpet\":[{\"colorbar\":{\"outlinewidth\":0,\"ticks\":\"\"},\"type\":\"contourcarpet\"}],\"heatmap\":[{\"colorbar\":{\"outlinewidth\":0,\"ticks\":\"\"},\"colorscale\":[[0.0,\"#0d0887\"],[0.1111111111111111,\"#46039f\"],[0.2222222222222222,\"#7201a8\"],[0.3333333333333333,\"#9c179e\"],[0.4444444444444444,\"#bd3786\"],[0.5555555555555556,\"#d8576b\"],[0.6666666666666666,\"#ed7953\"],[0.7777777777777778,\"#fb9f3a\"],[0.8888888888888888,\"#fdca26\"],[1.0,\"#f0f921\"]],\"type\":\"heatmap\"}],\"heatmapgl\":[{\"colorbar\":{\"outlinewidth\":0,\"ticks\":\"\"},\"colorscale\":[[0.0,\"#0d0887\"],[0.1111111111111111,\"#46039f\"],[0.2222222222222222,\"#7201a8\"],[0.3333333333333333,\"#9c179e\"],[0.4444444444444444,\"#bd3786\"],[0.5555555555555556,\"#d8576b\"],[0.6666666666666666,\"#ed7953\"],[0.7777777777777778,\"#fb9f3a\"],[0.8888888888888888,\"#fdca26\"],[1.0,\"#f0f921\"]],\"type\":\"heatmapgl\"}],\"histogram\":[{\"marker\":{\"pattern\":{\"fillmode\":\"overlay\",\"size\":10,\"solidity\":0.2}},\"type\":\"histogram\"}],\"histogram2d\":[{\"colorbar\":{\"outlinewidth\":0,\"ticks\":\"\"},\"colorscale\":[[0.0,\"#0d0887\"],[0.1111111111111111,\"#46039f\"],[0.2222222222222222,\"#7201a8\"],[0.3333333333333333,\"#9c179e\"],[0.4444444444444444,\"#bd3786\"],[0.5555555555555556,\"#d8576b\"],[0.6666666666666666,\"#ed7953\"],[0.7777777777777778,\"#fb9f3a\"],[0.8888888888888888,\"#fdca26\"],[1.0,\"#f0f921\"]],\"type\":\"histogram2d\"}],\"histogram2dcontour\":[{\"colorbar\":{\"outlinewidth\":0,\"ticks\":\"\"},\"colorscale\":[[0.0,\"#0d0887\"],[0.1111111111111111,\"#46039f\"],[0.2222222222222222,\"#7201a8\"],[0.3333333333333333,\"#9c179e\"],[0.4444444444444444,\"#bd3786\"],[0.5555555555555556,\"#d8576b\"],[0.6666666666666666,\"#ed7953\"],[0.7777777777777778,\"#fb9f3a\"],[0.8888888888888888,\"#fdca26\"],[1.0,\"#f0f921\"]],\"type\":\"histogram2dcontour\"}],\"mesh3d\":[{\"colorbar\":{\"outlinewidth\":0,\"ticks\":\"\"},\"type\":\"mesh3d\"}],\"parcoords\":[{\"line\":{\"colorbar\":{\"outlinewidth\":0,\"ticks\":\"\"}},\"type\":\"parcoords\"}],\"pie\":[{\"automargin\":true,\"type\":\"pie\"}],\"scatter\":[{\"marker\":{\"colorbar\":{\"outlinewidth\":0,\"ticks\":\"\"}},\"type\":\"scatter\"}],\"scatter3d\":[{\"line\":{\"colorbar\":{\"outlinewidth\":0,\"ticks\":\"\"}},\"marker\":{\"colorbar\":{\"outlinewidth\":0,\"ticks\":\"\"}},\"type\":\"scatter3d\"}],\"scattercarpet\":[{\"marker\":{\"colorbar\":{\"outlinewidth\":0,\"ticks\":\"\"}},\"type\":\"scattercarpet\"}],\"scattergeo\":[{\"marker\":{\"colorbar\":{\"outlinewidth\":0,\"ticks\":\"\"}},\"type\":\"scattergeo\"}],\"scattergl\":[{\"marker\":{\"colorbar\":{\"outlinewidth\":0,\"ticks\":\"\"}},\"type\":\"scattergl\"}],\"scattermapbox\":[{\"marker\":{\"colorbar\":{\"outlinewidth\":0,\"ticks\":\"\"}},\"type\":\"scattermapbox\"}],\"scatterpolar\":[{\"marker\":{\"colorbar\":{\"outlinewidth\":0,\"ticks\":\"\"}},\"type\":\"scatterpolar\"}],\"scatterpolargl\":[{\"marker\":{\"colorbar\":{\"outlinewidth\":0,\"ticks\":\"\"}},\"type\":\"scatterpolargl\"}],\"scatterternary\":[{\"marker\":{\"colorbar\":{\"outlinewidth\":0,\"ticks\":\"\"}},\"type\":\"scatterternary\"}],\"surface\":[{\"colorbar\":{\"outlinewidth\":0,\"ticks\":\"\"},\"colorscale\":[[0.0,\"#0d0887\"],[0.1111111111111111,\"#46039f\"],[0.2222222222222222,\"#7201a8\"],[0.3333333333333333,\"#9c179e\"],[0.4444444444444444,\"#bd3786\"],[0.5555555555555556,\"#d8576b\"],[0.6666666666666666,\"#ed7953\"],[0.7777777777777778,\"#fb9f3a\"],[0.8888888888888888,\"#fdca26\"],[1.0,\"#f0f921\"]],\"type\":\"surface\"}],\"table\":[{\"cells\":{\"fill\":{\"color\":\"#EBF0F8\"},\"line\":{\"color\":\"white\"}},\"header\":{\"fill\":{\"color\":\"#C8D4E3\"},\"line\":{\"color\":\"white\"}},\"type\":\"table\"}]},\"layout\":{\"annotationdefaults\":{\"arrowcolor\":\"#2a3f5f\",\"arrowhead\":0,\"arrowwidth\":1},\"autotypenumbers\":\"strict\",\"coloraxis\":{\"colorbar\":{\"outlinewidth\":0,\"ticks\":\"\"}},\"colorscale\":{\"diverging\":[[0,\"#8e0152\"],[0.1,\"#c51b7d\"],[0.2,\"#de77ae\"],[0.3,\"#f1b6da\"],[0.4,\"#fde0ef\"],[0.5,\"#f7f7f7\"],[0.6,\"#e6f5d0\"],[0.7,\"#b8e186\"],[0.8,\"#7fbc41\"],[0.9,\"#4d9221\"],[1,\"#276419\"]],\"sequential\":[[0.0,\"#0d0887\"],[0.1111111111111111,\"#46039f\"],[0.2222222222222222,\"#7201a8\"],[0.3333333333333333,\"#9c179e\"],[0.4444444444444444,\"#bd3786\"],[0.5555555555555556,\"#d8576b\"],[0.6666666666666666,\"#ed7953\"],[0.7777777777777778,\"#fb9f3a\"],[0.8888888888888888,\"#fdca26\"],[1.0,\"#f0f921\"]],\"sequentialminus\":[[0.0,\"#0d0887\"],[0.1111111111111111,\"#46039f\"],[0.2222222222222222,\"#7201a8\"],[0.3333333333333333,\"#9c179e\"],[0.4444444444444444,\"#bd3786\"],[0.5555555555555556,\"#d8576b\"],[0.6666666666666666,\"#ed7953\"],[0.7777777777777778,\"#fb9f3a\"],[0.8888888888888888,\"#fdca26\"],[1.0,\"#f0f921\"]]},\"colorway\":[\"#636efa\",\"#EF553B\",\"#00cc96\",\"#ab63fa\",\"#FFA15A\",\"#19d3f3\",\"#FF6692\",\"#B6E880\",\"#FF97FF\",\"#FECB52\"],\"font\":{\"color\":\"#2a3f5f\"},\"geo\":{\"bgcolor\":\"white\",\"lakecolor\":\"white\",\"landcolor\":\"#E5ECF6\",\"showlakes\":true,\"showland\":true,\"subunitcolor\":\"white\"},\"hoverlabel\":{\"align\":\"left\"},\"hovermode\":\"closest\",\"mapbox\":{\"style\":\"light\"},\"paper_bgcolor\":\"white\",\"plot_bgcolor\":\"#E5ECF6\",\"polar\":{\"angularaxis\":{\"gridcolor\":\"white\",\"linecolor\":\"white\",\"ticks\":\"\"},\"bgcolor\":\"#E5ECF6\",\"radialaxis\":{\"gridcolor\":\"white\",\"linecolor\":\"white\",\"ticks\":\"\"}},\"scene\":{\"xaxis\":{\"backgroundcolor\":\"#E5ECF6\",\"gridcolor\":\"white\",\"gridwidth\":2,\"linecolor\":\"white\",\"showbackground\":true,\"ticks\":\"\",\"zerolinecolor\":\"white\"},\"yaxis\":{\"backgroundcolor\":\"#E5ECF6\",\"gridcolor\":\"white\",\"gridwidth\":2,\"linecolor\":\"white\",\"showbackground\":true,\"ticks\":\"\",\"zerolinecolor\":\"white\"},\"zaxis\":{\"backgroundcolor\":\"#E5ECF6\",\"gridcolor\":\"white\",\"gridwidth\":2,\"linecolor\":\"white\",\"showbackground\":true,\"ticks\":\"\",\"zerolinecolor\":\"white\"}},\"shapedefaults\":{\"line\":{\"color\":\"#2a3f5f\"}},\"ternary\":{\"aaxis\":{\"gridcolor\":\"white\",\"linecolor\":\"white\",\"ticks\":\"\"},\"baxis\":{\"gridcolor\":\"white\",\"linecolor\":\"white\",\"ticks\":\"\"},\"bgcolor\":\"#E5ECF6\",\"caxis\":{\"gridcolor\":\"white\",\"linecolor\":\"white\",\"ticks\":\"\"}},\"title\":{\"x\":0.05},\"xaxis\":{\"automargin\":true,\"gridcolor\":\"white\",\"linecolor\":\"white\",\"ticks\":\"\",\"title\":{\"standoff\":15},\"zerolinecolor\":\"white\",\"zerolinewidth\":2},\"yaxis\":{\"automargin\":true,\"gridcolor\":\"white\",\"linecolor\":\"white\",\"ticks\":\"\",\"title\":{\"standoff\":15},\"zerolinecolor\":\"white\",\"zerolinewidth\":2}}},\"xaxis\":{\"anchor\":\"y\",\"domain\":[0.0,1.0],\"title\":{\"text\":\"x\"}},\"yaxis\":{\"anchor\":\"x\",\"domain\":[0.0,1.0],\"title\":{\"text\":\"y\"}},\"legend\":{\"tracegroupgap\":0},\"margin\":{\"t\":60}},                        {\"responsive\": true}                    ).then(function(){\n",
              "                            \n",
              "var gd = document.getElementById('fc17d145-618a-4e57-b477-062618b5ec59');\n",
              "var x = new MutationObserver(function (mutations, observer) {{\n",
              "        var display = window.getComputedStyle(gd).display;\n",
              "        if (!display || display === 'none') {{\n",
              "            console.log([gd, 'removed!']);\n",
              "            Plotly.purge(gd);\n",
              "            observer.disconnect();\n",
              "        }}\n",
              "}});\n",
              "\n",
              "// Listen for the removal of the full notebook cells\n",
              "var notebookContainer = gd.closest('#notebook-container');\n",
              "if (notebookContainer) {{\n",
              "    x.observe(notebookContainer, {childList: true});\n",
              "}}\n",
              "\n",
              "// Listen for the clearing of the current output cell\n",
              "var outputEl = gd.closest('.output');\n",
              "if (outputEl) {{\n",
              "    x.observe(outputEl, {childList: true});\n",
              "}}\n",
              "\n",
              "                        })                };                            </script>        </div>\n",
              "</body>\n",
              "</html>"
            ]
          },
          "metadata": {}
        }
      ]
    },
    {
      "cell_type": "markdown",
      "source": [
        "#### Conclusiones"
      ],
      "metadata": {
        "id": "6EseGnUJIkO4"
      }
    },
    {
      "cell_type": "markdown",
      "source": [
        "Se puede notar claramente como en la parte derecha agrupó los nombres de los profesores protagonistas del libro, y en la parte izquierda, la de los alumnos, más precisamente Harry y sus amigos. Hagrid, que es un profesor de mucha cercanía con sus alumnos en el libro, es a su vez el profesor más cercano a ellos en el gráfico.\n",
        "Por último, se observa como la palabra profesor se encuentra cerca de los nombres de los profesores."
      ],
      "metadata": {
        "id": "5hYNKnG4IFo7"
      }
    },
    {
      "cell_type": "markdown",
      "source": [
        "### CBOW ventana 2"
      ],
      "metadata": {
        "id": "3fwUl7SzKWEX"
      }
    },
    {
      "cell_type": "code",
      "metadata": {
        "colab": {
          "base_uri": "https://localhost:8080/",
          "height": 542
        },
        "outputId": "cd83d5f2-88c4-4404-d0d9-3092dfcc2455",
        "id": "nBkrHkkKKkaW"
      },
      "source": [
        "# Graficar los embedddings en 2D con T-SNE.\n",
        "import plotly.graph_objects as go\n",
        "import plotly.express as px\n",
        "\n",
        "x_vals, y_vals, labels = reduce_dimensions(w2v_model_CBOW)\n",
        "\n",
        "MAX_WORDS=300\n",
        "fig = px.scatter(x=x_vals[:MAX_WORDS], y=y_vals[:MAX_WORDS], text=labels[:MAX_WORDS])\n",
        "fig.show(renderer=\"colab\") # Esto para plotly en Colab."
      ],
      "execution_count": 60,
      "outputs": [
        {
          "output_type": "display_data",
          "data": {
            "text/html": [
              "<html>\n",
              "<head><meta charset=\"utf-8\" /></head>\n",
              "<body>\n",
              "    <div>            <script src=\"https://cdnjs.cloudflare.com/ajax/libs/mathjax/2.7.5/MathJax.js?config=TeX-AMS-MML_SVG\"></script><script type=\"text/javascript\">if (window.MathJax) {MathJax.Hub.Config({SVG: {font: \"STIX-Web\"}});}</script>                <script type=\"text/javascript\">window.PlotlyConfig = {MathJaxConfig: 'local'};</script>\n",
              "        <script src=\"https://cdn.plot.ly/plotly-2.8.3.min.js\"></script>                <div id=\"2efd6e7c-886e-414b-9115-b429bbfb77a7\" class=\"plotly-graph-div\" style=\"height:525px; width:100%;\"></div>            <script type=\"text/javascript\">                                    window.PLOTLYENV=window.PLOTLYENV || {};                                    if (document.getElementById(\"2efd6e7c-886e-414b-9115-b429bbfb77a7\")) {                    Plotly.newPlot(                        \"2efd6e7c-886e-414b-9115-b429bbfb77a7\",                        [{\"hovertemplate\":\"x=%{x}<br>y=%{y}<br>text=%{text}<extra></extra>\",\"legendgroup\":\"\",\"marker\":{\"color\":\"#636efa\",\"symbol\":\"circle\"},\"mode\":\"markers+text\",\"name\":\"\",\"orientation\":\"v\",\"showlegend\":false,\"text\":[\"the\",\"\\u201d\",\"and\",\"to\",\"a\",\"harry\",\"he\",\"of\",\"was\",\"it\",\"in\",\"his\",\"\\u2014\",\"you\",\"said\",\"had\",\"on\",\"at\",\"they\",\"that\",\"as\",\"him\",\"i\",\"potter\",\"but\",\"stone\",\"with\",\"ron\",\"all\",\"out\",\"up\",\"for\",\"be\",\"k\",\"page\",\"philosophers\",\"j\",\"rowling\",\"hagrid\",\"them\",\"were\",\"have\",\"what\",\"there\",\"back\",\"hermione\",\"one\",\"from\",\"this\",\"not\",\"if\",\"she\",\"about\",\"into\",\"their\",\"me\",\"know\",\"been\",\"so\",\"off\",\"didn\\u2019t\",\"could\",\"like\",\"got\",\"get\",\"down\",\"\\u201ci\",\"her\",\"when\",\"who\",\"over\",\"looked\",\"professor\",\"see\",\"just\",\"very\",\"is\",\"then\",\"no\",\"do\",\"by\",\"your\",\"snape\",\"are\",\"now\",\"around\",\"dumbledore\",\"he\\u2019d\",\"going\",\"something\",\"an\",\"through\",\"think\",\"we\",\"go\",\"uncle\",\"time\",\"right\",\"never\",\"don\\u2019t\",\"dudley\",\"look\",\"first\",\"how\",\"harry\\u2019s\",\"looking\",\"here\",\"more\",\"malfoy\",\"before\",\"it\\u2019s\",\"only\",\"or\",\"would\",\"eyes\",\"door\",\"even\",\"couldn\\u2019t\",\"vernon\",\"two\",\"too\",\"again\",\"head\",\"neville\",\"my\",\"thought\",\"next\",\"way\",\"mcgonagall\",\"yeh\",\"than\",\"face\",\"where\",\"people\",\"told\",\"did\",\"still\",\"room\",\"other\",\"quirrell\",\"though\",\"will\",\"last\",\"because\",\"which\",\"its\",\"boy\",\"left\",\"an\\u2019\",\"come\",\"us\",\"gryffindor\",\"mr\",\"\\u201cyou\",\"behind\",\"some\",\"ter\",\"house\",\"turned\",\"much\",\"wasn\\u2019t\",\"hogwarts\",\"came\",\"heard\",\"can\",\"i\\u2019m\",\"three\",\"once\",\"say\",\"seemed\",\"anything\",\"good\",\"away\",\"toward\",\"went\",\"long\",\"really\",\"want\",\"little\",\"well\",\"great\",\"suddenly\",\"hand\",\"found\",\"tell\",\"bit\",\"made\",\"after\",\"school\",\"himself\",\"trying\",\"aunt\",\"any\",\"tried\",\"saw\",\"\\u201cwhat\",\"wand\",\"knew\",\"dark\",\"\\u201cbut\",\"put\",\"while\",\"day\",\"old\",\"voice\",\"inside\",\"asked\",\"took\",\"that\\u2019s\",\"let\",\"petunia\",\"take\",\"quidditch\",\"cloak\",\"open\",\"ever\",\"black\",\"can\\u2019t\",\"must\",\"i\\u2019ve\",\"he\\u2019s\",\"yer\",\"few\",\"\\u201coh\",\"dursley\",\"hadn\\u2019t\",\"things\",\"find\",\"seen\",\"floor\",\"might\",\"another\",\"pulled\",\"front\",\"keep\",\"wood\",\"large\",\"years\",\"every\",\"feet\",\"gone\",\"\\u201cwell\",\"make\",\"end\",\"started\",\"hall\",\"felt\",\"filch\",\"nothing\",\"mind\",\"lot\",\"thing\",\"wouldn\\u2019t\",\"everyone\",\"\\u201ci\\u2019m\",\"magic\",\"almost\",\"\\u201cand\",\"enough\",\"air\",\"moment\",\"slytherin\",\"weasley\",\"mirror\",\"fell\",\"why\",\"walked\",\"night\",\"\\u201cit\\u2019s\",\"letter\",\"wanted\",\"high\",\"sat\",\"until\",\"bed\",\"course\",\"table\",\"mrs\",\"called\",\"owl\",\"past\",\"saying\",\"done\",\"points\",\"later\",\"name\",\"sure\",\"quickly\",\"you\\u2019re\",\"already\",\"second\",\"read\",\"books\",\"dursleys\",\"our\",\"\\u201cthe\",\"should\",\"without\",\"wizard\",\"\\u201cno\"],\"x\":[-8.946419715881348,-28.820266723632812,-10.317790985107422,13.6384859085083,22.585765838623047,24.87816047668457,-29.861709594726562,-0.6171483993530273,-18.226852416992188,-21.55054473876953,1.047646164894104,-12.004095077514648,11.767980575561523,11.415730476379395,28.95014190673828,-20.085493087768555,7.200199604034424,5.214144706726074,-29.473880767822266,-17.462120056152344,-32.95798873901367,-22.829862594604492,11.605332374572754,26.69297981262207,-17.30645751953125,12.377253532409668,1.1258691549301147,25.363107681274414,-26.805017471313477,17.173646926879883,14.500869750976562,4.091711521148682,-8.07254409790039,12.268168449401855,12.729129791259766,13.135438919067383,12.286088943481445,12.176713943481445,25.563751220703125,-22.924863815307617,-16.774791717529297,-6.534188747406006,7.883049964904785,-18.758790969848633,15.78140926361084,25.34476661682129,19.784896850585938,3.2325246334075928,-27.012584686279297,7.655691146850586,-10.859663009643555,-29.99311065673828,4.965208053588867,7.459762096405029,-9.669228553771973,15.714290618896484,-2.828709363937378,-17.7758846282959,-19.449800491333008,15.480167388916016,-0.01847613975405693,0.5318777561187744,22.343820571899414,-9.506110191345215,-8.149552345275879,9.072407722473145,10.643290519714355,-11.907343864440918,27.723966598510742,-9.330301284790039,5.690087795257568,30.034297943115234,18.575159072875977,-5.361234664916992,-15.97909164428711,-20.4561710357666,5.061802864074707,22.624067306518555,-24.685110092163086,-3.361269950866699,0.6084713935852051,19.244537353515625,-34.993202209472656,4.094998836517334,5.2758564949035645,4.921436309814453,-35.5269775390625,-18.028926849365234,-6.777052879333496,-12.26597785949707,22.08660125732422,6.686234474182129,-2.4681854248046875,11.690571784973145,-7.775498867034912,28.322622299194336,17.829349517822266,-29.425905227661133,-16.683269500732422,1.0933630466461182,26.543399810791016,-7.468965530395508,5.8162102699279785,-11.837687492370605,-11.03542423248291,30.667922973632812,11.424510955810547,-21.063798904418945,25.93528938293457,-9.179561614990234,5.25217866897583,-24.269973754882812,8.318861961364746,2.5471675395965576,22.25324249267578,9.580954551696777,-15.00047492980957,0.265205055475235,32.63947296142578,38.979759216308594,-19.53281593322754,19.171260833740234,23.061100006103516,25.9722957611084,19.015575408935547,-12.061823844909668,11.21175765991211,12.56257438659668,-35.497039794921875,11.240777969360352,-15.509072303771973,23.37805938720703,6.27427864074707,-22.185163497924805,-9.357497215270996,-0.12202512472867966,-17.63742446899414,3.866276264190674,-17.260822296142578,-35.1551628112793,-32.70867919921875,11.60594367980957,31.886701583862305,-17.085947036743164,-22.039796829223633,-10.950722694396973,19.47000503540039,23.175392150878906,10.139240264892578,-5.361545085906982,15.727595329284668,37.61467742919922,33.49961853027344,10.814600944519043,5.344854354858398,20.364774703979492,13.000487327575684,6.430042743682861,29.0117130279541,-13.780346870422363,-17.625104904174805,-25.585994720458984,15.701889038085938,-10.357763290405273,0.8553693890571594,6.913734436035156,-17.53010368347168,31.024734497070312,-5.147524833679199,12.283376693725586,-12.117947578430176,-11.805375099182129,-14.775299072265625,6.27643346786499,29.086627960205078,-5.084834098815918,5.170307159423828,-3.5854313373565674,-8.188934326171875,6.054859638214111,-7.336954116821289,29.765222549438477,22.27698516845703,-12.765599250793457,-4.043525218963623,22.500221252441406,23.14227294921875,2.938542604446411,4.310028553009033,-21.68937110900879,-6.586256504058838,32.621585845947266,11.06824016571045,-7.4244256019592285,23.020645141601562,7.719788551330566,23.347272872924805,-11.910815238952637,4.060081481933594,2.397029161453247,7.8582987785339355,8.222904205322266,-8.08073902130127,-19.625425338745117,23.72726821899414,2.534700870513916,28.374773025512695,27.042041778564453,4.428144454956055,-2.176088333129883,27.852903366088867,-6.886268615722656,-25.828475952148438,10.099895477294922,10.300832748413086,-15.815082550048828,0.18018683791160583,0.8475361466407776,2.785855770111084,9.220274925231934,5.936168670654297,17.639850616455078,1.2344887256622314,3.277094841003418,26.00864028930664,-19.713151931762695,17.464740753173828,-7.703092575073242,-17.06452751159668,11.888636589050293,2.5748090744018555,-23.369062423706055,28.836463928222656,7.157330513000488,-6.039020538330078,-26.982297897338867,0.20512419939041138,-25.546907424926758,-23.484317779541016,20.74974250793457,-16.26352310180664,4.450604438781738,-7.373468399047852,6.666467189788818,23.288028717041016,5.064024448394775,26.601917266845703,4.811214447021484,-12.123336791992188,16.36806297302246,22.519927978515625,-23.260953903198242,2.102306604385376,-16.817312240600586,3.813190221786499,18.528383255004883,11.014785766601562,2.5230748653411865,11.083700180053711,5.827375411987305,27.9931640625,-26.099666595458984,25.548402786254883,-25.44333839416504,27.750770568847656,7.025353908538818,28.772706985473633,-15.983911514282227,12.41025447845459,26.566001892089844,0.9353048801422119,5.7415995597839355,29.017425537109375,17.206483840942383,13.94690227508545,19.34572982788086,10.079933166503906,33.29728698730469,23.537338256835938,0.4994402825832367,4.610515117645264,6.595361709594727,-15.662850379943848,37.73240661621094,2.4745848178863525,15.551684379577637,-9.753103256225586,29.781448364257812,6.62183952331543,-16.840124130249023,-2.003574848175049,-8.327420234680176,-5.582669258117676,-15.948103904724121,17.86368751525879,-21.970458984375,2.0926620960235596,4.287164688110352,18.1054630279541,-27.20972442626953],\"xaxis\":\"x\",\"y\":[-58.07210159301758,42.07371139526367,-52.7701530456543,52.519710540771484,41.855594635009766,13.923139572143555,27.49168586730957,-61.80356979370117,32.6453971862793,32.409576416015625,-60.216583251953125,-57.745147705078125,36.28668975830078,58.5074348449707,3.593169927597046,43.08620071411133,-60.439598083496094,-61.82180404663086,28.15717124938965,38.83409118652344,31.858238220214844,30.179752349853516,59.761207580566406,7.575600624084473,35.91698455810547,-57.848670959472656,-60.48468780517578,15.359185218811035,12.870988845825195,-50.53233337402344,-49.977291107177734,-2.654414415359497,54.985267639160156,-60.979949951171875,-58.875633239746094,-60.171730041503906,-59.58683395385742,-61.12407684326172,15.487571716308594,30.09322738647461,31.872783660888672,56.10514831542969,59.85676574707031,38.3338623046875,-49.74919128417969,15.166237831115723,38.11830520629883,-59.85798263549805,32.311649322509766,56.3365592956543,49.95900344848633,27.265260696411133,52.59956741333008,-59.33962631225586,-57.974525451660156,49.82256317138672,59.81554412841797,47.52646255493164,40.41960525512695,-51.5274772644043,66.2837142944336,66.29222106933594,24.87974739074707,52.90431213378906,54.03193664550781,-57.19382095336914,60.2050895690918,-57.74228286743164,-4.208808422088623,44.563907623291016,-60.9587287902832,-24.42666244506836,19.894208908081055,57.18871307373047,45.24065399169922,38.4948844909668,60.99136734008789,7.888054370880127,25.42410659790039,57.48538589477539,-59.00526428222656,47.01845169067383,11.334749221801758,60.78780746459961,38.602176666259766,-60.108951568603516,10.407841682434082,45.01669692993164,43.850101470947266,46.2318229675293,41.79911422729492,-59.58835983276367,59.12030029296875,59.19036102294922,51.02940368652344,12.300253868103027,34.42782974243164,14.681174278259277,47.238037109375,61.93246841430664,12.367485046386719,46.733924865722656,1.2836605310440063,49.25529479980469,-57.744144439697266,-20.898801803588867,34.704097747802734,27.116819381713867,13.216691017150879,34.7745475769043,59.76869583129883,25.162506103515625,45.833099365234375,65.58829498291016,-44.99591064453125,-56.30735397338867,46.01997756958008,66.24878692626953,7.156567096710205,-14.91990852355957,39.009674072265625,9.638296127319336,-45.935264587402344,13.139932632446289,46.99233627319336,57.44142150878906,-55.84112548828125,-47.94464874267578,9.342519760131836,58.78877258300781,33.721160888671875,-45.31724166870117,39.74272155761719,14.96096420288086,59.074607849121094,63.33039093017578,38.123207092285156,-52.910526275634766,-41.80666732788086,10.18828010559082,31.867752075195312,53.69761657714844,-21.05998992919922,36.45302200317383,-30.43050193786621,-57.72030258178711,13.843850135803223,-25.57720375061035,54.558006286621094,45.7401237487793,49.52860641479492,-16.683021545410156,1.4433016777038574,59.81993103027344,-59.56063461303711,41.52650833129883,52.4049072265625,1.8180359601974487,-29.440296173095703,46.39565658569336,32.63180923461914,12.058935165405273,-44.9649543762207,58.18629837036133,62.798431396484375,55.374839782714844,-42.274112701416016,-20.97378158569336,56.46787643432617,49.278404235839844,47.91786193847656,44.65726852416992,-44.976680755615234,-59.08681106567383,-29.174367904663086,-48.55607604980469,57.95310592651367,58.69488525390625,-41.13125991821289,57.56806564331055,-43.36164474487305,-10.046855926513672,-46.45676040649414,34.5522575378418,58.64056396484375,29.90740966796875,22.143033981323242,-2.607896327972412,-44.76306915283203,31.092540740966797,43.00811004638672,7.130956649780273,43.542057037353516,41.27363586425781,-11.548117637634277,58.803863525390625,-42.75395584106445,57.51229476928711,-50.43584442138672,58.835426330566406,-0.7686447501182556,-15.10397720336914,26.319459915161133,-38.55531311035156,-41.8962287902832,-55.88568878173828,3.3007147312164307,-24.882680892944336,59.78086471557617,51.86701583862305,12.398388862609863,52.98888397216797,5.945153713226318,-50.642581939697266,-55.997459411621094,45.50771713256836,-52.710819244384766,62.84754180908203,65.22432708740234,48.848506927490234,55.0623664855957,47.11787796020508,-4.012190341949463,57.955326080322266,7.297903060913086,42.89039993286133,41.646453857421875,53.074615478515625,47.12155532836914,-52.9409294128418,65.12061309814453,-29.021381378173828,-30.712291717529297,-51.075233459472656,51.76102828979492,35.52657699584961,-52.34058380126953,6.929488658905029,-28.903667449951172,-45.90895080566406,41.735286712646484,57.97332000732422,53.28627014160156,-49.74176025390625,-23.619821548461914,-52.38111877441406,-6.658339977264404,32.90518569946289,45.74296951293945,28.629390716552734,29.90096664428711,24.506155014038086,64.68415069580078,19.773067474365234,54.57997512817383,40.8466682434082,0.40622228384017944,57.13603591918945,47.44623947143555,-52.45051574707031,-16.08187484741211,6.797544956207275,8.295283317565918,16.536876678466797,-31.87332534790039,58.25112533569336,-28.48276138305664,28.61375617980957,25.908599853515625,-38.55048370361328,47.15687942504883,-53.0947380065918,-26.84973907470703,-12.81920337677002,-48.55441665649414,38.68318176269531,-53.87030029296875,0.8807416558265686,-1.0906838178634644,-4.4534382820129395,-5.639419078826904,38.21895217895508,48.26255416870117,-16.185590744018555,-24.14537239074707,29.441015243530273,49.05887222290039,-10.035091400146484,55.97400665283203,44.03105163574219,-46.77820587158203,37.126182556152344,-42.80813217163086,28.68738555908203,46.50002670288086,-35.100563049316406,64.41759490966797,-4.049744129180908,39.46461486816406,41.85271453857422],\"yaxis\":\"y\",\"type\":\"scatter\"}],                        {\"template\":{\"data\":{\"bar\":[{\"error_x\":{\"color\":\"#2a3f5f\"},\"error_y\":{\"color\":\"#2a3f5f\"},\"marker\":{\"line\":{\"color\":\"#E5ECF6\",\"width\":0.5},\"pattern\":{\"fillmode\":\"overlay\",\"size\":10,\"solidity\":0.2}},\"type\":\"bar\"}],\"barpolar\":[{\"marker\":{\"line\":{\"color\":\"#E5ECF6\",\"width\":0.5},\"pattern\":{\"fillmode\":\"overlay\",\"size\":10,\"solidity\":0.2}},\"type\":\"barpolar\"}],\"carpet\":[{\"aaxis\":{\"endlinecolor\":\"#2a3f5f\",\"gridcolor\":\"white\",\"linecolor\":\"white\",\"minorgridcolor\":\"white\",\"startlinecolor\":\"#2a3f5f\"},\"baxis\":{\"endlinecolor\":\"#2a3f5f\",\"gridcolor\":\"white\",\"linecolor\":\"white\",\"minorgridcolor\":\"white\",\"startlinecolor\":\"#2a3f5f\"},\"type\":\"carpet\"}],\"choropleth\":[{\"colorbar\":{\"outlinewidth\":0,\"ticks\":\"\"},\"type\":\"choropleth\"}],\"contour\":[{\"colorbar\":{\"outlinewidth\":0,\"ticks\":\"\"},\"colorscale\":[[0.0,\"#0d0887\"],[0.1111111111111111,\"#46039f\"],[0.2222222222222222,\"#7201a8\"],[0.3333333333333333,\"#9c179e\"],[0.4444444444444444,\"#bd3786\"],[0.5555555555555556,\"#d8576b\"],[0.6666666666666666,\"#ed7953\"],[0.7777777777777778,\"#fb9f3a\"],[0.8888888888888888,\"#fdca26\"],[1.0,\"#f0f921\"]],\"type\":\"contour\"}],\"contourcarpet\":[{\"colorbar\":{\"outlinewidth\":0,\"ticks\":\"\"},\"type\":\"contourcarpet\"}],\"heatmap\":[{\"colorbar\":{\"outlinewidth\":0,\"ticks\":\"\"},\"colorscale\":[[0.0,\"#0d0887\"],[0.1111111111111111,\"#46039f\"],[0.2222222222222222,\"#7201a8\"],[0.3333333333333333,\"#9c179e\"],[0.4444444444444444,\"#bd3786\"],[0.5555555555555556,\"#d8576b\"],[0.6666666666666666,\"#ed7953\"],[0.7777777777777778,\"#fb9f3a\"],[0.8888888888888888,\"#fdca26\"],[1.0,\"#f0f921\"]],\"type\":\"heatmap\"}],\"heatmapgl\":[{\"colorbar\":{\"outlinewidth\":0,\"ticks\":\"\"},\"colorscale\":[[0.0,\"#0d0887\"],[0.1111111111111111,\"#46039f\"],[0.2222222222222222,\"#7201a8\"],[0.3333333333333333,\"#9c179e\"],[0.4444444444444444,\"#bd3786\"],[0.5555555555555556,\"#d8576b\"],[0.6666666666666666,\"#ed7953\"],[0.7777777777777778,\"#fb9f3a\"],[0.8888888888888888,\"#fdca26\"],[1.0,\"#f0f921\"]],\"type\":\"heatmapgl\"}],\"histogram\":[{\"marker\":{\"pattern\":{\"fillmode\":\"overlay\",\"size\":10,\"solidity\":0.2}},\"type\":\"histogram\"}],\"histogram2d\":[{\"colorbar\":{\"outlinewidth\":0,\"ticks\":\"\"},\"colorscale\":[[0.0,\"#0d0887\"],[0.1111111111111111,\"#46039f\"],[0.2222222222222222,\"#7201a8\"],[0.3333333333333333,\"#9c179e\"],[0.4444444444444444,\"#bd3786\"],[0.5555555555555556,\"#d8576b\"],[0.6666666666666666,\"#ed7953\"],[0.7777777777777778,\"#fb9f3a\"],[0.8888888888888888,\"#fdca26\"],[1.0,\"#f0f921\"]],\"type\":\"histogram2d\"}],\"histogram2dcontour\":[{\"colorbar\":{\"outlinewidth\":0,\"ticks\":\"\"},\"colorscale\":[[0.0,\"#0d0887\"],[0.1111111111111111,\"#46039f\"],[0.2222222222222222,\"#7201a8\"],[0.3333333333333333,\"#9c179e\"],[0.4444444444444444,\"#bd3786\"],[0.5555555555555556,\"#d8576b\"],[0.6666666666666666,\"#ed7953\"],[0.7777777777777778,\"#fb9f3a\"],[0.8888888888888888,\"#fdca26\"],[1.0,\"#f0f921\"]],\"type\":\"histogram2dcontour\"}],\"mesh3d\":[{\"colorbar\":{\"outlinewidth\":0,\"ticks\":\"\"},\"type\":\"mesh3d\"}],\"parcoords\":[{\"line\":{\"colorbar\":{\"outlinewidth\":0,\"ticks\":\"\"}},\"type\":\"parcoords\"}],\"pie\":[{\"automargin\":true,\"type\":\"pie\"}],\"scatter\":[{\"marker\":{\"colorbar\":{\"outlinewidth\":0,\"ticks\":\"\"}},\"type\":\"scatter\"}],\"scatter3d\":[{\"line\":{\"colorbar\":{\"outlinewidth\":0,\"ticks\":\"\"}},\"marker\":{\"colorbar\":{\"outlinewidth\":0,\"ticks\":\"\"}},\"type\":\"scatter3d\"}],\"scattercarpet\":[{\"marker\":{\"colorbar\":{\"outlinewidth\":0,\"ticks\":\"\"}},\"type\":\"scattercarpet\"}],\"scattergeo\":[{\"marker\":{\"colorbar\":{\"outlinewidth\":0,\"ticks\":\"\"}},\"type\":\"scattergeo\"}],\"scattergl\":[{\"marker\":{\"colorbar\":{\"outlinewidth\":0,\"ticks\":\"\"}},\"type\":\"scattergl\"}],\"scattermapbox\":[{\"marker\":{\"colorbar\":{\"outlinewidth\":0,\"ticks\":\"\"}},\"type\":\"scattermapbox\"}],\"scatterpolar\":[{\"marker\":{\"colorbar\":{\"outlinewidth\":0,\"ticks\":\"\"}},\"type\":\"scatterpolar\"}],\"scatterpolargl\":[{\"marker\":{\"colorbar\":{\"outlinewidth\":0,\"ticks\":\"\"}},\"type\":\"scatterpolargl\"}],\"scatterternary\":[{\"marker\":{\"colorbar\":{\"outlinewidth\":0,\"ticks\":\"\"}},\"type\":\"scatterternary\"}],\"surface\":[{\"colorbar\":{\"outlinewidth\":0,\"ticks\":\"\"},\"colorscale\":[[0.0,\"#0d0887\"],[0.1111111111111111,\"#46039f\"],[0.2222222222222222,\"#7201a8\"],[0.3333333333333333,\"#9c179e\"],[0.4444444444444444,\"#bd3786\"],[0.5555555555555556,\"#d8576b\"],[0.6666666666666666,\"#ed7953\"],[0.7777777777777778,\"#fb9f3a\"],[0.8888888888888888,\"#fdca26\"],[1.0,\"#f0f921\"]],\"type\":\"surface\"}],\"table\":[{\"cells\":{\"fill\":{\"color\":\"#EBF0F8\"},\"line\":{\"color\":\"white\"}},\"header\":{\"fill\":{\"color\":\"#C8D4E3\"},\"line\":{\"color\":\"white\"}},\"type\":\"table\"}]},\"layout\":{\"annotationdefaults\":{\"arrowcolor\":\"#2a3f5f\",\"arrowhead\":0,\"arrowwidth\":1},\"autotypenumbers\":\"strict\",\"coloraxis\":{\"colorbar\":{\"outlinewidth\":0,\"ticks\":\"\"}},\"colorscale\":{\"diverging\":[[0,\"#8e0152\"],[0.1,\"#c51b7d\"],[0.2,\"#de77ae\"],[0.3,\"#f1b6da\"],[0.4,\"#fde0ef\"],[0.5,\"#f7f7f7\"],[0.6,\"#e6f5d0\"],[0.7,\"#b8e186\"],[0.8,\"#7fbc41\"],[0.9,\"#4d9221\"],[1,\"#276419\"]],\"sequential\":[[0.0,\"#0d0887\"],[0.1111111111111111,\"#46039f\"],[0.2222222222222222,\"#7201a8\"],[0.3333333333333333,\"#9c179e\"],[0.4444444444444444,\"#bd3786\"],[0.5555555555555556,\"#d8576b\"],[0.6666666666666666,\"#ed7953\"],[0.7777777777777778,\"#fb9f3a\"],[0.8888888888888888,\"#fdca26\"],[1.0,\"#f0f921\"]],\"sequentialminus\":[[0.0,\"#0d0887\"],[0.1111111111111111,\"#46039f\"],[0.2222222222222222,\"#7201a8\"],[0.3333333333333333,\"#9c179e\"],[0.4444444444444444,\"#bd3786\"],[0.5555555555555556,\"#d8576b\"],[0.6666666666666666,\"#ed7953\"],[0.7777777777777778,\"#fb9f3a\"],[0.8888888888888888,\"#fdca26\"],[1.0,\"#f0f921\"]]},\"colorway\":[\"#636efa\",\"#EF553B\",\"#00cc96\",\"#ab63fa\",\"#FFA15A\",\"#19d3f3\",\"#FF6692\",\"#B6E880\",\"#FF97FF\",\"#FECB52\"],\"font\":{\"color\":\"#2a3f5f\"},\"geo\":{\"bgcolor\":\"white\",\"lakecolor\":\"white\",\"landcolor\":\"#E5ECF6\",\"showlakes\":true,\"showland\":true,\"subunitcolor\":\"white\"},\"hoverlabel\":{\"align\":\"left\"},\"hovermode\":\"closest\",\"mapbox\":{\"style\":\"light\"},\"paper_bgcolor\":\"white\",\"plot_bgcolor\":\"#E5ECF6\",\"polar\":{\"angularaxis\":{\"gridcolor\":\"white\",\"linecolor\":\"white\",\"ticks\":\"\"},\"bgcolor\":\"#E5ECF6\",\"radialaxis\":{\"gridcolor\":\"white\",\"linecolor\":\"white\",\"ticks\":\"\"}},\"scene\":{\"xaxis\":{\"backgroundcolor\":\"#E5ECF6\",\"gridcolor\":\"white\",\"gridwidth\":2,\"linecolor\":\"white\",\"showbackground\":true,\"ticks\":\"\",\"zerolinecolor\":\"white\"},\"yaxis\":{\"backgroundcolor\":\"#E5ECF6\",\"gridcolor\":\"white\",\"gridwidth\":2,\"linecolor\":\"white\",\"showbackground\":true,\"ticks\":\"\",\"zerolinecolor\":\"white\"},\"zaxis\":{\"backgroundcolor\":\"#E5ECF6\",\"gridcolor\":\"white\",\"gridwidth\":2,\"linecolor\":\"white\",\"showbackground\":true,\"ticks\":\"\",\"zerolinecolor\":\"white\"}},\"shapedefaults\":{\"line\":{\"color\":\"#2a3f5f\"}},\"ternary\":{\"aaxis\":{\"gridcolor\":\"white\",\"linecolor\":\"white\",\"ticks\":\"\"},\"baxis\":{\"gridcolor\":\"white\",\"linecolor\":\"white\",\"ticks\":\"\"},\"bgcolor\":\"#E5ECF6\",\"caxis\":{\"gridcolor\":\"white\",\"linecolor\":\"white\",\"ticks\":\"\"}},\"title\":{\"x\":0.05},\"xaxis\":{\"automargin\":true,\"gridcolor\":\"white\",\"linecolor\":\"white\",\"ticks\":\"\",\"title\":{\"standoff\":15},\"zerolinecolor\":\"white\",\"zerolinewidth\":2},\"yaxis\":{\"automargin\":true,\"gridcolor\":\"white\",\"linecolor\":\"white\",\"ticks\":\"\",\"title\":{\"standoff\":15},\"zerolinecolor\":\"white\",\"zerolinewidth\":2}}},\"xaxis\":{\"anchor\":\"y\",\"domain\":[0.0,1.0],\"title\":{\"text\":\"x\"}},\"yaxis\":{\"anchor\":\"x\",\"domain\":[0.0,1.0],\"title\":{\"text\":\"y\"}},\"legend\":{\"tracegroupgap\":0},\"margin\":{\"t\":60}},                        {\"responsive\": true}                    ).then(function(){\n",
              "                            \n",
              "var gd = document.getElementById('2efd6e7c-886e-414b-9115-b429bbfb77a7');\n",
              "var x = new MutationObserver(function (mutations, observer) {{\n",
              "        var display = window.getComputedStyle(gd).display;\n",
              "        if (!display || display === 'none') {{\n",
              "            console.log([gd, 'removed!']);\n",
              "            Plotly.purge(gd);\n",
              "            observer.disconnect();\n",
              "        }}\n",
              "}});\n",
              "\n",
              "// Listen for the removal of the full notebook cells\n",
              "var notebookContainer = gd.closest('#notebook-container');\n",
              "if (notebookContainer) {{\n",
              "    x.observe(notebookContainer, {childList: true});\n",
              "}}\n",
              "\n",
              "// Listen for the clearing of the current output cell\n",
              "var outputEl = gd.closest('.output');\n",
              "if (outputEl) {{\n",
              "    x.observe(outputEl, {childList: true});\n",
              "}}\n",
              "\n",
              "                        })                };                            </script>        </div>\n",
              "</body>\n",
              "</html>"
            ]
          },
          "metadata": {}
        }
      ]
    },
    {
      "cell_type": "code",
      "source": [
        "# Graficar una zona para que se vea de mayor tamaño y los términos más claramente.\n",
        "x_selected=[]\n",
        "y_selected=[]\n",
        "labels_selected=[]\n",
        "\n",
        "for i, value_x in enumerate (x_vals[:MAX_WORDS]):\n",
        "    if value_x>=-40 and value_x<=-30 and y_vals[i]<=20 and y_vals[i]>=0:\n",
        "      x_selected.append(value_x)\n",
        "      y_selected.append(y_vals[i])\n",
        "      labels_selected.append(labels[i])\n",
        "\n",
        "fig = px.scatter(x=x_selected, y=y_selected, text=labels_selected)\n",
        "fig.show(renderer=\"colab\") # Esto para plotly en Colab."
      ],
      "metadata": {
        "colab": {
          "base_uri": "https://localhost:8080/",
          "height": 542
        },
        "outputId": "e124b209-bf87-475a-ed95-5be464990656",
        "id": "KqCunx56Kl2c"
      },
      "execution_count": 61,
      "outputs": [
        {
          "output_type": "display_data",
          "data": {
            "text/html": [
              "<html>\n",
              "<head><meta charset=\"utf-8\" /></head>\n",
              "<body>\n",
              "    <div>            <script src=\"https://cdnjs.cloudflare.com/ajax/libs/mathjax/2.7.5/MathJax.js?config=TeX-AMS-MML_SVG\"></script><script type=\"text/javascript\">if (window.MathJax) {MathJax.Hub.Config({SVG: {font: \"STIX-Web\"}});}</script>                <script type=\"text/javascript\">window.PlotlyConfig = {MathJaxConfig: 'local'};</script>\n",
              "        <script src=\"https://cdn.plot.ly/plotly-2.8.3.min.js\"></script>                <div id=\"9cf3e4f9-8af4-4298-b93d-08a4872640a9\" class=\"plotly-graph-div\" style=\"height:525px; width:100%;\"></div>            <script type=\"text/javascript\">                                    window.PLOTLYENV=window.PLOTLYENV || {};                                    if (document.getElementById(\"9cf3e4f9-8af4-4298-b93d-08a4872640a9\")) {                    Plotly.newPlot(                        \"9cf3e4f9-8af4-4298-b93d-08a4872640a9\",                        [{\"hovertemplate\":\"x=%{x}<br>y=%{y}<br>text=%{text}<extra></extra>\",\"legendgroup\":\"\",\"marker\":{\"color\":\"#636efa\",\"symbol\":\"circle\"},\"mode\":\"markers+text\",\"name\":\"\",\"orientation\":\"v\",\"showlegend\":false,\"text\":[\"snape\",\"dumbledore\",\"mcgonagall\",\"quirrell\"],\"x\":[-34.993202209472656,-35.5269775390625,-35.497039794921875,-35.1551628112793],\"xaxis\":\"x\",\"y\":[11.334749221801758,10.407841682434082,9.342519760131836,10.18828010559082],\"yaxis\":\"y\",\"type\":\"scatter\"}],                        {\"template\":{\"data\":{\"bar\":[{\"error_x\":{\"color\":\"#2a3f5f\"},\"error_y\":{\"color\":\"#2a3f5f\"},\"marker\":{\"line\":{\"color\":\"#E5ECF6\",\"width\":0.5},\"pattern\":{\"fillmode\":\"overlay\",\"size\":10,\"solidity\":0.2}},\"type\":\"bar\"}],\"barpolar\":[{\"marker\":{\"line\":{\"color\":\"#E5ECF6\",\"width\":0.5},\"pattern\":{\"fillmode\":\"overlay\",\"size\":10,\"solidity\":0.2}},\"type\":\"barpolar\"}],\"carpet\":[{\"aaxis\":{\"endlinecolor\":\"#2a3f5f\",\"gridcolor\":\"white\",\"linecolor\":\"white\",\"minorgridcolor\":\"white\",\"startlinecolor\":\"#2a3f5f\"},\"baxis\":{\"endlinecolor\":\"#2a3f5f\",\"gridcolor\":\"white\",\"linecolor\":\"white\",\"minorgridcolor\":\"white\",\"startlinecolor\":\"#2a3f5f\"},\"type\":\"carpet\"}],\"choropleth\":[{\"colorbar\":{\"outlinewidth\":0,\"ticks\":\"\"},\"type\":\"choropleth\"}],\"contour\":[{\"colorbar\":{\"outlinewidth\":0,\"ticks\":\"\"},\"colorscale\":[[0.0,\"#0d0887\"],[0.1111111111111111,\"#46039f\"],[0.2222222222222222,\"#7201a8\"],[0.3333333333333333,\"#9c179e\"],[0.4444444444444444,\"#bd3786\"],[0.5555555555555556,\"#d8576b\"],[0.6666666666666666,\"#ed7953\"],[0.7777777777777778,\"#fb9f3a\"],[0.8888888888888888,\"#fdca26\"],[1.0,\"#f0f921\"]],\"type\":\"contour\"}],\"contourcarpet\":[{\"colorbar\":{\"outlinewidth\":0,\"ticks\":\"\"},\"type\":\"contourcarpet\"}],\"heatmap\":[{\"colorbar\":{\"outlinewidth\":0,\"ticks\":\"\"},\"colorscale\":[[0.0,\"#0d0887\"],[0.1111111111111111,\"#46039f\"],[0.2222222222222222,\"#7201a8\"],[0.3333333333333333,\"#9c179e\"],[0.4444444444444444,\"#bd3786\"],[0.5555555555555556,\"#d8576b\"],[0.6666666666666666,\"#ed7953\"],[0.7777777777777778,\"#fb9f3a\"],[0.8888888888888888,\"#fdca26\"],[1.0,\"#f0f921\"]],\"type\":\"heatmap\"}],\"heatmapgl\":[{\"colorbar\":{\"outlinewidth\":0,\"ticks\":\"\"},\"colorscale\":[[0.0,\"#0d0887\"],[0.1111111111111111,\"#46039f\"],[0.2222222222222222,\"#7201a8\"],[0.3333333333333333,\"#9c179e\"],[0.4444444444444444,\"#bd3786\"],[0.5555555555555556,\"#d8576b\"],[0.6666666666666666,\"#ed7953\"],[0.7777777777777778,\"#fb9f3a\"],[0.8888888888888888,\"#fdca26\"],[1.0,\"#f0f921\"]],\"type\":\"heatmapgl\"}],\"histogram\":[{\"marker\":{\"pattern\":{\"fillmode\":\"overlay\",\"size\":10,\"solidity\":0.2}},\"type\":\"histogram\"}],\"histogram2d\":[{\"colorbar\":{\"outlinewidth\":0,\"ticks\":\"\"},\"colorscale\":[[0.0,\"#0d0887\"],[0.1111111111111111,\"#46039f\"],[0.2222222222222222,\"#7201a8\"],[0.3333333333333333,\"#9c179e\"],[0.4444444444444444,\"#bd3786\"],[0.5555555555555556,\"#d8576b\"],[0.6666666666666666,\"#ed7953\"],[0.7777777777777778,\"#fb9f3a\"],[0.8888888888888888,\"#fdca26\"],[1.0,\"#f0f921\"]],\"type\":\"histogram2d\"}],\"histogram2dcontour\":[{\"colorbar\":{\"outlinewidth\":0,\"ticks\":\"\"},\"colorscale\":[[0.0,\"#0d0887\"],[0.1111111111111111,\"#46039f\"],[0.2222222222222222,\"#7201a8\"],[0.3333333333333333,\"#9c179e\"],[0.4444444444444444,\"#bd3786\"],[0.5555555555555556,\"#d8576b\"],[0.6666666666666666,\"#ed7953\"],[0.7777777777777778,\"#fb9f3a\"],[0.8888888888888888,\"#fdca26\"],[1.0,\"#f0f921\"]],\"type\":\"histogram2dcontour\"}],\"mesh3d\":[{\"colorbar\":{\"outlinewidth\":0,\"ticks\":\"\"},\"type\":\"mesh3d\"}],\"parcoords\":[{\"line\":{\"colorbar\":{\"outlinewidth\":0,\"ticks\":\"\"}},\"type\":\"parcoords\"}],\"pie\":[{\"automargin\":true,\"type\":\"pie\"}],\"scatter\":[{\"marker\":{\"colorbar\":{\"outlinewidth\":0,\"ticks\":\"\"}},\"type\":\"scatter\"}],\"scatter3d\":[{\"line\":{\"colorbar\":{\"outlinewidth\":0,\"ticks\":\"\"}},\"marker\":{\"colorbar\":{\"outlinewidth\":0,\"ticks\":\"\"}},\"type\":\"scatter3d\"}],\"scattercarpet\":[{\"marker\":{\"colorbar\":{\"outlinewidth\":0,\"ticks\":\"\"}},\"type\":\"scattercarpet\"}],\"scattergeo\":[{\"marker\":{\"colorbar\":{\"outlinewidth\":0,\"ticks\":\"\"}},\"type\":\"scattergeo\"}],\"scattergl\":[{\"marker\":{\"colorbar\":{\"outlinewidth\":0,\"ticks\":\"\"}},\"type\":\"scattergl\"}],\"scattermapbox\":[{\"marker\":{\"colorbar\":{\"outlinewidth\":0,\"ticks\":\"\"}},\"type\":\"scattermapbox\"}],\"scatterpolar\":[{\"marker\":{\"colorbar\":{\"outlinewidth\":0,\"ticks\":\"\"}},\"type\":\"scatterpolar\"}],\"scatterpolargl\":[{\"marker\":{\"colorbar\":{\"outlinewidth\":0,\"ticks\":\"\"}},\"type\":\"scatterpolargl\"}],\"scatterternary\":[{\"marker\":{\"colorbar\":{\"outlinewidth\":0,\"ticks\":\"\"}},\"type\":\"scatterternary\"}],\"surface\":[{\"colorbar\":{\"outlinewidth\":0,\"ticks\":\"\"},\"colorscale\":[[0.0,\"#0d0887\"],[0.1111111111111111,\"#46039f\"],[0.2222222222222222,\"#7201a8\"],[0.3333333333333333,\"#9c179e\"],[0.4444444444444444,\"#bd3786\"],[0.5555555555555556,\"#d8576b\"],[0.6666666666666666,\"#ed7953\"],[0.7777777777777778,\"#fb9f3a\"],[0.8888888888888888,\"#fdca26\"],[1.0,\"#f0f921\"]],\"type\":\"surface\"}],\"table\":[{\"cells\":{\"fill\":{\"color\":\"#EBF0F8\"},\"line\":{\"color\":\"white\"}},\"header\":{\"fill\":{\"color\":\"#C8D4E3\"},\"line\":{\"color\":\"white\"}},\"type\":\"table\"}]},\"layout\":{\"annotationdefaults\":{\"arrowcolor\":\"#2a3f5f\",\"arrowhead\":0,\"arrowwidth\":1},\"autotypenumbers\":\"strict\",\"coloraxis\":{\"colorbar\":{\"outlinewidth\":0,\"ticks\":\"\"}},\"colorscale\":{\"diverging\":[[0,\"#8e0152\"],[0.1,\"#c51b7d\"],[0.2,\"#de77ae\"],[0.3,\"#f1b6da\"],[0.4,\"#fde0ef\"],[0.5,\"#f7f7f7\"],[0.6,\"#e6f5d0\"],[0.7,\"#b8e186\"],[0.8,\"#7fbc41\"],[0.9,\"#4d9221\"],[1,\"#276419\"]],\"sequential\":[[0.0,\"#0d0887\"],[0.1111111111111111,\"#46039f\"],[0.2222222222222222,\"#7201a8\"],[0.3333333333333333,\"#9c179e\"],[0.4444444444444444,\"#bd3786\"],[0.5555555555555556,\"#d8576b\"],[0.6666666666666666,\"#ed7953\"],[0.7777777777777778,\"#fb9f3a\"],[0.8888888888888888,\"#fdca26\"],[1.0,\"#f0f921\"]],\"sequentialminus\":[[0.0,\"#0d0887\"],[0.1111111111111111,\"#46039f\"],[0.2222222222222222,\"#7201a8\"],[0.3333333333333333,\"#9c179e\"],[0.4444444444444444,\"#bd3786\"],[0.5555555555555556,\"#d8576b\"],[0.6666666666666666,\"#ed7953\"],[0.7777777777777778,\"#fb9f3a\"],[0.8888888888888888,\"#fdca26\"],[1.0,\"#f0f921\"]]},\"colorway\":[\"#636efa\",\"#EF553B\",\"#00cc96\",\"#ab63fa\",\"#FFA15A\",\"#19d3f3\",\"#FF6692\",\"#B6E880\",\"#FF97FF\",\"#FECB52\"],\"font\":{\"color\":\"#2a3f5f\"},\"geo\":{\"bgcolor\":\"white\",\"lakecolor\":\"white\",\"landcolor\":\"#E5ECF6\",\"showlakes\":true,\"showland\":true,\"subunitcolor\":\"white\"},\"hoverlabel\":{\"align\":\"left\"},\"hovermode\":\"closest\",\"mapbox\":{\"style\":\"light\"},\"paper_bgcolor\":\"white\",\"plot_bgcolor\":\"#E5ECF6\",\"polar\":{\"angularaxis\":{\"gridcolor\":\"white\",\"linecolor\":\"white\",\"ticks\":\"\"},\"bgcolor\":\"#E5ECF6\",\"radialaxis\":{\"gridcolor\":\"white\",\"linecolor\":\"white\",\"ticks\":\"\"}},\"scene\":{\"xaxis\":{\"backgroundcolor\":\"#E5ECF6\",\"gridcolor\":\"white\",\"gridwidth\":2,\"linecolor\":\"white\",\"showbackground\":true,\"ticks\":\"\",\"zerolinecolor\":\"white\"},\"yaxis\":{\"backgroundcolor\":\"#E5ECF6\",\"gridcolor\":\"white\",\"gridwidth\":2,\"linecolor\":\"white\",\"showbackground\":true,\"ticks\":\"\",\"zerolinecolor\":\"white\"},\"zaxis\":{\"backgroundcolor\":\"#E5ECF6\",\"gridcolor\":\"white\",\"gridwidth\":2,\"linecolor\":\"white\",\"showbackground\":true,\"ticks\":\"\",\"zerolinecolor\":\"white\"}},\"shapedefaults\":{\"line\":{\"color\":\"#2a3f5f\"}},\"ternary\":{\"aaxis\":{\"gridcolor\":\"white\",\"linecolor\":\"white\",\"ticks\":\"\"},\"baxis\":{\"gridcolor\":\"white\",\"linecolor\":\"white\",\"ticks\":\"\"},\"bgcolor\":\"#E5ECF6\",\"caxis\":{\"gridcolor\":\"white\",\"linecolor\":\"white\",\"ticks\":\"\"}},\"title\":{\"x\":0.05},\"xaxis\":{\"automargin\":true,\"gridcolor\":\"white\",\"linecolor\":\"white\",\"ticks\":\"\",\"title\":{\"standoff\":15},\"zerolinecolor\":\"white\",\"zerolinewidth\":2},\"yaxis\":{\"automargin\":true,\"gridcolor\":\"white\",\"linecolor\":\"white\",\"ticks\":\"\",\"title\":{\"standoff\":15},\"zerolinecolor\":\"white\",\"zerolinewidth\":2}}},\"xaxis\":{\"anchor\":\"y\",\"domain\":[0.0,1.0],\"title\":{\"text\":\"x\"}},\"yaxis\":{\"anchor\":\"x\",\"domain\":[0.0,1.0],\"title\":{\"text\":\"y\"}},\"legend\":{\"tracegroupgap\":0},\"margin\":{\"t\":60}},                        {\"responsive\": true}                    ).then(function(){\n",
              "                            \n",
              "var gd = document.getElementById('9cf3e4f9-8af4-4298-b93d-08a4872640a9');\n",
              "var x = new MutationObserver(function (mutations, observer) {{\n",
              "        var display = window.getComputedStyle(gd).display;\n",
              "        if (!display || display === 'none') {{\n",
              "            console.log([gd, 'removed!']);\n",
              "            Plotly.purge(gd);\n",
              "            observer.disconnect();\n",
              "        }}\n",
              "}});\n",
              "\n",
              "// Listen for the removal of the full notebook cells\n",
              "var notebookContainer = gd.closest('#notebook-container');\n",
              "if (notebookContainer) {{\n",
              "    x.observe(notebookContainer, {childList: true});\n",
              "}}\n",
              "\n",
              "// Listen for the clearing of the current output cell\n",
              "var outputEl = gd.closest('.output');\n",
              "if (outputEl) {{\n",
              "    x.observe(outputEl, {childList: true});\n",
              "}}\n",
              "\n",
              "                        })                };                            </script>        </div>\n",
              "</body>\n",
              "</html>"
            ]
          },
          "metadata": {}
        }
      ]
    },
    {
      "cell_type": "code",
      "source": [
        "# Graficar una zona para que se vea de mayor tamaño y los términos más claramente.\n",
        "x_selected=[]\n",
        "y_selected=[]\n",
        "labels_selected=[]\n",
        "\n",
        "for i, value_x in enumerate (x_vals[:MAX_WORDS]):\n",
        "    if value_x>=20 and value_x<=26 and y_vals[i]<=20 and y_vals[i]>=10:\n",
        "      x_selected.append(value_x)\n",
        "      y_selected.append(y_vals[i])\n",
        "      labels_selected.append(labels[i])\n",
        "\n",
        "fig = px.scatter(x=x_selected, y=y_selected, text=labels_selected)\n",
        "fig.show(renderer=\"colab\") # Esto para plotly en Colab."
      ],
      "metadata": {
        "colab": {
          "base_uri": "https://localhost:8080/",
          "height": 542
        },
        "id": "U8TM9579OXbj",
        "outputId": "25d77f55-7968-432a-d18f-3a9999142b40"
      },
      "execution_count": 62,
      "outputs": [
        {
          "output_type": "display_data",
          "data": {
            "text/html": [
              "<html>\n",
              "<head><meta charset=\"utf-8\" /></head>\n",
              "<body>\n",
              "    <div>            <script src=\"https://cdnjs.cloudflare.com/ajax/libs/mathjax/2.7.5/MathJax.js?config=TeX-AMS-MML_SVG\"></script><script type=\"text/javascript\">if (window.MathJax) {MathJax.Hub.Config({SVG: {font: \"STIX-Web\"}});}</script>                <script type=\"text/javascript\">window.PlotlyConfig = {MathJaxConfig: 'local'};</script>\n",
              "        <script src=\"https://cdn.plot.ly/plotly-2.8.3.min.js\"></script>                <div id=\"3a1b9f5f-bd78-4216-b5d9-93462cbb1680\" class=\"plotly-graph-div\" style=\"height:525px; width:100%;\"></div>            <script type=\"text/javascript\">                                    window.PLOTLYENV=window.PLOTLYENV || {};                                    if (document.getElementById(\"3a1b9f5f-bd78-4216-b5d9-93462cbb1680\")) {                    Plotly.newPlot(                        \"3a1b9f5f-bd78-4216-b5d9-93462cbb1680\",                        [{\"hovertemplate\":\"x=%{x}<br>y=%{y}<br>text=%{text}<extra></extra>\",\"legendgroup\":\"\",\"marker\":{\"color\":\"#636efa\",\"symbol\":\"circle\"},\"mode\":\"markers+text\",\"name\":\"\",\"orientation\":\"v\",\"showlegend\":false,\"text\":[\"harry\",\"ron\",\"hagrid\",\"hermione\",\"malfoy\",\"neville\"],\"x\":[24.87816047668457,25.363107681274414,25.563751220703125,25.34476661682129,25.93528938293457,25.9722957611084],\"xaxis\":\"x\",\"y\":[13.923139572143555,15.359185218811035,15.487571716308594,15.166237831115723,13.216691017150879,13.139932632446289],\"yaxis\":\"y\",\"type\":\"scatter\"}],                        {\"template\":{\"data\":{\"bar\":[{\"error_x\":{\"color\":\"#2a3f5f\"},\"error_y\":{\"color\":\"#2a3f5f\"},\"marker\":{\"line\":{\"color\":\"#E5ECF6\",\"width\":0.5},\"pattern\":{\"fillmode\":\"overlay\",\"size\":10,\"solidity\":0.2}},\"type\":\"bar\"}],\"barpolar\":[{\"marker\":{\"line\":{\"color\":\"#E5ECF6\",\"width\":0.5},\"pattern\":{\"fillmode\":\"overlay\",\"size\":10,\"solidity\":0.2}},\"type\":\"barpolar\"}],\"carpet\":[{\"aaxis\":{\"endlinecolor\":\"#2a3f5f\",\"gridcolor\":\"white\",\"linecolor\":\"white\",\"minorgridcolor\":\"white\",\"startlinecolor\":\"#2a3f5f\"},\"baxis\":{\"endlinecolor\":\"#2a3f5f\",\"gridcolor\":\"white\",\"linecolor\":\"white\",\"minorgridcolor\":\"white\",\"startlinecolor\":\"#2a3f5f\"},\"type\":\"carpet\"}],\"choropleth\":[{\"colorbar\":{\"outlinewidth\":0,\"ticks\":\"\"},\"type\":\"choropleth\"}],\"contour\":[{\"colorbar\":{\"outlinewidth\":0,\"ticks\":\"\"},\"colorscale\":[[0.0,\"#0d0887\"],[0.1111111111111111,\"#46039f\"],[0.2222222222222222,\"#7201a8\"],[0.3333333333333333,\"#9c179e\"],[0.4444444444444444,\"#bd3786\"],[0.5555555555555556,\"#d8576b\"],[0.6666666666666666,\"#ed7953\"],[0.7777777777777778,\"#fb9f3a\"],[0.8888888888888888,\"#fdca26\"],[1.0,\"#f0f921\"]],\"type\":\"contour\"}],\"contourcarpet\":[{\"colorbar\":{\"outlinewidth\":0,\"ticks\":\"\"},\"type\":\"contourcarpet\"}],\"heatmap\":[{\"colorbar\":{\"outlinewidth\":0,\"ticks\":\"\"},\"colorscale\":[[0.0,\"#0d0887\"],[0.1111111111111111,\"#46039f\"],[0.2222222222222222,\"#7201a8\"],[0.3333333333333333,\"#9c179e\"],[0.4444444444444444,\"#bd3786\"],[0.5555555555555556,\"#d8576b\"],[0.6666666666666666,\"#ed7953\"],[0.7777777777777778,\"#fb9f3a\"],[0.8888888888888888,\"#fdca26\"],[1.0,\"#f0f921\"]],\"type\":\"heatmap\"}],\"heatmapgl\":[{\"colorbar\":{\"outlinewidth\":0,\"ticks\":\"\"},\"colorscale\":[[0.0,\"#0d0887\"],[0.1111111111111111,\"#46039f\"],[0.2222222222222222,\"#7201a8\"],[0.3333333333333333,\"#9c179e\"],[0.4444444444444444,\"#bd3786\"],[0.5555555555555556,\"#d8576b\"],[0.6666666666666666,\"#ed7953\"],[0.7777777777777778,\"#fb9f3a\"],[0.8888888888888888,\"#fdca26\"],[1.0,\"#f0f921\"]],\"type\":\"heatmapgl\"}],\"histogram\":[{\"marker\":{\"pattern\":{\"fillmode\":\"overlay\",\"size\":10,\"solidity\":0.2}},\"type\":\"histogram\"}],\"histogram2d\":[{\"colorbar\":{\"outlinewidth\":0,\"ticks\":\"\"},\"colorscale\":[[0.0,\"#0d0887\"],[0.1111111111111111,\"#46039f\"],[0.2222222222222222,\"#7201a8\"],[0.3333333333333333,\"#9c179e\"],[0.4444444444444444,\"#bd3786\"],[0.5555555555555556,\"#d8576b\"],[0.6666666666666666,\"#ed7953\"],[0.7777777777777778,\"#fb9f3a\"],[0.8888888888888888,\"#fdca26\"],[1.0,\"#f0f921\"]],\"type\":\"histogram2d\"}],\"histogram2dcontour\":[{\"colorbar\":{\"outlinewidth\":0,\"ticks\":\"\"},\"colorscale\":[[0.0,\"#0d0887\"],[0.1111111111111111,\"#46039f\"],[0.2222222222222222,\"#7201a8\"],[0.3333333333333333,\"#9c179e\"],[0.4444444444444444,\"#bd3786\"],[0.5555555555555556,\"#d8576b\"],[0.6666666666666666,\"#ed7953\"],[0.7777777777777778,\"#fb9f3a\"],[0.8888888888888888,\"#fdca26\"],[1.0,\"#f0f921\"]],\"type\":\"histogram2dcontour\"}],\"mesh3d\":[{\"colorbar\":{\"outlinewidth\":0,\"ticks\":\"\"},\"type\":\"mesh3d\"}],\"parcoords\":[{\"line\":{\"colorbar\":{\"outlinewidth\":0,\"ticks\":\"\"}},\"type\":\"parcoords\"}],\"pie\":[{\"automargin\":true,\"type\":\"pie\"}],\"scatter\":[{\"marker\":{\"colorbar\":{\"outlinewidth\":0,\"ticks\":\"\"}},\"type\":\"scatter\"}],\"scatter3d\":[{\"line\":{\"colorbar\":{\"outlinewidth\":0,\"ticks\":\"\"}},\"marker\":{\"colorbar\":{\"outlinewidth\":0,\"ticks\":\"\"}},\"type\":\"scatter3d\"}],\"scattercarpet\":[{\"marker\":{\"colorbar\":{\"outlinewidth\":0,\"ticks\":\"\"}},\"type\":\"scattercarpet\"}],\"scattergeo\":[{\"marker\":{\"colorbar\":{\"outlinewidth\":0,\"ticks\":\"\"}},\"type\":\"scattergeo\"}],\"scattergl\":[{\"marker\":{\"colorbar\":{\"outlinewidth\":0,\"ticks\":\"\"}},\"type\":\"scattergl\"}],\"scattermapbox\":[{\"marker\":{\"colorbar\":{\"outlinewidth\":0,\"ticks\":\"\"}},\"type\":\"scattermapbox\"}],\"scatterpolar\":[{\"marker\":{\"colorbar\":{\"outlinewidth\":0,\"ticks\":\"\"}},\"type\":\"scatterpolar\"}],\"scatterpolargl\":[{\"marker\":{\"colorbar\":{\"outlinewidth\":0,\"ticks\":\"\"}},\"type\":\"scatterpolargl\"}],\"scatterternary\":[{\"marker\":{\"colorbar\":{\"outlinewidth\":0,\"ticks\":\"\"}},\"type\":\"scatterternary\"}],\"surface\":[{\"colorbar\":{\"outlinewidth\":0,\"ticks\":\"\"},\"colorscale\":[[0.0,\"#0d0887\"],[0.1111111111111111,\"#46039f\"],[0.2222222222222222,\"#7201a8\"],[0.3333333333333333,\"#9c179e\"],[0.4444444444444444,\"#bd3786\"],[0.5555555555555556,\"#d8576b\"],[0.6666666666666666,\"#ed7953\"],[0.7777777777777778,\"#fb9f3a\"],[0.8888888888888888,\"#fdca26\"],[1.0,\"#f0f921\"]],\"type\":\"surface\"}],\"table\":[{\"cells\":{\"fill\":{\"color\":\"#EBF0F8\"},\"line\":{\"color\":\"white\"}},\"header\":{\"fill\":{\"color\":\"#C8D4E3\"},\"line\":{\"color\":\"white\"}},\"type\":\"table\"}]},\"layout\":{\"annotationdefaults\":{\"arrowcolor\":\"#2a3f5f\",\"arrowhead\":0,\"arrowwidth\":1},\"autotypenumbers\":\"strict\",\"coloraxis\":{\"colorbar\":{\"outlinewidth\":0,\"ticks\":\"\"}},\"colorscale\":{\"diverging\":[[0,\"#8e0152\"],[0.1,\"#c51b7d\"],[0.2,\"#de77ae\"],[0.3,\"#f1b6da\"],[0.4,\"#fde0ef\"],[0.5,\"#f7f7f7\"],[0.6,\"#e6f5d0\"],[0.7,\"#b8e186\"],[0.8,\"#7fbc41\"],[0.9,\"#4d9221\"],[1,\"#276419\"]],\"sequential\":[[0.0,\"#0d0887\"],[0.1111111111111111,\"#46039f\"],[0.2222222222222222,\"#7201a8\"],[0.3333333333333333,\"#9c179e\"],[0.4444444444444444,\"#bd3786\"],[0.5555555555555556,\"#d8576b\"],[0.6666666666666666,\"#ed7953\"],[0.7777777777777778,\"#fb9f3a\"],[0.8888888888888888,\"#fdca26\"],[1.0,\"#f0f921\"]],\"sequentialminus\":[[0.0,\"#0d0887\"],[0.1111111111111111,\"#46039f\"],[0.2222222222222222,\"#7201a8\"],[0.3333333333333333,\"#9c179e\"],[0.4444444444444444,\"#bd3786\"],[0.5555555555555556,\"#d8576b\"],[0.6666666666666666,\"#ed7953\"],[0.7777777777777778,\"#fb9f3a\"],[0.8888888888888888,\"#fdca26\"],[1.0,\"#f0f921\"]]},\"colorway\":[\"#636efa\",\"#EF553B\",\"#00cc96\",\"#ab63fa\",\"#FFA15A\",\"#19d3f3\",\"#FF6692\",\"#B6E880\",\"#FF97FF\",\"#FECB52\"],\"font\":{\"color\":\"#2a3f5f\"},\"geo\":{\"bgcolor\":\"white\",\"lakecolor\":\"white\",\"landcolor\":\"#E5ECF6\",\"showlakes\":true,\"showland\":true,\"subunitcolor\":\"white\"},\"hoverlabel\":{\"align\":\"left\"},\"hovermode\":\"closest\",\"mapbox\":{\"style\":\"light\"},\"paper_bgcolor\":\"white\",\"plot_bgcolor\":\"#E5ECF6\",\"polar\":{\"angularaxis\":{\"gridcolor\":\"white\",\"linecolor\":\"white\",\"ticks\":\"\"},\"bgcolor\":\"#E5ECF6\",\"radialaxis\":{\"gridcolor\":\"white\",\"linecolor\":\"white\",\"ticks\":\"\"}},\"scene\":{\"xaxis\":{\"backgroundcolor\":\"#E5ECF6\",\"gridcolor\":\"white\",\"gridwidth\":2,\"linecolor\":\"white\",\"showbackground\":true,\"ticks\":\"\",\"zerolinecolor\":\"white\"},\"yaxis\":{\"backgroundcolor\":\"#E5ECF6\",\"gridcolor\":\"white\",\"gridwidth\":2,\"linecolor\":\"white\",\"showbackground\":true,\"ticks\":\"\",\"zerolinecolor\":\"white\"},\"zaxis\":{\"backgroundcolor\":\"#E5ECF6\",\"gridcolor\":\"white\",\"gridwidth\":2,\"linecolor\":\"white\",\"showbackground\":true,\"ticks\":\"\",\"zerolinecolor\":\"white\"}},\"shapedefaults\":{\"line\":{\"color\":\"#2a3f5f\"}},\"ternary\":{\"aaxis\":{\"gridcolor\":\"white\",\"linecolor\":\"white\",\"ticks\":\"\"},\"baxis\":{\"gridcolor\":\"white\",\"linecolor\":\"white\",\"ticks\":\"\"},\"bgcolor\":\"#E5ECF6\",\"caxis\":{\"gridcolor\":\"white\",\"linecolor\":\"white\",\"ticks\":\"\"}},\"title\":{\"x\":0.05},\"xaxis\":{\"automargin\":true,\"gridcolor\":\"white\",\"linecolor\":\"white\",\"ticks\":\"\",\"title\":{\"standoff\":15},\"zerolinecolor\":\"white\",\"zerolinewidth\":2},\"yaxis\":{\"automargin\":true,\"gridcolor\":\"white\",\"linecolor\":\"white\",\"ticks\":\"\",\"title\":{\"standoff\":15},\"zerolinecolor\":\"white\",\"zerolinewidth\":2}}},\"xaxis\":{\"anchor\":\"y\",\"domain\":[0.0,1.0],\"title\":{\"text\":\"x\"}},\"yaxis\":{\"anchor\":\"x\",\"domain\":[0.0,1.0],\"title\":{\"text\":\"y\"}},\"legend\":{\"tracegroupgap\":0},\"margin\":{\"t\":60}},                        {\"responsive\": true}                    ).then(function(){\n",
              "                            \n",
              "var gd = document.getElementById('3a1b9f5f-bd78-4216-b5d9-93462cbb1680');\n",
              "var x = new MutationObserver(function (mutations, observer) {{\n",
              "        var display = window.getComputedStyle(gd).display;\n",
              "        if (!display || display === 'none') {{\n",
              "            console.log([gd, 'removed!']);\n",
              "            Plotly.purge(gd);\n",
              "            observer.disconnect();\n",
              "        }}\n",
              "}});\n",
              "\n",
              "// Listen for the removal of the full notebook cells\n",
              "var notebookContainer = gd.closest('#notebook-container');\n",
              "if (notebookContainer) {{\n",
              "    x.observe(notebookContainer, {childList: true});\n",
              "}}\n",
              "\n",
              "// Listen for the clearing of the current output cell\n",
              "var outputEl = gd.closest('.output');\n",
              "if (outputEl) {{\n",
              "    x.observe(outputEl, {childList: true});\n",
              "}}\n",
              "\n",
              "                        })                };                            </script>        </div>\n",
              "</body>\n",
              "</html>"
            ]
          },
          "metadata": {}
        }
      ]
    },
    {
      "cell_type": "markdown",
      "source": [
        "#### Conclusiones"
      ],
      "metadata": {
        "id": "6UQz6ZxEK8QE"
      }
    },
    {
      "cell_type": "markdown",
      "source": [
        "Se puede notar claramente que existe una zona en donde se agrupan los nombres de los profesores protagonistas del libro, y otra, en donde agrupa los nombres de los alumnos, y si bien figuran Harry y sus amigos, también en este caso aparece Malfoy, que es otro alumno, y el enemigo número uno de Harry en la escuela. Notar que también en este caso aparece Hagrid junto con los alumnos, porque es un profesor que en general, tiene más participación con los alumnos que con sus propios colegas."
      ],
      "metadata": {
        "id": "IBMGViTZK_J_"
      }
    },
    {
      "cell_type": "markdown",
      "source": [
        "### CBOW ventana 4"
      ],
      "metadata": {
        "id": "a7LH9VBsTN1_"
      }
    },
    {
      "cell_type": "code",
      "metadata": {
        "colab": {
          "base_uri": "https://localhost:8080/",
          "height": 542
        },
        "outputId": "b08dbf0a-238b-4ed0-bcc6-6b52d64a24f1",
        "id": "9sU_mFdeTN1_"
      },
      "source": [
        "# Graficar los embedddings en 2D con T-SNE.\n",
        "import plotly.graph_objects as go\n",
        "import plotly.express as px\n",
        "\n",
        "x_vals, y_vals, labels = reduce_dimensions(w2v_model_CBOW_4)\n",
        "\n",
        "MAX_WORDS=300\n",
        "fig = px.scatter(x=x_vals[:MAX_WORDS], y=y_vals[:MAX_WORDS], text=labels[:MAX_WORDS])\n",
        "fig.show(renderer=\"colab\") # Esto para plotly en Colab."
      ],
      "execution_count": 72,
      "outputs": [
        {
          "output_type": "display_data",
          "data": {
            "text/html": [
              "<html>\n",
              "<head><meta charset=\"utf-8\" /></head>\n",
              "<body>\n",
              "    <div>            <script src=\"https://cdnjs.cloudflare.com/ajax/libs/mathjax/2.7.5/MathJax.js?config=TeX-AMS-MML_SVG\"></script><script type=\"text/javascript\">if (window.MathJax) {MathJax.Hub.Config({SVG: {font: \"STIX-Web\"}});}</script>                <script type=\"text/javascript\">window.PlotlyConfig = {MathJaxConfig: 'local'};</script>\n",
              "        <script src=\"https://cdn.plot.ly/plotly-2.8.3.min.js\"></script>                <div id=\"16bf90a1-9fa2-4706-8a5b-92185d1a540b\" class=\"plotly-graph-div\" style=\"height:525px; width:100%;\"></div>            <script type=\"text/javascript\">                                    window.PLOTLYENV=window.PLOTLYENV || {};                                    if (document.getElementById(\"16bf90a1-9fa2-4706-8a5b-92185d1a540b\")) {                    Plotly.newPlot(                        \"16bf90a1-9fa2-4706-8a5b-92185d1a540b\",                        [{\"hovertemplate\":\"x=%{x}<br>y=%{y}<br>text=%{text}<extra></extra>\",\"legendgroup\":\"\",\"marker\":{\"color\":\"#636efa\",\"symbol\":\"circle\"},\"mode\":\"markers+text\",\"name\":\"\",\"orientation\":\"v\",\"showlegend\":false,\"text\":[\"the\",\"\\u201d\",\"and\",\"to\",\"a\",\"harry\",\"he\",\"of\",\"was\",\"it\",\"in\",\"his\",\"\\u2014\",\"you\",\"said\",\"had\",\"on\",\"at\",\"they\",\"that\",\"as\",\"him\",\"i\",\"potter\",\"but\",\"stone\",\"with\",\"ron\",\"all\",\"out\",\"up\",\"for\",\"be\",\"k\",\"page\",\"philosophers\",\"j\",\"rowling\",\"hagrid\",\"them\",\"were\",\"have\",\"what\",\"there\",\"back\",\"hermione\",\"one\",\"from\",\"this\",\"not\",\"if\",\"she\",\"about\",\"into\",\"their\",\"me\",\"know\",\"been\",\"so\",\"off\",\"didn\\u2019t\",\"could\",\"like\",\"got\",\"get\",\"down\",\"\\u201ci\",\"her\",\"when\",\"who\",\"over\",\"looked\",\"professor\",\"see\",\"just\",\"very\",\"is\",\"then\",\"no\",\"do\",\"by\",\"your\",\"snape\",\"are\",\"now\",\"around\",\"dumbledore\",\"he\\u2019d\",\"going\",\"something\",\"an\",\"through\",\"think\",\"we\",\"go\",\"uncle\",\"time\",\"right\",\"never\",\"don\\u2019t\",\"dudley\",\"look\",\"first\",\"how\",\"harry\\u2019s\",\"looking\",\"here\",\"more\",\"malfoy\",\"before\",\"it\\u2019s\",\"only\",\"or\",\"would\",\"eyes\",\"door\",\"even\",\"couldn\\u2019t\",\"vernon\",\"two\",\"too\",\"again\",\"head\",\"neville\",\"my\",\"thought\",\"next\",\"way\",\"mcgonagall\",\"yeh\",\"than\",\"face\",\"where\",\"people\",\"told\",\"did\",\"still\",\"room\",\"other\",\"quirrell\",\"though\",\"will\",\"last\",\"because\",\"which\",\"its\",\"boy\",\"left\",\"an\\u2019\",\"come\",\"us\",\"gryffindor\",\"mr\",\"\\u201cyou\",\"behind\",\"some\",\"ter\",\"house\",\"turned\",\"much\",\"wasn\\u2019t\",\"hogwarts\",\"came\",\"heard\",\"can\",\"i\\u2019m\",\"three\",\"once\",\"say\",\"seemed\",\"anything\",\"good\",\"away\",\"toward\",\"went\",\"long\",\"really\",\"want\",\"little\",\"well\",\"great\",\"suddenly\",\"hand\",\"found\",\"tell\",\"bit\",\"made\",\"after\",\"school\",\"himself\",\"trying\",\"aunt\",\"any\",\"tried\",\"saw\",\"\\u201cwhat\",\"wand\",\"knew\",\"dark\",\"\\u201cbut\",\"put\",\"while\",\"day\",\"old\",\"voice\",\"inside\",\"asked\",\"took\",\"that\\u2019s\",\"let\",\"petunia\",\"take\",\"quidditch\",\"cloak\",\"open\",\"ever\",\"black\",\"can\\u2019t\",\"must\",\"i\\u2019ve\",\"he\\u2019s\",\"yer\",\"few\",\"\\u201coh\",\"dursley\",\"hadn\\u2019t\",\"things\",\"find\",\"seen\",\"floor\",\"might\",\"another\",\"pulled\",\"front\",\"keep\",\"wood\",\"large\",\"years\",\"every\",\"feet\",\"gone\",\"\\u201cwell\",\"make\",\"end\",\"started\",\"hall\",\"felt\",\"filch\",\"nothing\",\"mind\",\"lot\",\"thing\",\"wouldn\\u2019t\",\"everyone\",\"\\u201ci\\u2019m\",\"magic\",\"almost\",\"\\u201cand\",\"enough\",\"air\",\"moment\",\"slytherin\",\"weasley\",\"mirror\",\"fell\",\"why\",\"walked\",\"night\",\"\\u201cit\\u2019s\",\"letter\",\"wanted\",\"high\",\"sat\",\"until\",\"bed\",\"course\",\"table\",\"mrs\",\"called\",\"owl\",\"past\",\"saying\",\"done\",\"points\",\"later\",\"name\",\"sure\",\"quickly\",\"you\\u2019re\",\"already\",\"second\",\"read\",\"books\",\"dursleys\",\"our\",\"\\u201cthe\",\"should\",\"without\",\"wizard\",\"\\u201cno\"],\"x\":[20.412879943847656,-29.81919288635254,8.198208808898926,-10.929633140563965,-11.142635345458984,25.505643844604492,25.812021255493164,1.6337177753448486,7.593425750732422,-6.231774806976318,3.200874090194702,24.545700073242188,-23.044326782226562,-32.73942565917969,-32.3294563293457,3.7316763401031494,6.443373680114746,7.35430908203125,-4.402958393096924,-1.5900753736495972,2.5573811531066895,2.287982940673828,-31.94037628173828,20.947433471679688,0.6202934980392456,-7.832929611206055,3.2727999687194824,26.819162368774414,-4.1246771812438965,-16.42656898498535,8.515481948852539,0.16850556433200836,-20.72382926940918,10.93288516998291,10.703431129455566,10.693374633789062,10.490063667297363,11.389946937561035,26.679000854492188,1.6517430543899536,8.088006973266602,-21.79228973388672,-32.28092575073242,-1.2166736125946045,8.773675918579102,26.691917419433594,-6.302542209625244,4.440901279449463,-4.794798851013184,-29.072250366210938,-7.562190055847168,25.947324752807617,-17.769756317138672,9.66389274597168,20.3841609954834,-17.699657440185547,-26.965696334838867,-1.1632779836654663,1.5829025506973267,6.514375686645508,-8.18600845336914,-8.864070892333984,1.0767109394073486,-17.32747459411621,-20.038326263427734,5.183736801147461,-31.055465698242188,24.992259979248047,6.407934665679932,-13.377391815185547,8.608190536499023,-14.842364311218262,8.57719612121582,-23.42423439025879,-2.897294282913208,0.6245606541633606,-33.12883377075195,-4.903428077697754,-28.19050407409668,-25.515134811401367,3.1959877014160156,-16.542816162109375,-7.5480055809021,-33.18526840209961,-10.03526782989502,8.085237503051758,17.765697479248047,-1.3191591501235962,-16.656217575073242,-5.25769567489624,-11.025322914123535,9.715848922729492,-26.377830505371094,-32.393192291259766,-18.599422454833984,-16.834619522094727,-1.6534931659698486,12.375651359558105,-2.055253028869629,-28.739118576049805,-15.54907512664795,-2.5506703853607178,0.4712720513343811,-6.974984169006348,23.59817123413086,-14.143136024475098,-24.369829177856445,0.6886804103851318,24.991626739501953,3.0045907497406006,-31.35987663269043,-27.852176666259766,-10.969770431518555,-10.267613410949707,16.969886779785156,11.797470092773438,-2.3494224548339844,-8.545087814331055,-17.404434204101562,27.071414947509766,-2.19510555267334,14.871260643005371,16.541109085083008,24.993993759155273,-16.536333084106445,4.43049955368042,9.032709121704102,3.1158924102783203,18.901933670043945,-32.267784118652344,0.8561259508132935,16.94155502319336,-23.94762420654297,0.6028817892074585,-33.12354278564453,-26.75538444519043,0.2824655771255493,17.37449073791504,-1.1240653991699219,17.98835563659668,2.5464026927948,-13.617111206054688,19.99942970275879,0.21684333682060242,24.134382247924805,23.43268394470215,17.27991485595703,-8.048432350158691,-15.495232582092285,-18.746931076049805,-16.9416561126709,3.357273578643799,-10.400842666625977,-31.363300323486328,8.561829566955566,-8.864057540893555,-14.93918514251709,2.462003469467163,2.5614233016967773,-4.450131416320801,7.162513732910156,-3.987427234649658,13.856422424316406,-32.19587707519531,-27.313331604003906,-28.658794403076172,-1.5925734043121338,-13.832935333251953,-24.161314010620117,-9.156538009643555,-6.456029891967773,-4.346986293792725,17.792463302612305,10.211599349975586,2.4924862384796143,23.325944900512695,-29.612363815307617,-25.933454513549805,-5.051552772521973,-30.150285720825195,-10.379095077514648,-12.422165870666504,15.845039367675781,5.568361282348633,-25.671588897705078,-2.1409218311309814,-4.892430305480957,0.45616576075553894,-10.147673606872559,-24.5459041595459,-17.98641014099121,-17.291784286499023,-9.686537742614746,-27.69811248779297,-6.498492240905762,-31.469911575317383,-2.5657947063446045,4.4267191886901855,23.149246215820312,-29.626386642456055,0.37295711040496826,19.502735137939453,2.045792579650879,-10.277945518493652,-2.990898847579956,21.04388999938965,-32.44109344482422,2.6516730785369873,-30.565288543701172,-16.46059226989746,-16.346792221069336,-19.933786392211914,-3.8950934410095215,-1.2362319231033325,11.500592231750488,-2.8869192600250244,19.402740478515625,-27.325468063354492,-10.486852645874023,-14.083797454833984,-26.6756534576416,-16.306730270385742,-5.717748641967773,-30.099533081054688,20.467849731445312,3.511719226837158,-8.381096839904785,-19.988025665283203,-1.6791951656341553,6.198491096496582,-10.510849952697754,-8.602696418762207,13.501489639282227,14.890148162841797,-19.69316291809082,16.66168785095215,19.49610710144043,-4.811130523681641,-9.163122177124023,14.654953002929688,-6.709813117980957,-29.241653442382812,-20.202590942382812,15.149794578552246,3.5973918437957764,16.768211364746094,-10.159632682800293,-9.989365577697754,-4.678617000579834,-21.05357551574707,-2.4874815940856934,-5.356074810028076,-10.624967575073242,-6.0456767082214355,-28.27458381652832,-7.648166179656982,-13.69046688079834,-28.0674991607666,-12.066520690917969,15.96552848815918,-12.784721374511719,-4.842479705810547,18.851516723632812,-10.135255813598633,14.811539649963379,-30.293874740600586,2.909398317337036,-21.715776443481445,-27.522859573364258,-1.0599159002304077,-16.082304000854492,15.708340644836426,1.821099877357483,28.90066909790039,9.200896263122559,-6.690914154052734,11.424201011657715,-9.748570442199707,10.764358520507812,-4.660027503967285,-16.394136428833008,-21.951120376586914,-30.519792556762695,3.1460883617401123,-7.733863353729248,-20.38200569152832,-5.646589756011963,-11.536591529846191,-28.899084091186523,-1.0444999933242798,-1.8536192178726196,-23.038677215576172,-9.223363876342773,4.771726608276367,-8.931674003601074,17.8436279296875,-11.656221389770508,-25.01399040222168,-6.8196330070495605,-29.933584213256836],\"xaxis\":\"x\",\"y\":[-63.31525802612305,47.65800857543945,-60.706787109375,59.97710418701172,-14.589240074157715,24.07510757446289,27.19709587097168,-69.1104736328125,51.816524505615234,53.41233825683594,-69.08082580566406,-61.91569900512695,49.04727554321289,60.800079345703125,46.31484603881836,52.64661407470703,-67.84302520751953,-64.69575500488281,57.06357955932617,49.53497314453125,17.877717971801758,37.30685043334961,61.566627502441406,27.65094566345215,50.32292556762695,-46.7308235168457,-69.54867553710938,24.843549728393555,38.91020584106445,-21.930988311767578,-56.48821258544922,4.760693073272705,60.802391052246094,-70.40087890625,-70.84844207763672,-69.7657699584961,-71.25594329833984,-70.29157257080078,25.19089698791504,37.34593963623047,50.44602584838867,60.769569396972656,58.02296447753906,47.94258117675781,-54.789520263671875,24.815488815307617,39.46668243408203,-68.64994049072266,41.742618560791016,57.79182815551758,57.83446502685547,26.242237091064453,49.141319274902344,-66.8704833984375,-63.284915924072266,62.92658615112305,59.97538757324219,57.44491195678711,52.4515495300293,-67.78370666503906,64.3778305053711,64.3232192993164,3.309757709503174,59.14215087890625,60.090431213378906,-63.93387222290039,60.765289306640625,-62.15914535522461,45.34159469604492,52.696651458740234,-65.27938842773438,-42.12667465209961,33.47862243652344,59.914058685302734,54.36244201660156,46.191139221191406,53.18854522705078,-39.23659896850586,39.59672546386719,59.47113037109375,-68.51655578613281,64.99401092529297,52.7779541015625,53.21778869628906,45.642601013183594,-64.22032165527344,35.8316535949707,55.71501541137695,56.087284088134766,53.19135284423828,-14.440115928649902,-66.25346374511719,60.22043991088867,61.04344940185547,57.07019805908203,-32.7122802734375,42.86200714111328,31.698863983154297,57.14102554321289,61.87248611450195,-32.95794677734375,38.529422760009766,9.607959747314453,56.867774963378906,-61.58042526245117,-41.60660171508789,48.96279525756836,54.837196350097656,25.23464584350586,50.987205505371094,55.36720657348633,39.585384368896484,55.975494384765625,63.71164321899414,-67.4774169921875,-65.43614196777344,55.831520080566406,64.30450439453125,-27.687435150146484,11.513204574584961,48.62507629394531,13.356863021850586,-68.66545104980469,25.250381469726562,64.59173583984375,55.80368423461914,-58.27912902832031,-42.38636016845703,35.446041107177734,61.26877212524414,54.789329528808594,-68.6082763671875,26.1297550201416,37.50532531738281,44.84214782714844,63.26646423339844,46.44050598144531,-61.70144271850586,-39.72570037841797,35.4400520324707,17.908672332763672,62.1434326171875,-8.086631774902344,51.41021728515625,-53.89712142944336,-61.53310012817383,24.703859329223633,-39.987552642822266,62.83327865600586,56.0751838684082,62.9408073425293,8.84895133972168,-49.14641189575195,60.58201599121094,-64.38887023925781,39.468509674072266,61.33049774169922,10.753349304199219,-63.03137969970703,56.08856964111328,51.467933654785156,38.06557846069336,-59.60199737548828,44.445167541503906,62.541168212890625,56.620914459228516,-40.139156341552734,-41.37785339355469,59.44757843017578,60.037925720214844,56.323081970214844,51.33075714111328,-31.215099334716797,-65.75519561767578,-63.08719253540039,-54.0038948059082,54.34226608276367,60.47723388671875,-20.97967529296875,56.23107147216797,-22.421743392944336,-34.94882583618164,-68.55567932128906,47.696773529052734,60.615806579589844,32.757328033447266,-42.966739654541016,3.437117576599121,-25.11500358581543,12.45055103302002,56.01015090942383,-27.607181549072266,55.260555267333984,18.772558212280273,-42.4289436340332,56.9044189453125,-51.613277435302734,55.833839416503906,-57.894813537597656,55.61351776123047,-44.31941604614258,-13.008026123046875,43.35089874267578,-18.69735336303711,-52.47737121582031,-58.4064826965332,45.2566032409668,-59.01437759399414,55.258140563964844,59.29887390136719,-32.785545349121094,57.52098083496094,34.936119079589844,-54.19662094116211,-64.6906509399414,53.868194580078125,-60.186912536621094,62.54220962524414,63.154598236083984,55.58465576171875,55.57666778564453,63.26557540893555,-16.934280395507812,50.58150100708008,27.60096549987793,52.18891143798828,41.48350524902344,59.12948226928711,56.569278717041016,-61.942100524902344,63.260528564453125,-13.120766639709473,-64.97855377197266,-61.29280471801758,56.38438415527344,29.327272415161133,-59.529258728027344,34.2970085144043,-8.715941429138184,-66.3204574584961,50.471771240234375,55.332366943359375,59.0112190246582,-58.29566192626953,-60.817935943603516,-61.89720153808594,-31.643409729003906,33.001853942871094,51.939483642578125,38.54836654663086,31.881315231323242,43.968994140625,62.810813903808594,46.978118896484375,51.4057502746582,41.31177520751953,-33.738162994384766,52.97743225097656,47.065391540527344,-62.19645690917969,-40.117950439453125,34.705055236816406,28.018754959106445,1.2322421073913574,-63.574974060058594,57.4336051940918,-62.93760681152344,26.820234298706055,45.86703872680664,19.58315086364746,57.497615814208984,-62.58023452758789,-61.401493072509766,-18.324844360351562,-54.31960678100586,40.64335632324219,-62.29933547973633,-48.93317413330078,25.54461097717285,-16.006916046142578,-21.818378448486328,45.92079162597656,52.895206451416016,9.044425010681152,-16.969234466552734,48.71232986450195,51.48030090332031,-35.47184371948242,56.94362258911133,53.240989685058594,-17.33458137512207,35.603092193603516,-24.1027889251709,41.7919807434082,41.254432678222656,26.324443817138672,62.65529251098633,24.109235763549805,37.7412109375,49.069915771484375],\"yaxis\":\"y\",\"type\":\"scatter\"}],                        {\"template\":{\"data\":{\"bar\":[{\"error_x\":{\"color\":\"#2a3f5f\"},\"error_y\":{\"color\":\"#2a3f5f\"},\"marker\":{\"line\":{\"color\":\"#E5ECF6\",\"width\":0.5},\"pattern\":{\"fillmode\":\"overlay\",\"size\":10,\"solidity\":0.2}},\"type\":\"bar\"}],\"barpolar\":[{\"marker\":{\"line\":{\"color\":\"#E5ECF6\",\"width\":0.5},\"pattern\":{\"fillmode\":\"overlay\",\"size\":10,\"solidity\":0.2}},\"type\":\"barpolar\"}],\"carpet\":[{\"aaxis\":{\"endlinecolor\":\"#2a3f5f\",\"gridcolor\":\"white\",\"linecolor\":\"white\",\"minorgridcolor\":\"white\",\"startlinecolor\":\"#2a3f5f\"},\"baxis\":{\"endlinecolor\":\"#2a3f5f\",\"gridcolor\":\"white\",\"linecolor\":\"white\",\"minorgridcolor\":\"white\",\"startlinecolor\":\"#2a3f5f\"},\"type\":\"carpet\"}],\"choropleth\":[{\"colorbar\":{\"outlinewidth\":0,\"ticks\":\"\"},\"type\":\"choropleth\"}],\"contour\":[{\"colorbar\":{\"outlinewidth\":0,\"ticks\":\"\"},\"colorscale\":[[0.0,\"#0d0887\"],[0.1111111111111111,\"#46039f\"],[0.2222222222222222,\"#7201a8\"],[0.3333333333333333,\"#9c179e\"],[0.4444444444444444,\"#bd3786\"],[0.5555555555555556,\"#d8576b\"],[0.6666666666666666,\"#ed7953\"],[0.7777777777777778,\"#fb9f3a\"],[0.8888888888888888,\"#fdca26\"],[1.0,\"#f0f921\"]],\"type\":\"contour\"}],\"contourcarpet\":[{\"colorbar\":{\"outlinewidth\":0,\"ticks\":\"\"},\"type\":\"contourcarpet\"}],\"heatmap\":[{\"colorbar\":{\"outlinewidth\":0,\"ticks\":\"\"},\"colorscale\":[[0.0,\"#0d0887\"],[0.1111111111111111,\"#46039f\"],[0.2222222222222222,\"#7201a8\"],[0.3333333333333333,\"#9c179e\"],[0.4444444444444444,\"#bd3786\"],[0.5555555555555556,\"#d8576b\"],[0.6666666666666666,\"#ed7953\"],[0.7777777777777778,\"#fb9f3a\"],[0.8888888888888888,\"#fdca26\"],[1.0,\"#f0f921\"]],\"type\":\"heatmap\"}],\"heatmapgl\":[{\"colorbar\":{\"outlinewidth\":0,\"ticks\":\"\"},\"colorscale\":[[0.0,\"#0d0887\"],[0.1111111111111111,\"#46039f\"],[0.2222222222222222,\"#7201a8\"],[0.3333333333333333,\"#9c179e\"],[0.4444444444444444,\"#bd3786\"],[0.5555555555555556,\"#d8576b\"],[0.6666666666666666,\"#ed7953\"],[0.7777777777777778,\"#fb9f3a\"],[0.8888888888888888,\"#fdca26\"],[1.0,\"#f0f921\"]],\"type\":\"heatmapgl\"}],\"histogram\":[{\"marker\":{\"pattern\":{\"fillmode\":\"overlay\",\"size\":10,\"solidity\":0.2}},\"type\":\"histogram\"}],\"histogram2d\":[{\"colorbar\":{\"outlinewidth\":0,\"ticks\":\"\"},\"colorscale\":[[0.0,\"#0d0887\"],[0.1111111111111111,\"#46039f\"],[0.2222222222222222,\"#7201a8\"],[0.3333333333333333,\"#9c179e\"],[0.4444444444444444,\"#bd3786\"],[0.5555555555555556,\"#d8576b\"],[0.6666666666666666,\"#ed7953\"],[0.7777777777777778,\"#fb9f3a\"],[0.8888888888888888,\"#fdca26\"],[1.0,\"#f0f921\"]],\"type\":\"histogram2d\"}],\"histogram2dcontour\":[{\"colorbar\":{\"outlinewidth\":0,\"ticks\":\"\"},\"colorscale\":[[0.0,\"#0d0887\"],[0.1111111111111111,\"#46039f\"],[0.2222222222222222,\"#7201a8\"],[0.3333333333333333,\"#9c179e\"],[0.4444444444444444,\"#bd3786\"],[0.5555555555555556,\"#d8576b\"],[0.6666666666666666,\"#ed7953\"],[0.7777777777777778,\"#fb9f3a\"],[0.8888888888888888,\"#fdca26\"],[1.0,\"#f0f921\"]],\"type\":\"histogram2dcontour\"}],\"mesh3d\":[{\"colorbar\":{\"outlinewidth\":0,\"ticks\":\"\"},\"type\":\"mesh3d\"}],\"parcoords\":[{\"line\":{\"colorbar\":{\"outlinewidth\":0,\"ticks\":\"\"}},\"type\":\"parcoords\"}],\"pie\":[{\"automargin\":true,\"type\":\"pie\"}],\"scatter\":[{\"marker\":{\"colorbar\":{\"outlinewidth\":0,\"ticks\":\"\"}},\"type\":\"scatter\"}],\"scatter3d\":[{\"line\":{\"colorbar\":{\"outlinewidth\":0,\"ticks\":\"\"}},\"marker\":{\"colorbar\":{\"outlinewidth\":0,\"ticks\":\"\"}},\"type\":\"scatter3d\"}],\"scattercarpet\":[{\"marker\":{\"colorbar\":{\"outlinewidth\":0,\"ticks\":\"\"}},\"type\":\"scattercarpet\"}],\"scattergeo\":[{\"marker\":{\"colorbar\":{\"outlinewidth\":0,\"ticks\":\"\"}},\"type\":\"scattergeo\"}],\"scattergl\":[{\"marker\":{\"colorbar\":{\"outlinewidth\":0,\"ticks\":\"\"}},\"type\":\"scattergl\"}],\"scattermapbox\":[{\"marker\":{\"colorbar\":{\"outlinewidth\":0,\"ticks\":\"\"}},\"type\":\"scattermapbox\"}],\"scatterpolar\":[{\"marker\":{\"colorbar\":{\"outlinewidth\":0,\"ticks\":\"\"}},\"type\":\"scatterpolar\"}],\"scatterpolargl\":[{\"marker\":{\"colorbar\":{\"outlinewidth\":0,\"ticks\":\"\"}},\"type\":\"scatterpolargl\"}],\"scatterternary\":[{\"marker\":{\"colorbar\":{\"outlinewidth\":0,\"ticks\":\"\"}},\"type\":\"scatterternary\"}],\"surface\":[{\"colorbar\":{\"outlinewidth\":0,\"ticks\":\"\"},\"colorscale\":[[0.0,\"#0d0887\"],[0.1111111111111111,\"#46039f\"],[0.2222222222222222,\"#7201a8\"],[0.3333333333333333,\"#9c179e\"],[0.4444444444444444,\"#bd3786\"],[0.5555555555555556,\"#d8576b\"],[0.6666666666666666,\"#ed7953\"],[0.7777777777777778,\"#fb9f3a\"],[0.8888888888888888,\"#fdca26\"],[1.0,\"#f0f921\"]],\"type\":\"surface\"}],\"table\":[{\"cells\":{\"fill\":{\"color\":\"#EBF0F8\"},\"line\":{\"color\":\"white\"}},\"header\":{\"fill\":{\"color\":\"#C8D4E3\"},\"line\":{\"color\":\"white\"}},\"type\":\"table\"}]},\"layout\":{\"annotationdefaults\":{\"arrowcolor\":\"#2a3f5f\",\"arrowhead\":0,\"arrowwidth\":1},\"autotypenumbers\":\"strict\",\"coloraxis\":{\"colorbar\":{\"outlinewidth\":0,\"ticks\":\"\"}},\"colorscale\":{\"diverging\":[[0,\"#8e0152\"],[0.1,\"#c51b7d\"],[0.2,\"#de77ae\"],[0.3,\"#f1b6da\"],[0.4,\"#fde0ef\"],[0.5,\"#f7f7f7\"],[0.6,\"#e6f5d0\"],[0.7,\"#b8e186\"],[0.8,\"#7fbc41\"],[0.9,\"#4d9221\"],[1,\"#276419\"]],\"sequential\":[[0.0,\"#0d0887\"],[0.1111111111111111,\"#46039f\"],[0.2222222222222222,\"#7201a8\"],[0.3333333333333333,\"#9c179e\"],[0.4444444444444444,\"#bd3786\"],[0.5555555555555556,\"#d8576b\"],[0.6666666666666666,\"#ed7953\"],[0.7777777777777778,\"#fb9f3a\"],[0.8888888888888888,\"#fdca26\"],[1.0,\"#f0f921\"]],\"sequentialminus\":[[0.0,\"#0d0887\"],[0.1111111111111111,\"#46039f\"],[0.2222222222222222,\"#7201a8\"],[0.3333333333333333,\"#9c179e\"],[0.4444444444444444,\"#bd3786\"],[0.5555555555555556,\"#d8576b\"],[0.6666666666666666,\"#ed7953\"],[0.7777777777777778,\"#fb9f3a\"],[0.8888888888888888,\"#fdca26\"],[1.0,\"#f0f921\"]]},\"colorway\":[\"#636efa\",\"#EF553B\",\"#00cc96\",\"#ab63fa\",\"#FFA15A\",\"#19d3f3\",\"#FF6692\",\"#B6E880\",\"#FF97FF\",\"#FECB52\"],\"font\":{\"color\":\"#2a3f5f\"},\"geo\":{\"bgcolor\":\"white\",\"lakecolor\":\"white\",\"landcolor\":\"#E5ECF6\",\"showlakes\":true,\"showland\":true,\"subunitcolor\":\"white\"},\"hoverlabel\":{\"align\":\"left\"},\"hovermode\":\"closest\",\"mapbox\":{\"style\":\"light\"},\"paper_bgcolor\":\"white\",\"plot_bgcolor\":\"#E5ECF6\",\"polar\":{\"angularaxis\":{\"gridcolor\":\"white\",\"linecolor\":\"white\",\"ticks\":\"\"},\"bgcolor\":\"#E5ECF6\",\"radialaxis\":{\"gridcolor\":\"white\",\"linecolor\":\"white\",\"ticks\":\"\"}},\"scene\":{\"xaxis\":{\"backgroundcolor\":\"#E5ECF6\",\"gridcolor\":\"white\",\"gridwidth\":2,\"linecolor\":\"white\",\"showbackground\":true,\"ticks\":\"\",\"zerolinecolor\":\"white\"},\"yaxis\":{\"backgroundcolor\":\"#E5ECF6\",\"gridcolor\":\"white\",\"gridwidth\":2,\"linecolor\":\"white\",\"showbackground\":true,\"ticks\":\"\",\"zerolinecolor\":\"white\"},\"zaxis\":{\"backgroundcolor\":\"#E5ECF6\",\"gridcolor\":\"white\",\"gridwidth\":2,\"linecolor\":\"white\",\"showbackground\":true,\"ticks\":\"\",\"zerolinecolor\":\"white\"}},\"shapedefaults\":{\"line\":{\"color\":\"#2a3f5f\"}},\"ternary\":{\"aaxis\":{\"gridcolor\":\"white\",\"linecolor\":\"white\",\"ticks\":\"\"},\"baxis\":{\"gridcolor\":\"white\",\"linecolor\":\"white\",\"ticks\":\"\"},\"bgcolor\":\"#E5ECF6\",\"caxis\":{\"gridcolor\":\"white\",\"linecolor\":\"white\",\"ticks\":\"\"}},\"title\":{\"x\":0.05},\"xaxis\":{\"automargin\":true,\"gridcolor\":\"white\",\"linecolor\":\"white\",\"ticks\":\"\",\"title\":{\"standoff\":15},\"zerolinecolor\":\"white\",\"zerolinewidth\":2},\"yaxis\":{\"automargin\":true,\"gridcolor\":\"white\",\"linecolor\":\"white\",\"ticks\":\"\",\"title\":{\"standoff\":15},\"zerolinecolor\":\"white\",\"zerolinewidth\":2}}},\"xaxis\":{\"anchor\":\"y\",\"domain\":[0.0,1.0],\"title\":{\"text\":\"x\"}},\"yaxis\":{\"anchor\":\"x\",\"domain\":[0.0,1.0],\"title\":{\"text\":\"y\"}},\"legend\":{\"tracegroupgap\":0},\"margin\":{\"t\":60}},                        {\"responsive\": true}                    ).then(function(){\n",
              "                            \n",
              "var gd = document.getElementById('16bf90a1-9fa2-4706-8a5b-92185d1a540b');\n",
              "var x = new MutationObserver(function (mutations, observer) {{\n",
              "        var display = window.getComputedStyle(gd).display;\n",
              "        if (!display || display === 'none') {{\n",
              "            console.log([gd, 'removed!']);\n",
              "            Plotly.purge(gd);\n",
              "            observer.disconnect();\n",
              "        }}\n",
              "}});\n",
              "\n",
              "// Listen for the removal of the full notebook cells\n",
              "var notebookContainer = gd.closest('#notebook-container');\n",
              "if (notebookContainer) {{\n",
              "    x.observe(notebookContainer, {childList: true});\n",
              "}}\n",
              "\n",
              "// Listen for the clearing of the current output cell\n",
              "var outputEl = gd.closest('.output');\n",
              "if (outputEl) {{\n",
              "    x.observe(outputEl, {childList: true});\n",
              "}}\n",
              "\n",
              "                        })                };                            </script>        </div>\n",
              "</body>\n",
              "</html>"
            ]
          },
          "metadata": {}
        }
      ]
    },
    {
      "cell_type": "code",
      "source": [
        "# Graficar una zona para que se vea de mayor tamaño y los términos más claramente.\n",
        "x_selected=[]\n",
        "y_selected=[]\n",
        "labels_selected=[]\n",
        "\n",
        "for i, value_x in enumerate (x_vals[:MAX_WORDS]):\n",
        "    if value_x>=15 and value_x<=30 and y_vals[i]<=40 and y_vals[i]>=20:\n",
        "      x_selected.append(value_x)\n",
        "      y_selected.append(y_vals[i])\n",
        "      labels_selected.append(labels[i])\n",
        "\n",
        "fig = px.scatter(x=x_selected, y=y_selected, text=labels_selected)\n",
        "fig.show(renderer=\"colab\") # Esto para plotly en Colab."
      ],
      "metadata": {
        "colab": {
          "base_uri": "https://localhost:8080/",
          "height": 542
        },
        "outputId": "d3cbc3a6-8b92-4fdd-b3ad-c44236770388",
        "id": "4p6hl81Bb2Ph"
      },
      "execution_count": 73,
      "outputs": [
        {
          "output_type": "display_data",
          "data": {
            "text/html": [
              "<html>\n",
              "<head><meta charset=\"utf-8\" /></head>\n",
              "<body>\n",
              "    <div>            <script src=\"https://cdnjs.cloudflare.com/ajax/libs/mathjax/2.7.5/MathJax.js?config=TeX-AMS-MML_SVG\"></script><script type=\"text/javascript\">if (window.MathJax) {MathJax.Hub.Config({SVG: {font: \"STIX-Web\"}});}</script>                <script type=\"text/javascript\">window.PlotlyConfig = {MathJaxConfig: 'local'};</script>\n",
              "        <script src=\"https://cdn.plot.ly/plotly-2.8.3.min.js\"></script>                <div id=\"dc9bacc7-8347-4d2c-9a97-82f8c750980e\" class=\"plotly-graph-div\" style=\"height:525px; width:100%;\"></div>            <script type=\"text/javascript\">                                    window.PLOTLYENV=window.PLOTLYENV || {};                                    if (document.getElementById(\"dc9bacc7-8347-4d2c-9a97-82f8c750980e\")) {                    Plotly.newPlot(                        \"dc9bacc7-8347-4d2c-9a97-82f8c750980e\",                        [{\"hovertemplate\":\"x=%{x}<br>y=%{y}<br>text=%{text}<extra></extra>\",\"legendgroup\":\"\",\"marker\":{\"color\":\"#636efa\",\"symbol\":\"circle\"},\"mode\":\"markers+text\",\"name\":\"\",\"orientation\":\"v\",\"showlegend\":false,\"text\":[\"harry\",\"he\",\"potter\",\"ron\",\"hagrid\",\"hermione\",\"she\",\"dumbledore\",\"malfoy\",\"neville\",\"mcgonagall\",\"quirrell\",\"boy\",\"dursley\",\"wood\",\"weasley\",\"\\u201cthe\"],\"x\":[25.505643844604492,25.812021255493164,20.947433471679688,26.819162368774414,26.679000854492188,26.691917419433594,25.947324752807617,17.765697479248047,24.991626739501953,24.993993759155273,18.901933670043945,17.98835563659668,17.27991485595703,20.467849731445312,16.66168785095215,18.851516723632812,17.8436279296875],\"xaxis\":\"x\",\"y\":[24.07510757446289,27.19709587097168,27.65094566345215,24.843549728393555,25.19089698791504,24.815488815307617,26.242237091064453,35.8316535949707,25.23464584350586,25.250381469726562,35.446041107177734,35.4400520324707,24.703859329223633,27.60096549987793,29.327272415161133,28.018754959106445,26.324443817138672],\"yaxis\":\"y\",\"type\":\"scatter\"}],                        {\"template\":{\"data\":{\"bar\":[{\"error_x\":{\"color\":\"#2a3f5f\"},\"error_y\":{\"color\":\"#2a3f5f\"},\"marker\":{\"line\":{\"color\":\"#E5ECF6\",\"width\":0.5},\"pattern\":{\"fillmode\":\"overlay\",\"size\":10,\"solidity\":0.2}},\"type\":\"bar\"}],\"barpolar\":[{\"marker\":{\"line\":{\"color\":\"#E5ECF6\",\"width\":0.5},\"pattern\":{\"fillmode\":\"overlay\",\"size\":10,\"solidity\":0.2}},\"type\":\"barpolar\"}],\"carpet\":[{\"aaxis\":{\"endlinecolor\":\"#2a3f5f\",\"gridcolor\":\"white\",\"linecolor\":\"white\",\"minorgridcolor\":\"white\",\"startlinecolor\":\"#2a3f5f\"},\"baxis\":{\"endlinecolor\":\"#2a3f5f\",\"gridcolor\":\"white\",\"linecolor\":\"white\",\"minorgridcolor\":\"white\",\"startlinecolor\":\"#2a3f5f\"},\"type\":\"carpet\"}],\"choropleth\":[{\"colorbar\":{\"outlinewidth\":0,\"ticks\":\"\"},\"type\":\"choropleth\"}],\"contour\":[{\"colorbar\":{\"outlinewidth\":0,\"ticks\":\"\"},\"colorscale\":[[0.0,\"#0d0887\"],[0.1111111111111111,\"#46039f\"],[0.2222222222222222,\"#7201a8\"],[0.3333333333333333,\"#9c179e\"],[0.4444444444444444,\"#bd3786\"],[0.5555555555555556,\"#d8576b\"],[0.6666666666666666,\"#ed7953\"],[0.7777777777777778,\"#fb9f3a\"],[0.8888888888888888,\"#fdca26\"],[1.0,\"#f0f921\"]],\"type\":\"contour\"}],\"contourcarpet\":[{\"colorbar\":{\"outlinewidth\":0,\"ticks\":\"\"},\"type\":\"contourcarpet\"}],\"heatmap\":[{\"colorbar\":{\"outlinewidth\":0,\"ticks\":\"\"},\"colorscale\":[[0.0,\"#0d0887\"],[0.1111111111111111,\"#46039f\"],[0.2222222222222222,\"#7201a8\"],[0.3333333333333333,\"#9c179e\"],[0.4444444444444444,\"#bd3786\"],[0.5555555555555556,\"#d8576b\"],[0.6666666666666666,\"#ed7953\"],[0.7777777777777778,\"#fb9f3a\"],[0.8888888888888888,\"#fdca26\"],[1.0,\"#f0f921\"]],\"type\":\"heatmap\"}],\"heatmapgl\":[{\"colorbar\":{\"outlinewidth\":0,\"ticks\":\"\"},\"colorscale\":[[0.0,\"#0d0887\"],[0.1111111111111111,\"#46039f\"],[0.2222222222222222,\"#7201a8\"],[0.3333333333333333,\"#9c179e\"],[0.4444444444444444,\"#bd3786\"],[0.5555555555555556,\"#d8576b\"],[0.6666666666666666,\"#ed7953\"],[0.7777777777777778,\"#fb9f3a\"],[0.8888888888888888,\"#fdca26\"],[1.0,\"#f0f921\"]],\"type\":\"heatmapgl\"}],\"histogram\":[{\"marker\":{\"pattern\":{\"fillmode\":\"overlay\",\"size\":10,\"solidity\":0.2}},\"type\":\"histogram\"}],\"histogram2d\":[{\"colorbar\":{\"outlinewidth\":0,\"ticks\":\"\"},\"colorscale\":[[0.0,\"#0d0887\"],[0.1111111111111111,\"#46039f\"],[0.2222222222222222,\"#7201a8\"],[0.3333333333333333,\"#9c179e\"],[0.4444444444444444,\"#bd3786\"],[0.5555555555555556,\"#d8576b\"],[0.6666666666666666,\"#ed7953\"],[0.7777777777777778,\"#fb9f3a\"],[0.8888888888888888,\"#fdca26\"],[1.0,\"#f0f921\"]],\"type\":\"histogram2d\"}],\"histogram2dcontour\":[{\"colorbar\":{\"outlinewidth\":0,\"ticks\":\"\"},\"colorscale\":[[0.0,\"#0d0887\"],[0.1111111111111111,\"#46039f\"],[0.2222222222222222,\"#7201a8\"],[0.3333333333333333,\"#9c179e\"],[0.4444444444444444,\"#bd3786\"],[0.5555555555555556,\"#d8576b\"],[0.6666666666666666,\"#ed7953\"],[0.7777777777777778,\"#fb9f3a\"],[0.8888888888888888,\"#fdca26\"],[1.0,\"#f0f921\"]],\"type\":\"histogram2dcontour\"}],\"mesh3d\":[{\"colorbar\":{\"outlinewidth\":0,\"ticks\":\"\"},\"type\":\"mesh3d\"}],\"parcoords\":[{\"line\":{\"colorbar\":{\"outlinewidth\":0,\"ticks\":\"\"}},\"type\":\"parcoords\"}],\"pie\":[{\"automargin\":true,\"type\":\"pie\"}],\"scatter\":[{\"marker\":{\"colorbar\":{\"outlinewidth\":0,\"ticks\":\"\"}},\"type\":\"scatter\"}],\"scatter3d\":[{\"line\":{\"colorbar\":{\"outlinewidth\":0,\"ticks\":\"\"}},\"marker\":{\"colorbar\":{\"outlinewidth\":0,\"ticks\":\"\"}},\"type\":\"scatter3d\"}],\"scattercarpet\":[{\"marker\":{\"colorbar\":{\"outlinewidth\":0,\"ticks\":\"\"}},\"type\":\"scattercarpet\"}],\"scattergeo\":[{\"marker\":{\"colorbar\":{\"outlinewidth\":0,\"ticks\":\"\"}},\"type\":\"scattergeo\"}],\"scattergl\":[{\"marker\":{\"colorbar\":{\"outlinewidth\":0,\"ticks\":\"\"}},\"type\":\"scattergl\"}],\"scattermapbox\":[{\"marker\":{\"colorbar\":{\"outlinewidth\":0,\"ticks\":\"\"}},\"type\":\"scattermapbox\"}],\"scatterpolar\":[{\"marker\":{\"colorbar\":{\"outlinewidth\":0,\"ticks\":\"\"}},\"type\":\"scatterpolar\"}],\"scatterpolargl\":[{\"marker\":{\"colorbar\":{\"outlinewidth\":0,\"ticks\":\"\"}},\"type\":\"scatterpolargl\"}],\"scatterternary\":[{\"marker\":{\"colorbar\":{\"outlinewidth\":0,\"ticks\":\"\"}},\"type\":\"scatterternary\"}],\"surface\":[{\"colorbar\":{\"outlinewidth\":0,\"ticks\":\"\"},\"colorscale\":[[0.0,\"#0d0887\"],[0.1111111111111111,\"#46039f\"],[0.2222222222222222,\"#7201a8\"],[0.3333333333333333,\"#9c179e\"],[0.4444444444444444,\"#bd3786\"],[0.5555555555555556,\"#d8576b\"],[0.6666666666666666,\"#ed7953\"],[0.7777777777777778,\"#fb9f3a\"],[0.8888888888888888,\"#fdca26\"],[1.0,\"#f0f921\"]],\"type\":\"surface\"}],\"table\":[{\"cells\":{\"fill\":{\"color\":\"#EBF0F8\"},\"line\":{\"color\":\"white\"}},\"header\":{\"fill\":{\"color\":\"#C8D4E3\"},\"line\":{\"color\":\"white\"}},\"type\":\"table\"}]},\"layout\":{\"annotationdefaults\":{\"arrowcolor\":\"#2a3f5f\",\"arrowhead\":0,\"arrowwidth\":1},\"autotypenumbers\":\"strict\",\"coloraxis\":{\"colorbar\":{\"outlinewidth\":0,\"ticks\":\"\"}},\"colorscale\":{\"diverging\":[[0,\"#8e0152\"],[0.1,\"#c51b7d\"],[0.2,\"#de77ae\"],[0.3,\"#f1b6da\"],[0.4,\"#fde0ef\"],[0.5,\"#f7f7f7\"],[0.6,\"#e6f5d0\"],[0.7,\"#b8e186\"],[0.8,\"#7fbc41\"],[0.9,\"#4d9221\"],[1,\"#276419\"]],\"sequential\":[[0.0,\"#0d0887\"],[0.1111111111111111,\"#46039f\"],[0.2222222222222222,\"#7201a8\"],[0.3333333333333333,\"#9c179e\"],[0.4444444444444444,\"#bd3786\"],[0.5555555555555556,\"#d8576b\"],[0.6666666666666666,\"#ed7953\"],[0.7777777777777778,\"#fb9f3a\"],[0.8888888888888888,\"#fdca26\"],[1.0,\"#f0f921\"]],\"sequentialminus\":[[0.0,\"#0d0887\"],[0.1111111111111111,\"#46039f\"],[0.2222222222222222,\"#7201a8\"],[0.3333333333333333,\"#9c179e\"],[0.4444444444444444,\"#bd3786\"],[0.5555555555555556,\"#d8576b\"],[0.6666666666666666,\"#ed7953\"],[0.7777777777777778,\"#fb9f3a\"],[0.8888888888888888,\"#fdca26\"],[1.0,\"#f0f921\"]]},\"colorway\":[\"#636efa\",\"#EF553B\",\"#00cc96\",\"#ab63fa\",\"#FFA15A\",\"#19d3f3\",\"#FF6692\",\"#B6E880\",\"#FF97FF\",\"#FECB52\"],\"font\":{\"color\":\"#2a3f5f\"},\"geo\":{\"bgcolor\":\"white\",\"lakecolor\":\"white\",\"landcolor\":\"#E5ECF6\",\"showlakes\":true,\"showland\":true,\"subunitcolor\":\"white\"},\"hoverlabel\":{\"align\":\"left\"},\"hovermode\":\"closest\",\"mapbox\":{\"style\":\"light\"},\"paper_bgcolor\":\"white\",\"plot_bgcolor\":\"#E5ECF6\",\"polar\":{\"angularaxis\":{\"gridcolor\":\"white\",\"linecolor\":\"white\",\"ticks\":\"\"},\"bgcolor\":\"#E5ECF6\",\"radialaxis\":{\"gridcolor\":\"white\",\"linecolor\":\"white\",\"ticks\":\"\"}},\"scene\":{\"xaxis\":{\"backgroundcolor\":\"#E5ECF6\",\"gridcolor\":\"white\",\"gridwidth\":2,\"linecolor\":\"white\",\"showbackground\":true,\"ticks\":\"\",\"zerolinecolor\":\"white\"},\"yaxis\":{\"backgroundcolor\":\"#E5ECF6\",\"gridcolor\":\"white\",\"gridwidth\":2,\"linecolor\":\"white\",\"showbackground\":true,\"ticks\":\"\",\"zerolinecolor\":\"white\"},\"zaxis\":{\"backgroundcolor\":\"#E5ECF6\",\"gridcolor\":\"white\",\"gridwidth\":2,\"linecolor\":\"white\",\"showbackground\":true,\"ticks\":\"\",\"zerolinecolor\":\"white\"}},\"shapedefaults\":{\"line\":{\"color\":\"#2a3f5f\"}},\"ternary\":{\"aaxis\":{\"gridcolor\":\"white\",\"linecolor\":\"white\",\"ticks\":\"\"},\"baxis\":{\"gridcolor\":\"white\",\"linecolor\":\"white\",\"ticks\":\"\"},\"bgcolor\":\"#E5ECF6\",\"caxis\":{\"gridcolor\":\"white\",\"linecolor\":\"white\",\"ticks\":\"\"}},\"title\":{\"x\":0.05},\"xaxis\":{\"automargin\":true,\"gridcolor\":\"white\",\"linecolor\":\"white\",\"ticks\":\"\",\"title\":{\"standoff\":15},\"zerolinecolor\":\"white\",\"zerolinewidth\":2},\"yaxis\":{\"automargin\":true,\"gridcolor\":\"white\",\"linecolor\":\"white\",\"ticks\":\"\",\"title\":{\"standoff\":15},\"zerolinecolor\":\"white\",\"zerolinewidth\":2}}},\"xaxis\":{\"anchor\":\"y\",\"domain\":[0.0,1.0],\"title\":{\"text\":\"x\"}},\"yaxis\":{\"anchor\":\"x\",\"domain\":[0.0,1.0],\"title\":{\"text\":\"y\"}},\"legend\":{\"tracegroupgap\":0},\"margin\":{\"t\":60}},                        {\"responsive\": true}                    ).then(function(){\n",
              "                            \n",
              "var gd = document.getElementById('dc9bacc7-8347-4d2c-9a97-82f8c750980e');\n",
              "var x = new MutationObserver(function (mutations, observer) {{\n",
              "        var display = window.getComputedStyle(gd).display;\n",
              "        if (!display || display === 'none') {{\n",
              "            console.log([gd, 'removed!']);\n",
              "            Plotly.purge(gd);\n",
              "            observer.disconnect();\n",
              "        }}\n",
              "}});\n",
              "\n",
              "// Listen for the removal of the full notebook cells\n",
              "var notebookContainer = gd.closest('#notebook-container');\n",
              "if (notebookContainer) {{\n",
              "    x.observe(notebookContainer, {childList: true});\n",
              "}}\n",
              "\n",
              "// Listen for the clearing of the current output cell\n",
              "var outputEl = gd.closest('.output');\n",
              "if (outputEl) {{\n",
              "    x.observe(outputEl, {childList: true});\n",
              "}}\n",
              "\n",
              "                        })                };                            </script>        </div>\n",
              "</body>\n",
              "</html>"
            ]
          },
          "metadata": {}
        }
      ]
    },
    {
      "cell_type": "markdown",
      "source": [
        "#### Conclusiones"
      ],
      "metadata": {
        "id": "GghRwj3NTPhL"
      }
    },
    {
      "cell_type": "markdown",
      "source": [
        "Se puede notar claramente que existe una zona en donde se agrupan los nombres de los profesores protagonistas del libro (arriba a la izquierda), y otra, en donde agrupa los nombres de los alumnos (abajo a la derecha), y si bien figuran Harry y sus amigos, también en este caso aparece Malfoy, que es otro alumno, y el enemigo número uno de Harry en la escuela. Notar que también en este caso aparece Hagrid junto con los alumnos, porque es un profesor que en general, tiene más participación con los alumnos que con sus propios colegas.\n",
        "En este caso, comparado con los anteriores, desaparece el profesor Snape."
      ],
      "metadata": {
        "id": "W_ho-ZM-TSj0"
      }
    },
    {
      "cell_type": "markdown",
      "source": [
        "### Comparación de los 3 casos y conclusiones"
      ],
      "metadata": {
        "id": "QH1gtJIWVlLr"
      }
    },
    {
      "cell_type": "markdown",
      "source": [
        "Es muy interesante como agrupa profesores por un lado, y alumnos por el otro, en todos los casos.\n",
        "\n",
        "No obstante, algunas diferencias que es importante destacar:\n",
        "\n",
        "* En Skip-Gram el grupo de profesores tiene cierta cercanía con el grupo de alumnos, sin embargo, en CBOW están muy separados cuando la ventana es 2, es decir, los ve como términos totalmente diferentes, y los acerca cuando se amplia la ventana a 4, aunque no se llegua a la cercanía que logra Skip-Gram.\n",
        "* Hagrid es el profesor que tiene más relación con los alumnos, incluso más que con otros profesores. Por eso con Skip-Gram aparece en el grupo de los profesores, siendo el más cercano a los alumnos, mientras que con CBOW, con ambas ventanas, aparece directamente en el grupo de alumnos.\n",
        "* Aparece Malfoy, enemigo número 1 en la escuela de Harry, en el grupo de alumnos para ambos casos de CBOW, en cambio no así para Skip-Gram.\n",
        "* Snape aparece en Skip-Gram y en CBOW de ventana 2 en el grupo de profesores, no así en CBOW de ventana 4. Esto se relaciona también con lo analizado en la sección ensayos, en donde si se ampliaba la ventana Snape se empezaba a relacionar con términos incorrectos."
      ],
      "metadata": {
        "id": "2QyrxTbXVoQU"
      }
    }
  ]
}