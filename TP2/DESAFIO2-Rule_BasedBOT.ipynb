{
  "cells": [
    {
      "cell_type": "markdown",
      "source": [
        "#DESAFÍO Nro. 2 NLP: bot basado en reglas con DNN + Spacy.\n",
        "\n",
        "Las modificaciones realizadas en relación con el ejercicio original fueron:\n",
        "\n",
        "* Se agregó una solución con TF-IDF, se compara con BOW y se obtienen conclusiones.\n",
        "* Se agregó el filtro de stop words.\n",
        "* Se cambió al idioma inglés.\n",
        "* Se optimizó la función de preprocesamiento para que ya contenga el tokenizador más el lematizador, además del filtro de signos de puntuación, números y otros caracteres especiales.\n",
        "* Se modificó el corpus por una temática de IA.\n",
        "* Se incorporó Gradio a modo de ejemplo (para utilizarlo es necesario correr la notebook).\n",
        "* Se graficó la función de pérdida.\n",
        "\n",
        "By Anahi Bazet"
      ],
      "metadata": {
        "id": "ouziTCp2AmjK"
      }
    },
    {
      "cell_type": "markdown",
      "source": [
        "## 1 - Librerias"
      ],
      "metadata": {
        "id": "RcYaV0mXBLnF"
      }
    },
    {
      "cell_type": "code",
      "source": [
        "# Se utilizará gradio para ensayar el bot.\n",
        "# Herramienta poderosa para crear interfaces rápidas para ensayar modelos.\n",
        "# https://gradio.app/\n",
        "import sys\n",
        "!{sys.executable} -m pip install gradio --quiet"
      ],
      "metadata": {
        "id": "0lJ5nauvwK7A"
      },
      "execution_count": null,
      "outputs": []
    },
    {
      "cell_type": "code",
      "source": [
        "import spacy\n",
        "import string\n",
        "import re # Para expresiones regulares.\n",
        "import numpy as np\n",
        "import random \n",
        "from tensorflow.keras import Sequential \n",
        "from tensorflow.keras.layers import Dense, Dropout\n",
        "import pickle\n",
        "import matplotlib.pyplot as plt\n",
        "import seaborn as sns\n",
        "import gradio as gr\n",
        "from sklearn.feature_extraction.text import TfidfVectorizer"
      ],
      "metadata": {
        "id": "Ay9014ZwY5RQ"
      },
      "execution_count": null,
      "outputs": []
    },
    {
      "cell_type": "markdown",
      "metadata": {
        "id": "_wF10RjVMBdV"
      },
      "source": [
        "## 2 - Herramientas de preprocesamiento de datos: función preprocess_clean_text\n",
        "Entre las tareas de procesamiento de texto en inglés se implementa:\n",
        "- Quitar números.\n",
        "- Quitar símbolos de puntuación.\n",
        "- Quitar más de un espacio, saltos de línea o tabulaciones.\n",
        "- Quitar stop words.\n",
        "- Tokenizar y lematizar."
      ]
    },
    {
      "cell_type": "code",
      "source": [
        "nlp = spacy.load('en_core_web_sm')"
      ],
      "metadata": {
        "id": "uift05KyExCG"
      },
      "execution_count": null,
      "outputs": []
    },
    {
      "cell_type": "code",
      "source": [
        "def preprocess_clean_text(text):\n",
        "\n",
        "    # Filter others special symbols and numbers\n",
        "    # Substituir números por un espacio vacío.\n",
        "    text = re.sub(r'[0-9]',' ', text)\n",
        "    # Substituir uno o más caracteres de espacio, saltos de línea o tabulaciones \n",
        "    # por un espacio vacío.\n",
        "    text = re.sub(r'(\\s+)',' ', text)\n",
        "    #print(\"Remove others special symbols and numbers:\")\n",
        "    #print(text)\n",
        "    #print (\"\\nTipo\", type(text))\n",
        "    \n",
        "    doc = nlp(text)\n",
        "    # Tokenization & lemmatization\n",
        "    lemma_list = []\n",
        "    #print(\"\\nTokenize+Lemmatize:\")\n",
        "    for token in doc:\n",
        "        lemma_list.append(token.lemma_)\n",
        "        #print([token, token.lemma_])\n",
        "    #print (\"\\nTipo\", type(lemma_list))\n",
        "    \n",
        "    # Stop words\n",
        "    filtered_sentence =[]\n",
        "    for word in lemma_list:\n",
        "        # word es un string, pero para recuperar la información de los objetos de SpaCy\n",
        "        # necesitamos convertir el string a un lexema. El lexema es un objeto de SpaCy\n",
        "        # que para cada término contiene la información del preprocesamiento\n",
        "        # (se podría también directamente filtrar stopwords en el paso de lematización).\n",
        "        lexeme = nlp.vocab[word]\n",
        "        if lexeme.is_stop == False:\n",
        "            filtered_sentence.append(word)\n",
        "    #print (\"\\nRemove stopword:\")\n",
        "    #print(filtered_sentence)\n",
        "    #print (\"\\nTipo\", type(filtered_sentence))\n",
        "\n",
        "    # Filter punctuation\n",
        "    filtered_sentence = [w for w in filtered_sentence if w not in string.punctuation]\n",
        "    #print(\"\\nRemove punctuation:\")\n",
        "    #print(filtered_sentence)\n",
        "\n",
        "    return filtered_sentence"
      ],
      "metadata": {
        "id": "bZcyD6AyEo3R"
      },
      "execution_count": null,
      "outputs": []
    },
    {
      "cell_type": "markdown",
      "source": [
        "Se prueba el preprocesamiento de datos."
      ],
      "metadata": {
        "id": "DdRlO_sCYv2O"
      }
    },
    {
      "cell_type": "code",
      "execution_count": null,
      "metadata": {
        "id": "q-MiMZjh5fu2",
        "colab": {
          "base_uri": "https://localhost:8080/"
        },
        "outputId": "379c17c2-17d9-452e-ecd1-82f63a53cfe0"
      },
      "outputs": [
        {
          "output_type": "stream",
          "name": "stdout",
          "text": [
            "['botia', 'help', 'minute']\n"
          ]
        }
      ],
      "source": [
        "text = \"I'm botIA. Can I help you?\\n I had 45 minutes.\"\n",
        "# Antes de preprocesar los datos se pasa a minúsculas todo el texto\n",
        "tokens=preprocess_clean_text(text)\n",
        "#print (\"\\nTipo de tokens\", type(tokens))\n",
        "print (tokens)"
      ]
    },
    {
      "cell_type": "markdown",
      "metadata": {
        "id": "ilRbn0KfMm2r"
      },
      "source": [
        "## 3 - Diccionario de entrada"
      ]
    },
    {
      "cell_type": "markdown",
      "source": [
        "El dataset incluido en este TP está basado en el siguiente dataset:\n",
        "https://www.kaggle.com/datasets/mukeshmaji359/chat-bot-json-file-great-learning\n",
        "y en este otro diccionario de entrada https://towardsdatascience.com/a-simple-chatbot-in-python-with-deep-learning-3e8669997758"
      ],
      "metadata": {
        "id": "aMdTdzM8bpCs"
      }
    },
    {
      "cell_type": "code",
      "execution_count": null,
      "metadata": {
        "id": "NgIGpjymNEH7"
      },
      "outputs": [],
      "source": [
        "# Dataset en formato JSON que representa las posibles preguntas (patterns)\n",
        "# y las posibles respuestas (responses) por categoría (tag).\n",
        "# Los \"patterns\" van a formar el corpus para entrenar la red que clasifica en tags.\n",
        "# Los \"responses\" son las respuestas predeterminadas posibles para cada tag.\n",
        "\n",
        "dataset = {\"intents\": [\n",
        "        {\"tag\": \"Intro\",\n",
        "         \"patterns\": [\"hi\", \n",
        "                      \"how are you\", \n",
        "                      \"is anyone there\", \n",
        "                      \"hello\", \n",
        "                      \"whats up\",\n",
        "                      \"hey\",\n",
        "                      \"yo\",\n",
        "                      \"listen\", \n",
        "                      \"please help me\",\n",
        "                      \"i am learner from\",\n",
        "                      \"i belong to\",\n",
        "                      \"aiml batch\",\n",
        "                      \"aifl batch\",\n",
        "                      \"i am from\",\n",
        "                      \"my pm is\",\n",
        "                      \"blended\",\n",
        "                      \"online\",\n",
        "                      \"i am from\",\n",
        "                      \"hey ya\",\n",
        "                      \"talking to you for first time\"],\n",
        "         \"responses\": [\"Hello! I'm your personal assistant botIA. How can I help you ?\",\n",
        "                       \"Howdy Partner! How can I help you ?\",\n",
        "                       \"Dear friend! How can I help you?\"], \n",
        "         \"context_set\": \"\"\n",
        "        },\n",
        "        {\"tag\": \"Exit\",\n",
        "         \"patterns\": [\"thank you\", \n",
        "                      \"thanks\", \n",
        "                      \"cya\",\n",
        "                      \"see you\",\n",
        "                      \"later\", \n",
        "                      \"see you later\", \n",
        "                      \"goodbye\", \n",
        "                      \"i am leaving\", \n",
        "                      \"have a Good day\",\n",
        "                      \"you helped me\",\n",
        "                      \"thanks a lot\",\n",
        "                      \"thanks a ton\",\n",
        "                      \"you are the best\",\n",
        "                      \"great help\",\n",
        "                      \"too good\",\n",
        "                      \"you are a good learning buddy\"],\n",
        "         \"responses\": [\"I hope I was able to assist you, Good Bye\", \n",
        "                       \"It was nice speaking to you\", \n",
        "                       \"See you later\"],\n",
        "         \"context_set\": \"\"\n",
        "        },\n",
        "        {\"tag\": \"GitHubCEIA\",\n",
        "         \"patterns\": [\"GitHub\",\n",
        "                      \"CEIA\",\n",
        "                      \"explain me how GitHub works\",\n",
        "                      \"I am not able to understand GitHub\",\n",
        "                      \"no access to CEIA GitHub\",\n",
        "                      \"unable to see link about CEIA in GitHub\",\n",
        "                      \"lot of problems with GitHub\",\n",
        "                      \"how to use GitHub\",\n",
        "                      \"teach me GitHub\"],\n",
        "         \"responses\": [\"GitHub is a code hosting platform for version control and collaboration. To know more visit https://docs.github.com/en. Our GitHub is https://github.com/FIUBA-Posgrado-Inteligencia-Artificial.\"],\n",
        "         \"context_set\": \"\"\n",
        "        },\n",
        "        {\"tag\": \"SVM\",\n",
        "         \"patterns\": [\"i am not able to understand svm\",\n",
        "                      \"support vector machine\"],\n",
        "         \"responses\": [\"SVM or Support Vector Machine is a linear model for classification and regression problems. It can solve linear and non-linear problems and work well for many practical problems. The idea of SVM is simple: The algorithm creates a line or a hyperplane which separates the data into classes.\"],\n",
        "         \"context_set\": \"\"\n",
        "        },\n",
        "\n",
        "        {\"tag\": \"ML\",\n",
        "         \"patterns\": [\"explain me how machine learning works\",\n",
        "                      \"machine learning\",\n",
        "                      \"ML\"],\n",
        "         \"responses\": [\"Machine learning is a method of data analysis that automates analytical model building. It is a branch of artificial intelligence based on the idea that systems can learn from data, identify patterns and make decisions with minimal human intervention.\"],\n",
        "         \"context_set\": \"\"\n",
        "        },\n",
        "        {\"tag\": \"NB\",\n",
        "         \"patterns\": [\"i am not able to understand naive bayes\",\n",
        "                      \"naive bayes\",\n",
        "                      \"nb\"],\n",
        "         \"responses\": [\"Naive Bayes is a simple technique for constructing classifiers: models that assign class labels to problem instances, represented as vectors of feature values, where the class labels are drawn from some finite set. There is not a single algorithm for training such classifiers, but a family of algorithms based on a common principle: all naive Bayes classifiers assume that the value of a particular feature is independent of the value of any other feature, given the class variable.\"],\n",
        "         \"context_set\": \"\"\n",
        "        },\n",
        "        {\"tag\": \"LR\",\n",
        "         \"patterns\": [\"i am not able to understand logistic regression\",\n",
        "                      \"logistic regression\",\n",
        "                      \"regression\"],\n",
        "         \"responses\": [\"Logistic regression is a statistical model that in its basic form uses a logistic function to model a binary dependent variable, although many more complex extensions exist. In regression analysis, logistic regression (or logit regression) is estimating the parameters of a logistic model (a form of binary regression).\"],\n",
        "         \"context_set\": \"\"\n",
        "        },\n",
        "        {\"tag\": \"EN\",\n",
        "         \"patterns\": [\"i am not able to understand ensemble techb=niques\",\n",
        "                      \"ensemble techniques\",\n",
        "                      \"bagging\",\n",
        "                      \"boosting\",\n",
        "                      \"ada boosting\",\n",
        "                      \"ada\",\n",
        "                      \"gradient boosting\",\n",
        "                      \"hyper parameters\"],\n",
        "         \"responses\": [\"Ensemble learning helps improve machine learning results by combining several models. This approach allows the production of better predictive performance compared to a single model. That is why ensemble methods placed first in many prestigious machine learning competitions, such as the Netflix Competition, KDD 2009, and Kaggle.\"],\n",
        "         \"context_set\": \"\"\n",
        "        },\n",
        "        {\"tag\": \"DL\",\n",
        "         \"patterns\": [\"what is deep learning\", \n",
        "                      \"unable to understand deep learning\",\n",
        "                      \"explain me how deep learning works\",\n",
        "                      \"i am not able to understand deep learning\"],\n",
        "         \"responses\": [\"Deep learning is a subset of machine learning in artificial intelligence that has networks capable of learning unsupervised from data that is unstructured or unlabeled. Also known as deep neural learning or deep neural network.\"],\n",
        "         \"context_set\": \"\"\n",
        "        },\n",
        "        {\"tag\": \"NN\",\n",
        "         \"patterns\": [\"not able to understand neural nets\",\n",
        "                      \"very diffult to understand neural nets\",\n",
        "                      \"unable to understand neural nets\",\n",
        "                      \"ann\", \n",
        "                      \"artificial intelligence\", \n",
        "                      \"artificial neural networks\"],\n",
        "         \"responses\": [\"A neural network is a series of algorithms that endeavors to recognize underlying relationships in a set of data through a process that mimics the way the human brain operates. In this sense, neural networks refer to systems of neurons, either organic or artificial in nature.\"],\n",
        "         \"context_set\": \"\"\n",
        "        },\n",
        "        {\"tag\": \"AF\",\n",
        "         \"patterns\": [\"activation function\",\n",
        "                      \"softmax\",\n",
        "                      \"sigmoid\",\n",
        "                      \"relu\"],\n",
        "         \"responses\": [\"An activation function in a neural network defines how the weighted sum of the input is transformed into an output from a node or nodes in a layer of the network.\"],\n",
        "         \"context_set\": \"\"\n",
        "        },\n",
        "        {\"tag\": \"OP\",\n",
        "         \"patterns\": [\"optimizer\",\n",
        "                      \"adam\",\n",
        "                      \"sgd\"],\n",
        "         \"responses\": [\"Optimizers are algorithms or methods used to change the attributes of the neural network such as weights and learning rate to reduce the losses. Optimizers are used to solve optimization problems by minimizing the function.\"],\n",
        "         \"context_set\": \"\"\n",
        "        },\n",
        "\n",
        "        {\"tag\": \"Others\",\n",
        "         \"patterns\": [\"weights\",\n",
        "                      \"hidden layers\",\n",
        "                      \"forward propagation\",\n",
        "                      \"backward propagation\",\n",
        "                      \"epochs\",\n",
        "                      \"epoch\",\n",
        "                      \"what is an epoch\"],\n",
        "         \"responses\": [\"I don't have enough information about this topic. Please contact your teacher.\"],\n",
        "         \"context_set\": \"\"\n",
        "        },\n",
        "        {\"tag\": \"NLP\",\n",
        "         \"patterns\": [\"NLP\",\n",
        "                      \"spacy\",\n",
        "                      \"nltk\",\n",
        "                      \"bag of words\", \n",
        "                      \"embeddings\", \n",
        "                      \"TD-IDF\",\n",
        "                      \"lemmatization\",\n",
        "                      \"tokenization\"],\n",
        "         \"responses\": [\"The best topics in CEIA! Please visit https://github.com/FIUBA-Posgrado-Inteligencia-Artificial/procesamiento_lenguaje_natural\"],\n",
        "         \"context_set\": \"\"\n",
        "        },\n",
        "         {\"tag\": \"Bot\",\n",
        "         \"patterns\": [\"what is your name\",\n",
        "                      \"who are you\",\n",
        "                      \"name please\",\n",
        "                      \"when are your hours of operations\", \n",
        "                      \"what are your working hours\", \n",
        "                      \"hours of operation\",\n",
        "                      \"working hours\",\n",
        "                      \"hours\"],\n",
        "         \"responses\": [\"I am botIA your virtual learning assistant\"],\n",
        "         \"context_set\": \"\"\n",
        "        },\n",
        "        {\"tag\": \"Ticket\",\n",
        "         \"patterns\": [\"my problem is not solved\", \n",
        "                      \"you did not help me\", \n",
        "                      \"not a good solution\",\n",
        "                      \"bad solution\",\n",
        "                      \"not good solution\",\n",
        "                      \"no help\",\n",
        "                      \"wasted my time\",\n",
        "                      \"useless bot\",\n",
        "                      \"create a ticket\"],\n",
        "         \"responses\": [\"Transferring the request to your teacher\"],\n",
        "         \"context_set\": \"\"\n",
        "        }\n",
        "   ]\n",
        "}"
      ]
    },
    {
      "cell_type": "markdown",
      "metadata": {
        "id": "19PEDmIDfLRu"
      },
      "source": [
        "## 4 - Armado del dataset aplicando el preprocesamiento de datos"
      ]
    },
    {
      "cell_type": "code",
      "execution_count": null,
      "metadata": {
        "id": "b3HP8abHNRk3"
      },
      "outputs": [],
      "source": [
        "# Datos que necesitaremos, las palabras o vocabulario.\n",
        "words = []\n",
        "classes = []\n",
        "doc_X = []\n",
        "doc_y = []\n",
        "\n",
        "# Por cada intención (intents) debemos tomar los patrones que la caracterizan\n",
        "# a esa intención y transformarla a tokens para almacenar en doc_X.\n",
        "# El tag de cada intención se almacena como doc_Y (la clase a predecir).\n",
        "# En `words` vamos a guardar el vocabulario.\n",
        "# En `class` las posibles clases o tags.\n",
        "\n",
        "for intent in dataset[\"intents\"]:\n",
        "    for pattern in intent[\"patterns\"]:\n",
        "        #preprocess_clean_text tokeniza y lematiza también.\n",
        "        words.extend(preprocess_clean_text(pattern))\n",
        "        #print (\"Tipo words:\", type(words))\n",
        "        #print (words)\n",
        "        doc_X.append(pattern)\n",
        "        doc_y.append(intent[\"tag\"])\n",
        "    \n",
        "    # Agregar el tag a las clases.\n",
        "    if intent[\"tag\"] not in classes:\n",
        "        classes.append(intent[\"tag\"])\n",
        "\n",
        "# Eliminar duplicados con \"set\" y ordenar el vocabulario y las clases por orden alfabético.\n",
        "words = sorted(set(words))\n",
        "classes = sorted(set(classes))"
      ]
    },
    {
      "cell_type": "code",
      "execution_count": null,
      "metadata": {
        "id": "Acy-gcugNbMH",
        "colab": {
          "base_uri": "https://localhost:8080/"
        },
        "outputId": "03f3c51c-1230-4d89-cdeb-24d22d2fad2b"
      },
      "outputs": [
        {
          "output_type": "stream",
          "name": "stdout",
          "text": [
            "words: ['CEIA', 'GitHub', 'IDF', 'ML', 'NLP', 'TD', 'able', 'access', 'activation', 'ada', 'adam', 'aifl', 'aiml', 'ann', 'artificial', 'backward', 'bad', 'bag', 'batch', 'baye', 'belong', 'blend', 'boost', 'bot', 'buddy', 'ceia', 'create', 'cya', 'day', 'deep', 'diffult', 'embedding', 'ensemble', 'epoch', 'explain', 'forward', 'function', 'github', 'good', 'goodbye', 'gradient', 'great', 'hello', 'help', 'hey', 'hi', 'hide', 'hour', 'hyper', 'intelligence', 'later', 'layer', 'learner', 'learning', 'leave', 'lemmatization', 'link', 'listen', 'logistic', 'lot', 'machine', 'naive', 'nb', 'net', 'network', 'neural', 'nique', 'nltk', 'online', 'operation', 'optimizer', 'parameter', 'pm', 'problem', 'propagation', 'regression', 'relu', 's', 'sgd', 'sigmoid', 'softmax', 'solution', 'solve', 'spacy', 'support', 'svm', 'talk', 'teach', 'techb', 'technique', 'thank', 'ticket', 'time', 'tokenization', 'ton', 'unable', 'understand', 'use', 'useless', 'vector', 'waste', 'weight', 'word', 'work', 'working', 'ya', 'yo']\n",
            "classes: ['AF', 'Bot', 'DL', 'EN', 'Exit', 'GitHubCEIA', 'Intro', 'LR', 'ML', 'NB', 'NLP', 'NN', 'OP', 'Others', 'SVM', 'Ticket']\n",
            "doc_X: ['hi', 'how are you', 'is anyone there', 'hello', 'whats up', 'hey', 'yo', 'listen', 'please help me', 'i am learner from', 'i belong to', 'aiml batch', 'aifl batch', 'i am from', 'my pm is', 'blended', 'online', 'i am from', 'hey ya', 'talking to you for first time', 'thank you', 'thanks', 'cya', 'see you', 'later', 'see you later', 'goodbye', 'i am leaving', 'have a Good day', 'you helped me', 'thanks a lot', 'thanks a ton', 'you are the best', 'great help', 'too good', 'you are a good learning buddy', 'GitHub', 'CEIA', 'explain me how GitHub works', 'I am not able to understand GitHub', 'no access to CEIA GitHub', 'unable to see link about CEIA in GitHub', 'lot of problems with GitHub', 'how to use GitHub', 'teach me GitHub', 'i am not able to understand svm', 'support vector machine', 'explain me how machine learning works', 'machine learning', 'ML', 'i am not able to understand naive bayes', 'naive bayes', 'nb', 'i am not able to understand logistic regression', 'logistic regression', 'regression', 'i am not able to understand ensemble techb=niques', 'ensemble techniques', 'bagging', 'boosting', 'ada boosting', 'ada', 'gradient boosting', 'hyper parameters', 'what is deep learning', 'unable to understand deep learning', 'explain me how deep learning works', 'i am not able to understand deep learning', 'not able to understand neural nets', 'very diffult to understand neural nets', 'unable to understand neural nets', 'ann', 'artificial intelligence', 'artificial neural networks', 'activation function', 'softmax', 'sigmoid', 'relu', 'optimizer', 'adam', 'sgd', 'weights', 'hidden layers', 'forward propagation', 'backward propagation', 'epochs', 'epoch', 'what is an epoch', 'NLP', 'spacy', 'nltk', 'bag of words', 'embeddings', 'TD-IDF', 'lemmatization', 'tokenization', 'what is your name', 'who are you', 'name please', 'when are your hours of operations', 'what are your working hours', 'hours of operation', 'working hours', 'hours', 'my problem is not solved', 'you did not help me', 'not a good solution', 'bad solution', 'not good solution', 'no help', 'wasted my time', 'useless bot', 'create a ticket']\n",
            "doc_y: ['Intro', 'Intro', 'Intro', 'Intro', 'Intro', 'Intro', 'Intro', 'Intro', 'Intro', 'Intro', 'Intro', 'Intro', 'Intro', 'Intro', 'Intro', 'Intro', 'Intro', 'Intro', 'Intro', 'Intro', 'Exit', 'Exit', 'Exit', 'Exit', 'Exit', 'Exit', 'Exit', 'Exit', 'Exit', 'Exit', 'Exit', 'Exit', 'Exit', 'Exit', 'Exit', 'Exit', 'GitHubCEIA', 'GitHubCEIA', 'GitHubCEIA', 'GitHubCEIA', 'GitHubCEIA', 'GitHubCEIA', 'GitHubCEIA', 'GitHubCEIA', 'GitHubCEIA', 'SVM', 'SVM', 'ML', 'ML', 'ML', 'NB', 'NB', 'NB', 'LR', 'LR', 'LR', 'EN', 'EN', 'EN', 'EN', 'EN', 'EN', 'EN', 'EN', 'DL', 'DL', 'DL', 'DL', 'NN', 'NN', 'NN', 'NN', 'NN', 'NN', 'AF', 'AF', 'AF', 'AF', 'OP', 'OP', 'OP', 'Others', 'Others', 'Others', 'Others', 'Others', 'Others', 'Others', 'NLP', 'NLP', 'NLP', 'NLP', 'NLP', 'NLP', 'NLP', 'NLP', 'Bot', 'Bot', 'Bot', 'Bot', 'Bot', 'Bot', 'Bot', 'Bot', 'Ticket', 'Ticket', 'Ticket', 'Ticket', 'Ticket', 'Ticket', 'Ticket', 'Ticket', 'Ticket']\n"
          ]
        }
      ],
      "source": [
        "print(\"words:\", words)\n",
        "print(\"classes:\", classes)\n",
        "print(\"doc_X:\", doc_X)\n",
        "print(\"doc_y:\", doc_y)"
      ]
    },
    {
      "cell_type": "code",
      "execution_count": null,
      "metadata": {
        "id": "YI0L2U7IQcvy",
        "colab": {
          "base_uri": "https://localhost:8080/"
        },
        "outputId": "9950d7fe-ddc0-4fd8-8d7b-dceb98080a83"
      },
      "outputs": [
        {
          "output_type": "stream",
          "name": "stdout",
          "text": [
            "Vocabulario: 107\n"
          ]
        }
      ],
      "source": [
        "# Tamaño del vocabulario.\n",
        "print(\"Vocabulario:\", len(words))"
      ]
    },
    {
      "cell_type": "code",
      "execution_count": null,
      "metadata": {
        "id": "hqBeGKRk_q4r",
        "colab": {
          "base_uri": "https://localhost:8080/"
        },
        "outputId": "6442486b-3be6-4714-fba5-01a54ff1afce"
      },
      "outputs": [
        {
          "output_type": "stream",
          "name": "stdout",
          "text": [
            "Tags: 16\n"
          ]
        }
      ],
      "source": [
        "# Cantidad de tags.\n",
        "print(\"Tags:\", len(classes))"
      ]
    },
    {
      "cell_type": "code",
      "source": [
        "# Tamaño del dataset.\n",
        "print (\"doc_x\",len(doc_X))\n",
        "#print (type(doc_X))\n",
        "print (\"doc_y\",len(doc_y))"
      ],
      "metadata": {
        "colab": {
          "base_uri": "https://localhost:8080/"
        },
        "id": "BPm_92EIB6_q",
        "outputId": "52daf1cb-f439-4311-ea17-8fef8843c138"
      },
      "execution_count": null,
      "outputs": [
        {
          "output_type": "stream",
          "name": "stdout",
          "text": [
            "doc_x 113\n",
            "doc_y 113\n"
          ]
        }
      ]
    },
    {
      "cell_type": "markdown",
      "source": [
        "### Bag of words"
      ],
      "metadata": {
        "id": "k2jQDOxnxcRo"
      }
    },
    {
      "cell_type": "code",
      "execution_count": null,
      "metadata": {
        "id": "vpbJ0guPN2Uq"
      },
      "outputs": [],
      "source": [
        "# Transformar doc_X en bag of words por oneHotEncoding.\n",
        "# Transformar doc_Y en un vector de clases multicategórico con oneHotEncoding.\n",
        "\n",
        "training = []\n",
        "out_empty = [0] * len(classes)\n",
        "\n",
        "for idx, doc in enumerate(doc_X):\n",
        "    # Transformar la pregunta (input) en tokens y lematizar.\n",
        "    text = []\n",
        "    text.extend(preprocess_clean_text(doc))\n",
        "\n",
        "    # Transformar los tokens en \"Bag of words\" (arrays de 1 y 0).\n",
        "    bow = []\n",
        "    for word in words:\n",
        "        bow.append(1) if word in text else bow.append(0)\n",
        "    \n",
        "    # Crear el array de salida (class output) correspondiente.\n",
        "    output_row = list(out_empty)\n",
        "    output_row[classes.index(doc_y[idx])] = 1\n",
        "\n",
        "    #print(\"X:\", bow, \"y:\", output_row)\n",
        "    training.append([bow, output_row])\n",
        "\n",
        "# Mezclar los datos.\n",
        "random.shuffle(training)\n",
        "training = np.array(training, dtype=object)\n",
        "# Dividir en datos de entrada y salida.\n",
        "train_X = np.array(list(training[:, 0]))\n",
        "train_y = np.array(list(training[:, 1]))\n",
        "\n",
        "#RESUMEN:\n",
        "# x puede tener más de un 1. Se toma el vocabulario y se coloca un 1 en donde\n",
        "# en el documento de doc_X se menciona esa palabra.\n",
        "# y tiene un 1 según la posición en la lista de classes relacionado al tag del doc_y."
      ]
    },
    {
      "cell_type": "markdown",
      "source": [
        "### TF-IDF"
      ],
      "metadata": {
        "id": "KlBvgZh2xg7S"
      }
    },
    {
      "cell_type": "code",
      "source": [
        "# Transformar doc_X en TF-IDF.\n",
        "# Transformar doc_Y en un vector de clases multicategórico con oneHotEncoding.\n",
        "\n",
        "training_TFIDF = []\n",
        "out_empty_TFIDF = [0] * len(classes)\n",
        "\n",
        "# Crear un vectorizador TF-IDF.\n",
        "word_vectorizer = TfidfVectorizer(tokenizer=preprocess_clean_text,lowercase=False,vocabulary=words)\n",
        "\n",
        "# Crear los vectores TF-IDF a partir de cada documento.\n",
        "TFIDF = word_vectorizer.fit_transform(doc_X)  \n",
        "\n",
        "arr_X=TFIDF.toarray()\n",
        "# print (\"Vector\",arr_X[48,:])\n",
        "# print (arr_X.shape)\n",
        "\n",
        "for idx_TFIDF, doc_TFIDF in enumerate(doc_X):\n",
        "    \n",
        "    # Crear el array de salida (class output) correspondiente.\n",
        "    output_row_TFIDF = list(out_empty_TFIDF)\n",
        "    output_row_TFIDF[classes.index(doc_y[idx_TFIDF])] = 1\n",
        "\n",
        "    #print(\"X:\", arr_X[idx,:], \"y:\", output_row_TFIDF)\n",
        "    training_TFIDF.append([arr_X[idx_TFIDF,:], output_row_TFIDF])\n",
        "\n",
        "# Mezclar los datos.\n",
        "random.shuffle(training_TFIDF)\n",
        "training_TFIDF = np.array(training_TFIDF, dtype=object)\n",
        "# Dividir en datos de entrada y salida.\n",
        "train_X_TFIDF = np.array(list(training_TFIDF[:, 0]))\n",
        "train_y_TFIDF = np.array(list(training_TFIDF[:, 1]))"
      ],
      "metadata": {
        "id": "gwqF_ETwyhQg"
      },
      "execution_count": null,
      "outputs": []
    },
    {
      "cell_type": "markdown",
      "metadata": {
        "id": "a_Hr8QaDfRf3"
      },
      "source": [
        "## 5 - Entrenamiento del modelo"
      ]
    },
    {
      "cell_type": "markdown",
      "source": [
        "### Bag of words"
      ],
      "metadata": {
        "id": "_QxeUNLkL8p6"
      }
    },
    {
      "cell_type": "code",
      "execution_count": null,
      "metadata": {
        "id": "fopb3NqcAGTz",
        "colab": {
          "base_uri": "https://localhost:8080/"
        },
        "outputId": "c96ad1dc-4256-41ce-fe46-4bdf64d175d5"
      },
      "outputs": [
        {
          "output_type": "stream",
          "name": "stdout",
          "text": [
            "input: (107,) output: 16\n"
          ]
        }
      ],
      "source": [
        "# Shape de entrada y salida.\n",
        "input_shape = (train_X.shape[1],)\n",
        "output_shape = train_y.shape[1]\n",
        "print(\"input:\", input_shape, \"output:\", output_shape)\n",
        "# Esto es así porque el vocabulario es 107 y los tags son 16."
      ]
    },
    {
      "cell_type": "code",
      "execution_count": null,
      "metadata": {
        "id": "xy7tzkwdOZx9",
        "colab": {
          "base_uri": "https://localhost:8080/"
        },
        "outputId": "31ee4038-6f07-4cc8-81fd-04dcac4ec83e"
      },
      "outputs": [
        {
          "output_type": "stream",
          "name": "stdout",
          "text": [
            "Model: \"sequential\"\n",
            "_________________________________________________________________\n",
            " Layer (type)                Output Shape              Param #   \n",
            "=================================================================\n",
            " dense (Dense)               (None, 128)               13824     \n",
            "                                                                 \n",
            " dropout (Dropout)           (None, 128)               0         \n",
            "                                                                 \n",
            " dense_1 (Dense)             (None, 64)                8256      \n",
            "                                                                 \n",
            " dropout_1 (Dropout)         (None, 64)                0         \n",
            "                                                                 \n",
            " dense_2 (Dense)             (None, 16)                1040      \n",
            "                                                                 \n",
            "=================================================================\n",
            "Total params: 23,120\n",
            "Trainable params: 23,120\n",
            "Non-trainable params: 0\n",
            "_________________________________________________________________\n",
            "None\n"
          ]
        }
      ],
      "source": [
        "# Entrenamiento del modelo DNN\n",
        "# - Modelo secuencial\n",
        "# - Con regularización\n",
        "# - Softmax y optimizador Adam\n",
        "model = Sequential()\n",
        "model.add(Dense(128, input_shape=input_shape, activation=\"relu\"))\n",
        "model.add(Dropout(0.5))\n",
        "model.add(Dense(64, activation=\"relu\"))\n",
        "model.add(Dropout(0.5))\n",
        "model.add(Dense(output_shape, activation = \"softmax\"))\n",
        "\n",
        "model.compile(loss='categorical_crossentropy',\n",
        "              optimizer=\"Adam\",\n",
        "              metrics=[\"accuracy\"])\n",
        "\n",
        "print(model.summary())"
      ]
    },
    {
      "cell_type": "code",
      "execution_count": null,
      "metadata": {
        "id": "r6hi4EcdOghm",
        "colab": {
          "base_uri": "https://localhost:8080/"
        },
        "outputId": "bfed3d92-27c3-4acb-c1cd-4fe8f3c6eb9d"
      },
      "outputs": [
        {
          "output_type": "stream",
          "name": "stdout",
          "text": [
            "Epoch 1/200\n",
            "4/4 [==============================] - 1s 7ms/step - loss: 2.7867 - accuracy: 0.0531\n",
            "Epoch 2/200\n",
            "4/4 [==============================] - 0s 7ms/step - loss: 2.7488 - accuracy: 0.0796\n",
            "Epoch 3/200\n",
            "4/4 [==============================] - 0s 5ms/step - loss: 2.7447 - accuracy: 0.1327\n",
            "Epoch 4/200\n",
            "4/4 [==============================] - 0s 5ms/step - loss: 2.7137 - accuracy: 0.1504\n",
            "Epoch 5/200\n",
            "4/4 [==============================] - 0s 19ms/step - loss: 2.7210 - accuracy: 0.1504\n",
            "Epoch 6/200\n",
            "4/4 [==============================] - 0s 7ms/step - loss: 2.7051 - accuracy: 0.1416\n",
            "Epoch 7/200\n",
            "4/4 [==============================] - 0s 13ms/step - loss: 2.6903 - accuracy: 0.1858\n",
            "Epoch 8/200\n",
            "4/4 [==============================] - 0s 6ms/step - loss: 2.6590 - accuracy: 0.2301\n",
            "Epoch 9/200\n",
            "4/4 [==============================] - 0s 15ms/step - loss: 2.6640 - accuracy: 0.1681\n",
            "Epoch 10/200\n",
            "4/4 [==============================] - 0s 11ms/step - loss: 2.6201 - accuracy: 0.2566\n",
            "Epoch 11/200\n",
            "4/4 [==============================] - 0s 6ms/step - loss: 2.5878 - accuracy: 0.2389\n",
            "Epoch 12/200\n",
            "4/4 [==============================] - 0s 6ms/step - loss: 2.5965 - accuracy: 0.1770\n",
            "Epoch 13/200\n",
            "4/4 [==============================] - 0s 6ms/step - loss: 2.5557 - accuracy: 0.2389\n",
            "Epoch 14/200\n",
            "4/4 [==============================] - 0s 6ms/step - loss: 2.5368 - accuracy: 0.2478\n",
            "Epoch 15/200\n",
            "4/4 [==============================] - 0s 6ms/step - loss: 2.5423 - accuracy: 0.2301\n",
            "Epoch 16/200\n",
            "4/4 [==============================] - 0s 10ms/step - loss: 2.4684 - accuracy: 0.2832\n",
            "Epoch 17/200\n",
            "4/4 [==============================] - 0s 7ms/step - loss: 2.4419 - accuracy: 0.2832\n",
            "Epoch 18/200\n",
            "4/4 [==============================] - 0s 7ms/step - loss: 2.4515 - accuracy: 0.2655\n",
            "Epoch 19/200\n",
            "4/4 [==============================] - 0s 9ms/step - loss: 2.3939 - accuracy: 0.2655\n",
            "Epoch 20/200\n",
            "4/4 [==============================] - 0s 13ms/step - loss: 2.3857 - accuracy: 0.2389\n",
            "Epoch 21/200\n",
            "4/4 [==============================] - 0s 9ms/step - loss: 2.3770 - accuracy: 0.2832\n",
            "Epoch 22/200\n",
            "4/4 [==============================] - 0s 5ms/step - loss: 2.3264 - accuracy: 0.2743\n",
            "Epoch 23/200\n",
            "4/4 [==============================] - 0s 8ms/step - loss: 2.2986 - accuracy: 0.3186\n",
            "Epoch 24/200\n",
            "4/4 [==============================] - 0s 5ms/step - loss: 2.2200 - accuracy: 0.3363\n",
            "Epoch 25/200\n",
            "4/4 [==============================] - 0s 6ms/step - loss: 2.2407 - accuracy: 0.3363\n",
            "Epoch 26/200\n",
            "4/4 [==============================] - 0s 5ms/step - loss: 2.2029 - accuracy: 0.2920\n",
            "Epoch 27/200\n",
            "4/4 [==============================] - 0s 5ms/step - loss: 2.1360 - accuracy: 0.3894\n",
            "Epoch 28/200\n",
            "4/4 [==============================] - 0s 8ms/step - loss: 2.1588 - accuracy: 0.3451\n",
            "Epoch 29/200\n",
            "4/4 [==============================] - 0s 8ms/step - loss: 2.0791 - accuracy: 0.3451\n",
            "Epoch 30/200\n",
            "4/4 [==============================] - 0s 5ms/step - loss: 1.9890 - accuracy: 0.4248\n",
            "Epoch 31/200\n",
            "4/4 [==============================] - 0s 5ms/step - loss: 2.0085 - accuracy: 0.4690\n",
            "Epoch 32/200\n",
            "4/4 [==============================] - 0s 5ms/step - loss: 2.0566 - accuracy: 0.4336\n",
            "Epoch 33/200\n",
            "4/4 [==============================] - 0s 5ms/step - loss: 1.8907 - accuracy: 0.4336\n",
            "Epoch 34/200\n",
            "4/4 [==============================] - 0s 5ms/step - loss: 1.9619 - accuracy: 0.4336\n",
            "Epoch 35/200\n",
            "4/4 [==============================] - 0s 6ms/step - loss: 1.8960 - accuracy: 0.5044\n",
            "Epoch 36/200\n",
            "4/4 [==============================] - 0s 6ms/step - loss: 1.8299 - accuracy: 0.4956\n",
            "Epoch 37/200\n",
            "4/4 [==============================] - 0s 5ms/step - loss: 1.8469 - accuracy: 0.4602\n",
            "Epoch 38/200\n",
            "4/4 [==============================] - 0s 6ms/step - loss: 1.7626 - accuracy: 0.4779\n",
            "Epoch 39/200\n",
            "4/4 [==============================] - 0s 6ms/step - loss: 1.7330 - accuracy: 0.6106\n",
            "Epoch 40/200\n",
            "4/4 [==============================] - 0s 5ms/step - loss: 1.6893 - accuracy: 0.5487\n",
            "Epoch 41/200\n",
            "4/4 [==============================] - 0s 12ms/step - loss: 1.6007 - accuracy: 0.5664\n",
            "Epoch 42/200\n",
            "4/4 [==============================] - 0s 6ms/step - loss: 1.5553 - accuracy: 0.6283\n",
            "Epoch 43/200\n",
            "4/4 [==============================] - 0s 7ms/step - loss: 1.6061 - accuracy: 0.5310\n",
            "Epoch 44/200\n",
            "4/4 [==============================] - 0s 8ms/step - loss: 1.5549 - accuracy: 0.6195\n",
            "Epoch 45/200\n",
            "4/4 [==============================] - 0s 6ms/step - loss: 1.5515 - accuracy: 0.5841\n",
            "Epoch 46/200\n",
            "4/4 [==============================] - 0s 5ms/step - loss: 1.5344 - accuracy: 0.5752\n",
            "Epoch 47/200\n",
            "4/4 [==============================] - 0s 7ms/step - loss: 1.4462 - accuracy: 0.5752\n",
            "Epoch 48/200\n",
            "4/4 [==============================] - 0s 7ms/step - loss: 1.3393 - accuracy: 0.6018\n",
            "Epoch 49/200\n",
            "4/4 [==============================] - 0s 7ms/step - loss: 1.3496 - accuracy: 0.6460\n",
            "Epoch 50/200\n",
            "4/4 [==============================] - 0s 5ms/step - loss: 1.3601 - accuracy: 0.6549\n",
            "Epoch 51/200\n",
            "4/4 [==============================] - 0s 8ms/step - loss: 1.2512 - accuracy: 0.7345\n",
            "Epoch 52/200\n",
            "4/4 [==============================] - 0s 8ms/step - loss: 1.3907 - accuracy: 0.6195\n",
            "Epoch 53/200\n",
            "4/4 [==============================] - 0s 8ms/step - loss: 1.2289 - accuracy: 0.7080\n",
            "Epoch 54/200\n",
            "4/4 [==============================] - 0s 8ms/step - loss: 1.2419 - accuracy: 0.6903\n",
            "Epoch 55/200\n",
            "4/4 [==============================] - 0s 6ms/step - loss: 1.1253 - accuracy: 0.6991\n",
            "Epoch 56/200\n",
            "4/4 [==============================] - 0s 10ms/step - loss: 1.1747 - accuracy: 0.7434\n",
            "Epoch 57/200\n",
            "4/4 [==============================] - 0s 7ms/step - loss: 1.1834 - accuracy: 0.6991\n",
            "Epoch 58/200\n",
            "4/4 [==============================] - 0s 6ms/step - loss: 1.1333 - accuracy: 0.6991\n",
            "Epoch 59/200\n",
            "4/4 [==============================] - 0s 6ms/step - loss: 1.1096 - accuracy: 0.7345\n",
            "Epoch 60/200\n",
            "4/4 [==============================] - 0s 7ms/step - loss: 1.1066 - accuracy: 0.7257\n",
            "Epoch 61/200\n",
            "4/4 [==============================] - 0s 12ms/step - loss: 1.1102 - accuracy: 0.6637\n",
            "Epoch 62/200\n",
            "4/4 [==============================] - 0s 14ms/step - loss: 0.9882 - accuracy: 0.7522\n",
            "Epoch 63/200\n",
            "4/4 [==============================] - 0s 5ms/step - loss: 1.0181 - accuracy: 0.7434\n",
            "Epoch 64/200\n",
            "4/4 [==============================] - 0s 8ms/step - loss: 0.9308 - accuracy: 0.7699\n",
            "Epoch 65/200\n",
            "4/4 [==============================] - 0s 6ms/step - loss: 1.0391 - accuracy: 0.7699\n",
            "Epoch 66/200\n",
            "4/4 [==============================] - 0s 5ms/step - loss: 1.0503 - accuracy: 0.6903\n",
            "Epoch 67/200\n",
            "4/4 [==============================] - 0s 16ms/step - loss: 0.9166 - accuracy: 0.7611\n",
            "Epoch 68/200\n",
            "4/4 [==============================] - 0s 12ms/step - loss: 0.9064 - accuracy: 0.7788\n",
            "Epoch 69/200\n",
            "4/4 [==============================] - 0s 5ms/step - loss: 0.9148 - accuracy: 0.7434\n",
            "Epoch 70/200\n",
            "4/4 [==============================] - 0s 7ms/step - loss: 0.8619 - accuracy: 0.7788\n",
            "Epoch 71/200\n",
            "4/4 [==============================] - 0s 10ms/step - loss: 0.8944 - accuracy: 0.7522\n",
            "Epoch 72/200\n",
            "4/4 [==============================] - 0s 10ms/step - loss: 0.8527 - accuracy: 0.7876\n",
            "Epoch 73/200\n",
            "4/4 [==============================] - 0s 9ms/step - loss: 0.7680 - accuracy: 0.7965\n",
            "Epoch 74/200\n",
            "4/4 [==============================] - 0s 7ms/step - loss: 0.7726 - accuracy: 0.7965\n",
            "Epoch 75/200\n",
            "4/4 [==============================] - 0s 9ms/step - loss: 0.7334 - accuracy: 0.8584\n",
            "Epoch 76/200\n",
            "4/4 [==============================] - 0s 12ms/step - loss: 0.8198 - accuracy: 0.7965\n",
            "Epoch 77/200\n",
            "4/4 [==============================] - 0s 8ms/step - loss: 0.8282 - accuracy: 0.7788\n",
            "Epoch 78/200\n",
            "4/4 [==============================] - 0s 5ms/step - loss: 0.6510 - accuracy: 0.8319\n",
            "Epoch 79/200\n",
            "4/4 [==============================] - 0s 5ms/step - loss: 0.7003 - accuracy: 0.8319\n",
            "Epoch 80/200\n",
            "4/4 [==============================] - 0s 8ms/step - loss: 0.7352 - accuracy: 0.8142\n",
            "Epoch 81/200\n",
            "4/4 [==============================] - 0s 7ms/step - loss: 0.7957 - accuracy: 0.7965\n",
            "Epoch 82/200\n",
            "4/4 [==============================] - 0s 16ms/step - loss: 0.6953 - accuracy: 0.8142\n",
            "Epoch 83/200\n",
            "4/4 [==============================] - 0s 10ms/step - loss: 0.6606 - accuracy: 0.8230\n",
            "Epoch 84/200\n",
            "4/4 [==============================] - 0s 9ms/step - loss: 0.6901 - accuracy: 0.8142\n",
            "Epoch 85/200\n",
            "4/4 [==============================] - 0s 11ms/step - loss: 0.7233 - accuracy: 0.8319\n",
            "Epoch 86/200\n",
            "4/4 [==============================] - 0s 6ms/step - loss: 0.6552 - accuracy: 0.8319\n",
            "Epoch 87/200\n",
            "4/4 [==============================] - 0s 5ms/step - loss: 0.6440 - accuracy: 0.8407\n",
            "Epoch 88/200\n",
            "4/4 [==============================] - 0s 6ms/step - loss: 0.6224 - accuracy: 0.8584\n",
            "Epoch 89/200\n",
            "4/4 [==============================] - 0s 6ms/step - loss: 0.6328 - accuracy: 0.8673\n",
            "Epoch 90/200\n",
            "4/4 [==============================] - 0s 6ms/step - loss: 0.6459 - accuracy: 0.8496\n",
            "Epoch 91/200\n",
            "4/4 [==============================] - 0s 6ms/step - loss: 0.6984 - accuracy: 0.8230\n",
            "Epoch 92/200\n",
            "4/4 [==============================] - 0s 11ms/step - loss: 0.4872 - accuracy: 0.9204\n",
            "Epoch 93/200\n",
            "4/4 [==============================] - 0s 5ms/step - loss: 0.5683 - accuracy: 0.8850\n",
            "Epoch 94/200\n",
            "4/4 [==============================] - 0s 7ms/step - loss: 0.5242 - accuracy: 0.8938\n",
            "Epoch 95/200\n",
            "4/4 [==============================] - 0s 6ms/step - loss: 0.4924 - accuracy: 0.8850\n",
            "Epoch 96/200\n",
            "4/4 [==============================] - 0s 9ms/step - loss: 0.5425 - accuracy: 0.8584\n",
            "Epoch 97/200\n",
            "4/4 [==============================] - 0s 11ms/step - loss: 0.5330 - accuracy: 0.9027\n",
            "Epoch 98/200\n",
            "4/4 [==============================] - 0s 14ms/step - loss: 0.5345 - accuracy: 0.9027\n",
            "Epoch 99/200\n",
            "4/4 [==============================] - 0s 6ms/step - loss: 0.5892 - accuracy: 0.8407\n",
            "Epoch 100/200\n",
            "4/4 [==============================] - 0s 5ms/step - loss: 0.4960 - accuracy: 0.9115\n",
            "Epoch 101/200\n",
            "4/4 [==============================] - 0s 9ms/step - loss: 0.4768 - accuracy: 0.8850\n",
            "Epoch 102/200\n",
            "4/4 [==============================] - 0s 6ms/step - loss: 0.4850 - accuracy: 0.9027\n",
            "Epoch 103/200\n",
            "4/4 [==============================] - 0s 6ms/step - loss: 0.4871 - accuracy: 0.8584\n",
            "Epoch 104/200\n",
            "4/4 [==============================] - 0s 11ms/step - loss: 0.4916 - accuracy: 0.8496\n",
            "Epoch 105/200\n",
            "4/4 [==============================] - 0s 7ms/step - loss: 0.4323 - accuracy: 0.8850\n",
            "Epoch 106/200\n",
            "4/4 [==============================] - 0s 7ms/step - loss: 0.4082 - accuracy: 0.9027\n",
            "Epoch 107/200\n",
            "4/4 [==============================] - 0s 9ms/step - loss: 0.4580 - accuracy: 0.8673\n",
            "Epoch 108/200\n",
            "4/4 [==============================] - 0s 6ms/step - loss: 0.4871 - accuracy: 0.8850\n",
            "Epoch 109/200\n",
            "4/4 [==============================] - 0s 6ms/step - loss: 0.5066 - accuracy: 0.8407\n",
            "Epoch 110/200\n",
            "4/4 [==============================] - 0s 9ms/step - loss: 0.5007 - accuracy: 0.8584\n",
            "Epoch 111/200\n",
            "4/4 [==============================] - 0s 7ms/step - loss: 0.5341 - accuracy: 0.8496\n",
            "Epoch 112/200\n",
            "4/4 [==============================] - 0s 6ms/step - loss: 0.3920 - accuracy: 0.9115\n",
            "Epoch 113/200\n",
            "4/4 [==============================] - 0s 6ms/step - loss: 0.4167 - accuracy: 0.8761\n",
            "Epoch 114/200\n",
            "4/4 [==============================] - 0s 6ms/step - loss: 0.5058 - accuracy: 0.8496\n",
            "Epoch 115/200\n",
            "4/4 [==============================] - 0s 6ms/step - loss: 0.4211 - accuracy: 0.8673\n",
            "Epoch 116/200\n",
            "4/4 [==============================] - 0s 6ms/step - loss: 0.4279 - accuracy: 0.8938\n",
            "Epoch 117/200\n",
            "4/4 [==============================] - 0s 7ms/step - loss: 0.4896 - accuracy: 0.8673\n",
            "Epoch 118/200\n",
            "4/4 [==============================] - 0s 6ms/step - loss: 0.4711 - accuracy: 0.8761\n",
            "Epoch 119/200\n",
            "4/4 [==============================] - 0s 8ms/step - loss: 0.3880 - accuracy: 0.8938\n",
            "Epoch 120/200\n",
            "4/4 [==============================] - 0s 6ms/step - loss: 0.4323 - accuracy: 0.9115\n",
            "Epoch 121/200\n",
            "4/4 [==============================] - 0s 9ms/step - loss: 0.4511 - accuracy: 0.8850\n",
            "Epoch 122/200\n",
            "4/4 [==============================] - 0s 11ms/step - loss: 0.4749 - accuracy: 0.8407\n",
            "Epoch 123/200\n",
            "4/4 [==============================] - 0s 9ms/step - loss: 0.3808 - accuracy: 0.9204\n",
            "Epoch 124/200\n",
            "4/4 [==============================] - 0s 10ms/step - loss: 0.4208 - accuracy: 0.9027\n",
            "Epoch 125/200\n",
            "4/4 [==============================] - 0s 6ms/step - loss: 0.3733 - accuracy: 0.9115\n",
            "Epoch 126/200\n",
            "4/4 [==============================] - 0s 9ms/step - loss: 0.4716 - accuracy: 0.8850\n",
            "Epoch 127/200\n",
            "4/4 [==============================] - 0s 12ms/step - loss: 0.3421 - accuracy: 0.9381\n",
            "Epoch 128/200\n",
            "4/4 [==============================] - 0s 5ms/step - loss: 0.4079 - accuracy: 0.8761\n",
            "Epoch 129/200\n",
            "4/4 [==============================] - 0s 5ms/step - loss: 0.3648 - accuracy: 0.9027\n",
            "Epoch 130/200\n",
            "4/4 [==============================] - 0s 5ms/step - loss: 0.3624 - accuracy: 0.8938\n",
            "Epoch 131/200\n",
            "4/4 [==============================] - 0s 9ms/step - loss: 0.3444 - accuracy: 0.9115\n",
            "Epoch 132/200\n",
            "4/4 [==============================] - 0s 5ms/step - loss: 0.3952 - accuracy: 0.8850\n",
            "Epoch 133/200\n",
            "4/4 [==============================] - 0s 5ms/step - loss: 0.3840 - accuracy: 0.9027\n",
            "Epoch 134/200\n",
            "4/4 [==============================] - 0s 10ms/step - loss: 0.4161 - accuracy: 0.8584\n",
            "Epoch 135/200\n",
            "4/4 [==============================] - 0s 8ms/step - loss: 0.3346 - accuracy: 0.9292\n",
            "Epoch 136/200\n",
            "4/4 [==============================] - 0s 5ms/step - loss: 0.3515 - accuracy: 0.9027\n",
            "Epoch 137/200\n",
            "4/4 [==============================] - 0s 5ms/step - loss: 0.3863 - accuracy: 0.8938\n",
            "Epoch 138/200\n",
            "4/4 [==============================] - 0s 10ms/step - loss: 0.3324 - accuracy: 0.8850\n",
            "Epoch 139/200\n",
            "4/4 [==============================] - 0s 15ms/step - loss: 0.4048 - accuracy: 0.8761\n",
            "Epoch 140/200\n",
            "4/4 [==============================] - 0s 10ms/step - loss: 0.3813 - accuracy: 0.8850\n",
            "Epoch 141/200\n",
            "4/4 [==============================] - 0s 10ms/step - loss: 0.4122 - accuracy: 0.8938\n",
            "Epoch 142/200\n",
            "4/4 [==============================] - 0s 7ms/step - loss: 0.2901 - accuracy: 0.9381\n",
            "Epoch 143/200\n",
            "4/4 [==============================] - 0s 13ms/step - loss: 0.3169 - accuracy: 0.9292\n",
            "Epoch 144/200\n",
            "4/4 [==============================] - 0s 13ms/step - loss: 0.3321 - accuracy: 0.9204\n",
            "Epoch 145/200\n",
            "4/4 [==============================] - 0s 14ms/step - loss: 0.3932 - accuracy: 0.8850\n",
            "Epoch 146/200\n",
            "4/4 [==============================] - 0s 13ms/step - loss: 0.4149 - accuracy: 0.8938\n",
            "Epoch 147/200\n",
            "4/4 [==============================] - 0s 13ms/step - loss: 0.3628 - accuracy: 0.9027\n",
            "Epoch 148/200\n",
            "4/4 [==============================] - 0s 6ms/step - loss: 0.3353 - accuracy: 0.9381\n",
            "Epoch 149/200\n",
            "4/4 [==============================] - 0s 6ms/step - loss: 0.3162 - accuracy: 0.9292\n",
            "Epoch 150/200\n",
            "4/4 [==============================] - 0s 6ms/step - loss: 0.3825 - accuracy: 0.8938\n",
            "Epoch 151/200\n",
            "4/4 [==============================] - 0s 5ms/step - loss: 0.4210 - accuracy: 0.8850\n",
            "Epoch 152/200\n",
            "4/4 [==============================] - 0s 10ms/step - loss: 0.3283 - accuracy: 0.9381\n",
            "Epoch 153/200\n",
            "4/4 [==============================] - 0s 14ms/step - loss: 0.2741 - accuracy: 0.9381\n",
            "Epoch 154/200\n",
            "4/4 [==============================] - 0s 10ms/step - loss: 0.3910 - accuracy: 0.8761\n",
            "Epoch 155/200\n",
            "4/4 [==============================] - 0s 7ms/step - loss: 0.2845 - accuracy: 0.9292\n",
            "Epoch 156/200\n",
            "4/4 [==============================] - 0s 15ms/step - loss: 0.3657 - accuracy: 0.9115\n",
            "Epoch 157/200\n",
            "4/4 [==============================] - 0s 8ms/step - loss: 0.2753 - accuracy: 0.9469\n",
            "Epoch 158/200\n",
            "4/4 [==============================] - 0s 5ms/step - loss: 0.3008 - accuracy: 0.9469\n",
            "Epoch 159/200\n",
            "4/4 [==============================] - 0s 9ms/step - loss: 0.2387 - accuracy: 0.9558\n",
            "Epoch 160/200\n",
            "4/4 [==============================] - 0s 11ms/step - loss: 0.2770 - accuracy: 0.9204\n",
            "Epoch 161/200\n",
            "4/4 [==============================] - 0s 8ms/step - loss: 0.3307 - accuracy: 0.9115\n",
            "Epoch 162/200\n",
            "4/4 [==============================] - 0s 5ms/step - loss: 0.3706 - accuracy: 0.9027\n",
            "Epoch 163/200\n",
            "4/4 [==============================] - 0s 11ms/step - loss: 0.3022 - accuracy: 0.8850\n",
            "Epoch 164/200\n",
            "4/4 [==============================] - 0s 5ms/step - loss: 0.2945 - accuracy: 0.9204\n",
            "Epoch 165/200\n",
            "4/4 [==============================] - 0s 5ms/step - loss: 0.2863 - accuracy: 0.9381\n",
            "Epoch 166/200\n",
            "4/4 [==============================] - 0s 8ms/step - loss: 0.2468 - accuracy: 0.9292\n",
            "Epoch 167/200\n",
            "4/4 [==============================] - 0s 8ms/step - loss: 0.2749 - accuracy: 0.9381\n",
            "Epoch 168/200\n",
            "4/4 [==============================] - 0s 11ms/step - loss: 0.3014 - accuracy: 0.8761\n",
            "Epoch 169/200\n",
            "4/4 [==============================] - 0s 13ms/step - loss: 0.3182 - accuracy: 0.9115\n",
            "Epoch 170/200\n",
            "4/4 [==============================] - 0s 17ms/step - loss: 0.2560 - accuracy: 0.9292\n",
            "Epoch 171/200\n",
            "4/4 [==============================] - 0s 8ms/step - loss: 0.2684 - accuracy: 0.9204\n",
            "Epoch 172/200\n",
            "4/4 [==============================] - 0s 6ms/step - loss: 0.2316 - accuracy: 0.9381\n",
            "Epoch 173/200\n",
            "4/4 [==============================] - 0s 5ms/step - loss: 0.2952 - accuracy: 0.9204\n",
            "Epoch 174/200\n",
            "4/4 [==============================] - 0s 6ms/step - loss: 0.2728 - accuracy: 0.9381\n",
            "Epoch 175/200\n",
            "4/4 [==============================] - 0s 13ms/step - loss: 0.3707 - accuracy: 0.9115\n",
            "Epoch 176/200\n",
            "4/4 [==============================] - 0s 7ms/step - loss: 0.2504 - accuracy: 0.9381\n",
            "Epoch 177/200\n",
            "4/4 [==============================] - 0s 11ms/step - loss: 0.2854 - accuracy: 0.9115\n",
            "Epoch 178/200\n",
            "4/4 [==============================] - 0s 6ms/step - loss: 0.2785 - accuracy: 0.9115\n",
            "Epoch 179/200\n",
            "4/4 [==============================] - 0s 6ms/step - loss: 0.2597 - accuracy: 0.9381\n",
            "Epoch 180/200\n",
            "4/4 [==============================] - 0s 6ms/step - loss: 0.2882 - accuracy: 0.9204\n",
            "Epoch 181/200\n",
            "4/4 [==============================] - 0s 7ms/step - loss: 0.3032 - accuracy: 0.9115\n",
            "Epoch 182/200\n",
            "4/4 [==============================] - 0s 7ms/step - loss: 0.2689 - accuracy: 0.9381\n",
            "Epoch 183/200\n",
            "4/4 [==============================] - 0s 6ms/step - loss: 0.2928 - accuracy: 0.9381\n",
            "Epoch 184/200\n",
            "4/4 [==============================] - 0s 6ms/step - loss: 0.2276 - accuracy: 0.9469\n",
            "Epoch 185/200\n",
            "4/4 [==============================] - 0s 10ms/step - loss: 0.2761 - accuracy: 0.9204\n",
            "Epoch 186/200\n",
            "4/4 [==============================] - 0s 7ms/step - loss: 0.2777 - accuracy: 0.9027\n",
            "Epoch 187/200\n",
            "4/4 [==============================] - 0s 6ms/step - loss: 0.2811 - accuracy: 0.9204\n",
            "Epoch 188/200\n",
            "4/4 [==============================] - 0s 6ms/step - loss: 0.2743 - accuracy: 0.9204\n",
            "Epoch 189/200\n",
            "4/4 [==============================] - 0s 6ms/step - loss: 0.3096 - accuracy: 0.9204\n",
            "Epoch 190/200\n",
            "4/4 [==============================] - 0s 6ms/step - loss: 0.3072 - accuracy: 0.9027\n",
            "Epoch 191/200\n",
            "4/4 [==============================] - 0s 8ms/step - loss: 0.2509 - accuracy: 0.9469\n",
            "Epoch 192/200\n",
            "4/4 [==============================] - 0s 5ms/step - loss: 0.2826 - accuracy: 0.8938\n",
            "Epoch 193/200\n",
            "4/4 [==============================] - 0s 8ms/step - loss: 0.1875 - accuracy: 0.9292\n",
            "Epoch 194/200\n",
            "4/4 [==============================] - 0s 9ms/step - loss: 0.2545 - accuracy: 0.9204\n",
            "Epoch 195/200\n",
            "4/4 [==============================] - 0s 13ms/step - loss: 0.1865 - accuracy: 0.9646\n",
            "Epoch 196/200\n",
            "4/4 [==============================] - 0s 10ms/step - loss: 0.2668 - accuracy: 0.9204\n",
            "Epoch 197/200\n",
            "4/4 [==============================] - 0s 5ms/step - loss: 0.2662 - accuracy: 0.9027\n",
            "Epoch 198/200\n",
            "4/4 [==============================] - 0s 5ms/step - loss: 0.2785 - accuracy: 0.9204\n",
            "Epoch 199/200\n",
            "4/4 [==============================] - 0s 10ms/step - loss: 0.2632 - accuracy: 0.9027\n",
            "Epoch 200/200\n",
            "4/4 [==============================] - 0s 6ms/step - loss: 0.2755 - accuracy: 0.9292\n"
          ]
        }
      ],
      "source": [
        "epoch_cant=200\n",
        "hist = model.fit(x=train_X, y=train_y, epochs=epoch_cant)"
      ]
    },
    {
      "cell_type": "code",
      "execution_count": null,
      "metadata": {
        "id": "Pb1GZDjGRP6Q",
        "colab": {
          "base_uri": "https://localhost:8080/",
          "height": 267
        },
        "outputId": "d5f54370-f2f1-4ed1-f400-39e9d7b45654"
      },
      "outputs": [
        {
          "output_type": "display_data",
          "data": {
            "text/plain": [
              "<Figure size 432x288 with 1 Axes>"
            ],
            "image/png": "[encoded data removed]"
          },
          "metadata": {
            "needs_background": "light"
          }
        }
      ],
      "source": [
        "# Entrenamiento métrica.\n",
        "epoch_count = range(1, epoch_cant+1)\n",
        "sns.lineplot(x=epoch_count, y=hist.history['accuracy'], label='accuracy train')\n",
        "plt.show()"
      ]
    },
    {
      "cell_type": "code",
      "source": [
        "# Entrenamiento función de pérdida.\n",
        "epoch_count = range(1, epoch_cant+1)\n",
        "sns.lineplot(x=epoch_count, y=hist.history['loss'], label='loss function train')\n",
        "plt.show()"
      ],
      "metadata": {
        "colab": {
          "base_uri": "https://localhost:8080/",
          "height": 265
        },
        "id": "r8tzCYf7pber",
        "outputId": "b0a44603-72f6-4c65-e7e5-896a9e15a067"
      },
      "execution_count": null,
      "outputs": [
        {
          "output_type": "display_data",
          "data": {
            "text/plain": [
              "<Figure size 432x288 with 1 Axes>"
            ],
            "image/png": "[encoded data removed]"
          },
          "metadata": {
            "needs_background": "light"
          }
        }
      ]
    },
    {
      "cell_type": "markdown",
      "source": [
        "### TF-IDF"
      ],
      "metadata": {
        "id": "wJWfFp34MD28"
      }
    },
    {
      "cell_type": "code",
      "execution_count": null,
      "metadata": {
        "colab": {
          "base_uri": "https://localhost:8080/"
        },
        "outputId": "e9f58660-e5f7-4f13-debb-31e89d181c0c",
        "id": "oXfvTjy8MLHm"
      },
      "outputs": [
        {
          "output_type": "stream",
          "name": "stdout",
          "text": [
            "input: (107,) output: 16\n"
          ]
        }
      ],
      "source": [
        "# Shape de entrada y salida.\n",
        "input_shape_TFIDF = (train_X_TFIDF.shape[1],)\n",
        "output_shape_TFIDF= train_y_TFIDF.shape[1]\n",
        "print(\"input:\", input_shape_TFIDF, \"output:\", output_shape_TFIDF)\n",
        "# Esto es así porque el vocabulario es 107 y los tags son 16."
      ]
    },
    {
      "cell_type": "code",
      "execution_count": null,
      "metadata": {
        "colab": {
          "base_uri": "https://localhost:8080/"
        },
        "outputId": "1cdfc21d-4d61-4ceb-b730-7b811da7e619",
        "id": "qQEUmw9HMLHn"
      },
      "outputs": [
        {
          "output_type": "stream",
          "name": "stdout",
          "text": [
            "Model: \"sequential_1\"\n",
            "_________________________________________________________________\n",
            " Layer (type)                Output Shape              Param #   \n",
            "=================================================================\n",
            " dense_3 (Dense)             (None, 128)               13824     \n",
            "                                                                 \n",
            " dropout_2 (Dropout)         (None, 128)               0         \n",
            "                                                                 \n",
            " dense_4 (Dense)             (None, 64)                8256      \n",
            "                                                                 \n",
            " dropout_3 (Dropout)         (None, 64)                0         \n",
            "                                                                 \n",
            " dense_5 (Dense)             (None, 16)                1040      \n",
            "                                                                 \n",
            "=================================================================\n",
            "Total params: 23,120\n",
            "Trainable params: 23,120\n",
            "Non-trainable params: 0\n",
            "_________________________________________________________________\n",
            "None\n"
          ]
        }
      ],
      "source": [
        "# Entrenamiento del modelo DNN\n",
        "# - Modelo secuencial\n",
        "# - Con regularización\n",
        "# - Softmax y optimizador Adam\n",
        "model_TFIDF = Sequential()\n",
        "model_TFIDF.add(Dense(128, input_shape=input_shape_TFIDF, activation=\"relu\"))\n",
        "model_TFIDF.add(Dropout(0.5))\n",
        "model_TFIDF.add(Dense(64, activation=\"relu\"))\n",
        "model_TFIDF.add(Dropout(0.5))\n",
        "model_TFIDF.add(Dense(output_shape_TFIDF, activation = \"softmax\"))\n",
        "\n",
        "model_TFIDF.compile(loss='categorical_crossentropy',\n",
        "              optimizer=\"Adam\",\n",
        "              metrics=[\"accuracy\"])\n",
        "\n",
        "print(model_TFIDF.summary())"
      ]
    },
    {
      "cell_type": "code",
      "execution_count": null,
      "metadata": {
        "colab": {
          "base_uri": "https://localhost:8080/"
        },
        "outputId": "00b4aed5-dbad-42e3-939b-7f7a4c701489",
        "id": "ag5p-cM9MLHn"
      },
      "outputs": [
        {
          "output_type": "stream",
          "name": "stdout",
          "text": [
            "Epoch 1/200\n",
            "4/4 [==============================] - 1s 6ms/step - loss: 2.7633 - accuracy: 0.0973\n",
            "Epoch 2/200\n",
            "4/4 [==============================] - 0s 10ms/step - loss: 2.7393 - accuracy: 0.1327\n",
            "Epoch 3/200\n",
            "4/4 [==============================] - 0s 5ms/step - loss: 2.7390 - accuracy: 0.1593\n",
            "Epoch 4/200\n",
            "4/4 [==============================] - 0s 7ms/step - loss: 2.7045 - accuracy: 0.1593\n",
            "Epoch 5/200\n",
            "4/4 [==============================] - 0s 5ms/step - loss: 2.6883 - accuracy: 0.1858\n",
            "Epoch 6/200\n",
            "4/4 [==============================] - 0s 7ms/step - loss: 2.6545 - accuracy: 0.1858\n",
            "Epoch 7/200\n",
            "4/4 [==============================] - 0s 6ms/step - loss: 2.6574 - accuracy: 0.1947\n",
            "Epoch 8/200\n",
            "4/4 [==============================] - 0s 7ms/step - loss: 2.5997 - accuracy: 0.2389\n",
            "Epoch 9/200\n",
            "4/4 [==============================] - 0s 8ms/step - loss: 2.6041 - accuracy: 0.2478\n",
            "Epoch 10/200\n",
            "4/4 [==============================] - 0s 8ms/step - loss: 2.5854 - accuracy: 0.2301\n",
            "Epoch 11/200\n",
            "4/4 [==============================] - 0s 6ms/step - loss: 2.5658 - accuracy: 0.2212\n",
            "Epoch 12/200\n",
            "4/4 [==============================] - 0s 5ms/step - loss: 2.5492 - accuracy: 0.2124\n",
            "Epoch 13/200\n",
            "4/4 [==============================] - 0s 5ms/step - loss: 2.4902 - accuracy: 0.2124\n",
            "Epoch 14/200\n",
            "4/4 [==============================] - 0s 5ms/step - loss: 2.4871 - accuracy: 0.1770\n",
            "Epoch 15/200\n",
            "4/4 [==============================] - 0s 6ms/step - loss: 2.4598 - accuracy: 0.2212\n",
            "Epoch 16/200\n",
            "4/4 [==============================] - 0s 6ms/step - loss: 2.4855 - accuracy: 0.2124\n",
            "Epoch 17/200\n",
            "4/4 [==============================] - 0s 6ms/step - loss: 2.4133 - accuracy: 0.2389\n",
            "Epoch 18/200\n",
            "4/4 [==============================] - 0s 5ms/step - loss: 2.3806 - accuracy: 0.2389\n",
            "Epoch 19/200\n",
            "4/4 [==============================] - 0s 5ms/step - loss: 2.3869 - accuracy: 0.2478\n",
            "Epoch 20/200\n",
            "4/4 [==============================] - 0s 11ms/step - loss: 2.3282 - accuracy: 0.2478\n",
            "Epoch 21/200\n",
            "4/4 [==============================] - 0s 5ms/step - loss: 2.3402 - accuracy: 0.1858\n",
            "Epoch 22/200\n",
            "4/4 [==============================] - 0s 7ms/step - loss: 2.2855 - accuracy: 0.2478\n",
            "Epoch 23/200\n",
            "4/4 [==============================] - 0s 5ms/step - loss: 2.2941 - accuracy: 0.2655\n",
            "Epoch 24/200\n",
            "4/4 [==============================] - 0s 5ms/step - loss: 2.2018 - accuracy: 0.2566\n",
            "Epoch 25/200\n",
            "4/4 [==============================] - 0s 8ms/step - loss: 2.1973 - accuracy: 0.2655\n",
            "Epoch 26/200\n",
            "4/4 [==============================] - 0s 5ms/step - loss: 2.2042 - accuracy: 0.3097\n",
            "Epoch 27/200\n",
            "4/4 [==============================] - 0s 5ms/step - loss: 2.1502 - accuracy: 0.2478\n",
            "Epoch 28/200\n",
            "4/4 [==============================] - 0s 5ms/step - loss: 2.1389 - accuracy: 0.3363\n",
            "Epoch 29/200\n",
            "4/4 [==============================] - 0s 5ms/step - loss: 2.0426 - accuracy: 0.3363\n",
            "Epoch 30/200\n",
            "4/4 [==============================] - 0s 10ms/step - loss: 2.1015 - accuracy: 0.3186\n",
            "Epoch 31/200\n",
            "4/4 [==============================] - 0s 5ms/step - loss: 2.0406 - accuracy: 0.3805\n",
            "Epoch 32/200\n",
            "4/4 [==============================] - 0s 5ms/step - loss: 2.0407 - accuracy: 0.2832\n",
            "Epoch 33/200\n",
            "4/4 [==============================] - 0s 5ms/step - loss: 1.9169 - accuracy: 0.4071\n",
            "Epoch 34/200\n",
            "4/4 [==============================] - 0s 5ms/step - loss: 1.8809 - accuracy: 0.3894\n",
            "Epoch 35/200\n",
            "4/4 [==============================] - 0s 6ms/step - loss: 1.9086 - accuracy: 0.4159\n",
            "Epoch 36/200\n",
            "4/4 [==============================] - 0s 8ms/step - loss: 1.9196 - accuracy: 0.4336\n",
            "Epoch 37/200\n",
            "4/4 [==============================] - 0s 6ms/step - loss: 1.7709 - accuracy: 0.4956\n",
            "Epoch 38/200\n",
            "4/4 [==============================] - 0s 6ms/step - loss: 1.8165 - accuracy: 0.4071\n",
            "Epoch 39/200\n",
            "4/4 [==============================] - 0s 11ms/step - loss: 1.7714 - accuracy: 0.4779\n",
            "Epoch 40/200\n",
            "4/4 [==============================] - 0s 5ms/step - loss: 1.7024 - accuracy: 0.5133\n",
            "Epoch 41/200\n",
            "4/4 [==============================] - 0s 8ms/step - loss: 1.6758 - accuracy: 0.5221\n",
            "Epoch 42/200\n",
            "4/4 [==============================] - 0s 7ms/step - loss: 1.7176 - accuracy: 0.5221\n",
            "Epoch 43/200\n",
            "4/4 [==============================] - 0s 6ms/step - loss: 1.5486 - accuracy: 0.6372\n",
            "Epoch 44/200\n",
            "4/4 [==============================] - 0s 5ms/step - loss: 1.6020 - accuracy: 0.5841\n",
            "Epoch 45/200\n",
            "4/4 [==============================] - 0s 5ms/step - loss: 1.5433 - accuracy: 0.6549\n",
            "Epoch 46/200\n",
            "4/4 [==============================] - 0s 5ms/step - loss: 1.6014 - accuracy: 0.5310\n",
            "Epoch 47/200\n",
            "4/4 [==============================] - 0s 5ms/step - loss: 1.5473 - accuracy: 0.6195\n",
            "Epoch 48/200\n",
            "4/4 [==============================] - 0s 5ms/step - loss: 1.4209 - accuracy: 0.6283\n",
            "Epoch 49/200\n",
            "4/4 [==============================] - 0s 7ms/step - loss: 1.4601 - accuracy: 0.5487\n",
            "Epoch 50/200\n",
            "4/4 [==============================] - 0s 6ms/step - loss: 1.4459 - accuracy: 0.6549\n",
            "Epoch 51/200\n",
            "4/4 [==============================] - 0s 5ms/step - loss: 1.4486 - accuracy: 0.5841\n",
            "Epoch 52/200\n",
            "4/4 [==============================] - 0s 9ms/step - loss: 1.3938 - accuracy: 0.6726\n",
            "Epoch 53/200\n",
            "4/4 [==============================] - 0s 6ms/step - loss: 1.3121 - accuracy: 0.6726\n",
            "Epoch 54/200\n",
            "4/4 [==============================] - 0s 6ms/step - loss: 1.3092 - accuracy: 0.6814\n",
            "Epoch 55/200\n",
            "4/4 [==============================] - 0s 8ms/step - loss: 1.2203 - accuracy: 0.6903\n",
            "Epoch 56/200\n",
            "4/4 [==============================] - 0s 9ms/step - loss: 1.2323 - accuracy: 0.6991\n",
            "Epoch 57/200\n",
            "4/4 [==============================] - 0s 6ms/step - loss: 1.2839 - accuracy: 0.6460\n",
            "Epoch 58/200\n",
            "4/4 [==============================] - 0s 8ms/step - loss: 1.1274 - accuracy: 0.7257\n",
            "Epoch 59/200\n",
            "4/4 [==============================] - 0s 7ms/step - loss: 1.1725 - accuracy: 0.7080\n",
            "Epoch 60/200\n",
            "4/4 [==============================] - 0s 7ms/step - loss: 1.1430 - accuracy: 0.7168\n",
            "Epoch 61/200\n",
            "4/4 [==============================] - 0s 7ms/step - loss: 1.0627 - accuracy: 0.7522\n",
            "Epoch 62/200\n",
            "4/4 [==============================] - 0s 7ms/step - loss: 1.0777 - accuracy: 0.7168\n",
            "Epoch 63/200\n",
            "4/4 [==============================] - 0s 9ms/step - loss: 0.9971 - accuracy: 0.7434\n",
            "Epoch 64/200\n",
            "4/4 [==============================] - 0s 10ms/step - loss: 1.0919 - accuracy: 0.7080\n",
            "Epoch 65/200\n",
            "4/4 [==============================] - 0s 8ms/step - loss: 0.9825 - accuracy: 0.7611\n",
            "Epoch 66/200\n",
            "4/4 [==============================] - 0s 7ms/step - loss: 1.0537 - accuracy: 0.7345\n",
            "Epoch 67/200\n",
            "4/4 [==============================] - 0s 10ms/step - loss: 0.9062 - accuracy: 0.7876\n",
            "Epoch 68/200\n",
            "4/4 [==============================] - 0s 7ms/step - loss: 1.0174 - accuracy: 0.7788\n",
            "Epoch 69/200\n",
            "4/4 [==============================] - 0s 5ms/step - loss: 0.9624 - accuracy: 0.7699\n",
            "Epoch 70/200\n",
            "4/4 [==============================] - 0s 5ms/step - loss: 0.9457 - accuracy: 0.7699\n",
            "Epoch 71/200\n",
            "4/4 [==============================] - 0s 6ms/step - loss: 0.8892 - accuracy: 0.8319\n",
            "Epoch 72/200\n",
            "4/4 [==============================] - 0s 7ms/step - loss: 0.9005 - accuracy: 0.7876\n",
            "Epoch 73/200\n",
            "4/4 [==============================] - 0s 7ms/step - loss: 0.7408 - accuracy: 0.8761\n",
            "Epoch 74/200\n",
            "4/4 [==============================] - 0s 9ms/step - loss: 0.8590 - accuracy: 0.8142\n",
            "Epoch 75/200\n",
            "4/4 [==============================] - 0s 11ms/step - loss: 0.9072 - accuracy: 0.7788\n",
            "Epoch 76/200\n",
            "4/4 [==============================] - 0s 6ms/step - loss: 0.8142 - accuracy: 0.8053\n",
            "Epoch 77/200\n",
            "4/4 [==============================] - 0s 5ms/step - loss: 0.7792 - accuracy: 0.8053\n",
            "Epoch 78/200\n",
            "4/4 [==============================] - 0s 6ms/step - loss: 0.7911 - accuracy: 0.8230\n",
            "Epoch 79/200\n",
            "4/4 [==============================] - 0s 7ms/step - loss: 0.8615 - accuracy: 0.7876\n",
            "Epoch 80/200\n",
            "4/4 [==============================] - 0s 9ms/step - loss: 0.7209 - accuracy: 0.8142\n",
            "Epoch 81/200\n",
            "4/4 [==============================] - 0s 8ms/step - loss: 0.8065 - accuracy: 0.7876\n",
            "Epoch 82/200\n",
            "4/4 [==============================] - 0s 6ms/step - loss: 0.7681 - accuracy: 0.8230\n",
            "Epoch 83/200\n",
            "4/4 [==============================] - 0s 9ms/step - loss: 0.6325 - accuracy: 0.8496\n",
            "Epoch 84/200\n",
            "4/4 [==============================] - 0s 9ms/step - loss: 0.7168 - accuracy: 0.8319\n",
            "Epoch 85/200\n",
            "4/4 [==============================] - 0s 6ms/step - loss: 0.7035 - accuracy: 0.7965\n",
            "Epoch 86/200\n",
            "4/4 [==============================] - 0s 5ms/step - loss: 0.6178 - accuracy: 0.8496\n",
            "Epoch 87/200\n",
            "4/4 [==============================] - 0s 5ms/step - loss: 0.5664 - accuracy: 0.9027\n",
            "Epoch 88/200\n",
            "4/4 [==============================] - 0s 5ms/step - loss: 0.6696 - accuracy: 0.8407\n",
            "Epoch 89/200\n",
            "4/4 [==============================] - 0s 6ms/step - loss: 0.6246 - accuracy: 0.8673\n",
            "Epoch 90/200\n",
            "4/4 [==============================] - 0s 9ms/step - loss: 0.6994 - accuracy: 0.8407\n",
            "Epoch 91/200\n",
            "4/4 [==============================] - 0s 5ms/step - loss: 0.6669 - accuracy: 0.8142\n",
            "Epoch 92/200\n",
            "4/4 [==============================] - 0s 8ms/step - loss: 0.6399 - accuracy: 0.8496\n",
            "Epoch 93/200\n",
            "4/4 [==============================] - 0s 7ms/step - loss: 0.5949 - accuracy: 0.8496\n",
            "Epoch 94/200\n",
            "4/4 [==============================] - 0s 6ms/step - loss: 0.6716 - accuracy: 0.8230\n",
            "Epoch 95/200\n",
            "4/4 [==============================] - 0s 6ms/step - loss: 0.5831 - accuracy: 0.8319\n",
            "Epoch 96/200\n",
            "4/4 [==============================] - 0s 8ms/step - loss: 0.6322 - accuracy: 0.8584\n",
            "Epoch 97/200\n",
            "4/4 [==============================] - 0s 6ms/step - loss: 0.6208 - accuracy: 0.8407\n",
            "Epoch 98/200\n",
            "4/4 [==============================] - 0s 7ms/step - loss: 0.5059 - accuracy: 0.8584\n",
            "Epoch 99/200\n",
            "4/4 [==============================] - 0s 13ms/step - loss: 0.4942 - accuracy: 0.8938\n",
            "Epoch 100/200\n",
            "4/4 [==============================] - 0s 10ms/step - loss: 0.5774 - accuracy: 0.8584\n",
            "Epoch 101/200\n",
            "4/4 [==============================] - 0s 7ms/step - loss: 0.5593 - accuracy: 0.8761\n",
            "Epoch 102/200\n",
            "4/4 [==============================] - 0s 9ms/step - loss: 0.5589 - accuracy: 0.8673\n",
            "Epoch 103/200\n",
            "4/4 [==============================] - 0s 6ms/step - loss: 0.5937 - accuracy: 0.8319\n",
            "Epoch 104/200\n",
            "4/4 [==============================] - 0s 6ms/step - loss: 0.5395 - accuracy: 0.8761\n",
            "Epoch 105/200\n",
            "4/4 [==============================] - 0s 8ms/step - loss: 0.5455 - accuracy: 0.9027\n",
            "Epoch 106/200\n",
            "4/4 [==============================] - 0s 6ms/step - loss: 0.4872 - accuracy: 0.8938\n",
            "Epoch 107/200\n",
            "4/4 [==============================] - 0s 6ms/step - loss: 0.5578 - accuracy: 0.8673\n",
            "Epoch 108/200\n",
            "4/4 [==============================] - 0s 5ms/step - loss: 0.5365 - accuracy: 0.8938\n",
            "Epoch 109/200\n",
            "4/4 [==============================] - 0s 5ms/step - loss: 0.5554 - accuracy: 0.8584\n",
            "Epoch 110/200\n",
            "4/4 [==============================] - 0s 5ms/step - loss: 0.5235 - accuracy: 0.8761\n",
            "Epoch 111/200\n",
            "4/4 [==============================] - 0s 6ms/step - loss: 0.5213 - accuracy: 0.8673\n",
            "Epoch 112/200\n",
            "4/4 [==============================] - 0s 6ms/step - loss: 0.4764 - accuracy: 0.8850\n",
            "Epoch 113/200\n",
            "4/4 [==============================] - 0s 6ms/step - loss: 0.4182 - accuracy: 0.8938\n",
            "Epoch 114/200\n",
            "4/4 [==============================] - 0s 6ms/step - loss: 0.4975 - accuracy: 0.8850\n",
            "Epoch 115/200\n",
            "4/4 [==============================] - 0s 10ms/step - loss: 0.4847 - accuracy: 0.8584\n",
            "Epoch 116/200\n",
            "4/4 [==============================] - 0s 8ms/step - loss: 0.4434 - accuracy: 0.8496\n",
            "Epoch 117/200\n",
            "4/4 [==============================] - 0s 14ms/step - loss: 0.4526 - accuracy: 0.8938\n",
            "Epoch 118/200\n",
            "4/4 [==============================] - 0s 7ms/step - loss: 0.3724 - accuracy: 0.9115\n",
            "Epoch 119/200\n",
            "4/4 [==============================] - 0s 6ms/step - loss: 0.4160 - accuracy: 0.9027\n",
            "Epoch 120/200\n",
            "4/4 [==============================] - 0s 5ms/step - loss: 0.5651 - accuracy: 0.8496\n",
            "Epoch 121/200\n",
            "4/4 [==============================] - 0s 5ms/step - loss: 0.4275 - accuracy: 0.8938\n",
            "Epoch 122/200\n",
            "4/4 [==============================] - 0s 6ms/step - loss: 0.4796 - accuracy: 0.9027\n",
            "Epoch 123/200\n",
            "4/4 [==============================] - 0s 6ms/step - loss: 0.3909 - accuracy: 0.9292\n",
            "Epoch 124/200\n",
            "4/4 [==============================] - 0s 5ms/step - loss: 0.3900 - accuracy: 0.9027\n",
            "Epoch 125/200\n",
            "4/4 [==============================] - 0s 6ms/step - loss: 0.4499 - accuracy: 0.8850\n",
            "Epoch 126/200\n",
            "4/4 [==============================] - 0s 9ms/step - loss: 0.4345 - accuracy: 0.8850\n",
            "Epoch 127/200\n",
            "4/4 [==============================] - 0s 9ms/step - loss: 0.4137 - accuracy: 0.9027\n",
            "Epoch 128/200\n",
            "4/4 [==============================] - 0s 6ms/step - loss: 0.3900 - accuracy: 0.9115\n",
            "Epoch 129/200\n",
            "4/4 [==============================] - 0s 6ms/step - loss: 0.3996 - accuracy: 0.8761\n",
            "Epoch 130/200\n",
            "4/4 [==============================] - 0s 8ms/step - loss: 0.3859 - accuracy: 0.9027\n",
            "Epoch 131/200\n",
            "4/4 [==============================] - 0s 6ms/step - loss: 0.3743 - accuracy: 0.9381\n",
            "Epoch 132/200\n",
            "4/4 [==============================] - 0s 10ms/step - loss: 0.4309 - accuracy: 0.8761\n",
            "Epoch 133/200\n",
            "4/4 [==============================] - 0s 6ms/step - loss: 0.3126 - accuracy: 0.9381\n",
            "Epoch 134/200\n",
            "4/4 [==============================] - 0s 6ms/step - loss: 0.3819 - accuracy: 0.9204\n",
            "Epoch 135/200\n",
            "4/4 [==============================] - 0s 5ms/step - loss: 0.4490 - accuracy: 0.8761\n",
            "Epoch 136/200\n",
            "4/4 [==============================] - 0s 6ms/step - loss: 0.3940 - accuracy: 0.8938\n",
            "Epoch 137/200\n",
            "4/4 [==============================] - 0s 25ms/step - loss: 0.3204 - accuracy: 0.9469\n",
            "Epoch 138/200\n",
            "4/4 [==============================] - 0s 7ms/step - loss: 0.3588 - accuracy: 0.9204\n",
            "Epoch 139/200\n",
            "4/4 [==============================] - 0s 5ms/step - loss: 0.3854 - accuracy: 0.8938\n",
            "Epoch 140/200\n",
            "4/4 [==============================] - 0s 7ms/step - loss: 0.3507 - accuracy: 0.9204\n",
            "Epoch 141/200\n",
            "4/4 [==============================] - 0s 7ms/step - loss: 0.3789 - accuracy: 0.9027\n",
            "Epoch 142/200\n",
            "4/4 [==============================] - 0s 6ms/step - loss: 0.3915 - accuracy: 0.8850\n",
            "Epoch 143/200\n",
            "4/4 [==============================] - 0s 9ms/step - loss: 0.3548 - accuracy: 0.9115\n",
            "Epoch 144/200\n",
            "4/4 [==============================] - 0s 7ms/step - loss: 0.3270 - accuracy: 0.8850\n",
            "Epoch 145/200\n",
            "4/4 [==============================] - 0s 8ms/step - loss: 0.3187 - accuracy: 0.9027\n",
            "Epoch 146/200\n",
            "4/4 [==============================] - 0s 9ms/step - loss: 0.3420 - accuracy: 0.9115\n",
            "Epoch 147/200\n",
            "4/4 [==============================] - 0s 7ms/step - loss: 0.4097 - accuracy: 0.8938\n",
            "Epoch 148/200\n",
            "4/4 [==============================] - 0s 7ms/step - loss: 0.3049 - accuracy: 0.9115\n",
            "Epoch 149/200\n",
            "4/4 [==============================] - 0s 7ms/step - loss: 0.3148 - accuracy: 0.9027\n",
            "Epoch 150/200\n",
            "4/4 [==============================] - 0s 9ms/step - loss: 0.2590 - accuracy: 0.9735\n",
            "Epoch 151/200\n",
            "4/4 [==============================] - 0s 7ms/step - loss: 0.3679 - accuracy: 0.8673\n",
            "Epoch 152/200\n",
            "4/4 [==============================] - 0s 13ms/step - loss: 0.3444 - accuracy: 0.9204\n",
            "Epoch 153/200\n",
            "4/4 [==============================] - 0s 9ms/step - loss: 0.3470 - accuracy: 0.9292\n",
            "Epoch 154/200\n",
            "4/4 [==============================] - 0s 6ms/step - loss: 0.3278 - accuracy: 0.9027\n",
            "Epoch 155/200\n",
            "4/4 [==============================] - 0s 9ms/step - loss: 0.3465 - accuracy: 0.9115\n",
            "Epoch 156/200\n",
            "4/4 [==============================] - 0s 6ms/step - loss: 0.3088 - accuracy: 0.9204\n",
            "Epoch 157/200\n",
            "4/4 [==============================] - 0s 6ms/step - loss: 0.3344 - accuracy: 0.9292\n",
            "Epoch 158/200\n",
            "4/4 [==============================] - 0s 6ms/step - loss: 0.3407 - accuracy: 0.9292\n",
            "Epoch 159/200\n",
            "4/4 [==============================] - 0s 6ms/step - loss: 0.2961 - accuracy: 0.9204\n",
            "Epoch 160/200\n",
            "4/4 [==============================] - 0s 5ms/step - loss: 0.2611 - accuracy: 0.9292\n",
            "Epoch 161/200\n",
            "4/4 [==============================] - 0s 6ms/step - loss: 0.3340 - accuracy: 0.8938\n",
            "Epoch 162/200\n",
            "4/4 [==============================] - 0s 9ms/step - loss: 0.3225 - accuracy: 0.9115\n",
            "Epoch 163/200\n",
            "4/4 [==============================] - 0s 6ms/step - loss: 0.2982 - accuracy: 0.9381\n",
            "Epoch 164/200\n",
            "4/4 [==============================] - 0s 9ms/step - loss: 0.3719 - accuracy: 0.8850\n",
            "Epoch 165/200\n",
            "4/4 [==============================] - 0s 7ms/step - loss: 0.3292 - accuracy: 0.9115\n",
            "Epoch 166/200\n",
            "4/4 [==============================] - 0s 9ms/step - loss: 0.2462 - accuracy: 0.9469\n",
            "Epoch 167/200\n",
            "4/4 [==============================] - 0s 13ms/step - loss: 0.2878 - accuracy: 0.9115\n",
            "Epoch 168/200\n",
            "4/4 [==============================] - 0s 7ms/step - loss: 0.2686 - accuracy: 0.9027\n",
            "Epoch 169/200\n",
            "4/4 [==============================] - 0s 8ms/step - loss: 0.2791 - accuracy: 0.9204\n",
            "Epoch 170/200\n",
            "4/4 [==============================] - 0s 9ms/step - loss: 0.2815 - accuracy: 0.9292\n",
            "Epoch 171/200\n",
            "4/4 [==============================] - 0s 15ms/step - loss: 0.3446 - accuracy: 0.9204\n",
            "Epoch 172/200\n",
            "4/4 [==============================] - 0s 11ms/step - loss: 0.3157 - accuracy: 0.9292\n",
            "Epoch 173/200\n",
            "4/4 [==============================] - 0s 8ms/step - loss: 0.2740 - accuracy: 0.8938\n",
            "Epoch 174/200\n",
            "4/4 [==============================] - 0s 8ms/step - loss: 0.2958 - accuracy: 0.9381\n",
            "Epoch 175/200\n",
            "4/4 [==============================] - 0s 6ms/step - loss: 0.3155 - accuracy: 0.9027\n",
            "Epoch 176/200\n",
            "4/4 [==============================] - 0s 8ms/step - loss: 0.2537 - accuracy: 0.9381\n",
            "Epoch 177/200\n",
            "4/4 [==============================] - 0s 8ms/step - loss: 0.3641 - accuracy: 0.8938\n",
            "Epoch 178/200\n",
            "4/4 [==============================] - 0s 5ms/step - loss: 0.3165 - accuracy: 0.9027\n",
            "Epoch 179/200\n",
            "4/4 [==============================] - 0s 6ms/step - loss: 0.2497 - accuracy: 0.9381\n",
            "Epoch 180/200\n",
            "4/4 [==============================] - 0s 5ms/step - loss: 0.2988 - accuracy: 0.9115\n",
            "Epoch 181/200\n",
            "4/4 [==============================] - 0s 6ms/step - loss: 0.2845 - accuracy: 0.9292\n",
            "Epoch 182/200\n",
            "4/4 [==============================] - 0s 6ms/step - loss: 0.2793 - accuracy: 0.8938\n",
            "Epoch 183/200\n",
            "4/4 [==============================] - 0s 7ms/step - loss: 0.2658 - accuracy: 0.9381\n",
            "Epoch 184/200\n",
            "4/4 [==============================] - 0s 6ms/step - loss: 0.2424 - accuracy: 0.9381\n",
            "Epoch 185/200\n",
            "4/4 [==============================] - 0s 7ms/step - loss: 0.3423 - accuracy: 0.8761\n",
            "Epoch 186/200\n",
            "4/4 [==============================] - 0s 6ms/step - loss: 0.2682 - accuracy: 0.9027\n",
            "Epoch 187/200\n",
            "4/4 [==============================] - 0s 5ms/step - loss: 0.2924 - accuracy: 0.8850\n",
            "Epoch 188/200\n",
            "4/4 [==============================] - 0s 6ms/step - loss: 0.2699 - accuracy: 0.9204\n",
            "Epoch 189/200\n",
            "4/4 [==============================] - 0s 9ms/step - loss: 0.2358 - accuracy: 0.9204\n",
            "Epoch 190/200\n",
            "4/4 [==============================] - 0s 5ms/step - loss: 0.2629 - accuracy: 0.9381\n",
            "Epoch 191/200\n",
            "4/4 [==============================] - 0s 6ms/step - loss: 0.2201 - accuracy: 0.9381\n",
            "Epoch 192/200\n",
            "4/4 [==============================] - 0s 5ms/step - loss: 0.2443 - accuracy: 0.9204\n",
            "Epoch 193/200\n",
            "4/4 [==============================] - 0s 7ms/step - loss: 0.2432 - accuracy: 0.9204\n",
            "Epoch 194/200\n",
            "4/4 [==============================] - 0s 5ms/step - loss: 0.2320 - accuracy: 0.9292\n",
            "Epoch 195/200\n",
            "4/4 [==============================] - 0s 5ms/step - loss: 0.2291 - accuracy: 0.9292\n",
            "Epoch 196/200\n",
            "4/4 [==============================] - 0s 7ms/step - loss: 0.3041 - accuracy: 0.8938\n",
            "Epoch 197/200\n",
            "4/4 [==============================] - 0s 19ms/step - loss: 0.2287 - accuracy: 0.9381\n",
            "Epoch 198/200\n",
            "4/4 [==============================] - 0s 9ms/step - loss: 0.2892 - accuracy: 0.9292\n",
            "Epoch 199/200\n",
            "4/4 [==============================] - 0s 8ms/step - loss: 0.2335 - accuracy: 0.9292\n",
            "Epoch 200/200\n",
            "4/4 [==============================] - 0s 10ms/step - loss: 0.2500 - accuracy: 0.9292\n"
          ]
        }
      ],
      "source": [
        "epoch_cant=200\n",
        "hist_TFIDF = model_TFIDF.fit(x=train_X_TFIDF, y=train_y_TFIDF, epochs=epoch_cant)"
      ]
    },
    {
      "cell_type": "code",
      "execution_count": null,
      "metadata": {
        "colab": {
          "base_uri": "https://localhost:8080/",
          "height": 265
        },
        "outputId": "c8b935f9-0c5a-479c-ce7c-072a8bc8147c",
        "id": "AeKkMCemMLHn"
      },
      "outputs": [
        {
          "output_type": "display_data",
          "data": {
            "text/plain": [
              "<Figure size 432x288 with 1 Axes>"
            ],
            "image/png": "[encoded data removed]"
          },
          "metadata": {
            "needs_background": "light"
          }
        }
      ],
      "source": [
        "# Entrenamiento métrica.\n",
        "epoch_count = range(1, epoch_cant+1)\n",
        "sns.lineplot(x=epoch_count, y=hist_TFIDF.history['accuracy'], label='accuracy train')\n",
        "plt.show()"
      ]
    },
    {
      "cell_type": "code",
      "source": [
        "# Entrenamiento función de pérdida.\n",
        "epoch_count = range(1, epoch_cant+1)\n",
        "sns.lineplot(x=epoch_count, y=hist_TFIDF.history['loss'], label='loss function train')\n",
        "plt.show()"
      ],
      "metadata": {
        "colab": {
          "base_uri": "https://localhost:8080/",
          "height": 265
        },
        "outputId": "bfc43d67-7c99-41e1-a6aa-15d0fb2a770b",
        "id": "2OdbiGQaMLHn"
      },
      "execution_count": null,
      "outputs": [
        {
          "output_type": "display_data",
          "data": {
            "text/plain": [
              "<Figure size 432x288 with 1 Axes>"
            ],
            "image/png": "[encoded data removed]"
          },
          "metadata": {
            "needs_background": "light"
          }
        }
      ]
    },
    {
      "cell_type": "markdown",
      "metadata": {
        "id": "TnD1WvhBfVYR"
      },
      "source": [
        "## 6 - Testing y validación"
      ]
    },
    {
      "cell_type": "markdown",
      "source": [
        "Se utilizarán las siguientes frases, tanto para BOW, como para TF-IDF:\n",
        "\n",
        "1) Hi!\n",
        "\n",
        "2) What is NLP?\n",
        "\n",
        "3) But, I don't know anything about neural networks.\n",
        "\n",
        "4) Thanks."
      ],
      "metadata": {
        "id": "GPGLI2gycBY9"
      }
    },
    {
      "cell_type": "markdown",
      "source": [
        "### Bag of words"
      ],
      "metadata": {
        "id": "KQe3oEflNfRW"
      }
    },
    {
      "cell_type": "code",
      "execution_count": null,
      "metadata": {
        "id": "kqBdSGt8Orkm"
      },
      "outputs": [],
      "source": [
        "# Transformar el texto de entrada tokenizado a una representación OHE.\n",
        "def bag_of_words(text, vocab): \n",
        "    tokens = preprocess_clean_text(text)\n",
        "    bow = [0] * len(vocab)\n",
        "    for w in tokens: \n",
        "        for idx, word in enumerate(vocab):\n",
        "            if word == w: \n",
        "                bow[idx] = 1\n",
        "    #print(\"bow del mensaje\",bow)\n",
        "    return np.array(bow)\n",
        "\n",
        "# Usar modelo con la entrada en OHE y los labels posibles (tags).\n",
        "# text: mensaje del usuario.\n",
        "# vocab: vocabulario.\n",
        "# labels: el vector de tags (clases).\n",
        "def pred_class(text, vocab, labels): \n",
        "    bow = bag_of_words(text, vocab)\n",
        "    #print (\"Shape del bow\",bow.shape)\n",
        "    words_recognized = sum(bow)\n",
        "    # Si está en cero, quiere decir que el el mensaje dado por el usuario\n",
        "    # no contiene ninguna palabra del vocabulario.\n",
        "    \n",
        "    return_list = []\n",
        "    if words_recognized > 0: # Sólo si reconoció alguna palabra del vocabulario\n",
        "        result = model.predict(np.array([bow]))[0] # Es un array de softmax.\n",
        "        #print (\"Softmax array:\",result)\n",
        "        thresh = 0.2\n",
        "        # Filtrar aquellas entradas menores al umbral `thresh`.\n",
        "        y_pred = [[idx, res] for idx, res in enumerate(result) if res > thresh]\n",
        "        #print (\"Umbral array:\",y_pred)\n",
        "        # Ordenar keys de acuerdo al valor softmax (puede haber más de uno que \n",
        "        # supere el umbral).\n",
        "        y_pred.sort(key=lambda x: x[1], reverse=True)\n",
        "        #print (\"Order array:\",y_pred)\n",
        "    \n",
        "        # return_list es una lista de los labels de mayor a menor.\n",
        "        for r in y_pred:\n",
        "            return_list.append(labels[r[0]])\n",
        "        #print (\"Return list\",return_list)\n",
        "\n",
        "    # Si no reconoció palabras del vocabulario se devuelve una lista vacía.\n",
        "    return return_list\n",
        "\n",
        "# Obtener una respuesta predeterminada. \n",
        "# intents_list son los tags que reconoción la red neuronal.\n",
        "# intents_json es todo el dataset: tag + preguntas + respuestas.\n",
        "def get_response(intents_list, intents_json):\n",
        "    #Esta es la intrucción en donde se queda con un solo tag.\n",
        "    tag = intents_list[0] # Tomar el tag con el mejor valor softmax (mayor).\n",
        "    list_of_intents = intents_json[\"intents\"]\n",
        "    for i in list_of_intents: \n",
        "        if i[\"tag\"] == tag: # Buscar el tag correspondiente y dar una respuesta predeterminada aleatoria \n",
        "            result = \"BOT: \" + random.choice(i[\"responses\"])\n",
        "            break\n",
        "    return result"
      ]
    },
    {
      "cell_type": "markdown",
      "source": [
        "####Sin Gradio"
      ],
      "metadata": {
        "id": "g_HLsBHKwSqP"
      }
    },
    {
      "cell_type": "code",
      "execution_count": null,
      "metadata": {
        "id": "Xp1vXQwdOvl7",
        "colab": {
          "base_uri": "https://localhost:8080/"
        },
        "outputId": "c7ce6a22-b9bd-4ff4-c97d-bdb9d0fbf70c"
      },
      "outputs": [
        {
          "name": "stdout",
          "output_type": "stream",
          "text": [
            "Welcome to the chatbot. If you want to finish, please write 'quit'.\n",
            "Hi!\n",
            "BOT: Dear friend! How can I help you?\n",
            "What is NLP?\n",
            "BOT: The best topics in CEIA! Please visit https://github.com/FIUBA-Posgrado-Inteligencia-Artificial/procesamiento_lenguaje_natural\n",
            "But, I don't know anything about neural networks.\n",
            "BOT: A neural network is a series of algorithms that endeavors to recognize underlying relationships in a set of data through a process that mimics the way the human brain operates. In this sense, neural networks refer to systems of neurons, either organic or artificial in nature.\n",
            "Thanks.\n",
            "BOT: I hope I was able to assist you, Good Bye\n",
            "quit\n"
          ]
        }
      ],
      "source": [
        "print (\"Welcome to the chatbot. If you want to finish, please write 'quit'.\")\n",
        "while True:\n",
        "    # Pedir input al usuario.\n",
        "    message = input(\"\")\n",
        "    if message=='quit':\n",
        "      break\n",
        "    intents = pred_class(message, words, classes)\n",
        "    if len(intents) > 0:\n",
        "        result = get_response(intents, dataset)\n",
        "        print(result)\n",
        "    else: # Si no hubo ningún resultado que supere el umbral.\n",
        "        print(\"I'm sorry, I don't understand this question.\")   "
      ]
    },
    {
      "cell_type": "markdown",
      "source": [
        "#### Con Gradio"
      ],
      "metadata": {
        "id": "M4XuLGV4wWyR"
      }
    },
    {
      "cell_type": "code",
      "source": [
        "def bot_response(human):\n",
        "    intents = pred_class(human, words, classes)\n",
        "    if len(intents) > 0:\n",
        "        return get_response(intents, dataset)\n",
        "    else: # Si no hubo ningún resultado que supere el umbral.\n",
        "        return \"I'm sorry, I don't understand this question.\"   \n",
        "\n",
        "iface = gr.Interface(\n",
        "    fn=bot_response,\n",
        "    inputs=[\"textbox\"],\n",
        "    outputs=\"text\")\n",
        "\n",
        "iface.launch(debug=True)"
      ],
      "metadata": {
        "colab": {
          "base_uri": "https://localhost:8080/",
          "height": 680
        },
        "id": "rjEpY1jjshDA",
        "outputId": "85b487a1-41be-42ae-8c89-f76d6918527c"
      },
      "execution_count": 32,
      "outputs": [
        {
          "output_type": "stream",
          "name": "stdout",
          "text": [
            "Colab notebook detected. This cell will run indefinitely so that you can see errors and logs. To turn off, set debug=False in launch().\n",
            "Running on public URL: https://17909.gradio.app\n",
            "\n",
            "This share link expires in 72 hours. For free permanent hosting, check out Spaces: https://huggingface.co/spaces\n"
          ]
        },
        {
          "output_type": "display_data",
          "data": {
            "text/plain": [
              "<IPython.core.display.HTML object>"
            ],
            "text/html": [
              "<div><iframe src=\"https://17909.gradio.app\" width=\"900\" height=\"500\" allow=\"autoplay; camera; microphone;\" frameborder=\"0\" allowfullscreen></iframe></div>"
            ]
          },
          "metadata": {}
        },
        {
          "output_type": "stream",
          "name": "stdout",
          "text": [
            "Keyboard interruption in main thread... closing server.\n"
          ]
        },
        {
          "output_type": "execute_result",
          "data": {
            "text/plain": [
              "(<gradio.routes.App at 0x7f7308bec390>,\n",
              " 'http://127.0.0.1:7862/',\n",
              " 'https://17909.gradio.app')"
            ]
          },
          "metadata": {},
          "execution_count": 32
        }
      ]
    },
    {
      "cell_type": "markdown",
      "source": [
        "### TF-IDF"
      ],
      "metadata": {
        "id": "W8Dco2AwNrO3"
      }
    },
    {
      "cell_type": "code",
      "execution_count": null,
      "metadata": {
        "id": "OAk_ICRWN9EG"
      },
      "outputs": [],
      "source": [
        "# Transformar el texto de entrada tokenizado a una representación TF-IDF.\n",
        "def TF_IDF(text, vocab): \n",
        "    # Crear un vectorizador TF-IDF.\n",
        "    word_vectorizer = TfidfVectorizer(tokenizer=preprocess_clean_text,lowercase=False,vocabulary=vocab)\n",
        "\n",
        "    # Crear los vectores TF-IDF a partir del mensaje del usuario.\n",
        "    #print (type(text))\n",
        "    text_list=[]\n",
        "    text_list.append(text)\n",
        "    #print (type(text_list))\n",
        "    TFIDF = word_vectorizer.fit_transform(text_list)  \n",
        "\n",
        "    arr_X=TFIDF.toarray()\n",
        "    arr_X=np.squeeze(arr_X,axis=0)\n",
        "    #print(\"TF-IDF del mensaje\",arr_X)\n",
        "    return arr_X\n",
        "\n",
        "# Usar modelo con la entrada en TF-IDF y los labels posibles (tags).\n",
        "# text: mensaje del usuario.\n",
        "# vocab: vocabulario.\n",
        "# labels: el vector de tags (clases).\n",
        "def pred_class(text, vocab, labels): \n",
        "    tfidf = TF_IDF(text, vocab)\n",
        "    #print (\"Shape del tfidf\",tfidf.shape)\n",
        "    words_recognized = sum(tfidf)\n",
        "    # Si está en cero, quiere decir que el el mensaje dado por el usuario\n",
        "    # no contiene ninguna palabra del vocabulario.\n",
        "    \n",
        "    return_list = []\n",
        "    if words_recognized > 0: # Sólo si reconoció alguna palabra del vocabulario\n",
        "        result = model_TFIDF.predict(np.array([tfidf]))[0] # Es un array de softmax.\n",
        "        #print (\"Softmax array:\",result)\n",
        "        thresh = 0.2\n",
        "        # Filtrar aquellas entradas menores al umbral `thresh`.\n",
        "        y_pred = [[idx, res] for idx, res in enumerate(result) if res > thresh]\n",
        "        #print (\"Umbral array:\",y_pred)\n",
        "        # Ordenar keys de acuerdo al valor softmax (puede haber más de uno que \n",
        "        # supere el umbral).\n",
        "        y_pred.sort(key=lambda x: x[1], reverse=True)\n",
        "        #print (\"Order array:\",y_pred)\n",
        "    \n",
        "        # return_list es una lista de los labels de mayor a menor.\n",
        "        for r in y_pred:\n",
        "            return_list.append(labels[r[0]])\n",
        "        #print (\"Return list\",return_list)\n",
        "\n",
        "    # Si no reconoció palabras del vocabulario se devuelve una lista vacía.\n",
        "    return return_list\n",
        "\n",
        "# Obtener una respuesta predeterminada. \n",
        "# intents_list son los tags que reconoción la red neuronal.\n",
        "# intents_json es todo el dataset: tag + preguntas + respuestas.\n",
        "def get_response(intents_list, intents_json):\n",
        "    #Esta es la intrucción en donde se queda con un solo tag.\n",
        "    tag = intents_list[0] # Tomar el tag con el mejor valor softmax (mayor).\n",
        "    list_of_intents = intents_json[\"intents\"]\n",
        "    for i in list_of_intents: \n",
        "        if i[\"tag\"] == tag: # Buscar el tag correspondiente y dar una respuesta predeterminada aleatoria \n",
        "            result = \"BOT: \" + random.choice(i[\"responses\"])\n",
        "            break\n",
        "    return result"
      ]
    },
    {
      "cell_type": "markdown",
      "source": [
        "####Sin Gradio"
      ],
      "metadata": {
        "id": "MJGBpNwsN9EI"
      }
    },
    {
      "cell_type": "code",
      "execution_count": null,
      "metadata": {
        "colab": {
          "base_uri": "https://localhost:8080/"
        },
        "outputId": "fda66603-a46b-4fdf-de39-f712e3ad9707",
        "id": "7GVHT1LoN9EI"
      },
      "outputs": [
        {
          "name": "stdout",
          "output_type": "stream",
          "text": [
            "Welcome to the chatbot. If you want to finish, please write 'quit'.\n",
            "Hi!\n",
            "BOT: Hello! I'm your personal assistant botIA. How can I help you ?\n",
            "What is NLP?\n",
            "BOT: The best topics in CEIA! Please visit https://github.com/FIUBA-Posgrado-Inteligencia-Artificial/procesamiento_lenguaje_natural\n",
            "But, I don't know anything about neural networks.\n",
            "BOT: A neural network is a series of algorithms that endeavors to recognize underlying relationships in a set of data through a process that mimics the way the human brain operates. In this sense, neural networks refer to systems of neurons, either organic or artificial in nature.\n",
            "Thanks.\n",
            "BOT: I hope I was able to assist you, Good Bye\n",
            "quit\n"
          ]
        }
      ],
      "source": [
        "print (\"Welcome to the chatbot. If you want to finish, please write 'quit'.\")\n",
        "while True:\n",
        "    # Pedir input al usuario.\n",
        "    message = input(\"\")\n",
        "    if message=='quit':\n",
        "      break\n",
        "    intents = pred_class(message, words, classes)\n",
        "    if len(intents) > 0:\n",
        "        result = get_response(intents, dataset)\n",
        "        print(result)\n",
        "    else: # Si no hubo ningún resultado que supere el umbral.\n",
        "        print(\"I'm sorry, I don't understand this question.\")   "
      ]
    },
    {
      "cell_type": "markdown",
      "metadata": {
        "id": "ayatkwp4fYQx"
      },
      "source": [
        "## 7 - Conclusiones"
      ]
    },
    {
      "cell_type": "markdown",
      "source": [
        "### Gráfico comparativo de entrenamiento entre BOW y TF-IDF"
      ],
      "metadata": {
        "id": "ZkoQs13iYdtD"
      }
    },
    {
      "cell_type": "code",
      "source": [
        "# Entrenamiento métrica.\n",
        "epoch_count = range(1, epoch_cant+1)\n",
        "sns.lineplot(x=epoch_count, y=hist.history['accuracy'], label='BOW')\n",
        "sns.lineplot(x=epoch_count, y=hist_TFIDF.history['accuracy'], label='TF-IDF')\n",
        "plt.title(\"Métrica accuracy de entrenamiento\")\n",
        "plt.show()"
      ],
      "metadata": {
        "colab": {
          "base_uri": "https://localhost:8080/",
          "height": 281
        },
        "id": "wpSFyTwoYceE",
        "outputId": "eadf5e22-0cb0-4f9d-e844-1f3497805c99"
      },
      "execution_count": null,
      "outputs": [
        {
          "output_type": "display_data",
          "data": {
            "text/plain": [
              "<Figure size 432x288 with 1 Axes>"
            ],
            "image/png": "[encoded data removed]"
          },
          "metadata": {
            "needs_background": "light"
          }
        }
      ]
    },
    {
      "cell_type": "markdown",
      "source": [
        "Los resultados de entrenamiento son similares, ya que alcanzan el mismo nivel de accuracy en la misma cantidad de epochs con la misma arquitectura."
      ],
      "metadata": {
        "id": "O8XCuChHbp33"
      }
    },
    {
      "cell_type": "markdown",
      "source": [
        "### Acerca del testing y validación"
      ],
      "metadata": {
        "id": "3406t-MFeG_W"
      }
    },
    {
      "cell_type": "markdown",
      "source": [
        "Tanto BOW, como TF-IDF, interactúan correctamente con el humano según las frases ingresadas. Lógicamente, la respuesta puede variar en los casos en donde hay más de una, porque es random."
      ],
      "metadata": {
        "id": "ETPukY08eM7b"
      }
    }
  ],
  "metadata": {
    "colab": {
      "collapsed_sections": [],
      "provenance": [],
      "toc_visible": true
    },
    "kernelspec": {
      "display_name": "Python 3",
      "name": "python3"
    },
    "language_info": {
      "name": "python"
    }
  },
  "nbformat": 4,
  "nbformat_minor": 0
}