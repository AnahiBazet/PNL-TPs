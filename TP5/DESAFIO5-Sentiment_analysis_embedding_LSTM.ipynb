{
  "nbformat": 4,
  "nbformat_minor": 0,
  "metadata": {
    "colab": {
      "provenance": [],
      "collapsed_sections": [],
      "toc_visible": true
    },
    "kernelspec": {
      "name": "python3",
      "display_name": "Python 3"
    },
    "accelerator": "GPU"
  },
  "cells": [
    {
      "cell_type": "markdown",
      "source": [
        "#DESAFÍO Nro. 5 NLP: análisis de sentimientos utilizando embeddings en redes neuronales LSTM.\n",
        "\n",
        "Las modificaciones realizadas en relación con el ejercicio original fueron:\n",
        "\n",
        "* Se modifica el dataset balanceando sus clases.\n",
        "* Se agrega entrenamiento con embeddings Glove.\n",
        "* Se agrega entrenamiento con embeddings FastText, pero complejizando la arquitectura.\n",
        "* Se aumentan las epochs.\n",
        "* Se aumenta la cantidad de palabras a mantener en el tokenizador.\n",
        "* Se agregan gráficos de la función de pérdida.\n",
        "* Se obtienen las conclusiones.\n",
        "\n",
        "\n",
        "By Anahi Bazet"
      ],
      "metadata": {
        "id": "n48Jn80yjjJB"
      }
    },
    {
      "cell_type": "markdown",
      "metadata": {
        "id": "vA7nqkumo9z9"
      },
      "source": [
        "# Objetivo\n"
      ]
    },
    {
      "cell_type": "markdown",
      "source": [
        "El objetivo es utilizar las críticas de compradores de ropa para que el sistema determine la evaluación del comprador (cuántas estrellas le asigna al producto)."
      ],
      "metadata": {
        "id": "xLGCiy-Qj4o3"
      }
    },
    {
      "cell_type": "markdown",
      "source": [
        "## 1 - Librerías"
      ],
      "metadata": {
        "id": "QcvV0SpwjXsU"
      }
    },
    {
      "cell_type": "code",
      "source": [
        "!pip install --upgrade --no-cache-dir gdown --quiet"
      ],
      "metadata": {
        "id": "KsXg5143lo0r",
        "colab": {
          "base_uri": "https://localhost:8080/"
        },
        "outputId": "7ecdfb80-1eeb-416f-cf02-58d2eef1a451"
      },
      "execution_count": 1,
      "outputs": [
        {
          "output_type": "stream",
          "name": "stdout",
          "text": [
            "  Installing build dependencies ... \u001b[?25l\u001b[?25hdone\n",
            "  Getting requirements to build wheel ... \u001b[?25l\u001b[?25hdone\n",
            "    Preparing wheel metadata ... \u001b[?25l\u001b[?25hdone\n",
            "  Building wheel for gdown (PEP 517) ... \u001b[?25l\u001b[?25hdone\n"
          ]
        }
      ]
    },
    {
      "cell_type": "code",
      "source": [
        "import numpy as np\n",
        "import random\n",
        "import io\n",
        "import os\n",
        "import gdown\n",
        "import pickle\n",
        "import logging\n",
        "from pathlib import Path\n",
        "from io import StringIO\n",
        "import pandas as pd\n",
        "\n",
        "import matplotlib.pyplot as plt\n",
        "import seaborn as sns\n",
        "\n",
        "from tensorflow import keras\n",
        "\n",
        "from keras.utils.np_utils import to_categorical\n",
        "from keras.preprocessing.sequence import pad_sequences\n",
        "from keras.models import Sequential\n",
        "from keras.layers import Dense\n",
        "from keras.layers import LSTM\n",
        "from keras.layers import Embedding\n",
        "from keras.layers import Dropout\n",
        "from keras.layers import Bidirectional\n",
        "from keras.utils.vis_utils import plot_model\n",
        "\n",
        "from keras.preprocessing.text import text_to_word_sequence\n",
        "from keras.preprocessing.text import Tokenizer\n",
        "from keras.preprocessing.sequence import pad_sequences\n",
        "\n",
        "from sklearn.model_selection import train_test_split"
      ],
      "metadata": {
        "id": "c4ocVSsuxlq0"
      },
      "execution_count": 2,
      "outputs": []
    },
    {
      "cell_type": "markdown",
      "metadata": {
        "id": "g07zJxG7H9vG"
      },
      "source": [
        "## 2 - Obtención de datos\n",
        "Utilizaremos como dataset críticas de compradores de ropa (eCommerce) los cuales puntuaron a cada prenda con un puntaje de 1 a 5 estrellas. Referencia del dataset: https://www.kaggle.com/datasets/nicapotato/womens-ecommerce-clothing-reviews"
      ]
    },
    {
      "cell_type": "code",
      "source": [
        "#Descargar el archivo del GD.\n",
        "if os.access('clothing_ecommerce_reviews.csv', os.F_OK) is False:\n",
        "    url = 'https://drive.google.com/uc?id=1k2Dz4oY5uxI3JEaT6m-L2T2HvLkECYIP'\n",
        "    output = 'clothing_ecommerce_reviews.csv'\n",
        "    gdown.download(url, output, quiet=False)\n",
        "else:\n",
        "    print(\"El dataset ya se encuentra descargado\")"
      ],
      "metadata": {
        "colab": {
          "base_uri": "https://localhost:8080/"
        },
        "id": "OcO5FvzIyQzA",
        "outputId": "c7afe38a-f427-4563-bec4-aeff1c9f7661"
      },
      "execution_count": 3,
      "outputs": [
        {
          "output_type": "stream",
          "name": "stderr",
          "text": [
            "Downloading...\n",
            "From: https://drive.google.com/uc?id=1k2Dz4oY5uxI3JEaT6m-L2T2HvLkECYIP\n",
            "To: /content/clothing_ecommerce_reviews.csv\n",
            "100%|██████████| 8.48M/8.48M [00:00<00:00, 38.2MB/s]\n"
          ]
        }
      ]
    },
    {
      "cell_type": "code",
      "source": [
        "# Leer el dataset.\n",
        "df = pd.read_csv('clothing_ecommerce_reviews.csv')\n",
        "df.drop(columns = ['Unnamed: 0'], inplace = True)\n",
        "df.head(5)"
      ],
      "metadata": {
        "colab": {
          "base_uri": "https://localhost:8080/",
          "height": 669
        },
        "id": "PGHrbUwXyffE",
        "outputId": "c8cb407b-3ad3-4786-e7b5-ec3d115612bc"
      },
      "execution_count": 4,
      "outputs": [
        {
          "output_type": "execute_result",
          "data": {
            "text/plain": [
              "   Clothing ID  Age                    Title  \\\n",
              "0          767   33                      NaN   \n",
              "1         1080   34                      NaN   \n",
              "2         1077   60  Some major design flaws   \n",
              "3         1049   50         My favorite buy!   \n",
              "4          847   47         Flattering shirt   \n",
              "\n",
              "                                         Review Text  Rating  Recommended IND  \\\n",
              "0  Absolutely wonderful - silky and sexy and comf...       4                1   \n",
              "1  Love this dress!  it's sooo pretty.  i happene...       5                1   \n",
              "2  I had such high hopes for this dress and reall...       3                0   \n",
              "3  I love, love, love this jumpsuit. it's fun, fl...       5                1   \n",
              "4  This shirt is very flattering to all due to th...       5                1   \n",
              "\n",
              "   Positive Feedback Count   Division Name Department Name Class Name  \n",
              "0                        0       Initmates        Intimate  Intimates  \n",
              "1                        4         General         Dresses    Dresses  \n",
              "2                        0         General         Dresses    Dresses  \n",
              "3                        0  General Petite         Bottoms      Pants  \n",
              "4                        6         General            Tops    Blouses  "
            ],
            "text/html": [
              "\n",
              "  <div id=\"df-492a8faa-5264-472f-beaf-2cb7af9fa423\">\n",
              "    <div class=\"colab-df-container\">\n",
              "      <div>\n",
              "<style scoped>\n",
              "    .dataframe tbody tr th:only-of-type {\n",
              "        vertical-align: middle;\n",
              "    }\n",
              "\n",
              "    .dataframe tbody tr th {\n",
              "        vertical-align: top;\n",
              "    }\n",
              "\n",
              "    .dataframe thead th {\n",
              "        text-align: right;\n",
              "    }\n",
              "</style>\n",
              "<table border=\"1\" class=\"dataframe\">\n",
              "  <thead>\n",
              "    <tr style=\"text-align: right;\">\n",
              "      <th></th>\n",
              "      <th>Clothing ID</th>\n",
              "      <th>Age</th>\n",
              "      <th>Title</th>\n",
              "      <th>Review Text</th>\n",
              "      <th>Rating</th>\n",
              "      <th>Recommended IND</th>\n",
              "      <th>Positive Feedback Count</th>\n",
              "      <th>Division Name</th>\n",
              "      <th>Department Name</th>\n",
              "      <th>Class Name</th>\n",
              "    </tr>\n",
              "  </thead>\n",
              "  <tbody>\n",
              "    <tr>\n",
              "      <th>0</th>\n",
              "      <td>767</td>\n",
              "      <td>33</td>\n",
              "      <td>NaN</td>\n",
              "      <td>Absolutely wonderful - silky and sexy and comf...</td>\n",
              "      <td>4</td>\n",
              "      <td>1</td>\n",
              "      <td>0</td>\n",
              "      <td>Initmates</td>\n",
              "      <td>Intimate</td>\n",
              "      <td>Intimates</td>\n",
              "    </tr>\n",
              "    <tr>\n",
              "      <th>1</th>\n",
              "      <td>1080</td>\n",
              "      <td>34</td>\n",
              "      <td>NaN</td>\n",
              "      <td>Love this dress!  it's sooo pretty.  i happene...</td>\n",
              "      <td>5</td>\n",
              "      <td>1</td>\n",
              "      <td>4</td>\n",
              "      <td>General</td>\n",
              "      <td>Dresses</td>\n",
              "      <td>Dresses</td>\n",
              "    </tr>\n",
              "    <tr>\n",
              "      <th>2</th>\n",
              "      <td>1077</td>\n",
              "      <td>60</td>\n",
              "      <td>Some major design flaws</td>\n",
              "      <td>I had such high hopes for this dress and reall...</td>\n",
              "      <td>3</td>\n",
              "      <td>0</td>\n",
              "      <td>0</td>\n",
              "      <td>General</td>\n",
              "      <td>Dresses</td>\n",
              "      <td>Dresses</td>\n",
              "    </tr>\n",
              "    <tr>\n",
              "      <th>3</th>\n",
              "      <td>1049</td>\n",
              "      <td>50</td>\n",
              "      <td>My favorite buy!</td>\n",
              "      <td>I love, love, love this jumpsuit. it's fun, fl...</td>\n",
              "      <td>5</td>\n",
              "      <td>1</td>\n",
              "      <td>0</td>\n",
              "      <td>General Petite</td>\n",
              "      <td>Bottoms</td>\n",
              "      <td>Pants</td>\n",
              "    </tr>\n",
              "    <tr>\n",
              "      <th>4</th>\n",
              "      <td>847</td>\n",
              "      <td>47</td>\n",
              "      <td>Flattering shirt</td>\n",
              "      <td>This shirt is very flattering to all due to th...</td>\n",
              "      <td>5</td>\n",
              "      <td>1</td>\n",
              "      <td>6</td>\n",
              "      <td>General</td>\n",
              "      <td>Tops</td>\n",
              "      <td>Blouses</td>\n",
              "    </tr>\n",
              "  </tbody>\n",
              "</table>\n",
              "</div>\n",
              "      <button class=\"colab-df-convert\" onclick=\"convertToInteractive('df-492a8faa-5264-472f-beaf-2cb7af9fa423')\"\n",
              "              title=\"Convert this dataframe to an interactive table.\"\n",
              "              style=\"display:none;\">\n",
              "        \n",
              "  <svg xmlns=\"http://www.w3.org/2000/svg\" height=\"24px\"viewBox=\"0 0 24 24\"\n",
              "       width=\"24px\">\n",
              "    <path d=\"M0 0h24v24H0V0z\" fill=\"none\"/>\n",
              "    <path d=\"M18.56 5.44l.94 2.06.94-2.06 2.06-.94-2.06-.94-.94-2.06-.94 2.06-2.06.94zm-11 1L8.5 8.5l.94-2.06 2.06-.94-2.06-.94L8.5 2.5l-.94 2.06-2.06.94zm10 10l.94 2.06.94-2.06 2.06-.94-2.06-.94-.94-2.06-.94 2.06-2.06.94z\"/><path d=\"M17.41 7.96l-1.37-1.37c-.4-.4-.92-.59-1.43-.59-.52 0-1.04.2-1.43.59L10.3 9.45l-7.72 7.72c-.78.78-.78 2.05 0 2.83L4 21.41c.39.39.9.59 1.41.59.51 0 1.02-.2 1.41-.59l7.78-7.78 2.81-2.81c.8-.78.8-2.07 0-2.86zM5.41 20L4 18.59l7.72-7.72 1.47 1.35L5.41 20z\"/>\n",
              "  </svg>\n",
              "      </button>\n",
              "      \n",
              "  <style>\n",
              "    .colab-df-container {\n",
              "      display:flex;\n",
              "      flex-wrap:wrap;\n",
              "      gap: 12px;\n",
              "    }\n",
              "\n",
              "    .colab-df-convert {\n",
              "      background-color: #E8F0FE;\n",
              "      border: none;\n",
              "      border-radius: 50%;\n",
              "      cursor: pointer;\n",
              "      display: none;\n",
              "      fill: #1967D2;\n",
              "      height: 32px;\n",
              "      padding: 0 0 0 0;\n",
              "      width: 32px;\n",
              "    }\n",
              "\n",
              "    .colab-df-convert:hover {\n",
              "      background-color: #E2EBFA;\n",
              "      box-shadow: 0px 1px 2px rgba(60, 64, 67, 0.3), 0px 1px 3px 1px rgba(60, 64, 67, 0.15);\n",
              "      fill: #174EA6;\n",
              "    }\n",
              "\n",
              "    [theme=dark] .colab-df-convert {\n",
              "      background-color: #3B4455;\n",
              "      fill: #D2E3FC;\n",
              "    }\n",
              "\n",
              "    [theme=dark] .colab-df-convert:hover {\n",
              "      background-color: #434B5C;\n",
              "      box-shadow: 0px 1px 3px 1px rgba(0, 0, 0, 0.15);\n",
              "      filter: drop-shadow(0px 1px 2px rgba(0, 0, 0, 0.3));\n",
              "      fill: #FFFFFF;\n",
              "    }\n",
              "  </style>\n",
              "\n",
              "      <script>\n",
              "        const buttonEl =\n",
              "          document.querySelector('#df-492a8faa-5264-472f-beaf-2cb7af9fa423 button.colab-df-convert');\n",
              "        buttonEl.style.display =\n",
              "          google.colab.kernel.accessAllowed ? 'block' : 'none';\n",
              "\n",
              "        async function convertToInteractive(key) {\n",
              "          const element = document.querySelector('#df-492a8faa-5264-472f-beaf-2cb7af9fa423');\n",
              "          const dataTable =\n",
              "            await google.colab.kernel.invokeFunction('convertToInteractive',\n",
              "                                                     [key], {});\n",
              "          if (!dataTable) return;\n",
              "\n",
              "          const docLinkHtml = 'Like what you see? Visit the ' +\n",
              "            '<a target=\"_blank\" href=https://colab.research.google.com/notebooks/data_table.ipynb>data table notebook</a>'\n",
              "            + ' to learn more about interactive tables.';\n",
              "          element.innerHTML = '';\n",
              "          dataTable['output_type'] = 'display_data';\n",
              "          await google.colab.output.renderOutput(dataTable, element);\n",
              "          const docLink = document.createElement('div');\n",
              "          docLink.innerHTML = docLinkHtml;\n",
              "          element.appendChild(docLink);\n",
              "        }\n",
              "      </script>\n",
              "    </div>\n",
              "  </div>\n",
              "  "
            ]
          },
          "metadata": {},
          "execution_count": 4
        }
      ]
    },
    {
      "cell_type": "code",
      "metadata": {
        "id": "LEpKubK9XzXN",
        "colab": {
          "base_uri": "https://localhost:8080/"
        },
        "outputId": "7e82687b-31fa-42fa-9eb8-22a4d1ff6fa4"
      },
      "source": [
        "print(\"Cantidad de críticas:\", df.shape[0])"
      ],
      "execution_count": 5,
      "outputs": [
        {
          "output_type": "stream",
          "name": "stdout",
          "text": [
            "Cantidad de críticas: 23486\n"
          ]
        }
      ]
    },
    {
      "cell_type": "markdown",
      "source": [
        "## 3 - Limpieza de datos\n",
        "* Del dataset unicamente se van a utilizar las columnas \"Review Text\" y \"Rating\".\n",
        "* Se transforma el rating 1-5 a una escala numérica de 0 a 4."
      ],
      "metadata": {
        "id": "Up-UfCUgz3H7"
      }
    },
    {
      "cell_type": "code",
      "source": [
        "df_reviews = df.loc[:, ['Review Text', 'Rating']].dropna()\n",
        "df_reviews['Rating'] = df_reviews['Rating'] - 1\n",
        "df_reviews.head(5)"
      ],
      "metadata": {
        "colab": {
          "base_uri": "https://localhost:8080/",
          "height": 206
        },
        "id": "Z9w07b2w1LHb",
        "outputId": "afa66a6e-f282-4826-f224-80729e9b3fe7"
      },
      "execution_count": 6,
      "outputs": [
        {
          "output_type": "execute_result",
          "data": {
            "text/plain": [
              "                                         Review Text  Rating\n",
              "0  Absolutely wonderful - silky and sexy and comf...       3\n",
              "1  Love this dress!  it's sooo pretty.  i happene...       4\n",
              "2  I had such high hopes for this dress and reall...       2\n",
              "3  I love, love, love this jumpsuit. it's fun, fl...       4\n",
              "4  This shirt is very flattering to all due to th...       4"
            ],
            "text/html": [
              "\n",
              "  <div id=\"df-7194395e-bf87-41af-ad37-27d4c4760be2\">\n",
              "    <div class=\"colab-df-container\">\n",
              "      <div>\n",
              "<style scoped>\n",
              "    .dataframe tbody tr th:only-of-type {\n",
              "        vertical-align: middle;\n",
              "    }\n",
              "\n",
              "    .dataframe tbody tr th {\n",
              "        vertical-align: top;\n",
              "    }\n",
              "\n",
              "    .dataframe thead th {\n",
              "        text-align: right;\n",
              "    }\n",
              "</style>\n",
              "<table border=\"1\" class=\"dataframe\">\n",
              "  <thead>\n",
              "    <tr style=\"text-align: right;\">\n",
              "      <th></th>\n",
              "      <th>Review Text</th>\n",
              "      <th>Rating</th>\n",
              "    </tr>\n",
              "  </thead>\n",
              "  <tbody>\n",
              "    <tr>\n",
              "      <th>0</th>\n",
              "      <td>Absolutely wonderful - silky and sexy and comf...</td>\n",
              "      <td>3</td>\n",
              "    </tr>\n",
              "    <tr>\n",
              "      <th>1</th>\n",
              "      <td>Love this dress!  it's sooo pretty.  i happene...</td>\n",
              "      <td>4</td>\n",
              "    </tr>\n",
              "    <tr>\n",
              "      <th>2</th>\n",
              "      <td>I had such high hopes for this dress and reall...</td>\n",
              "      <td>2</td>\n",
              "    </tr>\n",
              "    <tr>\n",
              "      <th>3</th>\n",
              "      <td>I love, love, love this jumpsuit. it's fun, fl...</td>\n",
              "      <td>4</td>\n",
              "    </tr>\n",
              "    <tr>\n",
              "      <th>4</th>\n",
              "      <td>This shirt is very flattering to all due to th...</td>\n",
              "      <td>4</td>\n",
              "    </tr>\n",
              "  </tbody>\n",
              "</table>\n",
              "</div>\n",
              "      <button class=\"colab-df-convert\" onclick=\"convertToInteractive('df-7194395e-bf87-41af-ad37-27d4c4760be2')\"\n",
              "              title=\"Convert this dataframe to an interactive table.\"\n",
              "              style=\"display:none;\">\n",
              "        \n",
              "  <svg xmlns=\"http://www.w3.org/2000/svg\" height=\"24px\"viewBox=\"0 0 24 24\"\n",
              "       width=\"24px\">\n",
              "    <path d=\"M0 0h24v24H0V0z\" fill=\"none\"/>\n",
              "    <path d=\"M18.56 5.44l.94 2.06.94-2.06 2.06-.94-2.06-.94-.94-2.06-.94 2.06-2.06.94zm-11 1L8.5 8.5l.94-2.06 2.06-.94-2.06-.94L8.5 2.5l-.94 2.06-2.06.94zm10 10l.94 2.06.94-2.06 2.06-.94-2.06-.94-.94-2.06-.94 2.06-2.06.94z\"/><path d=\"M17.41 7.96l-1.37-1.37c-.4-.4-.92-.59-1.43-.59-.52 0-1.04.2-1.43.59L10.3 9.45l-7.72 7.72c-.78.78-.78 2.05 0 2.83L4 21.41c.39.39.9.59 1.41.59.51 0 1.02-.2 1.41-.59l7.78-7.78 2.81-2.81c.8-.78.8-2.07 0-2.86zM5.41 20L4 18.59l7.72-7.72 1.47 1.35L5.41 20z\"/>\n",
              "  </svg>\n",
              "      </button>\n",
              "      \n",
              "  <style>\n",
              "    .colab-df-container {\n",
              "      display:flex;\n",
              "      flex-wrap:wrap;\n",
              "      gap: 12px;\n",
              "    }\n",
              "\n",
              "    .colab-df-convert {\n",
              "      background-color: #E8F0FE;\n",
              "      border: none;\n",
              "      border-radius: 50%;\n",
              "      cursor: pointer;\n",
              "      display: none;\n",
              "      fill: #1967D2;\n",
              "      height: 32px;\n",
              "      padding: 0 0 0 0;\n",
              "      width: 32px;\n",
              "    }\n",
              "\n",
              "    .colab-df-convert:hover {\n",
              "      background-color: #E2EBFA;\n",
              "      box-shadow: 0px 1px 2px rgba(60, 64, 67, 0.3), 0px 1px 3px 1px rgba(60, 64, 67, 0.15);\n",
              "      fill: #174EA6;\n",
              "    }\n",
              "\n",
              "    [theme=dark] .colab-df-convert {\n",
              "      background-color: #3B4455;\n",
              "      fill: #D2E3FC;\n",
              "    }\n",
              "\n",
              "    [theme=dark] .colab-df-convert:hover {\n",
              "      background-color: #434B5C;\n",
              "      box-shadow: 0px 1px 3px 1px rgba(0, 0, 0, 0.15);\n",
              "      filter: drop-shadow(0px 1px 2px rgba(0, 0, 0, 0.3));\n",
              "      fill: #FFFFFF;\n",
              "    }\n",
              "  </style>\n",
              "\n",
              "      <script>\n",
              "        const buttonEl =\n",
              "          document.querySelector('#df-7194395e-bf87-41af-ad37-27d4c4760be2 button.colab-df-convert');\n",
              "        buttonEl.style.display =\n",
              "          google.colab.kernel.accessAllowed ? 'block' : 'none';\n",
              "\n",
              "        async function convertToInteractive(key) {\n",
              "          const element = document.querySelector('#df-7194395e-bf87-41af-ad37-27d4c4760be2');\n",
              "          const dataTable =\n",
              "            await google.colab.kernel.invokeFunction('convertToInteractive',\n",
              "                                                     [key], {});\n",
              "          if (!dataTable) return;\n",
              "\n",
              "          const docLinkHtml = 'Like what you see? Visit the ' +\n",
              "            '<a target=\"_blank\" href=https://colab.research.google.com/notebooks/data_table.ipynb>data table notebook</a>'\n",
              "            + ' to learn more about interactive tables.';\n",
              "          element.innerHTML = '';\n",
              "          dataTable['output_type'] = 'display_data';\n",
              "          await google.colab.output.renderOutput(dataTable, element);\n",
              "          const docLink = document.createElement('div');\n",
              "          docLink.innerHTML = docLinkHtml;\n",
              "          element.appendChild(docLink);\n",
              "        }\n",
              "      </script>\n",
              "    </div>\n",
              "  </div>\n",
              "  "
            ]
          },
          "metadata": {},
          "execution_count": 6
        }
      ]
    },
    {
      "cell_type": "code",
      "metadata": {
        "id": "sZtvASVOn3ty",
        "colab": {
          "base_uri": "https://localhost:8080/"
        },
        "outputId": "908c18b2-3b72-48e4-a84a-eeadf2e7127b"
      },
      "source": [
        "# Observar como está distribuido el dataset respecto a la columna Rating\n",
        "# es decir, que tan balanceado se encuentra respecto a cada clase.\n",
        "df_reviews['Rating'].value_counts()"
      ],
      "execution_count": 7,
      "outputs": [
        {
          "output_type": "execute_result",
          "data": {
            "text/plain": [
              "4    12540\n",
              "3     4908\n",
              "2     2823\n",
              "1     1549\n",
              "0      821\n",
              "Name: Rating, dtype: int64"
            ]
          },
          "metadata": {},
          "execution_count": 7
        }
      ]
    },
    {
      "cell_type": "code",
      "metadata": {
        "id": "v7QJ2poZn9b-",
        "colab": {
          "base_uri": "https://localhost:8080/",
          "height": 279
        },
        "outputId": "1ab9795a-1d90-4f60-b477-6b7eb93b4571"
      },
      "source": [
        "# Observar como está distribuido el dataset.\n",
        "sns.countplot(x='Rating', data=df_reviews)\n",
        "plt.show()"
      ],
      "execution_count": 8,
      "outputs": [
        {
          "output_type": "display_data",
          "data": {
            "text/plain": [
              "<Figure size 432x288 with 1 Axes>"
            ],
            "image/png": "[encoded data removed]"
          },
          "metadata": {
            "needs_background": "light"
          }
        }
      ]
    },
    {
      "cell_type": "markdown",
      "metadata": {
        "id": "juVSYR89x_2v"
      },
      "source": [
        "Se puede observar que el dataset está desbalanceado. Las críticas de las clases 0 y 1 se van a catalogar dentro de la clase 2. El dataset va a continuar con el desbalance, pero en menor medida."
      ]
    },
    {
      "cell_type": "code",
      "source": [
        "from operator import xor\n",
        "df_reviews['Rating'] = df_reviews['Rating'].apply(lambda x: 2 if x == 0 or x==1 else x).values"
      ],
      "metadata": {
        "id": "6Nq3DdB12GaU"
      },
      "execution_count": 9,
      "outputs": []
    },
    {
      "cell_type": "code",
      "metadata": {
        "colab": {
          "base_uri": "https://localhost:8080/"
        },
        "outputId": "88f25d25-73e7-4936-9746-1841320d6462",
        "id": "QAU6hNLD4I54"
      },
      "source": [
        "# Observar como está distribuido el dataset respecto a la columna Rating\n",
        "# es decir, que tan balanceado se encuentra respecto a cada clase.\n",
        "df_reviews['Rating'].value_counts()"
      ],
      "execution_count": 10,
      "outputs": [
        {
          "output_type": "execute_result",
          "data": {
            "text/plain": [
              "4    12540\n",
              "2     5193\n",
              "3     4908\n",
              "Name: Rating, dtype: int64"
            ]
          },
          "metadata": {},
          "execution_count": 10
        }
      ]
    },
    {
      "cell_type": "code",
      "metadata": {
        "colab": {
          "base_uri": "https://localhost:8080/",
          "height": 279
        },
        "outputId": "94bf7bb8-5716-4c84-b23c-8dc47e84e161",
        "id": "RAfuIVi84I54"
      },
      "source": [
        "# Observar como está distribuido el dataset.\n",
        "sns.countplot(x='Rating', data=df_reviews)\n",
        "plt.show()"
      ],
      "execution_count": 11,
      "outputs": [
        {
          "output_type": "display_data",
          "data": {
            "text/plain": [
              "<Figure size 432x288 with 1 Axes>"
            ],
            "image/png": "[encoded data removed]"
          },
          "metadata": {
            "needs_background": "light"
          }
        }
      ]
    },
    {
      "cell_type": "code",
      "metadata": {
        "id": "gVJ_RVi4o1h3",
        "colab": {
          "base_uri": "https://localhost:8080/"
        },
        "outputId": "28d1ca25-1190-4522-bf2f-365b10ed8e69"
      },
      "source": [
        "# Tomar la columna de las review y almacenarlo todo en un vector numpy.\n",
        "text_sequences = df_reviews['Review Text'].values\n",
        "text_sequences.shape"
      ],
      "execution_count": 12,
      "outputs": [
        {
          "output_type": "execute_result",
          "data": {
            "text/plain": [
              "(22641,)"
            ]
          },
          "metadata": {},
          "execution_count": 12
        }
      ]
    },
    {
      "cell_type": "code",
      "metadata": {
        "id": "4nT5Un_co65Q",
        "colab": {
          "base_uri": "https://localhost:8080/"
        },
        "outputId": "88e73bf7-46b7-4bf0-97c2-872dc4c5217f"
      },
      "source": [
        "# Cuantas reviews (rows) hay para evaluar?\n",
        "len(text_sequences)"
      ],
      "execution_count": 13,
      "outputs": [
        {
          "output_type": "execute_result",
          "data": {
            "text/plain": [
              "22641"
            ]
          },
          "metadata": {},
          "execution_count": 13
        }
      ]
    },
    {
      "cell_type": "code",
      "metadata": {
        "id": "HP5uN9tqpHu_"
      },
      "source": [
        "# Concatenar todas las reviews para armar el corpus\n",
        "corpus = ' '.join(text_sequences)"
      ],
      "execution_count": 14,
      "outputs": []
    },
    {
      "cell_type": "code",
      "metadata": {
        "id": "FEzmePgdpf74",
        "colab": {
          "base_uri": "https://localhost:8080/"
        },
        "outputId": "9ecbe1bb-7d2e-4a70-8b2d-da3d8bb3ee7f"
      },
      "source": [
        "# ¿Cuál es la longitud de ese corpus?\n",
        "len(corpus)"
      ],
      "execution_count": 15,
      "outputs": [
        {
          "output_type": "execute_result",
          "data": {
            "text/plain": [
              "7011643"
            ]
          },
          "metadata": {},
          "execution_count": 15
        }
      ]
    },
    {
      "cell_type": "code",
      "metadata": {
        "id": "MYeJLdDmpvOe"
      },
      "source": [
        "# Utilizar \"text_to_word_sequence\" para separar las palabras en tokens.\n",
        "# Recordar que text_to_word_sequence automaticamente quita los signos de puntuacion y pasa el texto a lowercase.\n",
        "tokens = text_to_word_sequence(corpus)"
      ],
      "execution_count": 16,
      "outputs": []
    },
    {
      "cell_type": "code",
      "metadata": {
        "id": "M6L-fnWAp_lA",
        "colab": {
          "base_uri": "https://localhost:8080/"
        },
        "outputId": "ec851141-2649-4d56-cda4-4aed5ff3f76c"
      },
      "source": [
        "# Dar un vistazo a los primeros 20 tokens/palabras\n",
        "tokens[:20]"
      ],
      "execution_count": 17,
      "outputs": [
        {
          "output_type": "execute_result",
          "data": {
            "text/plain": [
              "['absolutely',\n",
              " 'wonderful',\n",
              " 'silky',\n",
              " 'and',\n",
              " 'sexy',\n",
              " 'and',\n",
              " 'comfortable',\n",
              " 'love',\n",
              " 'this',\n",
              " 'dress',\n",
              " \"it's\",\n",
              " 'sooo',\n",
              " 'pretty',\n",
              " 'i',\n",
              " 'happened',\n",
              " 'to',\n",
              " 'find',\n",
              " 'it',\n",
              " 'in',\n",
              " 'a']"
            ]
          },
          "metadata": {},
          "execution_count": 17
        }
      ]
    },
    {
      "cell_type": "code",
      "metadata": {
        "id": "-8QgwwMUqG0d",
        "colab": {
          "base_uri": "https://localhost:8080/"
        },
        "outputId": "354c4b51-d125-4a0c-a988-c4b7d153c965"
      },
      "source": [
        "# ¿Cuántos tokens/palabras hay?\n",
        "len(tokens)"
      ],
      "execution_count": 18,
      "outputs": [
        {
          "output_type": "execute_result",
          "data": {
            "text/plain": [
              "1372203"
            ]
          },
          "metadata": {},
          "execution_count": 18
        }
      ]
    },
    {
      "cell_type": "code",
      "metadata": {
        "id": "TFukNZdOsZ8_"
      },
      "source": [
        "# Tokenizar las palabras con el Tokenizer de Keras\n",
        "# Definir una máxima cantidad de palabras a utilizar:\n",
        "# - num_words --> el máximo número de palabras a mantener, basado en la frecuencia de la palabra.\n",
        "# - Solo se mantienen las palabras más comunes: num_words-1\n",
        "num_words = 14800\n",
        "vocab_size = num_words\n",
        "tok = Tokenizer(num_words=14800) \n",
        "tok.fit_on_texts(tokens)"
      ],
      "execution_count": 19,
      "outputs": []
    },
    {
      "cell_type": "code",
      "metadata": {
        "id": "JnR1tlqZy94X",
        "colab": {
          "base_uri": "https://localhost:8080/"
        },
        "outputId": "d38eee51-6755-480b-94b1-832fe4f8d0b4"
      },
      "source": [
        "# Obtener el diccionario de palabra (word) a índice\n",
        "# y observar la cantidad total del vocabulario.\n",
        "word_index = tok.word_index\n",
        "len(word_index)"
      ],
      "execution_count": 20,
      "outputs": [
        {
          "output_type": "execute_result",
          "data": {
            "text/plain": [
              "14847"
            ]
          },
          "metadata": {},
          "execution_count": 20
        }
      ]
    },
    {
      "cell_type": "code",
      "metadata": {
        "id": "AvWzzSretQXf"
      },
      "source": [
        "# Convertir las palabras/tokens a números\n",
        "sequences = tok.texts_to_sequences(text_sequences)"
      ],
      "execution_count": 21,
      "outputs": []
    },
    {
      "cell_type": "code",
      "metadata": {
        "id": "hfedPDOQD64v",
        "colab": {
          "base_uri": "https://localhost:8080/"
        },
        "outputId": "b79e9e88-f391-4df5-90ab-e50005d04290"
      },
      "source": [
        "sequences[0][:]"
      ],
      "execution_count": 22,
      "outputs": [
        {
          "output_type": "execute_result",
          "data": {
            "text/plain": [
              "[253, 532, 917, 3, 662, 3, 68]"
            ]
          },
          "metadata": {},
          "execution_count": 22
        }
      ]
    },
    {
      "cell_type": "code",
      "metadata": {
        "id": "za73M5SRtbrP",
        "colab": {
          "base_uri": "https://localhost:8080/"
        },
        "outputId": "a1a5a97a-04b3-4ea0-853b-7ed27cc6985c"
      },
      "source": [
        "# Determinar cual es la oración más larga\n",
        "maxlen=max(len(s) for s in sequences)\n",
        "print (maxlen)"
      ],
      "execution_count": 23,
      "outputs": [
        {
          "output_type": "stream",
          "name": "stdout",
          "text": [
            "116\n"
          ]
        }
      ]
    },
    {
      "cell_type": "code",
      "metadata": {
        "id": "oCkO9Wc9tls1"
      },
      "source": [
        "# Realizar padding de las sentencias al mismo tamaño\n",
        "# tomando de referencia la máxima sentencia.\n",
        "\n",
        "# Al realizar padding obtener la variable \"X\" (input).\n",
        "X = pad_sequences(sequences, padding='pre', maxlen=maxlen)"
      ],
      "execution_count": 24,
      "outputs": []
    },
    {
      "cell_type": "code",
      "source": [
        "# Rellena con ceros a la izquierda para que todas las sentencias tengan el mismo largo.\n",
        "X[0][:]"
      ],
      "metadata": {
        "colab": {
          "base_uri": "https://localhost:8080/"
        },
        "id": "CrjXyVUiPO1X",
        "outputId": "b23c7e41-0b02-4f1d-8cf8-9fd063134460"
      },
      "execution_count": 25,
      "outputs": [
        {
          "output_type": "execute_result",
          "data": {
            "text/plain": [
              "array([  0,   0,   0,   0,   0,   0,   0,   0,   0,   0,   0,   0,   0,\n",
              "         0,   0,   0,   0,   0,   0,   0,   0,   0,   0,   0,   0,   0,\n",
              "         0,   0,   0,   0,   0,   0,   0,   0,   0,   0,   0,   0,   0,\n",
              "         0,   0,   0,   0,   0,   0,   0,   0,   0,   0,   0,   0,   0,\n",
              "         0,   0,   0,   0,   0,   0,   0,   0,   0,   0,   0,   0,   0,\n",
              "         0,   0,   0,   0,   0,   0,   0,   0,   0,   0,   0,   0,   0,\n",
              "         0,   0,   0,   0,   0,   0,   0,   0,   0,   0,   0,   0,   0,\n",
              "         0,   0,   0,   0,   0,   0,   0,   0,   0,   0,   0,   0,   0,\n",
              "         0,   0,   0,   0,   0, 253, 532, 917,   3, 662,   3,  68],\n",
              "      dtype=int32)"
            ]
          },
          "metadata": {},
          "execution_count": 25
        }
      ]
    },
    {
      "cell_type": "code",
      "metadata": {
        "id": "kGHHabVdt_aa",
        "colab": {
          "base_uri": "https://localhost:8080/"
        },
        "outputId": "408f6bb8-9f17-4ce9-da46-bed5714c55ed"
      },
      "source": [
        "# Observar las dimensiones de la variable input.\n",
        "X.shape"
      ],
      "execution_count": 26,
      "outputs": [
        {
          "output_type": "execute_result",
          "data": {
            "text/plain": [
              "(22641, 116)"
            ]
          },
          "metadata": {},
          "execution_count": 26
        }
      ]
    },
    {
      "cell_type": "code",
      "metadata": {
        "id": "llVM-tzQo9_F",
        "colab": {
          "base_uri": "https://localhost:8080/"
        },
        "outputId": "f1f9980e-d505-470d-cf54-78b60eb0450a"
      },
      "source": [
        "# Tomar la columna rating y alcemacenarla en una variable \"y\" transformada a oneHotEncoding.\n",
        "# Su shape debe ser equivalente la cantidad de rows del corpus y a la cantidad\n",
        "# de clases que se deseen predecir (en este ejemplo son 3, luego de balancear).\n",
        "y = df_reviews['Rating'].values\n",
        "print(y.shape)\n",
        "y_data_int_offset = y - 2\n",
        "#La clase más baja comienza en 2 (2, 3 y 4)\n",
        "y= to_categorical(y_data_int_offset, num_classes=3) \n",
        "print (y.shape)"
      ],
      "execution_count": 27,
      "outputs": [
        {
          "output_type": "stream",
          "name": "stdout",
          "text": [
            "(22641,)\n",
            "(22641, 3)\n"
          ]
        }
      ]
    },
    {
      "cell_type": "code",
      "source": [
        "# El primer elemento es de la clase 3.\n",
        "y[0,:]"
      ],
      "metadata": {
        "colab": {
          "base_uri": "https://localhost:8080/"
        },
        "id": "1rVCSXqiR9Jf",
        "outputId": "4e9670e2-b1b2-484d-9bec-1942261ce2df"
      },
      "execution_count": 28,
      "outputs": [
        {
          "output_type": "execute_result",
          "data": {
            "text/plain": [
              "array([0., 1., 0.], dtype=float32)"
            ]
          },
          "metadata": {},
          "execution_count": 28
        }
      ]
    },
    {
      "cell_type": "code",
      "metadata": {
        "id": "Rmz9A6n4uK4V"
      },
      "source": [
        "# Dividir los datos en train y test\n",
        "X_train, X_test, y_train, y_test = train_test_split(X, y, test_size=0.2, random_state=42)"
      ],
      "execution_count": 29,
      "outputs": []
    },
    {
      "cell_type": "code",
      "metadata": {
        "id": "EcDPlhEouQ9E",
        "colab": {
          "base_uri": "https://localhost:8080/"
        },
        "outputId": "984dd5d1-46da-433d-e202-2fa3d8b15c0e"
      },
      "source": [
        "# Determinar la dimensiones de entrada y salida.\n",
        "in_shape = X_train.shape[1] # Las sentencias tienen 115 tokens (completados con padding).\n",
        "out_shape = 3 # Clasificación multiclase.\n",
        "print(\"in_shape\", in_shape, \", out_shape\", out_shape)"
      ],
      "execution_count": 30,
      "outputs": [
        {
          "output_type": "stream",
          "name": "stdout",
          "text": [
            "in_shape 116 , out_shape 3\n"
          ]
        }
      ]
    },
    {
      "cell_type": "markdown",
      "metadata": {
        "id": "NpbQHExL6OTu"
      },
      "source": [
        "## 4 - Entrenar el modelo con Embeddings + LSTM"
      ]
    },
    {
      "cell_type": "markdown",
      "source": [
        "Se entrenan embeddings propios."
      ],
      "metadata": {
        "id": "AyjPWoavmpHd"
      }
    },
    {
      "cell_type": "code",
      "metadata": {
        "id": "NUkuWBsM6cx3",
        "colab": {
          "base_uri": "https://localhost:8080/"
        },
        "outputId": "fea8c79e-e94e-4b81-e291-711668691f61"
      },
      "source": [
        "model = Sequential()\n",
        "# input_dim = vocab_size (max n_words).\n",
        "# input_length = setencias con padding a 115.\n",
        "# output_dim = 50 --> crear embeddings de tamaño 50.\n",
        "# Se le suma 1 por el id del padding.\n",
        "model.add(Embedding(input_dim=vocab_size+1, output_dim=50, input_length=in_shape))\n",
        "model.add(LSTM(units=64, return_sequences=True))\n",
        "model.add(Dropout(0.2))\n",
        "model.add(LSTM(units=64)) # La última capa LSTM no lleva return_sequences\n",
        "\n",
        "model.add(Dense(units=128, activation='relu'))\n",
        "model.add(Dropout(rate=0.2))\n",
        "model.add(Dense(units=out_shape, activation='softmax'))\n",
        "\n",
        "model.compile(optimizer=\"adam\",\n",
        "              loss='categorical_crossentropy',\n",
        "              metrics=['accuracy'])\n",
        "\n",
        "model.summary()\n",
        "# Si miramos la capa de embedding en el resumen (summary):\n",
        "# -none es el tamaño del batch, porque es dinámico.\n",
        "# -115 es la cantidad de tokens de la secuencia.\n",
        "# -50 es la tercera dimensión (tamaño del embedding de cada token)."
      ],
      "execution_count": 31,
      "outputs": [
        {
          "output_type": "stream",
          "name": "stdout",
          "text": [
            "Model: \"sequential\"\n",
            "_________________________________________________________________\n",
            " Layer (type)                Output Shape              Param #   \n",
            "=================================================================\n",
            " embedding (Embedding)       (None, 116, 50)           740050    \n",
            "                                                                 \n",
            " lstm (LSTM)                 (None, 116, 64)           29440     \n",
            "                                                                 \n",
            " dropout (Dropout)           (None, 116, 64)           0         \n",
            "                                                                 \n",
            " lstm_1 (LSTM)               (None, 64)                33024     \n",
            "                                                                 \n",
            " dense (Dense)               (None, 128)               8320      \n",
            "                                                                 \n",
            " dropout_1 (Dropout)         (None, 128)               0         \n",
            "                                                                 \n",
            " dense_1 (Dense)             (None, 3)                 387       \n",
            "                                                                 \n",
            "=================================================================\n",
            "Total params: 811,221\n",
            "Trainable params: 811,221\n",
            "Non-trainable params: 0\n",
            "_________________________________________________________________\n"
          ]
        }
      ]
    },
    {
      "cell_type": "code",
      "metadata": {
        "id": "IiHo33J8opab",
        "colab": {
          "base_uri": "https://localhost:8080/",
          "height": 865
        },
        "outputId": "74a777d9-4cb4-4512-bca2-f10a1b15744c"
      },
      "source": [
        "plot_model(model, to_file='model_plot.png', show_shapes=True, show_layer_names=True)"
      ],
      "execution_count": 32,
      "outputs": [
        {
          "output_type": "execute_result",
          "data": {
            "image/png": "[encoded data removed]",
            "text/plain": [
              "<IPython.core.display.Image object>"
            ]
          },
          "metadata": {},
          "execution_count": 32
        }
      ]
    },
    {
      "cell_type": "code",
      "metadata": {
        "id": "_oTSAIjeo73-",
        "colab": {
          "base_uri": "https://localhost:8080/"
        },
        "outputId": "8c13b861-db4d-4cdf-fa5c-f141082e92e8"
      },
      "source": [
        "hist = model.fit(X_train, y_train, epochs=20, validation_split=0.2)"
      ],
      "execution_count": 33,
      "outputs": [
        {
          "output_type": "stream",
          "name": "stdout",
          "text": [
            "Epoch 1/20\n",
            "453/453 [==============================] - 19s 18ms/step - loss: 0.7853 - accuracy: 0.6593 - val_loss: 0.7238 - val_accuracy: 0.6873\n",
            "Epoch 2/20\n",
            "453/453 [==============================] - 6s 14ms/step - loss: 0.6227 - accuracy: 0.7301 - val_loss: 0.6947 - val_accuracy: 0.7071\n",
            "Epoch 3/20\n",
            "453/453 [==============================] - 6s 13ms/step - loss: 0.5428 - accuracy: 0.7701 - val_loss: 0.7105 - val_accuracy: 0.6972\n",
            "Epoch 4/20\n",
            "453/453 [==============================] - 6s 13ms/step - loss: 0.4662 - accuracy: 0.8072 - val_loss: 0.8053 - val_accuracy: 0.7099\n",
            "Epoch 5/20\n",
            "453/453 [==============================] - 6s 14ms/step - loss: 0.4031 - accuracy: 0.8394 - val_loss: 0.8672 - val_accuracy: 0.6842\n",
            "Epoch 6/20\n",
            "453/453 [==============================] - 6s 14ms/step - loss: 0.3389 - accuracy: 0.8671 - val_loss: 0.9171 - val_accuracy: 0.6669\n",
            "Epoch 7/20\n",
            "453/453 [==============================] - 6s 13ms/step - loss: 0.2876 - accuracy: 0.8912 - val_loss: 1.0496 - val_accuracy: 0.6503\n",
            "Epoch 8/20\n",
            "453/453 [==============================] - 6s 13ms/step - loss: 0.2464 - accuracy: 0.9073 - val_loss: 1.2136 - val_accuracy: 0.6575\n",
            "Epoch 9/20\n",
            "453/453 [==============================] - 6s 13ms/step - loss: 0.2246 - accuracy: 0.9161 - val_loss: 1.2252 - val_accuracy: 0.6406\n",
            "Epoch 10/20\n",
            "453/453 [==============================] - 6s 13ms/step - loss: 0.1828 - accuracy: 0.9331 - val_loss: 1.3388 - val_accuracy: 0.6492\n",
            "Epoch 11/20\n",
            "453/453 [==============================] - 6s 13ms/step - loss: 0.1531 - accuracy: 0.9440 - val_loss: 1.4822 - val_accuracy: 0.6495\n",
            "Epoch 12/20\n",
            "453/453 [==============================] - 6s 13ms/step - loss: 0.1309 - accuracy: 0.9542 - val_loss: 1.5486 - val_accuracy: 0.6594\n",
            "Epoch 13/20\n",
            "453/453 [==============================] - 6s 13ms/step - loss: 0.1150 - accuracy: 0.9585 - val_loss: 1.7914 - val_accuracy: 0.6379\n",
            "Epoch 14/20\n",
            "453/453 [==============================] - 6s 13ms/step - loss: 0.1175 - accuracy: 0.9591 - val_loss: 1.7291 - val_accuracy: 0.6503\n",
            "Epoch 15/20\n",
            "453/453 [==============================] - 6s 14ms/step - loss: 0.0928 - accuracy: 0.9688 - val_loss: 1.9418 - val_accuracy: 0.6384\n",
            "Epoch 16/20\n",
            "453/453 [==============================] - 6s 13ms/step - loss: 0.0787 - accuracy: 0.9719 - val_loss: 2.0540 - val_accuracy: 0.6415\n",
            "Epoch 17/20\n",
            "453/453 [==============================] - 6s 14ms/step - loss: 0.0673 - accuracy: 0.9762 - val_loss: 2.0168 - val_accuracy: 0.6461\n",
            "Epoch 18/20\n",
            "453/453 [==============================] - 9s 19ms/step - loss: 0.0613 - accuracy: 0.9793 - val_loss: 2.2089 - val_accuracy: 0.6354\n",
            "Epoch 19/20\n",
            "453/453 [==============================] - 9s 19ms/step - loss: 0.0739 - accuracy: 0.9748 - val_loss: 1.8768 - val_accuracy: 0.6357\n",
            "Epoch 20/20\n",
            "453/453 [==============================] - 6s 14ms/step - loss: 0.0456 - accuracy: 0.9840 - val_loss: 2.2136 - val_accuracy: 0.6392\n"
          ]
        }
      ]
    },
    {
      "cell_type": "code",
      "metadata": {
        "id": "Y-cjIatVpPqW",
        "colab": {
          "base_uri": "https://localhost:8080/",
          "height": 295
        },
        "outputId": "8b4f29b6-746c-4db8-cdfe-20255f6ce3fb"
      },
      "source": [
        "epoch_count = range(1, len(hist.history['accuracy']) + 1)\n",
        "train_accuracy=hist.history['accuracy']\n",
        "valid_accuracy=hist.history['val_accuracy']\n",
        "sns.lineplot(x=epoch_count, y=train_accuracy, label='train')\n",
        "sns.lineplot(x=epoch_count, y=valid_accuracy, label='valid')\n",
        "plt.title(\"Accuracy de entrenamiento vs. validación\")\n",
        "plt.ylabel(\"Accuracy\")\n",
        "plt.xlabel(\"Epochs\")\n",
        "plt.show()"
      ],
      "execution_count": 34,
      "outputs": [
        {
          "output_type": "display_data",
          "data": {
            "text/plain": [
              "<Figure size 432x288 with 1 Axes>"
            ],
            "image/png": "[encoded data removed]"
          },
          "metadata": {
            "needs_background": "light"
          }
        }
      ]
    },
    {
      "cell_type": "code",
      "source": [
        "# Función de pérdida de entrenamiento vs. validación\n",
        "loss_train=hist.history['loss']\n",
        "loss_valid=hist.history['val_loss']\n",
        "sns.lineplot(x=epoch_count, y=loss_train, label='train')\n",
        "sns.lineplot(x=epoch_count, y=loss_valid, label='valid')\n",
        "plt.title(\"Función de pérdida de entrenamiento vs. validación\")\n",
        "plt.ylabel(\"Función de pérdida\")\n",
        "plt.xlabel(\"Epochs\")\n",
        "plt.show()"
      ],
      "metadata": {
        "colab": {
          "base_uri": "https://localhost:8080/",
          "height": 295
        },
        "id": "H5TUybnrlU4_",
        "outputId": "d5bcdee5-7b77-4cbd-def2-bda48e790e9f"
      },
      "execution_count": 35,
      "outputs": [
        {
          "output_type": "display_data",
          "data": {
            "text/plain": [
              "<Figure size 432x288 with 1 Axes>"
            ],
            "image/png": "[encoded data removed]"
          },
          "metadata": {
            "needs_background": "light"
          }
        }
      ]
    },
    {
      "cell_type": "code",
      "metadata": {
        "id": "jx1tLx23pbRi",
        "colab": {
          "base_uri": "https://localhost:8080/"
        },
        "outputId": "a250c0be-78e5-47a5-e3ae-ba1888b7a50f"
      },
      "source": [
        "model.evaluate(X_test, y_test)"
      ],
      "execution_count": 36,
      "outputs": [
        {
          "output_type": "stream",
          "name": "stdout",
          "text": [
            "142/142 [==============================] - 1s 8ms/step - loss: 2.1833 - accuracy: 0.6491\n"
          ]
        },
        {
          "output_type": "execute_result",
          "data": {
            "text/plain": [
              "[2.1832594871520996, 0.6491498947143555]"
            ]
          },
          "metadata": {},
          "execution_count": 36
        }
      ]
    },
    {
      "cell_type": "markdown",
      "metadata": {
        "id": "vkkl3FTL6Uhk"
      },
      "source": [
        "## 5 - Entrenar el modelo con Embeddings Fasttext + LSTM"
      ]
    },
    {
      "cell_type": "markdown",
      "source": [
        "Se utilizan embeddings FastText."
      ],
      "metadata": {
        "id": "gnQ6X0Ibmu26"
      }
    },
    {
      "cell_type": "code",
      "metadata": {
        "id": "tIgZkwiNprmG",
        "colab": {
          "base_uri": "https://localhost:8080/"
        },
        "outputId": "c7d52e35-aa15-44c8-feb3-b296ca71a1c5"
      },
      "source": [
        "if os.access('fasttext.pkl', os.F_OK) is False:\n",
        "    url = 'https://drive.google.com/uc?id=1KU5qmAYh3LATMvVgocFDfW-PK3prm1WU&export=download'\n",
        "    output = 'fasttext.pkl'\n",
        "    gdown.download(url, output, quiet=False)\n",
        "else:\n",
        "    print(\"Los embeddings fasttext.pkl ya están descargados\")"
      ],
      "execution_count": 37,
      "outputs": [
        {
          "output_type": "stream",
          "name": "stderr",
          "text": [
            "Downloading...\n",
            "From: https://drive.google.com/uc?id=1KU5qmAYh3LATMvVgocFDfW-PK3prm1WU&export=download\n",
            "To: /content/fasttext.pkl\n",
            "100%|██████████| 2.88G/2.88G [00:24<00:00, 117MB/s]\n"
          ]
        }
      ]
    },
    {
      "cell_type": "code",
      "metadata": {
        "id": "QMbkn_KppuDI"
      },
      "source": [
        "class WordsEmbeddings(object):\n",
        "    logger = logging.getLogger(__name__)\n",
        "\n",
        "    def __init__(self):\n",
        "        # load the embeddings\n",
        "        words_embedding_pkl = Path(self.PKL_PATH)\n",
        "        if not words_embedding_pkl.is_file():\n",
        "            words_embedding_txt = Path(self.WORD_TO_VEC_MODEL_TXT_PATH)\n",
        "            assert words_embedding_txt.is_file(), 'Words embedding not available'\n",
        "            embeddings = self.convert_model_to_pickle()\n",
        "        else:\n",
        "            embeddings = self.load_model_from_pickle()\n",
        "        self.embeddings = embeddings\n",
        "        # build the vocabulary hashmap\n",
        "        index = np.arange(self.embeddings.shape[0])\n",
        "        # Diccionarios para traducir de embedding a IDX de la palabra\n",
        "        self.word2idx = dict(zip(self.embeddings['word'], index))\n",
        "        self.idx2word = dict(zip(index, self.embeddings['word']))\n",
        "\n",
        "    def get_words_embeddings(self, words):\n",
        "        words_idxs = self.words2idxs(words)\n",
        "        return self.embeddings[words_idxs]['embedding']\n",
        "\n",
        "    def words2idxs(self, words):\n",
        "        return np.array([self.word2idx.get(word, -1) for word in words])\n",
        "\n",
        "    def idxs2words(self, idxs):\n",
        "        return np.array([self.idx2word.get(idx, '-1') for idx in idxs])\n",
        "\n",
        "    def load_model_from_pickle(self):\n",
        "        self.logger.debug(\n",
        "            'loading words embeddings from pickle {}'.format(\n",
        "                self.PKL_PATH\n",
        "            )\n",
        "        )\n",
        "        max_bytes = 2**28 - 1 # 256MB\n",
        "        bytes_in = bytearray(0)\n",
        "        input_size = os.path.getsize(self.PKL_PATH)\n",
        "        with open(self.PKL_PATH, 'rb') as f_in:\n",
        "            for _ in range(0, input_size, max_bytes):\n",
        "                bytes_in += f_in.read(max_bytes)\n",
        "        embeddings = pickle.loads(bytes_in)\n",
        "        self.logger.debug('words embeddings loaded')\n",
        "        return embeddings\n",
        "\n",
        "    def convert_model_to_pickle(self):\n",
        "        # create a numpy structured array:\n",
        "        # word     embedding\n",
        "        # U50      np.float32[]\n",
        "        # word_1   a, b, c\n",
        "        # word_2   d, e, f\n",
        "        # ...\n",
        "        # word_n   g, h, i\n",
        "        self.logger.debug(\n",
        "            'converting and loading words embeddings from text file {}'.format(\n",
        "                self.WORD_TO_VEC_MODEL_TXT_PATH\n",
        "            )\n",
        "        )\n",
        "        structure = [('word', np.dtype('U' + str(self.WORD_MAX_SIZE))),\n",
        "                     ('embedding', np.float32, (self.N_FEATURES,))]\n",
        "        structure = np.dtype(structure)\n",
        "        # load numpy array from disk using a generator\n",
        "        with open(self.WORD_TO_VEC_MODEL_TXT_PATH, encoding=\"utf8\") as words_embeddings_txt:\n",
        "            embeddings_gen = (\n",
        "                (line.split()[0], line.split()[1:]) for line in words_embeddings_txt\n",
        "                if len(line.split()[1:]) == self.N_FEATURES\n",
        "            )\n",
        "            embeddings = np.fromiter(embeddings_gen, structure)\n",
        "        # add a null embedding\n",
        "        null_embedding = np.array(\n",
        "            [('null_embedding', np.zeros((self.N_FEATURES,), dtype=np.float32))],\n",
        "            dtype=structure\n",
        "        )\n",
        "        embeddings = np.concatenate([embeddings, null_embedding])\n",
        "        # dump numpy array to disk using pickle\n",
        "        max_bytes = 2**28 - 1 # # 256MB\n",
        "        bytes_out = pickle.dumps(embeddings, protocol=pickle.HIGHEST_PROTOCOL)\n",
        "        with open(self.PKL_PATH, 'wb') as f_out:\n",
        "            for idx in range(0, len(bytes_out), max_bytes):\n",
        "                f_out.write(bytes_out[idx:idx+max_bytes])\n",
        "        self.logger.debug('words embeddings loaded')\n",
        "        return embeddings\n",
        "\n",
        "\n",
        "class GloveEmbeddings(WordsEmbeddings):\n",
        "    WORD_TO_VEC_MODEL_TXT_PATH = 'glove.twitter.27B.50d.txt'\n",
        "    PKL_PATH = 'gloveembedding.pkl'\n",
        "    N_FEATURES = 50\n",
        "    WORD_MAX_SIZE = 60\n",
        "\n",
        "\n",
        "class FasttextEmbeddings(WordsEmbeddings):\n",
        "    WORD_TO_VEC_MODEL_TXT_PATH = 'cc.en.300.vec'\n",
        "    PKL_PATH = 'fasttext.pkl'\n",
        "    N_FEATURES = 300\n",
        "    WORD_MAX_SIZE = 60"
      ],
      "execution_count": 38,
      "outputs": []
    },
    {
      "cell_type": "code",
      "metadata": {
        "id": "Vo3STvSgp938"
      },
      "source": [
        "model_fasttext = FasttextEmbeddings()"
      ],
      "execution_count": 39,
      "outputs": []
    },
    {
      "cell_type": "code",
      "metadata": {
        "id": "j2ECgkKCzSFt",
        "colab": {
          "base_uri": "https://localhost:8080/"
        },
        "outputId": "8e9804e6-3508-4659-92cd-b13816ca3471"
      },
      "source": [
        "# Crear la Embedding matrix\n",
        "\n",
        "print('preparing embedding matrix...')\n",
        "embed_dim = 300 # fasttext\n",
        "words_not_found = []\n",
        "\n",
        "# word_index proviene del tokenizer\n",
        "\n",
        "nb_words = min(num_words, len(word_index)) # vocab_size\n",
        "embedding_matrix = np.zeros((nb_words, embed_dim))\n",
        "for word, i in word_index.items():\n",
        "    if i >= nb_words:\n",
        "        continue\n",
        "    embedding_vector = model_fasttext.get_words_embeddings(word)[0]\n",
        "    if (embedding_vector is not None) and len(embedding_vector) > 0:\n",
        "        embedding_matrix[i] = embedding_vector\n",
        "        #embedding_matrix es la matriz de embeddings.\n",
        "    else:\n",
        "        # words not found in embedding index will be all-zeros.\n",
        "        words_not_found.append(word)\n",
        "        print(word)\n",
        "\n",
        "print('number of null word embeddings:', np.sum(np.sum(embedding_matrix, axis=1) == 0))\n",
        "# print('number of null word embeddings:', len(words_not_found))\n",
        "# Otra opción es la línea anterior comentada."
      ],
      "execution_count": 40,
      "outputs": [
        {
          "output_type": "stream",
          "name": "stdout",
          "text": [
            "preparing embedding matrix...\n",
            "number of null word embeddings: 2\n"
          ]
        }
      ]
    },
    {
      "cell_type": "code",
      "metadata": {
        "id": "spx8pkTR28MN",
        "colab": {
          "base_uri": "https://localhost:8080/"
        },
        "outputId": "51309a14-32a8-49cd-cb6e-e06bb5c39df7"
      },
      "source": [
        "Embedding(input_dim=vocab_size,  # definido en el Tokenizador\n",
        "          output_dim=embed_dim,  # dimensión de los embeddings utilizados\n",
        "          input_length=in_shape, # máxima sentencia de entrada\n",
        "          weights=[embedding_matrix],  # matrix de embeddings\n",
        "          trainable=False)     # marcar como layer no entrenable"
      ],
      "execution_count": 41,
      "outputs": [
        {
          "output_type": "execute_result",
          "data": {
            "text/plain": [
              "<keras.layers.embeddings.Embedding at 0x7f387cdb7b10>"
            ]
          },
          "metadata": {},
          "execution_count": 41
        }
      ]
    },
    {
      "cell_type": "code",
      "source": [
        "embed_dim"
      ],
      "metadata": {
        "colab": {
          "base_uri": "https://localhost:8080/"
        },
        "id": "pVEyvsC6___s",
        "outputId": "93f742e2-3e11-42f3-c579-9a79fbad1eb8"
      },
      "execution_count": 42,
      "outputs": [
        {
          "output_type": "execute_result",
          "data": {
            "text/plain": [
              "300"
            ]
          },
          "metadata": {},
          "execution_count": 42
        }
      ]
    },
    {
      "cell_type": "code",
      "metadata": {
        "colab": {
          "base_uri": "https://localhost:8080/"
        },
        "outputId": "43ddd116-28f9-49fd-dfe6-454ff37bd708",
        "id": "fS6v5GkL2OSl"
      },
      "source": [
        "model2 = Sequential()\n",
        "# input_dim = vocab_size (max n_words).\n",
        "# input_length = setencias con padding a 115.\n",
        "# output_dim = embed_dim (depende de cuáles embeddings preentrenados utilizamos).\n",
        "model2.add(Embedding(input_dim=vocab_size, output_dim=embed_dim, input_length=in_shape,\n",
        "                     weights=[embedding_matrix], trainable=False))\n",
        "\n",
        "model2.add(LSTM(units=64, return_sequences=True))\n",
        "model2.add(Dropout(0.2))\n",
        "model2.add(LSTM(units=64)) # La última capa LSTM no lleva return_sequences\n",
        "\n",
        "model2.add(Dense(units=128, activation='relu'))\n",
        "model2.add(Dropout(rate=0.2))\n",
        "model2.add(Dense(units=out_shape, activation='softmax'))\n",
        "\n",
        "model2.compile(optimizer=\"adam\",\n",
        "              loss='categorical_crossentropy',\n",
        "              metrics=['accuracy'])\n",
        "\n",
        "model2.summary()"
      ],
      "execution_count": 43,
      "outputs": [
        {
          "output_type": "stream",
          "name": "stdout",
          "text": [
            "Model: \"sequential_1\"\n",
            "_________________________________________________________________\n",
            " Layer (type)                Output Shape              Param #   \n",
            "=================================================================\n",
            " embedding_2 (Embedding)     (None, 116, 300)          4440000   \n",
            "                                                                 \n",
            " lstm_2 (LSTM)               (None, 116, 64)           93440     \n",
            "                                                                 \n",
            " dropout_2 (Dropout)         (None, 116, 64)           0         \n",
            "                                                                 \n",
            " lstm_3 (LSTM)               (None, 64)                33024     \n",
            "                                                                 \n",
            " dense_2 (Dense)             (None, 128)               8320      \n",
            "                                                                 \n",
            " dropout_3 (Dropout)         (None, 128)               0         \n",
            "                                                                 \n",
            " dense_3 (Dense)             (None, 3)                 387       \n",
            "                                                                 \n",
            "=================================================================\n",
            "Total params: 4,575,171\n",
            "Trainable params: 135,171\n",
            "Non-trainable params: 4,440,000\n",
            "_________________________________________________________________\n"
          ]
        }
      ]
    },
    {
      "cell_type": "code",
      "metadata": {
        "id": "w9s_Qx9xrzsE",
        "colab": {
          "base_uri": "https://localhost:8080/"
        },
        "outputId": "8d33cd7a-ac7b-4778-cbff-2e12d46e7ffd"
      },
      "source": [
        "hist2 = model2.fit(X_train, y_train, epochs=20, validation_split=0.2)"
      ],
      "execution_count": 44,
      "outputs": [
        {
          "output_type": "stream",
          "name": "stdout",
          "text": [
            "Epoch 1/20\n",
            "453/453 [==============================] - 10s 16ms/step - loss: 0.9909 - accuracy: 0.5522 - val_loss: 0.9751 - val_accuracy: 0.5468\n",
            "Epoch 2/20\n",
            "453/453 [==============================] - 6s 14ms/step - loss: 0.9533 - accuracy: 0.5659 - val_loss: 0.9433 - val_accuracy: 0.5694\n",
            "Epoch 3/20\n",
            "453/453 [==============================] - 7s 15ms/step - loss: 0.9216 - accuracy: 0.5867 - val_loss: 0.9110 - val_accuracy: 0.5945\n",
            "Epoch 4/20\n",
            "453/453 [==============================] - 7s 15ms/step - loss: 0.8997 - accuracy: 0.5981 - val_loss: 0.9076 - val_accuracy: 0.6023\n",
            "Epoch 5/20\n",
            "453/453 [==============================] - 8s 17ms/step - loss: 0.8805 - accuracy: 0.6104 - val_loss: 0.8924 - val_accuracy: 0.6056\n",
            "Epoch 6/20\n",
            "453/453 [==============================] - 9s 20ms/step - loss: 0.8571 - accuracy: 0.6207 - val_loss: 0.8731 - val_accuracy: 0.6194\n",
            "Epoch 7/20\n",
            "453/453 [==============================] - 7s 16ms/step - loss: 0.8358 - accuracy: 0.6325 - val_loss: 0.8674 - val_accuracy: 0.6243\n",
            "Epoch 8/20\n",
            "453/453 [==============================] - 7s 16ms/step - loss: 0.8149 - accuracy: 0.6434 - val_loss: 0.8914 - val_accuracy: 0.6266\n",
            "Epoch 9/20\n",
            "453/453 [==============================] - 7s 16ms/step - loss: 0.7925 - accuracy: 0.6533 - val_loss: 0.8519 - val_accuracy: 0.6282\n",
            "Epoch 10/20\n",
            "453/453 [==============================] - 7s 15ms/step - loss: 0.7720 - accuracy: 0.6631 - val_loss: 0.8556 - val_accuracy: 0.6337\n",
            "Epoch 11/20\n",
            "453/453 [==============================] - 7s 16ms/step - loss: 0.7441 - accuracy: 0.6753 - val_loss: 0.8895 - val_accuracy: 0.6174\n",
            "Epoch 12/20\n",
            "453/453 [==============================] - 7s 16ms/step - loss: 0.7234 - accuracy: 0.6842 - val_loss: 0.8878 - val_accuracy: 0.6307\n",
            "Epoch 13/20\n",
            "453/453 [==============================] - 7s 16ms/step - loss: 0.6919 - accuracy: 0.6978 - val_loss: 0.9046 - val_accuracy: 0.6116\n",
            "Epoch 14/20\n",
            "453/453 [==============================] - 7s 15ms/step - loss: 0.6689 - accuracy: 0.7085 - val_loss: 0.9333 - val_accuracy: 0.6014\n",
            "Epoch 15/20\n",
            "453/453 [==============================] - 7s 16ms/step - loss: 0.6426 - accuracy: 0.7173 - val_loss: 0.9526 - val_accuracy: 0.5937\n",
            "Epoch 16/20\n",
            "453/453 [==============================] - 7s 15ms/step - loss: 0.6172 - accuracy: 0.7254 - val_loss: 0.9872 - val_accuracy: 0.5918\n",
            "Epoch 17/20\n",
            "453/453 [==============================] - 7s 15ms/step - loss: 0.5839 - accuracy: 0.7462 - val_loss: 1.0700 - val_accuracy: 0.5937\n",
            "Epoch 18/20\n",
            "453/453 [==============================] - 7s 16ms/step - loss: 0.5548 - accuracy: 0.7564 - val_loss: 1.1234 - val_accuracy: 0.5926\n",
            "Epoch 19/20\n",
            "453/453 [==============================] - 6s 13ms/step - loss: 0.5264 - accuracy: 0.7702 - val_loss: 1.1732 - val_accuracy: 0.5827\n",
            "Epoch 20/20\n",
            "453/453 [==============================] - 6s 13ms/step - loss: 0.5047 - accuracy: 0.7823 - val_loss: 1.2221 - val_accuracy: 0.5689\n"
          ]
        }
      ]
    },
    {
      "cell_type": "code",
      "source": [
        "epoch_count_fasttext = range(1, len(hist2.history['accuracy']) + 1)\n",
        "train_accuracy_fasttext=hist2.history['accuracy']\n",
        "valid_accuracy_fasttext=hist2.history['val_accuracy']\n",
        "sns.lineplot(x=epoch_count_fasttext, y=train_accuracy_fasttext, label='train')\n",
        "sns.lineplot(x=epoch_count_fasttext, y=valid_accuracy_fasttext, label='valid')\n",
        "plt.title(\"Accuracy de entrenamiento vs. validación\")\n",
        "plt.ylabel(\"Accuracy\")\n",
        "plt.xlabel(\"Epochs\")\n",
        "plt.show()"
      ],
      "metadata": {
        "colab": {
          "base_uri": "https://localhost:8080/",
          "height": 295
        },
        "id": "ZWepIT-bibMF",
        "outputId": "a4086568-d3c5-4a31-82df-1c00cb482006"
      },
      "execution_count": 45,
      "outputs": [
        {
          "output_type": "display_data",
          "data": {
            "text/plain": [
              "<Figure size 432x288 with 1 Axes>"
            ],
            "image/png": "[encoded data removed]"
          },
          "metadata": {
            "needs_background": "light"
          }
        }
      ]
    },
    {
      "cell_type": "code",
      "source": [
        "# Función de pérdida de entrenamiento vs. validación\n",
        "loss_train_fasttext=hist2.history['loss']\n",
        "loss_valid_fasttext=hist2.history['val_loss']\n",
        "sns.lineplot(x=epoch_count_fasttext, y=loss_train_fasttext, label='train')\n",
        "sns.lineplot(x=epoch_count_fasttext, y=loss_valid_fasttext, label='valid')\n",
        "plt.title(\"Función de pérdida de entrenamiento vs. validación\")\n",
        "plt.ylabel(\"Función de pérdida\")\n",
        "plt.xlabel(\"Epochs\")\n",
        "plt.show()"
      ],
      "metadata": {
        "colab": {
          "base_uri": "https://localhost:8080/",
          "height": 295
        },
        "id": "vLl_lnJXlrtq",
        "outputId": "202be87a-11e9-43c5-fe33-1eb531d3dc38"
      },
      "execution_count": 46,
      "outputs": [
        {
          "output_type": "display_data",
          "data": {
            "text/plain": [
              "<Figure size 432x288 with 1 Axes>"
            ],
            "image/png": "[encoded data removed]"
          },
          "metadata": {
            "needs_background": "light"
          }
        }
      ]
    },
    {
      "cell_type": "code",
      "metadata": {
        "id": "v0OecxWJr95r",
        "colab": {
          "base_uri": "https://localhost:8080/"
        },
        "outputId": "90739bcd-bc7b-4b5b-d5c2-ffa77c800a7b"
      },
      "source": [
        "model2.evaluate(X_test, y_test)"
      ],
      "execution_count": 47,
      "outputs": [
        {
          "output_type": "stream",
          "name": "stdout",
          "text": [
            "142/142 [==============================] - 1s 6ms/step - loss: 1.1974 - accuracy: 0.5803\n"
          ]
        },
        {
          "output_type": "execute_result",
          "data": {
            "text/plain": [
              "[1.1974174976348877, 0.5802605152130127]"
            ]
          },
          "metadata": {},
          "execution_count": 47
        }
      ]
    },
    {
      "cell_type": "markdown",
      "metadata": {
        "id": "gB6vsFJPSEoq"
      },
      "source": [
        "## 6 - Entrenar el modelo con Embeddings Fasttext + LSTM (con arquitectura más compleja)"
      ]
    },
    {
      "cell_type": "markdown",
      "source": [
        "Se utilizan embeddings FastText, pero complejizando la arquitectura de la red neuronal.\n",
        "\n",
        "Se agrega una capa LSTM y se duplican las neuronas en las mismas. "
      ],
      "metadata": {
        "id": "lBcLaNrySEos"
      }
    },
    {
      "cell_type": "code",
      "metadata": {
        "colab": {
          "base_uri": "https://localhost:8080/"
        },
        "outputId": "fde459be-d565-4f12-ea26-8a2ece3d2862",
        "id": "bosRDm0wSEo0"
      },
      "source": [
        "model4 = Sequential()\n",
        "# input_dim = vocab_size (max n_words).\n",
        "# input_length = setencias con padding a 115.\n",
        "# output_dim = embed_dim (depende de cuáles embeddings preentrenados utilizamos).\n",
        "model4.add(Embedding(input_dim=vocab_size, output_dim=embed_dim, input_length=in_shape,\n",
        "                     weights=[embedding_matrix], trainable=False))\n",
        "\n",
        "model4.add(LSTM(units=128, return_sequences=True))\n",
        "model4.add(Dropout(0.2))\n",
        "model4.add(LSTM(units=128, return_sequences=True))\n",
        "model4.add(Dropout(0.2))\n",
        "model4.add(LSTM(units=128)) # La última capa LSTM no lleva return_sequences\n",
        "\n",
        "model4.add(Dense(units=128, activation='relu'))\n",
        "model4.add(Dropout(rate=0.2))\n",
        "model4.add(Dense(units=out_shape, activation='softmax'))\n",
        "\n",
        "model4.compile(optimizer=\"adam\",\n",
        "              loss='categorical_crossentropy',\n",
        "              metrics=['accuracy'])\n",
        "\n",
        "model4.summary()"
      ],
      "execution_count": 48,
      "outputs": [
        {
          "output_type": "stream",
          "name": "stdout",
          "text": [
            "Model: \"sequential_2\"\n",
            "_________________________________________________________________\n",
            " Layer (type)                Output Shape              Param #   \n",
            "=================================================================\n",
            " embedding_3 (Embedding)     (None, 116, 300)          4440000   \n",
            "                                                                 \n",
            " lstm_4 (LSTM)               (None, 116, 128)          219648    \n",
            "                                                                 \n",
            " dropout_4 (Dropout)         (None, 116, 128)          0         \n",
            "                                                                 \n",
            " lstm_5 (LSTM)               (None, 116, 128)          131584    \n",
            "                                                                 \n",
            " dropout_5 (Dropout)         (None, 116, 128)          0         \n",
            "                                                                 \n",
            " lstm_6 (LSTM)               (None, 128)               131584    \n",
            "                                                                 \n",
            " dense_4 (Dense)             (None, 128)               16512     \n",
            "                                                                 \n",
            " dropout_6 (Dropout)         (None, 128)               0         \n",
            "                                                                 \n",
            " dense_5 (Dense)             (None, 3)                 387       \n",
            "                                                                 \n",
            "=================================================================\n",
            "Total params: 4,939,715\n",
            "Trainable params: 499,715\n",
            "Non-trainable params: 4,440,000\n",
            "_________________________________________________________________\n"
          ]
        }
      ]
    },
    {
      "cell_type": "code",
      "metadata": {
        "colab": {
          "base_uri": "https://localhost:8080/"
        },
        "outputId": "b590e864-b008-4995-d4ec-34588ffbda2c",
        "id": "bmNjLEANSEo1"
      },
      "source": [
        "hist4 = model4.fit(X_train, y_train, epochs=20, validation_split=0.2)"
      ],
      "execution_count": 49,
      "outputs": [
        {
          "output_type": "stream",
          "name": "stdout",
          "text": [
            "Epoch 1/20\n",
            "453/453 [==============================] - 23s 40ms/step - loss: 0.9978 - accuracy: 0.5520 - val_loss: 0.9719 - val_accuracy: 0.5559\n",
            "Epoch 2/20\n",
            "453/453 [==============================] - 13s 29ms/step - loss: 0.9515 - accuracy: 0.5659 - val_loss: 0.9360 - val_accuracy: 0.5744\n",
            "Epoch 3/20\n",
            "453/453 [==============================] - 14s 31ms/step - loss: 0.9140 - accuracy: 0.5881 - val_loss: 0.9118 - val_accuracy: 0.5909\n",
            "Epoch 4/20\n",
            "453/453 [==============================] - 13s 28ms/step - loss: 0.8876 - accuracy: 0.6052 - val_loss: 0.8899 - val_accuracy: 0.6081\n",
            "Epoch 5/20\n",
            "453/453 [==============================] - 14s 30ms/step - loss: 0.8630 - accuracy: 0.6194 - val_loss: 0.8750 - val_accuracy: 0.6230\n",
            "Epoch 6/20\n",
            "453/453 [==============================] - 11s 24ms/step - loss: 0.8365 - accuracy: 0.6323 - val_loss: 0.8831 - val_accuracy: 0.6133\n",
            "Epoch 7/20\n",
            "453/453 [==============================] - 11s 24ms/step - loss: 0.8046 - accuracy: 0.6490 - val_loss: 0.8697 - val_accuracy: 0.6147\n",
            "Epoch 8/20\n",
            "453/453 [==============================] - 14s 30ms/step - loss: 0.7745 - accuracy: 0.6589 - val_loss: 0.8714 - val_accuracy: 0.6216\n",
            "Epoch 9/20\n",
            "453/453 [==============================] - 17s 38ms/step - loss: 0.7369 - accuracy: 0.6758 - val_loss: 0.8696 - val_accuracy: 0.6329\n",
            "Epoch 10/20\n",
            "453/453 [==============================] - 14s 30ms/step - loss: 0.6901 - accuracy: 0.6946 - val_loss: 0.8856 - val_accuracy: 0.6205\n",
            "Epoch 11/20\n",
            "453/453 [==============================] - 11s 25ms/step - loss: 0.6419 - accuracy: 0.7178 - val_loss: 0.9471 - val_accuracy: 0.6108\n",
            "Epoch 12/20\n",
            "453/453 [==============================] - 11s 24ms/step - loss: 0.6034 - accuracy: 0.7361 - val_loss: 0.9524 - val_accuracy: 0.6221\n",
            "Epoch 13/20\n",
            "453/453 [==============================] - 11s 24ms/step - loss: 0.5487 - accuracy: 0.7599 - val_loss: 1.0905 - val_accuracy: 0.6070\n",
            "Epoch 14/20\n",
            "453/453 [==============================] - 11s 24ms/step - loss: 0.5034 - accuracy: 0.7841 - val_loss: 1.1426 - val_accuracy: 0.6139\n",
            "Epoch 15/20\n",
            "453/453 [==============================] - 12s 26ms/step - loss: 0.4382 - accuracy: 0.8093 - val_loss: 1.3145 - val_accuracy: 0.5995\n",
            "Epoch 16/20\n",
            "453/453 [==============================] - 11s 25ms/step - loss: 0.3984 - accuracy: 0.8326 - val_loss: 1.4267 - val_accuracy: 0.5937\n",
            "Epoch 17/20\n",
            "453/453 [==============================] - 11s 24ms/step - loss: 0.3616 - accuracy: 0.8485 - val_loss: 1.4849 - val_accuracy: 0.5780\n",
            "Epoch 18/20\n",
            "453/453 [==============================] - 11s 24ms/step - loss: 0.3190 - accuracy: 0.8722 - val_loss: 1.6053 - val_accuracy: 0.5771\n",
            "Epoch 19/20\n",
            "453/453 [==============================] - 11s 24ms/step - loss: 0.2858 - accuracy: 0.8841 - val_loss: 1.6926 - val_accuracy: 0.5686\n",
            "Epoch 20/20\n",
            "453/453 [==============================] - 11s 24ms/step - loss: 0.2539 - accuracy: 0.8979 - val_loss: 1.7209 - val_accuracy: 0.5664\n"
          ]
        }
      ]
    },
    {
      "cell_type": "code",
      "source": [
        "epoch_count_fasttext_arq = range(1, len(hist4.history['accuracy']) + 1)\n",
        "train_accuracy_fasttext_arq=hist4.history['accuracy']\n",
        "valid_accuracy_fasttext_arq=hist4.history['val_accuracy']\n",
        "sns.lineplot(x=epoch_count_fasttext_arq, y=train_accuracy_fasttext_arq, label='train')\n",
        "sns.lineplot(x=epoch_count_fasttext_arq, y=valid_accuracy_fasttext_arq, label='valid')\n",
        "plt.title(\"Accuracy de entrenamiento vs. validación\")\n",
        "plt.ylabel(\"Accuracy\")\n",
        "plt.xlabel(\"Epochs\")\n",
        "plt.show()"
      ],
      "metadata": {
        "colab": {
          "base_uri": "https://localhost:8080/",
          "height": 295
        },
        "outputId": "545f8362-9941-44d4-8214-405ef20a76e3",
        "id": "u_WbhJv2SEo2"
      },
      "execution_count": 51,
      "outputs": [
        {
          "output_type": "display_data",
          "data": {
            "text/plain": [
              "<Figure size 432x288 with 1 Axes>"
            ],
            "image/png": "[encoded data removed]"
          },
          "metadata": {
            "needs_background": "light"
          }
        }
      ]
    },
    {
      "cell_type": "code",
      "source": [
        "# Función de pérdida de entrenamiento vs. validación\n",
        "loss_train_fasttext_arq=hist4.history['loss']\n",
        "loss_valid_fasttext_arq=hist4.history['val_loss']\n",
        "sns.lineplot(x=epoch_count_fasttext_arq, y=loss_train_fasttext_arq, label='train')\n",
        "sns.lineplot(x=epoch_count_fasttext_arq, y=loss_valid_fasttext_arq, label='valid')\n",
        "plt.title(\"Función de pérdida de entrenamiento vs. validación\")\n",
        "plt.ylabel(\"Función de pérdida\")\n",
        "plt.xlabel(\"Epochs\")\n",
        "plt.show()"
      ],
      "metadata": {
        "colab": {
          "base_uri": "https://localhost:8080/",
          "height": 295
        },
        "outputId": "15774131-2774-4082-dbd9-556bbf6d6d98",
        "id": "M6mIqH2SSEo2"
      },
      "execution_count": 52,
      "outputs": [
        {
          "output_type": "display_data",
          "data": {
            "text/plain": [
              "<Figure size 432x288 with 1 Axes>"
            ],
            "image/png": "[encoded data removed]"
          },
          "metadata": {
            "needs_background": "light"
          }
        }
      ]
    },
    {
      "cell_type": "code",
      "metadata": {
        "colab": {
          "base_uri": "https://localhost:8080/"
        },
        "outputId": "65e69fab-39a8-4a47-8d86-b1634709b9bb",
        "id": "pG_O4CCcSEo4"
      },
      "source": [
        "model4.evaluate(X_test, y_test)"
      ],
      "execution_count": 53,
      "outputs": [
        {
          "output_type": "stream",
          "name": "stdout",
          "text": [
            "142/142 [==============================] - 1s 10ms/step - loss: 1.6774 - accuracy: 0.5752\n"
          ]
        },
        {
          "output_type": "execute_result",
          "data": {
            "text/plain": [
              "[1.6774259805679321, 0.5751821398735046]"
            ]
          },
          "metadata": {},
          "execution_count": 53
        }
      ]
    },
    {
      "cell_type": "markdown",
      "metadata": {
        "id": "niMp1fxBt5JU"
      },
      "source": [
        "## 7 - Entrenar el modelo con Embeddings Glove + LSTM"
      ]
    },
    {
      "cell_type": "markdown",
      "source": [
        "Se utilizan embeddings Glove."
      ],
      "metadata": {
        "id": "wj03f6BCt5Jc"
      }
    },
    {
      "cell_type": "code",
      "source": [
        "if os.access('gloveembedding.pkl', os.F_OK) is False:\n",
        "    url = 'https://drive.google.com/uc?id=1wlDBOrxPq2-3htQ6ryVo7K1XnzLcfh4r&export=download'\n",
        "    output = 'gloveembedding.pkl'\n",
        "    gdown.download(url, output, quiet=False)\n",
        "else:\n",
        "    print(\"Los embeddings gloveembedding.pkl ya están descargados\")"
      ],
      "metadata": {
        "colab": {
          "base_uri": "https://localhost:8080/"
        },
        "id": "03ONTxKiuldf",
        "outputId": "7c0f96bd-1236-44a7-b5f6-298e6d065b5d"
      },
      "execution_count": 54,
      "outputs": [
        {
          "output_type": "stream",
          "name": "stderr",
          "text": [
            "Downloading...\n",
            "From: https://drive.google.com/uc?id=1wlDBOrxPq2-3htQ6ryVo7K1XnzLcfh4r&export=download\n",
            "To: /content/gloveembedding.pkl\n",
            "100%|██████████| 525M/525M [00:03<00:00, 153MB/s]\n"
          ]
        }
      ]
    },
    {
      "cell_type": "code",
      "metadata": {
        "id": "47bVPChnt5Jd"
      },
      "source": [
        "model_glove = GloveEmbeddings()"
      ],
      "execution_count": 55,
      "outputs": []
    },
    {
      "cell_type": "code",
      "metadata": {
        "colab": {
          "base_uri": "https://localhost:8080/"
        },
        "outputId": "1e22b289-272a-4c9f-f6cb-a7c3cdc29738",
        "id": "BwuiY18Dt5Jd"
      },
      "source": [
        "# Crear la Embedding matrix\n",
        "\n",
        "print('preparing embedding matrix...')\n",
        "embed_dim = 50 # fasttext\n",
        "words_not_found = []\n",
        "\n",
        "# word_index proviene del tokenizer\n",
        "\n",
        "nb_words = min(num_words, len(word_index)) # vocab_size\n",
        "embedding_matrix = np.zeros((nb_words, embed_dim))\n",
        "for word, i in word_index.items():\n",
        "    if i >= nb_words:\n",
        "        continue\n",
        "    embedding_vector = model_glove.get_words_embeddings(word)[0]\n",
        "    if (embedding_vector is not None) and len(embedding_vector) > 0:\n",
        "        embedding_matrix[i] = embedding_vector\n",
        "        #embedding_matrix es la matriz de embeddings.\n",
        "    else:\n",
        "        # words not found in embedding index will be all-zeros.\n",
        "        words_not_found.append(word)\n",
        "        print(word)\n",
        "\n",
        "print('number of null word embeddings:', np.sum(np.sum(embedding_matrix, axis=1) == 0))\n",
        "# print('number of null word embeddings:', len(words_not_found))\n",
        "# Otra opción es la línea anterior comentada."
      ],
      "execution_count": 56,
      "outputs": [
        {
          "output_type": "stream",
          "name": "stdout",
          "text": [
            "preparing embedding matrix...\n",
            "number of null word embeddings: 648\n"
          ]
        }
      ]
    },
    {
      "cell_type": "code",
      "metadata": {
        "colab": {
          "base_uri": "https://localhost:8080/"
        },
        "outputId": "76d5713b-c131-412d-8341-26672e5f1256",
        "id": "gcASIqzVt5Jd"
      },
      "source": [
        "Embedding(input_dim=vocab_size,  # definido en el Tokenizador\n",
        "          output_dim=embed_dim,  # dimensión de los embeddings utilizados\n",
        "          input_length=in_shape, # máxima sentencia de entrada\n",
        "          weights=[embedding_matrix],  # matrix de embeddings\n",
        "          trainable=False)     # marcar como layer no entrenable"
      ],
      "execution_count": 57,
      "outputs": [
        {
          "output_type": "execute_result",
          "data": {
            "text/plain": [
              "<keras.layers.embeddings.Embedding at 0x7f3858267bd0>"
            ]
          },
          "metadata": {},
          "execution_count": 57
        }
      ]
    },
    {
      "cell_type": "code",
      "metadata": {
        "colab": {
          "base_uri": "https://localhost:8080/"
        },
        "outputId": "617b5bf6-d1ad-4c05-92d2-d1adf91ddec7",
        "id": "bVGCk6XOt5Jd"
      },
      "source": [
        "model3= Sequential()\n",
        "# input_dim = vocab_size (max n_words).\n",
        "# input_length = setencias con padding a 115.\n",
        "# output_dim = embed_dim (depende de cuáles embeddings preentrenados utilizamos).\n",
        "model3.add(Embedding(input_dim=vocab_size, output_dim=embed_dim, input_length=in_shape,\n",
        "                     weights=[embedding_matrix], trainable=False))\n",
        "\n",
        "model3.add(LSTM(units=64, return_sequences=True))\n",
        "model3.add(Dropout(0.2))\n",
        "model3.add(LSTM(units=64)) # La última capa LSTM no lleva return_sequences\n",
        "\n",
        "model3.add(Dense(units=128, activation='relu'))\n",
        "model3.add(Dropout(rate=0.2))\n",
        "model3.add(Dense(units=out_shape, activation='softmax'))\n",
        "\n",
        "model3.compile(optimizer=\"adam\",\n",
        "              loss='categorical_crossentropy',\n",
        "              metrics=['accuracy'])\n",
        "\n",
        "model3.summary()"
      ],
      "execution_count": 58,
      "outputs": [
        {
          "output_type": "stream",
          "name": "stdout",
          "text": [
            "Model: \"sequential_3\"\n",
            "_________________________________________________________________\n",
            " Layer (type)                Output Shape              Param #   \n",
            "=================================================================\n",
            " embedding_5 (Embedding)     (None, 116, 50)           740000    \n",
            "                                                                 \n",
            " lstm_7 (LSTM)               (None, 116, 64)           29440     \n",
            "                                                                 \n",
            " dropout_7 (Dropout)         (None, 116, 64)           0         \n",
            "                                                                 \n",
            " lstm_8 (LSTM)               (None, 64)                33024     \n",
            "                                                                 \n",
            " dense_6 (Dense)             (None, 128)               8320      \n",
            "                                                                 \n",
            " dropout_8 (Dropout)         (None, 128)               0         \n",
            "                                                                 \n",
            " dense_7 (Dense)             (None, 3)                 387       \n",
            "                                                                 \n",
            "=================================================================\n",
            "Total params: 811,171\n",
            "Trainable params: 71,171\n",
            "Non-trainable params: 740,000\n",
            "_________________________________________________________________\n"
          ]
        }
      ]
    },
    {
      "cell_type": "code",
      "metadata": {
        "colab": {
          "base_uri": "https://localhost:8080/"
        },
        "outputId": "2cd51c74-98eb-4c2e-f2ae-3310cdcc754b",
        "id": "6zV0poNrt5Je"
      },
      "source": [
        "hist3 = model3.fit(X_train, y_train, epochs=20, validation_split=0.2)"
      ],
      "execution_count": 59,
      "outputs": [
        {
          "output_type": "stream",
          "name": "stdout",
          "text": [
            "Epoch 1/20\n",
            "453/453 [==============================] - 9s 14ms/step - loss: 0.9878 - accuracy: 0.5517 - val_loss: 0.9723 - val_accuracy: 0.5468\n",
            "Epoch 2/20\n",
            "453/453 [==============================] - 6s 13ms/step - loss: 0.9593 - accuracy: 0.5594 - val_loss: 0.9603 - val_accuracy: 0.5529\n",
            "Epoch 3/20\n",
            "453/453 [==============================] - 6s 12ms/step - loss: 0.9418 - accuracy: 0.5730 - val_loss: 0.9375 - val_accuracy: 0.5694\n",
            "Epoch 4/20\n",
            "453/453 [==============================] - 6s 12ms/step - loss: 0.9254 - accuracy: 0.5793 - val_loss: 0.9293 - val_accuracy: 0.5771\n",
            "Epoch 5/20\n",
            "453/453 [==============================] - 6s 12ms/step - loss: 0.9101 - accuracy: 0.5911 - val_loss: 0.9112 - val_accuracy: 0.5998\n",
            "Epoch 6/20\n",
            "453/453 [==============================] - 6s 12ms/step - loss: 0.8954 - accuracy: 0.5994 - val_loss: 0.9112 - val_accuracy: 0.5998\n",
            "Epoch 7/20\n",
            "453/453 [==============================] - 6s 12ms/step - loss: 0.8840 - accuracy: 0.6072 - val_loss: 0.9061 - val_accuracy: 0.5932\n",
            "Epoch 8/20\n",
            "453/453 [==============================] - 6s 12ms/step - loss: 0.8720 - accuracy: 0.6124 - val_loss: 0.8893 - val_accuracy: 0.6114\n",
            "Epoch 9/20\n",
            "453/453 [==============================] - 6s 12ms/step - loss: 0.8565 - accuracy: 0.6198 - val_loss: 0.8940 - val_accuracy: 0.6130\n",
            "Epoch 10/20\n",
            "453/453 [==============================] - 6s 12ms/step - loss: 0.8388 - accuracy: 0.6272 - val_loss: 0.8865 - val_accuracy: 0.6202\n",
            "Epoch 11/20\n",
            "453/453 [==============================] - 6s 12ms/step - loss: 0.8236 - accuracy: 0.6368 - val_loss: 0.9142 - val_accuracy: 0.6039\n",
            "Epoch 12/20\n",
            "453/453 [==============================] - 6s 12ms/step - loss: 0.8095 - accuracy: 0.6460 - val_loss: 0.8950 - val_accuracy: 0.6128\n",
            "Epoch 13/20\n",
            "453/453 [==============================] - 6s 12ms/step - loss: 0.7922 - accuracy: 0.6515 - val_loss: 0.9316 - val_accuracy: 0.6053\n",
            "Epoch 14/20\n",
            "453/453 [==============================] - 6s 12ms/step - loss: 0.7765 - accuracy: 0.6591 - val_loss: 0.9122 - val_accuracy: 0.6067\n",
            "Epoch 15/20\n",
            "453/453 [==============================] - 6s 12ms/step - loss: 0.7581 - accuracy: 0.6697 - val_loss: 0.9031 - val_accuracy: 0.6188\n",
            "Epoch 16/20\n",
            "453/453 [==============================] - 6s 12ms/step - loss: 0.7373 - accuracy: 0.6782 - val_loss: 0.9166 - val_accuracy: 0.5948\n",
            "Epoch 17/20\n",
            "453/453 [==============================] - 6s 12ms/step - loss: 0.7148 - accuracy: 0.6880 - val_loss: 0.9655 - val_accuracy: 0.6169\n",
            "Epoch 18/20\n",
            "453/453 [==============================] - 6s 12ms/step - loss: 0.6929 - accuracy: 0.6974 - val_loss: 0.9756 - val_accuracy: 0.5716\n",
            "Epoch 19/20\n",
            "453/453 [==============================] - 6s 12ms/step - loss: 0.6678 - accuracy: 0.7092 - val_loss: 1.0190 - val_accuracy: 0.5915\n",
            "Epoch 20/20\n",
            "453/453 [==============================] - 6s 12ms/step - loss: 0.6462 - accuracy: 0.7183 - val_loss: 1.0306 - val_accuracy: 0.5998\n"
          ]
        }
      ]
    },
    {
      "cell_type": "code",
      "source": [
        "epoch_count_glove = range(1, len(hist3.history['accuracy']) + 1)\n",
        "train_accuracy_glove=hist3.history['accuracy']\n",
        "valid_accuracy_glove=hist3.history['val_accuracy']\n",
        "sns.lineplot(x=epoch_count_glove, y=train_accuracy_glove, label='train')\n",
        "sns.lineplot(x=epoch_count_glove, y=valid_accuracy_glove, label='valid')\n",
        "plt.title(\"Accuracy de entrenamiento vs. validación\")\n",
        "plt.ylabel(\"Accuracy\")\n",
        "plt.xlabel(\"Epochs\")\n",
        "plt.show()"
      ],
      "metadata": {
        "colab": {
          "base_uri": "https://localhost:8080/",
          "height": 295
        },
        "outputId": "8788a8cf-4031-4c53-d897-b6247cdcb7ab",
        "id": "T4a8Wgizt5Je"
      },
      "execution_count": 60,
      "outputs": [
        {
          "output_type": "display_data",
          "data": {
            "text/plain": [
              "<Figure size 432x288 with 1 Axes>"
            ],
            "image/png": "[encoded data removed]"
          },
          "metadata": {
            "needs_background": "light"
          }
        }
      ]
    },
    {
      "cell_type": "code",
      "source": [
        "# Función de pérdida de entrenamiento vs. validación\n",
        "loss_train_glove=hist3.history['loss']\n",
        "loss_valid_glove=hist3.history['val_loss']\n",
        "sns.lineplot(x=epoch_count_glove, y=loss_train_glove, label='train')\n",
        "sns.lineplot(x=epoch_count_glove, y=loss_valid_glove, label='valid')\n",
        "plt.title(\"Función de pérdida de entrenamiento vs. validación\")\n",
        "plt.ylabel(\"Función de pérdida\")\n",
        "plt.xlabel(\"Epochs\")\n",
        "plt.show()"
      ],
      "metadata": {
        "colab": {
          "base_uri": "https://localhost:8080/",
          "height": 295
        },
        "outputId": "28af451e-5a10-4168-bfd6-e9c4bee150c7",
        "id": "q5yFcVTot5Je"
      },
      "execution_count": 61,
      "outputs": [
        {
          "output_type": "display_data",
          "data": {
            "text/plain": [
              "<Figure size 432x288 with 1 Axes>"
            ],
            "image/png": "[encoded data removed]"
          },
          "metadata": {
            "needs_background": "light"
          }
        }
      ]
    },
    {
      "cell_type": "code",
      "metadata": {
        "colab": {
          "base_uri": "https://localhost:8080/"
        },
        "outputId": "6940a101-b47c-4927-f1d8-17f7118b9d89",
        "id": "Iqgi0W-It5Je"
      },
      "source": [
        "model3.evaluate(X_test, y_test)"
      ],
      "execution_count": 62,
      "outputs": [
        {
          "output_type": "stream",
          "name": "stdout",
          "text": [
            "142/142 [==============================] - 1s 7ms/step - loss: 0.9915 - accuracy: 0.6143\n"
          ]
        },
        {
          "output_type": "execute_result",
          "data": {
            "text/plain": [
              "[0.9914655089378357, 0.614263653755188]"
            ]
          },
          "metadata": {},
          "execution_count": 62
        }
      ]
    },
    {
      "cell_type": "markdown",
      "metadata": {
        "id": "T2SHmXbgxQH9"
      },
      "source": [
        "## 8 - Conclusiones"
      ]
    },
    {
      "cell_type": "markdown",
      "source": [
        "A continuación se comparan las curvas de validación de la función de pérdida y de la métrica de accuracy para los siguientes cuatro modelos LSTM:\n",
        "\n",
        "* Entrenando embeddings.\n",
        "* Con embeddings pre-entrenados FastText.\n",
        "* Con embeddings pre-entrenados FastText complejizando la arquitectura.\n",
        "* Con embeddings pre-entrenados Glove."
      ],
      "metadata": {
        "id": "VKUzjgv9eD-K"
      }
    },
    {
      "cell_type": "code",
      "source": [
        "# Función de pérdida de validación en distintos modelos.\n",
        "sns.lineplot(x=epoch_count, y=loss_valid, label='Entrenando embeddings')\n",
        "sns.lineplot(x=epoch_count_fasttext, y=loss_valid_fasttext, label='FastText')\n",
        "sns.lineplot(x=epoch_count_fasttext_arq, y=loss_valid_fasttext_arq, label='FastText + LSTM compleja')\n",
        "sns.lineplot(x=epoch_count_glove, y=loss_valid_glove, label='Glove')\n",
        "plt.title(\"Función de pérdida de validación en distintos modelos\")\n",
        "plt.ylabel(\"Función de pérdida\")\n",
        "plt.xlabel(\"Epochs\")\n",
        "plt.show()"
      ],
      "metadata": {
        "colab": {
          "base_uri": "https://localhost:8080/",
          "height": 295
        },
        "id": "PScFFGV5NnPZ",
        "outputId": "7b364781-90a4-4d7b-f711-46d6d3b8892d"
      },
      "execution_count": 63,
      "outputs": [
        {
          "output_type": "display_data",
          "data": {
            "text/plain": [
              "<Figure size 432x288 with 1 Axes>"
            ],
            "image/png": "[encoded data removed]"
          },
          "metadata": {
            "needs_background": "light"
          }
        }
      ]
    },
    {
      "cell_type": "code",
      "source": [
        "# Accuracy de validación en distintos modelos.\n",
        "sns.lineplot(x=epoch_count, y=valid_accuracy, label='Entrenando embeddings')\n",
        "sns.lineplot(x=epoch_count_fasttext, y=valid_accuracy_fasttext, label='FastText')\n",
        "sns.lineplot(x=epoch_count_fasttext_arq, y=valid_accuracy_fasttext_arq, label='FastText + LSTM compleja')\n",
        "sns.lineplot(x=epoch_count_glove, y=valid_accuracy_glove, label='Glove')\n",
        "plt.title(\"Accuracy de validación en distintos modelos\")\n",
        "plt.ylabel(\"Accuracy\")\n",
        "plt.xlabel(\"Epochs\")\n",
        "plt.show()"
      ],
      "metadata": {
        "colab": {
          "base_uri": "https://localhost:8080/",
          "height": 295
        },
        "id": "KaLDUGYjnmu5",
        "outputId": "005fc8d3-f13f-494b-f6fd-e884248ba980"
      },
      "execution_count": 65,
      "outputs": [
        {
          "output_type": "display_data",
          "data": {
            "text/plain": [
              "<Figure size 432x288 with 1 Axes>"
            ],
            "image/png": "[encoded data removed]"
          },
          "metadata": {
            "needs_background": "light"
          }
        }
      ]
    },
    {
      "cell_type": "markdown",
      "source": [
        "Todos los modelos se llevaron a un punto en donde se produjo sobreentrenamiento, según se puede observar en la función de pérdida, ya que comienza a aumentar para la validación. No obstante, se puede ver en el gráfico de la métrica accuracy que alrededor de las epochs 9 y 10, los modelos que utilizaron embeddings de FastText y Glove alcanzan el valor máximo de la métrica, mientras que el modelo en donde se entrenaron los embeddings, lo hace en la epoch 4. Esos serían los puntos óptimos para cortar el entrenamiento, y en donde en realidad, habría que realizar la evaluación con el set de datos de pruebas.\n",
        "\n",
        "El modelo que obtuvo la mejor performance, fue aquel en donde se entrenaron los embeddings, según se puede ver en el gráfico de métricas en donde alcanza 0.71 aprox. de accuracy, seguido por los modelos que utilizaron los embeddings de FastText (entre los cuales no hay diferencia marcada, a pesar de modificar la arquitectura de la red neuronal), y por último, el modelo de Glove. \n",
        "\n",
        "Es importante aclarar que se probaron otras combinaciones en la arquitectura, pero arrojaron siempre resultados en donde la métrica en el modelo que utiliza los embedings preentrenados de FastText, era peor que en el modelo en donde se entrenaron los embeddings propios. "
      ],
      "metadata": {
        "id": "3aluh1X4UjoG"
      }
    }
  ]
}